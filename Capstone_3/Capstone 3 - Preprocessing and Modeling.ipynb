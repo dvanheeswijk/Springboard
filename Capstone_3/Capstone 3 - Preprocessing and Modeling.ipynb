{
 "cells": [
  {
   "cell_type": "markdown",
   "metadata": {},
   "source": [
    "# Capstone 3 - Customer Churn Prediction for Telco\n",
    "\n",
    "In our previous [Notebook](https://github.com/dvanheeswijk/Springboard/blob/master/Capstone_3/Capstone%203%20-%20EDA.ipynb), we explored our data set to find any possible leads to areas to focus on for our modeling. We found that bigger cities had larger churn volumes, while a few cities also had much higher percentages of churn than most others, specifically smaller cities with a handful of customers. We also saw that Fiber Optics customers were almost twice as likely to churn as DSL customers or customers with no internet service. Lastly, we saw that the primary reasons for leaving were basically either competitive offers from other companies or poor service attitude when dealing with troubleshooting issues. \n",
    "\n",
    "We will now explore *clean_data.csv*, our preprocessed data set and create training and testing data sets in order to evaluate models.\n",
    "\n",
    "We start with importing the data and necessary libraries."
   ]
  },
  {
   "cell_type": "code",
   "execution_count": 92,
   "metadata": {},
   "outputs": [],
   "source": [
    "import pandas as pd\n",
    "import numpy as np\n",
    "import matplotlib.pyplot as plt\n",
    "%matplotlib inline\n",
    "\n",
    "import seaborn as sns\n",
    "\n",
    "from sklearn.model_selection import train_test_split, RandomizedSearchCV, GridSearchCV\n",
    "from sklearn.pipeline import Pipeline\n",
    "from sklearn.neighbors import KNeighborsClassifier\n",
    "from sklearn.linear_model import RidgeClassifier\n",
    "# from sklearn.neural_network import MLPClassifier\n",
    "from sklearn.svm import SVC\n",
    "from sklearn.ensemble import GradientBoostingClassifier, RandomForestClassifier\n",
    "from sklearn.preprocessing import StandardScaler\n",
    "from sklearn.metrics import accuracy_score, roc_auc_score,roc_curve,scorer\n",
    "from sklearn.feature_selection import SelectKBest"
   ]
  },
  {
   "cell_type": "code",
   "execution_count": 93,
   "metadata": {},
   "outputs": [
    {
     "data": {
      "text/html": [
       "<div>\n",
       "<style scoped>\n",
       "    .dataframe tbody tr th:only-of-type {\n",
       "        vertical-align: middle;\n",
       "    }\n",
       "\n",
       "    .dataframe tbody tr th {\n",
       "        vertical-align: top;\n",
       "    }\n",
       "\n",
       "    .dataframe thead th {\n",
       "        text-align: right;\n",
       "    }\n",
       "</style>\n",
       "<table border=\"1\" class=\"dataframe\">\n",
       "  <thead>\n",
       "    <tr style=\"text-align: right;\">\n",
       "      <th></th>\n",
       "      <th>CustomerID</th>\n",
       "      <th>Zip Code</th>\n",
       "      <th>Latitude</th>\n",
       "      <th>Longitude</th>\n",
       "      <th>Gender</th>\n",
       "      <th>Senior Citizen</th>\n",
       "      <th>Partner</th>\n",
       "      <th>Dependents</th>\n",
       "      <th>Tenure Months</th>\n",
       "      <th>Phone Service</th>\n",
       "      <th>...</th>\n",
       "      <th>Internet Service_DSL</th>\n",
       "      <th>Internet Service_Fiber optic</th>\n",
       "      <th>Internet Service_No</th>\n",
       "      <th>Contract_Month-to-month</th>\n",
       "      <th>Contract_One year</th>\n",
       "      <th>Contract_Two year</th>\n",
       "      <th>Payment Method_Bank transfer (automatic)</th>\n",
       "      <th>Payment Method_Credit card (automatic)</th>\n",
       "      <th>Payment Method_Electronic check</th>\n",
       "      <th>Payment Method_Mailed check</th>\n",
       "    </tr>\n",
       "  </thead>\n",
       "  <tbody>\n",
       "    <tr>\n",
       "      <th>0</th>\n",
       "      <td>3668-QPYBK</td>\n",
       "      <td>90003</td>\n",
       "      <td>33.964131</td>\n",
       "      <td>-118.272783</td>\n",
       "      <td>0</td>\n",
       "      <td>0</td>\n",
       "      <td>0</td>\n",
       "      <td>0</td>\n",
       "      <td>2</td>\n",
       "      <td>1</td>\n",
       "      <td>...</td>\n",
       "      <td>1</td>\n",
       "      <td>0</td>\n",
       "      <td>0</td>\n",
       "      <td>1</td>\n",
       "      <td>0</td>\n",
       "      <td>0</td>\n",
       "      <td>0</td>\n",
       "      <td>0</td>\n",
       "      <td>0</td>\n",
       "      <td>1</td>\n",
       "    </tr>\n",
       "    <tr>\n",
       "      <th>1</th>\n",
       "      <td>9237-HQITU</td>\n",
       "      <td>90005</td>\n",
       "      <td>34.059281</td>\n",
       "      <td>-118.307420</td>\n",
       "      <td>1</td>\n",
       "      <td>0</td>\n",
       "      <td>0</td>\n",
       "      <td>1</td>\n",
       "      <td>2</td>\n",
       "      <td>1</td>\n",
       "      <td>...</td>\n",
       "      <td>0</td>\n",
       "      <td>1</td>\n",
       "      <td>0</td>\n",
       "      <td>1</td>\n",
       "      <td>0</td>\n",
       "      <td>0</td>\n",
       "      <td>0</td>\n",
       "      <td>0</td>\n",
       "      <td>1</td>\n",
       "      <td>0</td>\n",
       "    </tr>\n",
       "    <tr>\n",
       "      <th>2</th>\n",
       "      <td>9305-CDSKC</td>\n",
       "      <td>90006</td>\n",
       "      <td>34.048013</td>\n",
       "      <td>-118.293953</td>\n",
       "      <td>1</td>\n",
       "      <td>0</td>\n",
       "      <td>0</td>\n",
       "      <td>1</td>\n",
       "      <td>8</td>\n",
       "      <td>1</td>\n",
       "      <td>...</td>\n",
       "      <td>0</td>\n",
       "      <td>1</td>\n",
       "      <td>0</td>\n",
       "      <td>1</td>\n",
       "      <td>0</td>\n",
       "      <td>0</td>\n",
       "      <td>0</td>\n",
       "      <td>0</td>\n",
       "      <td>1</td>\n",
       "      <td>0</td>\n",
       "    </tr>\n",
       "    <tr>\n",
       "      <th>3</th>\n",
       "      <td>7892-POOKP</td>\n",
       "      <td>90010</td>\n",
       "      <td>34.062125</td>\n",
       "      <td>-118.315709</td>\n",
       "      <td>1</td>\n",
       "      <td>0</td>\n",
       "      <td>1</td>\n",
       "      <td>1</td>\n",
       "      <td>28</td>\n",
       "      <td>1</td>\n",
       "      <td>...</td>\n",
       "      <td>0</td>\n",
       "      <td>1</td>\n",
       "      <td>0</td>\n",
       "      <td>1</td>\n",
       "      <td>0</td>\n",
       "      <td>0</td>\n",
       "      <td>0</td>\n",
       "      <td>0</td>\n",
       "      <td>1</td>\n",
       "      <td>0</td>\n",
       "    </tr>\n",
       "    <tr>\n",
       "      <th>4</th>\n",
       "      <td>0280-XJGEX</td>\n",
       "      <td>90015</td>\n",
       "      <td>34.039224</td>\n",
       "      <td>-118.266293</td>\n",
       "      <td>0</td>\n",
       "      <td>0</td>\n",
       "      <td>0</td>\n",
       "      <td>1</td>\n",
       "      <td>49</td>\n",
       "      <td>1</td>\n",
       "      <td>...</td>\n",
       "      <td>0</td>\n",
       "      <td>1</td>\n",
       "      <td>0</td>\n",
       "      <td>1</td>\n",
       "      <td>0</td>\n",
       "      <td>0</td>\n",
       "      <td>1</td>\n",
       "      <td>0</td>\n",
       "      <td>0</td>\n",
       "      <td>0</td>\n",
       "    </tr>\n",
       "  </tbody>\n",
       "</table>\n",
       "<p>5 rows × 32 columns</p>\n",
       "</div>"
      ],
      "text/plain": [
       "   CustomerID  Zip Code   Latitude   Longitude  Gender  Senior Citizen  \\\n",
       "0  3668-QPYBK     90003  33.964131 -118.272783       0               0   \n",
       "1  9237-HQITU     90005  34.059281 -118.307420       1               0   \n",
       "2  9305-CDSKC     90006  34.048013 -118.293953       1               0   \n",
       "3  7892-POOKP     90010  34.062125 -118.315709       1               0   \n",
       "4  0280-XJGEX     90015  34.039224 -118.266293       0               0   \n",
       "\n",
       "   Partner  Dependents  Tenure Months  Phone Service  ...  \\\n",
       "0        0           0              2              1  ...   \n",
       "1        0           1              2              1  ...   \n",
       "2        0           1              8              1  ...   \n",
       "3        1           1             28              1  ...   \n",
       "4        0           1             49              1  ...   \n",
       "\n",
       "   Internet Service_DSL  Internet Service_Fiber optic  Internet Service_No  \\\n",
       "0                     1                             0                    0   \n",
       "1                     0                             1                    0   \n",
       "2                     0                             1                    0   \n",
       "3                     0                             1                    0   \n",
       "4                     0                             1                    0   \n",
       "\n",
       "   Contract_Month-to-month  Contract_One year  Contract_Two year  \\\n",
       "0                        1                  0                  0   \n",
       "1                        1                  0                  0   \n",
       "2                        1                  0                  0   \n",
       "3                        1                  0                  0   \n",
       "4                        1                  0                  0   \n",
       "\n",
       "   Payment Method_Bank transfer (automatic)  \\\n",
       "0                                         0   \n",
       "1                                         0   \n",
       "2                                         0   \n",
       "3                                         0   \n",
       "4                                         1   \n",
       "\n",
       "   Payment Method_Credit card (automatic)  Payment Method_Electronic check  \\\n",
       "0                                       0                                0   \n",
       "1                                       0                                1   \n",
       "2                                       0                                1   \n",
       "3                                       0                                1   \n",
       "4                                       0                                0   \n",
       "\n",
       "   Payment Method_Mailed check  \n",
       "0                            1  \n",
       "1                            0  \n",
       "2                            0  \n",
       "3                            0  \n",
       "4                            0  \n",
       "\n",
       "[5 rows x 32 columns]"
      ]
     },
     "execution_count": 93,
     "metadata": {},
     "output_type": "execute_result"
    }
   ],
   "source": [
    "data = pd.read_csv('data/clean_data.csv')\n",
    "\n",
    "data.head()"
   ]
  },
  {
   "cell_type": "code",
   "execution_count": 94,
   "metadata": {},
   "outputs": [
    {
     "name": "stdout",
     "output_type": "stream",
     "text": [
      "<class 'pandas.core.frame.DataFrame'>\n",
      "RangeIndex: 7032 entries, 0 to 7031\n",
      "Data columns (total 32 columns):\n",
      " #   Column                                    Non-Null Count  Dtype  \n",
      "---  ------                                    --------------  -----  \n",
      " 0   CustomerID                                7032 non-null   object \n",
      " 1   Zip Code                                  7032 non-null   int64  \n",
      " 2   Latitude                                  7032 non-null   float64\n",
      " 3   Longitude                                 7032 non-null   float64\n",
      " 4   Gender                                    7032 non-null   int64  \n",
      " 5   Senior Citizen                            7032 non-null   int64  \n",
      " 6   Partner                                   7032 non-null   int64  \n",
      " 7   Dependents                                7032 non-null   int64  \n",
      " 8   Tenure Months                             7032 non-null   int64  \n",
      " 9   Phone Service                             7032 non-null   int64  \n",
      " 10  Multiple Lines                            7032 non-null   int64  \n",
      " 11  Online Security                           7032 non-null   int64  \n",
      " 12  Online Backup                             7032 non-null   int64  \n",
      " 13  Device Protection                         7032 non-null   int64  \n",
      " 14  Tech Support                              7032 non-null   int64  \n",
      " 15  Streaming TV                              7032 non-null   int64  \n",
      " 16  Streaming Movies                          7032 non-null   int64  \n",
      " 17  Paperless Billing                         7032 non-null   int64  \n",
      " 18  Monthly Charges                           7032 non-null   float64\n",
      " 19  Total Charges                             7032 non-null   float64\n",
      " 20  Churn Value                               7032 non-null   int64  \n",
      " 21  CLTV                                      7032 non-null   int64  \n",
      " 22  Internet Service_DSL                      7032 non-null   int64  \n",
      " 23  Internet Service_Fiber optic              7032 non-null   int64  \n",
      " 24  Internet Service_No                       7032 non-null   int64  \n",
      " 25  Contract_Month-to-month                   7032 non-null   int64  \n",
      " 26  Contract_One year                         7032 non-null   int64  \n",
      " 27  Contract_Two year                         7032 non-null   int64  \n",
      " 28  Payment Method_Bank transfer (automatic)  7032 non-null   int64  \n",
      " 29  Payment Method_Credit card (automatic)    7032 non-null   int64  \n",
      " 30  Payment Method_Electronic check           7032 non-null   int64  \n",
      " 31  Payment Method_Mailed check               7032 non-null   int64  \n",
      "dtypes: float64(4), int64(27), object(1)\n",
      "memory usage: 1.7+ MB\n"
     ]
    }
   ],
   "source": [
    "data.info()"
   ]
  },
  {
   "cell_type": "code",
   "execution_count": 95,
   "metadata": {},
   "outputs": [
    {
     "data": {
      "text/plain": [
       "True"
      ]
     },
     "execution_count": 95,
     "metadata": {},
     "output_type": "execute_result"
    }
   ],
   "source": [
    "data['CustomerID'].is_unique"
   ]
  },
  {
   "cell_type": "code",
   "execution_count": 96,
   "metadata": {},
   "outputs": [
    {
     "name": "stdout",
     "output_type": "stream",
     "text": [
      "<class 'pandas.core.frame.DataFrame'>\n",
      "Index: 7032 entries, 3668-QPYBK to 3186-AJIEK\n",
      "Data columns (total 31 columns):\n",
      " #   Column                                    Non-Null Count  Dtype  \n",
      "---  ------                                    --------------  -----  \n",
      " 0   Zip Code                                  7032 non-null   int64  \n",
      " 1   Latitude                                  7032 non-null   float64\n",
      " 2   Longitude                                 7032 non-null   float64\n",
      " 3   Gender                                    7032 non-null   int64  \n",
      " 4   Senior Citizen                            7032 non-null   int64  \n",
      " 5   Partner                                   7032 non-null   int64  \n",
      " 6   Dependents                                7032 non-null   int64  \n",
      " 7   Tenure Months                             7032 non-null   int64  \n",
      " 8   Phone Service                             7032 non-null   int64  \n",
      " 9   Multiple Lines                            7032 non-null   int64  \n",
      " 10  Online Security                           7032 non-null   int64  \n",
      " 11  Online Backup                             7032 non-null   int64  \n",
      " 12  Device Protection                         7032 non-null   int64  \n",
      " 13  Tech Support                              7032 non-null   int64  \n",
      " 14  Streaming TV                              7032 non-null   int64  \n",
      " 15  Streaming Movies                          7032 non-null   int64  \n",
      " 16  Paperless Billing                         7032 non-null   int64  \n",
      " 17  Monthly Charges                           7032 non-null   float64\n",
      " 18  Total Charges                             7032 non-null   float64\n",
      " 19  Churn Value                               7032 non-null   int64  \n",
      " 20  CLTV                                      7032 non-null   int64  \n",
      " 21  Internet Service_DSL                      7032 non-null   int64  \n",
      " 22  Internet Service_Fiber optic              7032 non-null   int64  \n",
      " 23  Internet Service_No                       7032 non-null   int64  \n",
      " 24  Contract_Month-to-month                   7032 non-null   int64  \n",
      " 25  Contract_One year                         7032 non-null   int64  \n",
      " 26  Contract_Two year                         7032 non-null   int64  \n",
      " 27  Payment Method_Bank transfer (automatic)  7032 non-null   int64  \n",
      " 28  Payment Method_Credit card (automatic)    7032 non-null   int64  \n",
      " 29  Payment Method_Electronic check           7032 non-null   int64  \n",
      " 30  Payment Method_Mailed check               7032 non-null   int64  \n",
      "dtypes: float64(4), int64(27)\n",
      "memory usage: 1.7+ MB\n"
     ]
    }
   ],
   "source": [
    "data.set_index('CustomerID', inplace=True)\n",
    "\n",
    "data.info()"
   ]
  },
  {
   "cell_type": "markdown",
   "metadata": {},
   "source": [
    "We see now that we have the data in complete numeric format, meaning that we are ready to begin training the data."
   ]
  },
  {
   "cell_type": "markdown",
   "metadata": {},
   "source": [
    "### Training the data"
   ]
  },
  {
   "cell_type": "code",
   "execution_count": 97,
   "metadata": {},
   "outputs": [],
   "source": [
    "# Splitting the data between our dependent and independent variables\n",
    "X = data.drop(columns='Churn Value')\n",
    "y = data['Churn Value']"
   ]
  },
  {
   "cell_type": "code",
   "execution_count": 98,
   "metadata": {},
   "outputs": [],
   "source": [
    "feature_selection = SelectKBest(k=5)\n",
    "feature_selection.fit(X, y)\n",
    "\n",
    "cols = feature_selection.get_support(indices=True)\n",
    "X_new = X.iloc[:,cols]"
   ]
  },
  {
   "cell_type": "code",
   "execution_count": 99,
   "metadata": {},
   "outputs": [
    {
     "data": {
      "text/html": [
       "<div>\n",
       "<style scoped>\n",
       "    .dataframe tbody tr th:only-of-type {\n",
       "        vertical-align: middle;\n",
       "    }\n",
       "\n",
       "    .dataframe tbody tr th {\n",
       "        vertical-align: top;\n",
       "    }\n",
       "\n",
       "    .dataframe thead th {\n",
       "        text-align: right;\n",
       "    }\n",
       "</style>\n",
       "<table border=\"1\" class=\"dataframe\">\n",
       "  <thead>\n",
       "    <tr style=\"text-align: right;\">\n",
       "      <th></th>\n",
       "      <th>Tenure Months</th>\n",
       "      <th>Internet Service_Fiber optic</th>\n",
       "      <th>Contract_Month-to-month</th>\n",
       "      <th>Contract_Two year</th>\n",
       "      <th>Payment Method_Electronic check</th>\n",
       "    </tr>\n",
       "    <tr>\n",
       "      <th>CustomerID</th>\n",
       "      <th></th>\n",
       "      <th></th>\n",
       "      <th></th>\n",
       "      <th></th>\n",
       "      <th></th>\n",
       "    </tr>\n",
       "  </thead>\n",
       "  <tbody>\n",
       "    <tr>\n",
       "      <th>3668-QPYBK</th>\n",
       "      <td>2</td>\n",
       "      <td>0</td>\n",
       "      <td>1</td>\n",
       "      <td>0</td>\n",
       "      <td>0</td>\n",
       "    </tr>\n",
       "    <tr>\n",
       "      <th>9237-HQITU</th>\n",
       "      <td>2</td>\n",
       "      <td>1</td>\n",
       "      <td>1</td>\n",
       "      <td>0</td>\n",
       "      <td>1</td>\n",
       "    </tr>\n",
       "    <tr>\n",
       "      <th>9305-CDSKC</th>\n",
       "      <td>8</td>\n",
       "      <td>1</td>\n",
       "      <td>1</td>\n",
       "      <td>0</td>\n",
       "      <td>1</td>\n",
       "    </tr>\n",
       "    <tr>\n",
       "      <th>7892-POOKP</th>\n",
       "      <td>28</td>\n",
       "      <td>1</td>\n",
       "      <td>1</td>\n",
       "      <td>0</td>\n",
       "      <td>1</td>\n",
       "    </tr>\n",
       "    <tr>\n",
       "      <th>0280-XJGEX</th>\n",
       "      <td>49</td>\n",
       "      <td>1</td>\n",
       "      <td>1</td>\n",
       "      <td>0</td>\n",
       "      <td>0</td>\n",
       "    </tr>\n",
       "  </tbody>\n",
       "</table>\n",
       "</div>"
      ],
      "text/plain": [
       "            Tenure Months  Internet Service_Fiber optic  \\\n",
       "CustomerID                                                \n",
       "3668-QPYBK              2                             0   \n",
       "9237-HQITU              2                             1   \n",
       "9305-CDSKC              8                             1   \n",
       "7892-POOKP             28                             1   \n",
       "0280-XJGEX             49                             1   \n",
       "\n",
       "            Contract_Month-to-month  Contract_Two year  \\\n",
       "CustomerID                                               \n",
       "3668-QPYBK                        1                  0   \n",
       "9237-HQITU                        1                  0   \n",
       "9305-CDSKC                        1                  0   \n",
       "7892-POOKP                        1                  0   \n",
       "0280-XJGEX                        1                  0   \n",
       "\n",
       "            Payment Method_Electronic check  \n",
       "CustomerID                                   \n",
       "3668-QPYBK                                0  \n",
       "9237-HQITU                                1  \n",
       "9305-CDSKC                                1  \n",
       "7892-POOKP                                1  \n",
       "0280-XJGEX                                0  "
      ]
     },
     "execution_count": 99,
     "metadata": {},
     "output_type": "execute_result"
    }
   ],
   "source": [
    "X_new.head()"
   ]
  },
  {
   "cell_type": "code",
   "execution_count": 100,
   "metadata": {},
   "outputs": [],
   "source": [
    "X_cols = X_new.columns"
   ]
  },
  {
   "cell_type": "code",
   "execution_count": 101,
   "metadata": {},
   "outputs": [],
   "source": [
    "scaler = StandardScaler()\n",
    "\n",
    "X_scaled = scaler.fit_transform(X_new)\n",
    "\n",
    "X_train, X_test, y_train, y_test = train_test_split(X_scaled, y, test_size=.2, random_state=42)"
   ]
  },
  {
   "cell_type": "code",
   "execution_count": 102,
   "metadata": {},
   "outputs": [
    {
     "name": "stdout",
     "output_type": "stream",
     "text": [
      "(5625, 5) (1407, 5)\n"
     ]
    }
   ],
   "source": [
    "print(X_train.shape, X_test.shape)"
   ]
  },
  {
   "cell_type": "code",
   "execution_count": 103,
   "metadata": {},
   "outputs": [
    {
     "name": "stdout",
     "output_type": "stream",
     "text": [
      "(5625,) (1407,)\n"
     ]
    }
   ],
   "source": [
    "print(y_train.shape, y_test.shape)"
   ]
  },
  {
   "cell_type": "markdown",
   "metadata": {},
   "source": [
    "### Creating the models"
   ]
  },
  {
   "cell_type": "markdown",
   "metadata": {},
   "source": [
    "#### K Means Classifier"
   ]
  },
  {
   "cell_type": "code",
   "execution_count": 104,
   "metadata": {},
   "outputs": [
    {
     "data": {
      "text/plain": [
       "{'n_neighbors': 41}"
      ]
     },
     "execution_count": 104,
     "metadata": {},
     "output_type": "execute_result"
    }
   ],
   "source": [
    "param_grid = {'n_neighbors':np.arange(1,50)}\n",
    "\n",
    "knn = KNeighborsClassifier()\n",
    "\n",
    "clf = RandomizedSearchCV(knn, param_grid, random_state=0)\n",
    "search = clf.fit(X_train, y_train)\n",
    "search.best_params_"
   ]
  },
  {
   "cell_type": "code",
   "execution_count": 105,
   "metadata": {},
   "outputs": [
    {
     "data": {
      "text/plain": [
       "KNeighborsClassifier(n_neighbors=41)"
      ]
     },
     "execution_count": 105,
     "metadata": {},
     "output_type": "execute_result"
    }
   ],
   "source": [
    "knn = KNeighborsClassifier(n_neighbors=41)\n",
    "\n",
    "knn.fit(X_train, y_train)"
   ]
  },
  {
   "cell_type": "code",
   "execution_count": 106,
   "metadata": {},
   "outputs": [],
   "source": [
    "from sklearn.metrics import confusion_matrix\n",
    "y_pred = knn.predict(X_test)\n",
    "pl = confusion_matrix(y_test,y_pred)"
   ]
  },
  {
   "cell_type": "code",
   "execution_count": 107,
   "metadata": {},
   "outputs": [
    {
     "data": {
      "image/png": "[encoded data removed]",
      "text/plain": [
       "<Figure size 432x288 with 2 Axes>"
      ]
     },
     "metadata": {
      "needs_background": "light"
     },
     "output_type": "display_data"
    }
   ],
   "source": [
    "# plot_confusion_matrix(knn, X_test, y_test, cmap=plt.cm.Blues)\n",
    "# plt.title('Confusion Matrix')\n",
    "# plot_confusion_matrix(knn, X_test, y_test, cmap=plt.cm.Blues, normalize='true')\n",
    "# plt.title('Normalized Matrix')\n",
    "labels = ['Churn', 'Remain']\n",
    "\n",
    "\n",
    "fig = plt.figure()\n",
    "ax = fig.add_subplot(111)\n",
    "cax = ax.matshow(pl)\n",
    "plt.title('Confusion matrix of the classifier')\n",
    "fig.colorbar(cax)\n",
    "ax.set_xticklabels([''] + labels)\n",
    "ax.set_yticklabels([''] + labels)\n",
    "plt.xlabel('Predicted')\n",
    "plt.ylabel('True')\n",
    "plt.show()"
   ]
  },
  {
   "cell_type": "code",
   "execution_count": 108,
   "metadata": {},
   "outputs": [
    {
     "name": "stdout",
     "output_type": "stream",
     "text": [
      "[[921  91]\n",
      " [206 189]]\n"
     ]
    }
   ],
   "source": [
    "print(pl)"
   ]
  },
  {
   "cell_type": "code",
   "execution_count": 109,
   "metadata": {},
   "outputs": [
    {
     "data": {
      "text/plain": [
       "(0.08992094861660078, 0.9100790513833992)"
      ]
     },
     "execution_count": 109,
     "metadata": {},
     "output_type": "execute_result"
    }
   ],
   "source": [
    "fn,tp = pl[0][1], pl[0][0]\n",
    "fnr_kmeans = fn / (tp + fn)\n",
    "tpr_kmeans = tp / (tp + fn)\n",
    "fnr_kmeans, tpr_kmeans"
   ]
  },
  {
   "cell_type": "code",
   "execution_count": null,
   "metadata": {},
   "outputs": [],
   "source": []
  },
  {
   "cell_type": "code",
   "execution_count": 110,
   "metadata": {},
   "outputs": [
    {
     "name": "stdout",
     "output_type": "stream",
     "text": [
      "0.6942800320208135 0.7889125799573561 0.08992094861660078 0.9100790513833992\n"
     ]
    }
   ],
   "source": [
    "auc_kmeans = roc_auc_score(y_test, y_pred)\n",
    "acc_kmeans = accuracy_score(y_test,y_pred)\n",
    "print(auc_kmeans, acc_kmeans, fnr_kmeans, tpr_kmeans)"
   ]
  },
  {
   "cell_type": "markdown",
   "metadata": {},
   "source": [
    "As we can see, this model is alright, but we can likely do better with a different model. "
   ]
  },
  {
   "cell_type": "markdown",
   "metadata": {},
   "source": [
    "#### Ridge Classifier"
   ]
  },
  {
   "cell_type": "code",
   "execution_count": 111,
   "metadata": {},
   "outputs": [
    {
     "data": {
      "text/plain": [
       "{'alpha': 0.1}"
      ]
     },
     "execution_count": 111,
     "metadata": {},
     "output_type": "execute_result"
    }
   ],
   "source": [
    "from sklearn.model_selection import RepeatedStratifiedKFold\n",
    "\n",
    "ridge = RidgeClassifier()\n",
    "\n",
    "alphas = [0.1, 0.3, 0.5, 0.7, 0.9]\n",
    "\n",
    "param_grid = dict(alpha=alphas)\n",
    "\n",
    "cv = RepeatedStratifiedKFold(n_splits=10, n_repeats=3, random_state=1)\n",
    "\n",
    "grid = GridSearchCV(ridge, param_grid, n_jobs=-1, cv=cv, scoring='accuracy',error_score=0)\n",
    "\n",
    "search = grid.fit(X_train, y_train)\n",
    "\n",
    "search.best_params_"
   ]
  },
  {
   "cell_type": "code",
   "execution_count": 112,
   "metadata": {},
   "outputs": [
    {
     "data": {
      "text/plain": [
       "RidgeClassifier(alpha=0.1)"
      ]
     },
     "execution_count": 112,
     "metadata": {},
     "output_type": "execute_result"
    }
   ],
   "source": [
    "ridge = RidgeClassifier(alpha=0.1)\n",
    "\n",
    "ridge.fit(X_train, y_train)"
   ]
  },
  {
   "cell_type": "code",
   "execution_count": 113,
   "metadata": {},
   "outputs": [
    {
     "data": {
      "image/png": "[encoded data removed]",
      "text/plain": [
       "<Figure size 432x288 with 2 Axes>"
      ]
     },
     "metadata": {
      "needs_background": "light"
     },
     "output_type": "display_data"
    }
   ],
   "source": [
    "y_pred = ridge.predict(X_test)\n",
    "\n",
    "pl = confusion_matrix(y_test,y_pred)\n",
    "\n",
    "labels = ['Churn', 'Remain']\n",
    "\n",
    "\n",
    "fig = plt.figure()\n",
    "ax = fig.add_subplot(111)\n",
    "cax = ax.matshow(pl)\n",
    "plt.title('Confusion matrix of the classifier')\n",
    "fig.colorbar(cax)\n",
    "ax.set_xticklabels([''] + labels)\n",
    "ax.set_yticklabels([''] + labels)\n",
    "plt.xlabel('Predicted')\n",
    "plt.ylabel('True')\n",
    "plt.show()"
   ]
  },
  {
   "cell_type": "code",
   "execution_count": 114,
   "metadata": {},
   "outputs": [
    {
     "name": "stdout",
     "output_type": "stream",
     "text": [
      "[[925  87]\n",
      " [211 184]]\n"
     ]
    }
   ],
   "source": [
    "print(pl)"
   ]
  },
  {
   "cell_type": "code",
   "execution_count": 115,
   "metadata": {},
   "outputs": [
    {
     "data": {
      "text/plain": [
       "(0.08596837944664032, 0.9140316205533597)"
      ]
     },
     "execution_count": 115,
     "metadata": {},
     "output_type": "execute_result"
    }
   ],
   "source": [
    "fn,tp = pl[0][1], pl[0][0]\n",
    "fnr_ridge = fn / (tp + fn)\n",
    "tpr_ridge = tp / (tp + fn)\n",
    "fnr_ridge, tpr_ridge"
   ]
  },
  {
   "cell_type": "code",
   "execution_count": 116,
   "metadata": {},
   "outputs": [
    {
     "name": "stdout",
     "output_type": "stream",
     "text": [
      "0.6899272026817431 0.7882018479033405 0.08596837944664032 0.9140316205533597\n"
     ]
    }
   ],
   "source": [
    "auc_ridge = roc_auc_score(y_test, y_pred)\n",
    "acc_ridge = accuracy_score(y_test,y_pred)\n",
    "print(auc_ridge, acc_ridge, fnr_ridge, tpr_ridge)"
   ]
  },
  {
   "cell_type": "markdown",
   "metadata": {},
   "source": [
    "#### SVC"
   ]
  },
  {
   "cell_type": "code",
   "execution_count": 117,
   "metadata": {},
   "outputs": [
    {
     "name": "stdout",
     "output_type": "stream",
     "text": [
      "{'C': 1.0, 'gamma': 'scale', 'kernel': 'rbf'}\n"
     ]
    }
   ],
   "source": [
    "svc = SVC()\n",
    "\n",
    "kernel = ['poly', 'rbf', 'sigmoid']\n",
    "C = [50, 10, 1.0, 0.1, 0.01]\n",
    "gamma = ['scale']\n",
    "# define grid search\n",
    "grid = dict(kernel=kernel,C=C,gamma=gamma)\n",
    "cv = RepeatedStratifiedKFold(n_splits=10, n_repeats=3, random_state=1)\n",
    "grid_search = GridSearchCV(estimator=svc, param_grid=grid, n_jobs=-1, cv=cv, scoring='accuracy',error_score=0)\n",
    "grid_result = grid_search.fit(X_train, y_train)\n",
    "\n",
    "print(grid_result.best_params_)"
   ]
  },
  {
   "cell_type": "code",
   "execution_count": 118,
   "metadata": {},
   "outputs": [
    {
     "data": {
      "text/plain": [
       "SVC(C=1)"
      ]
     },
     "execution_count": 118,
     "metadata": {},
     "output_type": "execute_result"
    }
   ],
   "source": [
    "svc = SVC(C=1, gamma='scale', kernel='rbf')\n",
    "\n",
    "svc.fit(X_train, y_train)"
   ]
  },
  {
   "cell_type": "code",
   "execution_count": 119,
   "metadata": {},
   "outputs": [
    {
     "data": {
      "image/png": "[encoded data removed]",
      "text/plain": [
       "<Figure size 432x288 with 2 Axes>"
      ]
     },
     "metadata": {
      "needs_background": "light"
     },
     "output_type": "display_data"
    }
   ],
   "source": [
    "y_pred = svc.predict(X_test)\n",
    "\n",
    "pl = confusion_matrix(y_test,y_pred)\n",
    "\n",
    "labels = ['Churn', 'Remain']\n",
    "\n",
    "\n",
    "fig = plt.figure()\n",
    "ax = fig.add_subplot(111)\n",
    "cax = ax.matshow(pl)\n",
    "plt.title('Confusion matrix of the classifier')\n",
    "fig.colorbar(cax)\n",
    "ax.set_xticklabels([''] + labels)\n",
    "ax.set_yticklabels([''] + labels)\n",
    "plt.xlabel('Predicted')\n",
    "plt.ylabel('True')\n",
    "plt.show()"
   ]
  },
  {
   "cell_type": "code",
   "execution_count": 120,
   "metadata": {},
   "outputs": [
    {
     "name": "stdout",
     "output_type": "stream",
     "text": [
      "[[909 103]\n",
      " [197 198]]\n"
     ]
    }
   ],
   "source": [
    "print(pl)"
   ]
  },
  {
   "cell_type": "code",
   "execution_count": 121,
   "metadata": {},
   "outputs": [
    {
     "data": {
      "text/plain": [
       "(0.10177865612648221, 0.8982213438735178)"
      ]
     },
     "execution_count": 121,
     "metadata": {},
     "output_type": "execute_result"
    }
   ],
   "source": [
    "fn,tp = pl[0][1], pl[0][0]\n",
    "fnr_svc = fn / (tp + fn)\n",
    "tpr_svc = tp / (tp + fn)\n",
    "fnr_svc, tpr_svc"
   ]
  },
  {
   "cell_type": "code",
   "execution_count": 122,
   "metadata": {},
   "outputs": [
    {
     "name": "stdout",
     "output_type": "stream",
     "text": [
      "0.699743583329164 0.7867803837953091 0.10177865612648221 0.8982213438735178\n"
     ]
    }
   ],
   "source": [
    "auc_svc = roc_auc_score(y_test, y_pred)\n",
    "acc_svc = accuracy_score(y_test,y_pred)\n",
    "print(auc_svc, acc_svc, fnr_svc, tpr_svc)"
   ]
  },
  {
   "cell_type": "markdown",
   "metadata": {},
   "source": [
    "## Deep learning modeling using Keras"
   ]
  },
  {
   "cell_type": "code",
   "execution_count": 123,
   "metadata": {},
   "outputs": [],
   "source": [
    "from keras.layers import Dense\n",
    "from keras.models import Sequential\n",
    "from IPython.display import SVG\n",
    "from keras.optimizers import Adam\n",
    "from keras import regularizers\n",
    "from keras.utils.vis_utils import model_to_dot\n",
    "from keras import losses\n",
    "#import pydot\n",
    "from keras.utils.vis_utils import plot_model"
   ]
  },
  {
   "cell_type": "code",
   "execution_count": 124,
   "metadata": {},
   "outputs": [
    {
     "name": "stdout",
     "output_type": "stream",
     "text": [
      "Model: \"sequential_1\"\n",
      "_________________________________________________________________\n",
      "Layer (type)                 Output Shape              Param #   \n",
      "=================================================================\n",
      "dense_5 (Dense)              (None, 32)                192       \n",
      "_________________________________________________________________\n",
      "dense_6 (Dense)              (None, 16)                528       \n",
      "_________________________________________________________________\n",
      "dense_7 (Dense)              (None, 8)                 136       \n",
      "_________________________________________________________________\n",
      "dense_8 (Dense)              (None, 4)                 36        \n",
      "_________________________________________________________________\n",
      "dense_9 (Dense)              (None, 1)                 5         \n",
      "=================================================================\n",
      "Total params: 897\n",
      "Trainable params: 897\n",
      "Non-trainable params: 0\n",
      "_________________________________________________________________\n"
     ]
    },
    {
     "data": {
      "image/svg+xml": [
       "<svg xmlns=\"http://www.w3.org/2000/svg\" xmlns:xlink=\"http://www.w3.org/1999/xlink\" width=\"232pt\" height=\"547pt\" viewBox=\"0.00 0.00 174.00 410.00\">\n",
       "<g id=\"graph0\" class=\"graph\" transform=\"scale(1.33333 1.33333) rotate(0) translate(4 406)\">\n",
       "<title>G</title>\n",
       "<polygon fill=\"white\" stroke=\"none\" points=\"-4,4 -4,-406 170,-406 170,4 -4,4\"/>\n",
       "<!-- 2166877689600 -->\n",
       "<g id=\"node1\" class=\"node\"><title>2166877689600</title>\n",
       "<polygon fill=\"none\" stroke=\"black\" points=\"0,-365.5 0,-401.5 166,-401.5 166,-365.5 0,-365.5\"/>\n",
       "<text text-anchor=\"middle\" x=\"83\" y=\"-379.8\" font-family=\"Times New Roman,serif\" font-size=\"14.00\">dense_5_input: InputLayer</text>\n",
       "</g>\n",
       "<!-- 2166877603776 -->\n",
       "<g id=\"node2\" class=\"node\"><title>2166877603776</title>\n",
       "<polygon fill=\"none\" stroke=\"black\" points=\"31,-292.5 31,-328.5 135,-328.5 135,-292.5 31,-292.5\"/>\n",
       "<text text-anchor=\"middle\" x=\"83\" y=\"-306.8\" font-family=\"Times New Roman,serif\" font-size=\"14.00\">dense_5: Dense</text>\n",
       "</g>\n",
       "<!-- 2166877689600&#45;&gt;2166877603776 -->\n",
       "<g id=\"edge1\" class=\"edge\"><title>2166877689600-&gt;2166877603776</title>\n",
       "<path fill=\"none\" stroke=\"black\" d=\"M83,-365.313C83,-357.289 83,-347.547 83,-338.569\"/>\n",
       "<polygon fill=\"black\" stroke=\"black\" points=\"86.5001,-338.529 83,-328.529 79.5001,-338.529 86.5001,-338.529\"/>\n",
       "</g>\n",
       "<!-- 2166873460848 -->\n",
       "<g id=\"node3\" class=\"node\"><title>2166873460848</title>\n",
       "<polygon fill=\"none\" stroke=\"black\" points=\"31,-219.5 31,-255.5 135,-255.5 135,-219.5 31,-219.5\"/>\n",
       "<text text-anchor=\"middle\" x=\"83\" y=\"-233.8\" font-family=\"Times New Roman,serif\" font-size=\"14.00\">dense_6: Dense</text>\n",
       "</g>\n",
       "<!-- 2166877603776&#45;&gt;2166873460848 -->\n",
       "<g id=\"edge2\" class=\"edge\"><title>2166877603776-&gt;2166873460848</title>\n",
       "<path fill=\"none\" stroke=\"black\" d=\"M83,-292.313C83,-284.289 83,-274.547 83,-265.569\"/>\n",
       "<polygon fill=\"black\" stroke=\"black\" points=\"86.5001,-265.529 83,-255.529 79.5001,-265.529 86.5001,-265.529\"/>\n",
       "</g>\n",
       "<!-- 2166945447552 -->\n",
       "<g id=\"node4\" class=\"node\"><title>2166945447552</title>\n",
       "<polygon fill=\"none\" stroke=\"black\" points=\"31,-146.5 31,-182.5 135,-182.5 135,-146.5 31,-146.5\"/>\n",
       "<text text-anchor=\"middle\" x=\"83\" y=\"-160.8\" font-family=\"Times New Roman,serif\" font-size=\"14.00\">dense_7: Dense</text>\n",
       "</g>\n",
       "<!-- 2166873460848&#45;&gt;2166945447552 -->\n",
       "<g id=\"edge3\" class=\"edge\"><title>2166873460848-&gt;2166945447552</title>\n",
       "<path fill=\"none\" stroke=\"black\" d=\"M83,-219.313C83,-211.289 83,-201.547 83,-192.569\"/>\n",
       "<polygon fill=\"black\" stroke=\"black\" points=\"86.5001,-192.529 83,-182.529 79.5001,-192.529 86.5001,-192.529\"/>\n",
       "</g>\n",
       "<!-- 2166877454400 -->\n",
       "<g id=\"node5\" class=\"node\"><title>2166877454400</title>\n",
       "<polygon fill=\"none\" stroke=\"black\" points=\"31,-73.5 31,-109.5 135,-109.5 135,-73.5 31,-73.5\"/>\n",
       "<text text-anchor=\"middle\" x=\"83\" y=\"-87.8\" font-family=\"Times New Roman,serif\" font-size=\"14.00\">dense_8: Dense</text>\n",
       "</g>\n",
       "<!-- 2166945447552&#45;&gt;2166877454400 -->\n",
       "<g id=\"edge4\" class=\"edge\"><title>2166945447552-&gt;2166877454400</title>\n",
       "<path fill=\"none\" stroke=\"black\" d=\"M83,-146.313C83,-138.289 83,-128.547 83,-119.569\"/>\n",
       "<polygon fill=\"black\" stroke=\"black\" points=\"86.5001,-119.529 83,-109.529 79.5001,-119.529 86.5001,-119.529\"/>\n",
       "</g>\n",
       "<!-- 2166877633024 -->\n",
       "<g id=\"node6\" class=\"node\"><title>2166877633024</title>\n",
       "<polygon fill=\"none\" stroke=\"black\" points=\"31,-0.5 31,-36.5 135,-36.5 135,-0.5 31,-0.5\"/>\n",
       "<text text-anchor=\"middle\" x=\"83\" y=\"-14.8\" font-family=\"Times New Roman,serif\" font-size=\"14.00\">dense_9: Dense</text>\n",
       "</g>\n",
       "<!-- 2166877454400&#45;&gt;2166877633024 -->\n",
       "<g id=\"edge5\" class=\"edge\"><title>2166877454400-&gt;2166877633024</title>\n",
       "<path fill=\"none\" stroke=\"black\" d=\"M83,-73.3129C83,-65.2895 83,-55.5475 83,-46.5691\"/>\n",
       "<polygon fill=\"black\" stroke=\"black\" points=\"86.5001,-46.5288 83,-36.5288 79.5001,-46.5289 86.5001,-46.5288\"/>\n",
       "</g>\n",
       "</g>\n",
       "</svg>"
      ],
      "text/plain": [
       "<IPython.core.display.SVG object>"
      ]
     },
     "execution_count": 124,
     "metadata": {},
     "output_type": "execute_result"
    }
   ],
   "source": [
    "n_cols=X_train.shape[1]\n",
    "seq = Sequential()\n",
    "seq.add(Dense(32, input_shape=(n_cols,), activation='relu'))\n",
    "seq.add(Dense(16, activation='relu'))\n",
    "seq.add(Dense(8, activation='relu'))\n",
    "seq.add(Dense(4, activation='relu'))\n",
    "seq.add(Dense(1, activation='sigmoid'))\n",
    "\n",
    "seq.compile(loss='binary_crossentropy', optimizer='adam')\n",
    "seq.summary()\n",
    "\n",
    "#plot the a graph\n",
    "SVG(model_to_dot(seq).create(prog='dot', format='svg'))"
   ]
  },
  {
   "cell_type": "code",
   "execution_count": 125,
   "metadata": {},
   "outputs": [
    {
     "name": "stdout",
     "output_type": "stream",
     "text": [
      "176/176 [==============================] - 0s 2ms/step - loss: 0.5183\n",
      "Area under curve :  0.8306474208235353 \n",
      "\n"
     ]
    }
   ],
   "source": [
    "seq.fit(X_train, y_train)\n",
    "predictions   = seq.predict(X_test)\n",
    "probabilities = seq.predict_proba(X_test)\n",
    "\n",
    "seq_roc_auc = roc_auc_score(y_test,predictions) \n",
    "print (\"Area under curve : \",seq_roc_auc,\"\\n\")\n",
    "fpr,tpr,thresholds = roc_curve(y_test,probabilities)"
   ]
  },
  {
   "cell_type": "code",
   "execution_count": 126,
   "metadata": {},
   "outputs": [],
   "source": [
    "import plotly.graph_objects as go\n",
    "#plot roc curve\n",
    "trace2 = go.Scatter(x = fpr,y = tpr,\n",
    "                        name = \"Roc : \" + str(seq_roc_auc),\n",
    "                        line = dict(color = ('rgb(22, 96, 167)'),width = 2))\n",
    "trace3 = go.Scatter(x = [0,1],y=[0,1],\n",
    "                        line = dict(color = ('rgb(205, 12, 24)'),width = 2,\n",
    "                        dash = 'dot'))\n"
   ]
  },
  {
   "cell_type": "code",
   "execution_count": 127,
   "metadata": {},
   "outputs": [
    {
     "name": "stderr",
     "output_type": "stream",
     "text": [
      "C:\\Users\\david\\anaconda3\\lib\\site-packages\\plotly\\tools.py:461: DeprecationWarning:\n",
      "\n",
      "plotly.tools.make_subplots is deprecated, please use plotly.subplots.make_subplots instead\n",
      "\n"
     ]
    },
    {
     "data": {
      "application/vnd.plotly.v1+json": {
       "config": {
        "linkText": "Export to plot.ly",
        "plotlyServerURL": "https://plot.ly",
        "showLink": false
       },
       "data": [
        {
         "line": {
          "color": "rgb(22, 96, 167)",
          "width": 2
         },
         "name": "Roc : 0.8306474208235353",
         "type": "scatter",
         "x": [
          0,
          0.003952569169960474,
          0.008893280632411068,
          0.014822134387351778,
          0.015810276679841896,
          0.018774703557312252,
          0.020750988142292492,
          0.021739130434782608,
          0.024703557312252964,
          0.02865612648221344,
          0.029644268774703556,
          0.03359683794466403,
          0.03359683794466403,
          0.03557312252964427,
          0.03557312252964427,
          0.037549407114624504,
          0.038537549407114624,
          0.039525691699604744,
          0.041501976284584984,
          0.045454545454545456,
          0.046442687747035576,
          0.046442687747035576,
          0.04743083003952569,
          0.05039525691699605,
          0.05138339920948617,
          0.05237154150197629,
          0.05434782608695652,
          0.05533596837944664,
          0.05533596837944664,
          0.05731225296442688,
          0.06126482213438735,
          0.06324110671936758,
          0.06521739130434782,
          0.06620553359683795,
          0.06818181818181818,
          0.0691699604743083,
          0.07213438735177866,
          0.0741106719367589,
          0.07707509881422925,
          0.07905138339920949,
          0.08102766798418973,
          0.08201581027667984,
          0.08201581027667984,
          0.08596837944664032,
          0.08596837944664032,
          0.08794466403162056,
          0.08893280632411067,
          0.08992094861660078,
          0.09090909090909091,
          0.09090909090909091,
          0.09288537549407115,
          0.09387351778656126,
          0.09486166007905138,
          0.0958498023715415,
          0.09782608695652174,
          0.09881422924901186,
          0.09881422924901186,
          0.09980237154150198,
          0.1007905138339921,
          0.10276679841897234,
          0.10375494071146245,
          0.10573122529644269,
          0.1067193675889328,
          0.1067193675889328,
          0.10968379446640317,
          0.11067193675889328,
          0.11067193675889328,
          0.11264822134387352,
          0.11264822134387352,
          0.11462450592885376,
          0.11857707509881422,
          0.11857707509881422,
          0.12154150197628459,
          0.1225296442687747,
          0.1225296442687747,
          0.12450592885375494,
          0.12648221343873517,
          0.12944664031620554,
          0.13043478260869565,
          0.13043478260869565,
          0.1324110671936759,
          0.13339920948616601,
          0.13537549407114624,
          0.13636363636363635,
          0.1373517786561265,
          0.1373517786561265,
          0.1373517786561265,
          0.13932806324110672,
          0.14031620553359683,
          0.14130434782608695,
          0.14525691699604742,
          0.14723320158102768,
          0.15118577075098813,
          0.1590909090909091,
          0.16106719367588934,
          0.16205533596837945,
          0.16205533596837945,
          0.16403162055335968,
          0.1650197628458498,
          0.1650197628458498,
          0.16699604743083005,
          0.16798418972332016,
          0.17094861660079053,
          0.17094861660079053,
          0.17391304347826086,
          0.17588932806324112,
          0.17984189723320157,
          0.18379446640316205,
          0.18478260869565216,
          0.18478260869565216,
          0.18774703557312253,
          0.18774703557312253,
          0.1907114624505929,
          0.19268774703557312,
          0.19466403162055335,
          0.1966403162055336,
          0.1976284584980237,
          0.19861660079051383,
          0.20059288537549408,
          0.2015810276679842,
          0.20355731225296442,
          0.2075098814229249,
          0.21047430830039526,
          0.21047430830039526,
          0.2134387351778656,
          0.21442687747035574,
          0.2183794466403162,
          0.21936758893280633,
          0.22035573122529645,
          0.22233201581027667,
          0.22430830039525693,
          0.22430830039525693,
          0.22628458498023715,
          0.22924901185770752,
          0.23023715415019763,
          0.23221343873517786,
          0.233201581027668,
          0.233201581027668,
          0.23616600790513834,
          0.24011857707509882,
          0.24209486166007904,
          0.26976284584980237,
          0.2756916996047431,
          0.2766798418972332,
          0.27865612648221344,
          0.2855731225296443,
          0.2865612648221344,
          0.2875494071146245,
          0.2875494071146245,
          0.2984189723320158,
          0.2994071146245059,
          0.2994071146245059,
          0.30039525691699603,
          0.30237154150197626,
          0.3102766798418972,
          0.3132411067193676,
          0.3142292490118577,
          0.3201581027667984,
          0.3201581027667984,
          0.3221343873517787,
          0.32806324110671936,
          0.32806324110671936,
          0.33893280632411066,
          0.33992094861660077,
          0.3468379446640316,
          0.34782608695652173,
          0.35276679841897235,
          0.3547430830039526,
          0.3567193675889328,
          0.3606719367588933,
          0.36462450592885376,
          0.36561264822134387,
          0.3685770750988142,
          0.3715415019762846,
          0.37450592885375494,
          0.37648221343873517,
          0.3774703557312253,
          0.3784584980237154,
          0.3814229249011858,
          0.3824110671936759,
          0.3824110671936759,
          0.38438735177865613,
          0.38537549407114624,
          0.391304347826087,
          0.3942687747035573,
          0.3952569169960474,
          0.39624505928853754,
          0.39822134387351776,
          0.40019762845849804,
          0.4031620553359684,
          0.4041501976284585,
          0.40810276679841895,
          0.40810276679841895,
          0.4090909090909091,
          0.41205533596837945,
          0.41205533596837945,
          0.4160079051383399,
          0.41798418972332013,
          0.4199604743083004,
          0.42193675889328064,
          0.42193675889328064,
          0.42391304347826086,
          0.4298418972332016,
          0.4298418972332016,
          0.4318181818181818,
          0.43280632411067194,
          0.4367588932806324,
          0.43873517786561267,
          0.43873517786561267,
          0.4397233201581028,
          0.4407114624505929,
          0.4407114624505929,
          0.4426877470355731,
          0.4426877470355731,
          0.44367588932806323,
          0.44367588932806323,
          0.44466403162055335,
          0.44664031620553357,
          0.44762845849802374,
          0.44762845849802374,
          0.4505928853754941,
          0.4525691699604743,
          0.4535573122529644,
          0.45454545454545453,
          0.45454545454545453,
          0.4614624505928854,
          0.4614624505928854,
          0.4624505928853755,
          0.4634387351778656,
          0.466403162055336,
          0.4683794466403162,
          0.46936758893280633,
          0.46936758893280633,
          0.47134387351778656,
          0.4723320158102767,
          0.475296442687747,
          0.475296442687747,
          0.4772727272727273,
          0.4772727272727273,
          0.4792490118577075,
          0.48320158102766797,
          0.48616600790513836,
          0.4881422924901186,
          0.4891304347826087,
          0.49308300395256915,
          0.49308300395256915,
          0.49604743083003955,
          0.4980237154150198,
          0.4990118577075099,
          0.5,
          0.5019762845849802,
          0.5029644268774703,
          0.5049407114624506,
          0.5059288537549407,
          0.508893280632411,
          0.5128458498023716,
          0.5138339920948617,
          0.5158102766798419,
          0.5158102766798419,
          0.516798418972332,
          0.5187747035573123,
          0.5266798418972332,
          0.5316205533596838,
          0.5355731225296443,
          0.5375494071146245,
          0.5395256916996047,
          0.5405138339920948,
          0.5405138339920948,
          0.541501976284585,
          0.5424901185770751,
          0.5444664031620553,
          0.5464426877470355,
          0.5484189723320159,
          0.5503952569169961,
          0.5513833992094862,
          0.5553359683794467,
          0.5563241106719368,
          0.5573122529644269,
          0.5612648221343873,
          0.5622529644268774,
          0.5652173913043478,
          0.5652173913043478,
          0.5681818181818182,
          0.5691699604743083,
          0.5721343873517787,
          0.5731225296442688,
          0.5800395256916996,
          0.58399209486166,
          0.5849802371541502,
          0.5879446640316206,
          0.5909090909090909,
          0.5928853754940712,
          0.5968379446640316,
          0.6037549407114624,
          0.6057312252964426,
          0.6116600790513834,
          0.6146245059288538,
          0.6225296442687747,
          0.6235177865612648,
          0.6264822134387352,
          0.6284584980237155,
          0.6294466403162056,
          0.6324110671936759,
          0.633399209486166,
          0.6353754940711462,
          0.642292490118577,
          0.6462450592885376,
          0.6492094861660079,
          0.6511857707509882,
          0.6531620553359684,
          0.658102766798419,
          0.6640316205533597,
          0.6640316205533597,
          0.6679841897233202,
          0.6699604743083004,
          0.6719367588932806,
          0.674901185770751,
          0.6788537549407114,
          0.6798418972332015,
          0.6818181818181818,
          0.682806324110672,
          0.6847826086956522,
          0.6857707509881423,
          0.6887351778656127,
          0.6926877470355731,
          0.6946640316205533,
          0.6986166007905138,
          0.6996047430830039,
          0.7025691699604744,
          0.7045454545454546,
          0.708498023715415,
          0.7094861660079052,
          0.7114624505928854,
          0.7144268774703557,
          0.7154150197628458,
          0.7233201581027668,
          0.7262845849802372,
          0.7302371541501976,
          0.7322134387351779,
          0.733201581027668,
          0.7361660079051383,
          0.7381422924901185,
          0.7430830039525692,
          0.7440711462450593,
          0.7470355731225297,
          0.7687747035573123,
          0.7707509881422925,
          0.7717391304347826,
          0.7737154150197628,
          0.7766798418972332,
          0.7776679841897233,
          0.7796442687747036,
          0.7875494071146245,
          0.7895256916996047,
          0.7944664031620553,
          0.7974308300395256,
          0.799407114624506,
          0.8033596837944664,
          0.8033596837944664,
          0.8053359683794467,
          0.8073122529644269,
          0.8102766798418972,
          0.8162055335968379,
          0.817193675889328,
          0.8201581027667985,
          0.8211462450592886,
          0.8231225296442688,
          0.8241106719367589,
          0.8290513833992095,
          0.8320158102766798,
          0.8349802371541502,
          0.8399209486166008,
          0.8458498023715415,
          0.8468379446640316,
          0.8507905138339921,
          0.8527667984189723,
          0.8586956521739131,
          0.8596837944664032,
          0.8646245059288538,
          0.8675889328063241,
          0.8685770750988142,
          0.8705533596837944,
          0.8715415019762845,
          0.8735177865612648,
          0.8784584980237155,
          0.8824110671936759,
          0.8903162055335968,
          0.8913043478260869,
          0.8942687747035574,
          0.900197628458498,
          0.908102766798419,
          0.9169960474308301,
          0.9189723320158103,
          0.9268774703557312,
          0.9337944664031621,
          0.9426877470355731,
          0.9446640316205533,
          0.9664031620553359,
          0.9683794466403162,
          1
         ],
         "xaxis": "x2",
         "y": [
          0,
          0.07088607594936709,
          0.1189873417721519,
          0.1468354430379747,
          0.1620253164556962,
          0.17468354430379746,
          0.189873417721519,
          0.20759493670886076,
          0.22531645569620254,
          0.2430379746835443,
          0.2607594936708861,
          0.26582278481012656,
          0.2708860759493671,
          0.27341772151898736,
          0.2810126582278481,
          0.28607594936708863,
          0.28607594936708863,
          0.2911392405063291,
          0.30632911392405066,
          0.31139240506329113,
          0.3189873417721519,
          0.32151898734177214,
          0.3341772151898734,
          0.3367088607594937,
          0.3367088607594937,
          0.3392405063291139,
          0.34177215189873417,
          0.34430379746835443,
          0.3468354430379747,
          0.3493670886075949,
          0.35443037974683544,
          0.3569620253164557,
          0.3620253164556962,
          0.369620253164557,
          0.369620253164557,
          0.379746835443038,
          0.3822784810126582,
          0.3848101265822785,
          0.3949367088607595,
          0.4,
          0.4,
          0.40253164556962023,
          0.4050632911392405,
          0.4050632911392405,
          0.41012658227848103,
          0.4151898734177215,
          0.4151898734177215,
          0.42025316455696204,
          0.42025316455696204,
          0.42278481012658226,
          0.42278481012658226,
          0.4253164556962025,
          0.4253164556962025,
          0.44556962025316454,
          0.45569620253164556,
          0.46835443037974683,
          0.4835443037974684,
          0.4860759493670886,
          0.4911392405063291,
          0.4936708860759494,
          0.5012658227848101,
          0.5037974683544304,
          0.5088607594936709,
          0.5139240506329114,
          0.5189873417721519,
          0.5215189873417722,
          0.5316455696202531,
          0.5367088607594936,
          0.5392405063291139,
          0.5392405063291139,
          0.5417721518987342,
          0.549367088607595,
          0.5518987341772152,
          0.5544303797468354,
          0.5569620253164557,
          0.5620253164556962,
          0.5620253164556962,
          0.5620253164556962,
          0.5645569620253165,
          0.5670886075949367,
          0.569620253164557,
          0.5721518987341773,
          0.5721518987341773,
          0.5772151898734177,
          0.5772151898734177,
          0.5822784810126582,
          0.5848101265822785,
          0.589873417721519,
          0.589873417721519,
          0.5924050632911393,
          0.5949367088607594,
          0.5949367088607594,
          0.5949367088607594,
          0.6278481012658228,
          0.6354430379746835,
          0.640506329113924,
          0.6430379746835443,
          0.6531645569620254,
          0.6531645569620254,
          0.6582278481012658,
          0.6582278481012658,
          0.6582278481012658,
          0.660759493670886,
          0.6632911392405063,
          0.6683544303797468,
          0.6683544303797468,
          0.6708860759493671,
          0.6759493670886076,
          0.6759493670886076,
          0.6784810126582278,
          0.6784810126582278,
          0.6810126582278481,
          0.6810126582278481,
          0.6810126582278481,
          0.6835443037974683,
          0.6835443037974683,
          0.6911392405063291,
          0.6911392405063291,
          0.6936708860759494,
          0.6962025316455697,
          0.6962025316455697,
          0.7012658227848101,
          0.7012658227848101,
          0.7037974683544304,
          0.7037974683544304,
          0.7088607594936709,
          0.7088607594936709,
          0.7088607594936709,
          0.7139240506329114,
          0.7189873417721518,
          0.7189873417721518,
          0.7215189873417721,
          0.7215189873417721,
          0.7215189873417721,
          0.7215189873417721,
          0.7215189873417721,
          0.7240506329113924,
          0.7265822784810126,
          0.7265822784810126,
          0.7265822784810126,
          0.7265822784810126,
          0.7822784810126582,
          0.789873417721519,
          0.789873417721519,
          0.789873417721519,
          0.7924050632911392,
          0.7949367088607595,
          0.7949367088607595,
          0.7974683544303798,
          0.810126582278481,
          0.810126582278481,
          0.8126582278481013,
          0.8126582278481013,
          0.8126582278481013,
          0.8177215189873418,
          0.8177215189873418,
          0.8177215189873418,
          0.8227848101265823,
          0.8253164556962025,
          0.8253164556962025,
          0.830379746835443,
          0.8354430379746836,
          0.8379746835443038,
          0.8379746835443038,
          0.8430379746835444,
          0.8430379746835444,
          0.8430379746835444,
          0.8430379746835444,
          0.8430379746835444,
          0.8430379746835444,
          0.8455696202531645,
          0.8481012658227848,
          0.850632911392405,
          0.850632911392405,
          0.850632911392405,
          0.850632911392405,
          0.8556962025316456,
          0.8556962025316456,
          0.8556962025316456,
          0.8556962025316456,
          0.8607594936708861,
          0.8632911392405064,
          0.8632911392405064,
          0.8632911392405064,
          0.8632911392405064,
          0.8658227848101265,
          0.8658227848101265,
          0.8683544303797468,
          0.8683544303797468,
          0.8683544303797468,
          0.8683544303797468,
          0.8708860759493671,
          0.8734177215189873,
          0.8734177215189873,
          0.8784810126582279,
          0.8810126582278481,
          0.8810126582278481,
          0.8810126582278481,
          0.8835443037974684,
          0.8835443037974684,
          0.8860759493670886,
          0.8886075949367088,
          0.8886075949367088,
          0.8911392405063291,
          0.8911392405063291,
          0.8936708860759494,
          0.8936708860759494,
          0.8936708860759494,
          0.8962025316455696,
          0.8987341772151899,
          0.8987341772151899,
          0.9012658227848102,
          0.9012658227848102,
          0.9037974683544304,
          0.9037974683544304,
          0.9063291139240506,
          0.9063291139240506,
          0.9063291139240506,
          0.9063291139240506,
          0.9088607594936708,
          0.9088607594936708,
          0.9113924050632911,
          0.9139240506329114,
          0.9139240506329114,
          0.9164556962025316,
          0.9164556962025316,
          0.9189873417721519,
          0.9189873417721519,
          0.9240506329113924,
          0.9240506329113924,
          0.9240506329113924,
          0.9240506329113924,
          0.9265822784810127,
          0.9265822784810127,
          0.9291139240506329,
          0.9316455696202531,
          0.9341772151898734,
          0.9341772151898734,
          0.9367088607594937,
          0.9367088607594937,
          0.9367088607594937,
          0.9367088607594937,
          0.9367088607594937,
          0.9367088607594937,
          0.9367088607594937,
          0.9392405063291139,
          0.9392405063291139,
          0.9392405063291139,
          0.9392405063291139,
          0.9417721518987342,
          0.9417721518987342,
          0.9417721518987342,
          0.9443037974683545,
          0.9443037974683545,
          0.9468354430379747,
          0.9468354430379747,
          0.9468354430379747,
          0.9468354430379747,
          0.9518987341772152,
          0.9518987341772152,
          0.9518987341772152,
          0.9518987341772152,
          0.9544303797468354,
          0.9544303797468354,
          0.9544303797468354,
          0.9544303797468354,
          0.9544303797468354,
          0.9569620253164557,
          0.9569620253164557,
          0.959493670886076,
          0.959493670886076,
          0.959493670886076,
          0.959493670886076,
          0.959493670886076,
          0.959493670886076,
          0.959493670886076,
          0.959493670886076,
          0.9620253164556962,
          0.9620253164556962,
          0.9620253164556962,
          0.9620253164556962,
          0.9645569620253165,
          0.9645569620253165,
          0.9645569620253165,
          0.9645569620253165,
          0.9645569620253165,
          0.9645569620253165,
          0.9645569620253165,
          0.9645569620253165,
          0.9645569620253165,
          0.9645569620253165,
          0.9645569620253165,
          0.9670886075949368,
          0.9670886075949368,
          0.9670886075949368,
          0.9670886075949368,
          0.9670886075949368,
          0.9670886075949368,
          0.9670886075949368,
          0.9670886075949368,
          0.9670886075949368,
          0.9670886075949368,
          0.9670886075949368,
          0.9670886075949368,
          0.9670886075949368,
          0.9670886075949368,
          0.9670886075949368,
          0.9670886075949368,
          0.9696202531645569,
          0.9696202531645569,
          0.9696202531645569,
          0.9696202531645569,
          0.9721518987341772,
          0.9721518987341772,
          0.9721518987341772,
          0.9746835443037974,
          0.9746835443037974,
          0.9746835443037974,
          0.9746835443037974,
          0.9746835443037974,
          0.9746835443037974,
          0.9746835443037974,
          0.9746835443037974,
          0.9746835443037974,
          0.9746835443037974,
          0.9746835443037974,
          0.9746835443037974,
          0.9772151898734177,
          0.9772151898734177,
          0.9772151898734177,
          0.9772151898734177,
          0.9772151898734177,
          0.9772151898734177,
          0.9772151898734177,
          0.9772151898734177,
          0.9772151898734177,
          0.9772151898734177,
          0.9772151898734177,
          0.9772151898734177,
          0.9772151898734177,
          0.979746835443038,
          0.979746835443038,
          0.9848101265822785,
          0.9848101265822785,
          0.9873417721518988,
          0.9873417721518988,
          0.9873417721518988,
          0.9873417721518988,
          0.9873417721518988,
          0.9873417721518988,
          0.9873417721518988,
          0.9873417721518988,
          0.9873417721518988,
          0.9873417721518988,
          0.9873417721518988,
          0.9873417721518988,
          0.9873417721518988,
          0.9873417721518988,
          0.9898734177215189,
          0.9898734177215189,
          0.9898734177215189,
          0.9898734177215189,
          0.9898734177215189,
          0.9898734177215189,
          0.9898734177215189,
          0.9898734177215189,
          0.9898734177215189,
          0.9898734177215189,
          0.9898734177215189,
          0.9898734177215189,
          0.9898734177215189,
          0.9898734177215189,
          0.9898734177215189,
          0.9898734177215189,
          0.9898734177215189,
          0.9898734177215189,
          0.9898734177215189,
          0.9924050632911392,
          0.9924050632911392,
          0.9924050632911392,
          0.9924050632911392,
          0.9924050632911392,
          0.9949367088607595,
          0.9949367088607595,
          0.9949367088607595,
          0.9949367088607595,
          0.9949367088607595,
          0.9949367088607595,
          0.9974683544303797,
          0.9974683544303797,
          1,
          1,
          1,
          1,
          1,
          1,
          1,
          1,
          1,
          1
         ],
         "yaxis": "y2"
        },
        {
         "line": {
          "color": "rgb(205, 12, 24)",
          "dash": "dot",
          "width": 2
         },
         "type": "scatter",
         "x": [
          0,
          1
         ],
         "xaxis": "x2",
         "y": [
          0,
          1
         ],
         "yaxis": "y2"
        }
       ],
       "layout": {
        "annotations": [
         {
          "font": {
           "size": 16
          },
          "showarrow": false,
          "text": "ROC",
          "x": 0.775,
          "xanchor": "center",
          "xref": "paper",
          "y": 1,
          "yanchor": "bottom",
          "yref": "paper"
         }
        ],
        "template": {
         "data": {
          "bar": [
           {
            "error_x": {
             "color": "#2a3f5f"
            },
            "error_y": {
             "color": "#2a3f5f"
            },
            "marker": {
             "line": {
              "color": "#E5ECF6",
              "width": 0.5
             }
            },
            "type": "bar"
           }
          ],
          "barpolar": [
           {
            "marker": {
             "line": {
              "color": "#E5ECF6",
              "width": 0.5
             }
            },
            "type": "barpolar"
           }
          ],
          "carpet": [
           {
            "aaxis": {
             "endlinecolor": "#2a3f5f",
             "gridcolor": "white",
             "linecolor": "white",
             "minorgridcolor": "white",
             "startlinecolor": "#2a3f5f"
            },
            "baxis": {
             "endlinecolor": "#2a3f5f",
             "gridcolor": "white",
             "linecolor": "white",
             "minorgridcolor": "white",
             "startlinecolor": "#2a3f5f"
            },
            "type": "carpet"
           }
          ],
          "choropleth": [
           {
            "colorbar": {
             "outlinewidth": 0,
             "ticks": ""
            },
            "type": "choropleth"
           }
          ],
          "contour": [
           {
            "colorbar": {
             "outlinewidth": 0,
             "ticks": ""
            },
            "colorscale": [
             [
              0,
              "#0d0887"
             ],
             [
              0.1111111111111111,
              "#46039f"
             ],
             [
              0.2222222222222222,
              "#7201a8"
             ],
             [
              0.3333333333333333,
              "#9c179e"
             ],
             [
              0.4444444444444444,
              "#bd3786"
             ],
             [
              0.5555555555555556,
              "#d8576b"
             ],
             [
              0.6666666666666666,
              "#ed7953"
             ],
             [
              0.7777777777777778,
              "#fb9f3a"
             ],
             [
              0.8888888888888888,
              "#fdca26"
             ],
             [
              1,
              "#f0f921"
             ]
            ],
            "type": "contour"
           }
          ],
          "contourcarpet": [
           {
            "colorbar": {
             "outlinewidth": 0,
             "ticks": ""
            },
            "type": "contourcarpet"
           }
          ],
          "heatmap": [
           {
            "colorbar": {
             "outlinewidth": 0,
             "ticks": ""
            },
            "colorscale": [
             [
              0,
              "#0d0887"
             ],
             [
              0.1111111111111111,
              "#46039f"
             ],
             [
              0.2222222222222222,
              "#7201a8"
             ],
             [
              0.3333333333333333,
              "#9c179e"
             ],
             [
              0.4444444444444444,
              "#bd3786"
             ],
             [
              0.5555555555555556,
              "#d8576b"
             ],
             [
              0.6666666666666666,
              "#ed7953"
             ],
             [
              0.7777777777777778,
              "#fb9f3a"
             ],
             [
              0.8888888888888888,
              "#fdca26"
             ],
             [
              1,
              "#f0f921"
             ]
            ],
            "type": "heatmap"
           }
          ],
          "heatmapgl": [
           {
            "colorbar": {
             "outlinewidth": 0,
             "ticks": ""
            },
            "colorscale": [
             [
              0,
              "#0d0887"
             ],
             [
              0.1111111111111111,
              "#46039f"
             ],
             [
              0.2222222222222222,
              "#7201a8"
             ],
             [
              0.3333333333333333,
              "#9c179e"
             ],
             [
              0.4444444444444444,
              "#bd3786"
             ],
             [
              0.5555555555555556,
              "#d8576b"
             ],
             [
              0.6666666666666666,
              "#ed7953"
             ],
             [
              0.7777777777777778,
              "#fb9f3a"
             ],
             [
              0.8888888888888888,
              "#fdca26"
             ],
             [
              1,
              "#f0f921"
             ]
            ],
            "type": "heatmapgl"
           }
          ],
          "histogram": [
           {
            "marker": {
             "colorbar": {
              "outlinewidth": 0,
              "ticks": ""
             }
            },
            "type": "histogram"
           }
          ],
          "histogram2d": [
           {
            "colorbar": {
             "outlinewidth": 0,
             "ticks": ""
            },
            "colorscale": [
             [
              0,
              "#0d0887"
             ],
             [
              0.1111111111111111,
              "#46039f"
             ],
             [
              0.2222222222222222,
              "#7201a8"
             ],
             [
              0.3333333333333333,
              "#9c179e"
             ],
             [
              0.4444444444444444,
              "#bd3786"
             ],
             [
              0.5555555555555556,
              "#d8576b"
             ],
             [
              0.6666666666666666,
              "#ed7953"
             ],
             [
              0.7777777777777778,
              "#fb9f3a"
             ],
             [
              0.8888888888888888,
              "#fdca26"
             ],
             [
              1,
              "#f0f921"
             ]
            ],
            "type": "histogram2d"
           }
          ],
          "histogram2dcontour": [
           {
            "colorbar": {
             "outlinewidth": 0,
             "ticks": ""
            },
            "colorscale": [
             [
              0,
              "#0d0887"
             ],
             [
              0.1111111111111111,
              "#46039f"
             ],
             [
              0.2222222222222222,
              "#7201a8"
             ],
             [
              0.3333333333333333,
              "#9c179e"
             ],
             [
              0.4444444444444444,
              "#bd3786"
             ],
             [
              0.5555555555555556,
              "#d8576b"
             ],
             [
              0.6666666666666666,
              "#ed7953"
             ],
             [
              0.7777777777777778,
              "#fb9f3a"
             ],
             [
              0.8888888888888888,
              "#fdca26"
             ],
             [
              1,
              "#f0f921"
             ]
            ],
            "type": "histogram2dcontour"
           }
          ],
          "mesh3d": [
           {
            "colorbar": {
             "outlinewidth": 0,
             "ticks": ""
            },
            "type": "mesh3d"
           }
          ],
          "parcoords": [
           {
            "line": {
             "colorbar": {
              "outlinewidth": 0,
              "ticks": ""
             }
            },
            "type": "parcoords"
           }
          ],
          "pie": [
           {
            "automargin": true,
            "type": "pie"
           }
          ],
          "scatter": [
           {
            "marker": {
             "colorbar": {
              "outlinewidth": 0,
              "ticks": ""
             }
            },
            "type": "scatter"
           }
          ],
          "scatter3d": [
           {
            "line": {
             "colorbar": {
              "outlinewidth": 0,
              "ticks": ""
             }
            },
            "marker": {
             "colorbar": {
              "outlinewidth": 0,
              "ticks": ""
             }
            },
            "type": "scatter3d"
           }
          ],
          "scattercarpet": [
           {
            "marker": {
             "colorbar": {
              "outlinewidth": 0,
              "ticks": ""
             }
            },
            "type": "scattercarpet"
           }
          ],
          "scattergeo": [
           {
            "marker": {
             "colorbar": {
              "outlinewidth": 0,
              "ticks": ""
             }
            },
            "type": "scattergeo"
           }
          ],
          "scattergl": [
           {
            "marker": {
             "colorbar": {
              "outlinewidth": 0,
              "ticks": ""
             }
            },
            "type": "scattergl"
           }
          ],
          "scattermapbox": [
           {
            "marker": {
             "colorbar": {
              "outlinewidth": 0,
              "ticks": ""
             }
            },
            "type": "scattermapbox"
           }
          ],
          "scatterpolar": [
           {
            "marker": {
             "colorbar": {
              "outlinewidth": 0,
              "ticks": ""
             }
            },
            "type": "scatterpolar"
           }
          ],
          "scatterpolargl": [
           {
            "marker": {
             "colorbar": {
              "outlinewidth": 0,
              "ticks": ""
             }
            },
            "type": "scatterpolargl"
           }
          ],
          "scatterternary": [
           {
            "marker": {
             "colorbar": {
              "outlinewidth": 0,
              "ticks": ""
             }
            },
            "type": "scatterternary"
           }
          ],
          "surface": [
           {
            "colorbar": {
             "outlinewidth": 0,
             "ticks": ""
            },
            "colorscale": [
             [
              0,
              "#0d0887"
             ],
             [
              0.1111111111111111,
              "#46039f"
             ],
             [
              0.2222222222222222,
              "#7201a8"
             ],
             [
              0.3333333333333333,
              "#9c179e"
             ],
             [
              0.4444444444444444,
              "#bd3786"
             ],
             [
              0.5555555555555556,
              "#d8576b"
             ],
             [
              0.6666666666666666,
              "#ed7953"
             ],
             [
              0.7777777777777778,
              "#fb9f3a"
             ],
             [
              0.8888888888888888,
              "#fdca26"
             ],
             [
              1,
              "#f0f921"
             ]
            ],
            "type": "surface"
           }
          ],
          "table": [
           {
            "cells": {
             "fill": {
              "color": "#EBF0F8"
             },
             "line": {
              "color": "white"
             }
            },
            "header": {
             "fill": {
              "color": "#C8D4E3"
             },
             "line": {
              "color": "white"
             }
            },
            "type": "table"
           }
          ]
         },
         "layout": {
          "annotationdefaults": {
           "arrowcolor": "#2a3f5f",
           "arrowhead": 0,
           "arrowwidth": 1
          },
          "coloraxis": {
           "colorbar": {
            "outlinewidth": 0,
            "ticks": ""
           }
          },
          "colorscale": {
           "diverging": [
            [
             0,
             "#8e0152"
            ],
            [
             0.1,
             "#c51b7d"
            ],
            [
             0.2,
             "#de77ae"
            ],
            [
             0.3,
             "#f1b6da"
            ],
            [
             0.4,
             "#fde0ef"
            ],
            [
             0.5,
             "#f7f7f7"
            ],
            [
             0.6,
             "#e6f5d0"
            ],
            [
             0.7,
             "#b8e186"
            ],
            [
             0.8,
             "#7fbc41"
            ],
            [
             0.9,
             "#4d9221"
            ],
            [
             1,
             "#276419"
            ]
           ],
           "sequential": [
            [
             0,
             "#0d0887"
            ],
            [
             0.1111111111111111,
             "#46039f"
            ],
            [
             0.2222222222222222,
             "#7201a8"
            ],
            [
             0.3333333333333333,
             "#9c179e"
            ],
            [
             0.4444444444444444,
             "#bd3786"
            ],
            [
             0.5555555555555556,
             "#d8576b"
            ],
            [
             0.6666666666666666,
             "#ed7953"
            ],
            [
             0.7777777777777778,
             "#fb9f3a"
            ],
            [
             0.8888888888888888,
             "#fdca26"
            ],
            [
             1,
             "#f0f921"
            ]
           ],
           "sequentialminus": [
            [
             0,
             "#0d0887"
            ],
            [
             0.1111111111111111,
             "#46039f"
            ],
            [
             0.2222222222222222,
             "#7201a8"
            ],
            [
             0.3333333333333333,
             "#9c179e"
            ],
            [
             0.4444444444444444,
             "#bd3786"
            ],
            [
             0.5555555555555556,
             "#d8576b"
            ],
            [
             0.6666666666666666,
             "#ed7953"
            ],
            [
             0.7777777777777778,
             "#fb9f3a"
            ],
            [
             0.8888888888888888,
             "#fdca26"
            ],
            [
             1,
             "#f0f921"
            ]
           ]
          },
          "colorway": [
           "#636efa",
           "#EF553B",
           "#00cc96",
           "#ab63fa",
           "#FFA15A",
           "#19d3f3",
           "#FF6692",
           "#B6E880",
           "#FF97FF",
           "#FECB52"
          ],
          "font": {
           "color": "#2a3f5f"
          },
          "geo": {
           "bgcolor": "white",
           "lakecolor": "white",
           "landcolor": "#E5ECF6",
           "showlakes": true,
           "showland": true,
           "subunitcolor": "white"
          },
          "hoverlabel": {
           "align": "left"
          },
          "hovermode": "closest",
          "mapbox": {
           "style": "light"
          },
          "paper_bgcolor": "white",
          "plot_bgcolor": "#E5ECF6",
          "polar": {
           "angularaxis": {
            "gridcolor": "white",
            "linecolor": "white",
            "ticks": ""
           },
           "bgcolor": "#E5ECF6",
           "radialaxis": {
            "gridcolor": "white",
            "linecolor": "white",
            "ticks": ""
           }
          },
          "scene": {
           "xaxis": {
            "backgroundcolor": "#E5ECF6",
            "gridcolor": "white",
            "gridwidth": 2,
            "linecolor": "white",
            "showbackground": true,
            "ticks": "",
            "zerolinecolor": "white"
           },
           "yaxis": {
            "backgroundcolor": "#E5ECF6",
            "gridcolor": "white",
            "gridwidth": 2,
            "linecolor": "white",
            "showbackground": true,
            "ticks": "",
            "zerolinecolor": "white"
           },
           "zaxis": {
            "backgroundcolor": "#E5ECF6",
            "gridcolor": "white",
            "gridwidth": 2,
            "linecolor": "white",
            "showbackground": true,
            "ticks": "",
            "zerolinecolor": "white"
           }
          },
          "shapedefaults": {
           "line": {
            "color": "#2a3f5f"
           }
          },
          "ternary": {
           "aaxis": {
            "gridcolor": "white",
            "linecolor": "white",
            "ticks": ""
           },
           "baxis": {
            "gridcolor": "white",
            "linecolor": "white",
            "ticks": ""
           },
           "bgcolor": "#E5ECF6",
           "caxis": {
            "gridcolor": "white",
            "linecolor": "white",
            "ticks": ""
           }
          },
          "title": {
           "x": 0.05
          },
          "xaxis": {
           "automargin": true,
           "gridcolor": "white",
           "linecolor": "white",
           "ticks": "",
           "title": {
            "standoff": 15
           },
           "zerolinecolor": "white",
           "zerolinewidth": 2
          },
          "yaxis": {
           "automargin": true,
           "gridcolor": "white",
           "linecolor": "white",
           "ticks": "",
           "title": {
            "standoff": 15
           },
           "zerolinecolor": "white",
           "zerolinewidth": 2
          }
         }
        },
        "xaxis": {
         "anchor": "y",
         "domain": [
          0,
          0.45
         ]
        },
        "xaxis2": {
         "anchor": "y2",
         "domain": [
          0.55,
          1
         ]
        },
        "xaxis3": {
         "anchor": "y3",
         "domain": [
          0,
          1
         ]
        },
        "yaxis": {
         "anchor": "x",
         "domain": [
          0.625,
          1
         ]
        },
        "yaxis2": {
         "anchor": "x2",
         "domain": [
          0.625,
          1
         ]
        },
        "yaxis3": {
         "anchor": "x3",
         "domain": [
          0,
          0.375
         ]
        }
       }
      },
      "text/html": [
       "<div>                            <div id=\"ea91165d-18c2-40c8-9c22-f1e01e4863aa\" class=\"plotly-graph-div\" style=\"height:525px; width:100%;\"></div>            <script type=\"text/javascript\">                require([\"plotly\"], function(Plotly) {                    window.PLOTLYENV=window.PLOTLYENV || {};                                    if (document.getElementById(\"ea91165d-18c2-40c8-9c22-f1e01e4863aa\")) {                    Plotly.newPlot(                        \"ea91165d-18c2-40c8-9c22-f1e01e4863aa\",                        [{\"line\": {\"color\": \"rgb(22, 96, 167)\", \"width\": 2}, \"name\": \"Roc : 0.8306474208235353\", \"type\": \"scatter\", \"x\": [0.0, 0.003952569169960474, 0.008893280632411068, 0.014822134387351778, 0.015810276679841896, 0.018774703557312252, 0.020750988142292492, 0.021739130434782608, 0.024703557312252964, 0.02865612648221344, 0.029644268774703556, 0.03359683794466403, 0.03359683794466403, 0.03557312252964427, 0.03557312252964427, 0.037549407114624504, 0.038537549407114624, 0.039525691699604744, 0.041501976284584984, 0.045454545454545456, 0.046442687747035576, 0.046442687747035576, 0.04743083003952569, 0.05039525691699605, 0.05138339920948617, 0.05237154150197629, 0.05434782608695652, 0.05533596837944664, 0.05533596837944664, 0.05731225296442688, 0.06126482213438735, 0.06324110671936758, 0.06521739130434782, 0.06620553359683795, 0.06818181818181818, 0.0691699604743083, 0.07213438735177866, 0.0741106719367589, 0.07707509881422925, 0.07905138339920949, 0.08102766798418973, 0.08201581027667984, 0.08201581027667984, 0.08596837944664032, 0.08596837944664032, 0.08794466403162056, 0.08893280632411067, 0.08992094861660078, 0.09090909090909091, 0.09090909090909091, 0.09288537549407115, 0.09387351778656126, 0.09486166007905138, 0.0958498023715415, 0.09782608695652174, 0.09881422924901186, 0.09881422924901186, 0.09980237154150198, 0.1007905138339921, 0.10276679841897234, 0.10375494071146245, 0.10573122529644269, 0.1067193675889328, 0.1067193675889328, 0.10968379446640317, 0.11067193675889328, 0.11067193675889328, 0.11264822134387352, 0.11264822134387352, 0.11462450592885376, 0.11857707509881422, 0.11857707509881422, 0.12154150197628459, 0.1225296442687747, 0.1225296442687747, 0.12450592885375494, 0.12648221343873517, 0.12944664031620554, 0.13043478260869565, 0.13043478260869565, 0.1324110671936759, 0.13339920948616601, 0.13537549407114624, 0.13636363636363635, 0.1373517786561265, 0.1373517786561265, 0.1373517786561265, 0.13932806324110672, 0.14031620553359683, 0.14130434782608695, 0.14525691699604742, 0.14723320158102768, 0.15118577075098813, 0.1590909090909091, 0.16106719367588934, 0.16205533596837945, 0.16205533596837945, 0.16403162055335968, 0.1650197628458498, 0.1650197628458498, 0.16699604743083005, 0.16798418972332016, 0.17094861660079053, 0.17094861660079053, 0.17391304347826086, 0.17588932806324112, 0.17984189723320157, 0.18379446640316205, 0.18478260869565216, 0.18478260869565216, 0.18774703557312253, 0.18774703557312253, 0.1907114624505929, 0.19268774703557312, 0.19466403162055335, 0.1966403162055336, 0.1976284584980237, 0.19861660079051383, 0.20059288537549408, 0.2015810276679842, 0.20355731225296442, 0.2075098814229249, 0.21047430830039526, 0.21047430830039526, 0.2134387351778656, 0.21442687747035574, 0.2183794466403162, 0.21936758893280633, 0.22035573122529645, 0.22233201581027667, 0.22430830039525693, 0.22430830039525693, 0.22628458498023715, 0.22924901185770752, 0.23023715415019763, 0.23221343873517786, 0.233201581027668, 0.233201581027668, 0.23616600790513834, 0.24011857707509882, 0.24209486166007904, 0.26976284584980237, 0.2756916996047431, 0.2766798418972332, 0.27865612648221344, 0.2855731225296443, 0.2865612648221344, 0.2875494071146245, 0.2875494071146245, 0.2984189723320158, 0.2994071146245059, 0.2994071146245059, 0.30039525691699603, 0.30237154150197626, 0.3102766798418972, 0.3132411067193676, 0.3142292490118577, 0.3201581027667984, 0.3201581027667984, 0.3221343873517787, 0.32806324110671936, 0.32806324110671936, 0.33893280632411066, 0.33992094861660077, 0.3468379446640316, 0.34782608695652173, 0.35276679841897235, 0.3547430830039526, 0.3567193675889328, 0.3606719367588933, 0.36462450592885376, 0.36561264822134387, 0.3685770750988142, 0.3715415019762846, 0.37450592885375494, 0.37648221343873517, 0.3774703557312253, 0.3784584980237154, 0.3814229249011858, 0.3824110671936759, 0.3824110671936759, 0.38438735177865613, 0.38537549407114624, 0.391304347826087, 0.3942687747035573, 0.3952569169960474, 0.39624505928853754, 0.39822134387351776, 0.40019762845849804, 0.4031620553359684, 0.4041501976284585, 0.40810276679841895, 0.40810276679841895, 0.4090909090909091, 0.41205533596837945, 0.41205533596837945, 0.4160079051383399, 0.41798418972332013, 0.4199604743083004, 0.42193675889328064, 0.42193675889328064, 0.42391304347826086, 0.4298418972332016, 0.4298418972332016, 0.4318181818181818, 0.43280632411067194, 0.4367588932806324, 0.43873517786561267, 0.43873517786561267, 0.4397233201581028, 0.4407114624505929, 0.4407114624505929, 0.4426877470355731, 0.4426877470355731, 0.44367588932806323, 0.44367588932806323, 0.44466403162055335, 0.44664031620553357, 0.44762845849802374, 0.44762845849802374, 0.4505928853754941, 0.4525691699604743, 0.4535573122529644, 0.45454545454545453, 0.45454545454545453, 0.4614624505928854, 0.4614624505928854, 0.4624505928853755, 0.4634387351778656, 0.466403162055336, 0.4683794466403162, 0.46936758893280633, 0.46936758893280633, 0.47134387351778656, 0.4723320158102767, 0.475296442687747, 0.475296442687747, 0.4772727272727273, 0.4772727272727273, 0.4792490118577075, 0.48320158102766797, 0.48616600790513836, 0.4881422924901186, 0.4891304347826087, 0.49308300395256915, 0.49308300395256915, 0.49604743083003955, 0.4980237154150198, 0.4990118577075099, 0.5, 0.5019762845849802, 0.5029644268774703, 0.5049407114624506, 0.5059288537549407, 0.508893280632411, 0.5128458498023716, 0.5138339920948617, 0.5158102766798419, 0.5158102766798419, 0.516798418972332, 0.5187747035573123, 0.5266798418972332, 0.5316205533596838, 0.5355731225296443, 0.5375494071146245, 0.5395256916996047, 0.5405138339920948, 0.5405138339920948, 0.541501976284585, 0.5424901185770751, 0.5444664031620553, 0.5464426877470355, 0.5484189723320159, 0.5503952569169961, 0.5513833992094862, 0.5553359683794467, 0.5563241106719368, 0.5573122529644269, 0.5612648221343873, 0.5622529644268774, 0.5652173913043478, 0.5652173913043478, 0.5681818181818182, 0.5691699604743083, 0.5721343873517787, 0.5731225296442688, 0.5800395256916996, 0.58399209486166, 0.5849802371541502, 0.5879446640316206, 0.5909090909090909, 0.5928853754940712, 0.5968379446640316, 0.6037549407114624, 0.6057312252964426, 0.6116600790513834, 0.6146245059288538, 0.6225296442687747, 0.6235177865612648, 0.6264822134387352, 0.6284584980237155, 0.6294466403162056, 0.6324110671936759, 0.633399209486166, 0.6353754940711462, 0.642292490118577, 0.6462450592885376, 0.6492094861660079, 0.6511857707509882, 0.6531620553359684, 0.658102766798419, 0.6640316205533597, 0.6640316205533597, 0.6679841897233202, 0.6699604743083004, 0.6719367588932806, 0.674901185770751, 0.6788537549407114, 0.6798418972332015, 0.6818181818181818, 0.682806324110672, 0.6847826086956522, 0.6857707509881423, 0.6887351778656127, 0.6926877470355731, 0.6946640316205533, 0.6986166007905138, 0.6996047430830039, 0.7025691699604744, 0.7045454545454546, 0.708498023715415, 0.7094861660079052, 0.7114624505928854, 0.7144268774703557, 0.7154150197628458, 0.7233201581027668, 0.7262845849802372, 0.7302371541501976, 0.7322134387351779, 0.733201581027668, 0.7361660079051383, 0.7381422924901185, 0.7430830039525692, 0.7440711462450593, 0.7470355731225297, 0.7687747035573123, 0.7707509881422925, 0.7717391304347826, 0.7737154150197628, 0.7766798418972332, 0.7776679841897233, 0.7796442687747036, 0.7875494071146245, 0.7895256916996047, 0.7944664031620553, 0.7974308300395256, 0.799407114624506, 0.8033596837944664, 0.8033596837944664, 0.8053359683794467, 0.8073122529644269, 0.8102766798418972, 0.8162055335968379, 0.817193675889328, 0.8201581027667985, 0.8211462450592886, 0.8231225296442688, 0.8241106719367589, 0.8290513833992095, 0.8320158102766798, 0.8349802371541502, 0.8399209486166008, 0.8458498023715415, 0.8468379446640316, 0.8507905138339921, 0.8527667984189723, 0.8586956521739131, 0.8596837944664032, 0.8646245059288538, 0.8675889328063241, 0.8685770750988142, 0.8705533596837944, 0.8715415019762845, 0.8735177865612648, 0.8784584980237155, 0.8824110671936759, 0.8903162055335968, 0.8913043478260869, 0.8942687747035574, 0.900197628458498, 0.908102766798419, 0.9169960474308301, 0.9189723320158103, 0.9268774703557312, 0.9337944664031621, 0.9426877470355731, 0.9446640316205533, 0.9664031620553359, 0.9683794466403162, 1.0], \"xaxis\": \"x2\", \"y\": [0.0, 0.07088607594936709, 0.1189873417721519, 0.1468354430379747, 0.1620253164556962, 0.17468354430379746, 0.189873417721519, 0.20759493670886076, 0.22531645569620254, 0.2430379746835443, 0.2607594936708861, 0.26582278481012656, 0.2708860759493671, 0.27341772151898736, 0.2810126582278481, 0.28607594936708863, 0.28607594936708863, 0.2911392405063291, 0.30632911392405066, 0.31139240506329113, 0.3189873417721519, 0.32151898734177214, 0.3341772151898734, 0.3367088607594937, 0.3367088607594937, 0.3392405063291139, 0.34177215189873417, 0.34430379746835443, 0.3468354430379747, 0.3493670886075949, 0.35443037974683544, 0.3569620253164557, 0.3620253164556962, 0.369620253164557, 0.369620253164557, 0.379746835443038, 0.3822784810126582, 0.3848101265822785, 0.3949367088607595, 0.4, 0.4, 0.40253164556962023, 0.4050632911392405, 0.4050632911392405, 0.41012658227848103, 0.4151898734177215, 0.4151898734177215, 0.42025316455696204, 0.42025316455696204, 0.42278481012658226, 0.42278481012658226, 0.4253164556962025, 0.4253164556962025, 0.44556962025316454, 0.45569620253164556, 0.46835443037974683, 0.4835443037974684, 0.4860759493670886, 0.4911392405063291, 0.4936708860759494, 0.5012658227848101, 0.5037974683544304, 0.5088607594936709, 0.5139240506329114, 0.5189873417721519, 0.5215189873417722, 0.5316455696202531, 0.5367088607594936, 0.5392405063291139, 0.5392405063291139, 0.5417721518987342, 0.549367088607595, 0.5518987341772152, 0.5544303797468354, 0.5569620253164557, 0.5620253164556962, 0.5620253164556962, 0.5620253164556962, 0.5645569620253165, 0.5670886075949367, 0.569620253164557, 0.5721518987341773, 0.5721518987341773, 0.5772151898734177, 0.5772151898734177, 0.5822784810126582, 0.5848101265822785, 0.589873417721519, 0.589873417721519, 0.5924050632911393, 0.5949367088607594, 0.5949367088607594, 0.5949367088607594, 0.6278481012658228, 0.6354430379746835, 0.640506329113924, 0.6430379746835443, 0.6531645569620254, 0.6531645569620254, 0.6582278481012658, 0.6582278481012658, 0.6582278481012658, 0.660759493670886, 0.6632911392405063, 0.6683544303797468, 0.6683544303797468, 0.6708860759493671, 0.6759493670886076, 0.6759493670886076, 0.6784810126582278, 0.6784810126582278, 0.6810126582278481, 0.6810126582278481, 0.6810126582278481, 0.6835443037974683, 0.6835443037974683, 0.6911392405063291, 0.6911392405063291, 0.6936708860759494, 0.6962025316455697, 0.6962025316455697, 0.7012658227848101, 0.7012658227848101, 0.7037974683544304, 0.7037974683544304, 0.7088607594936709, 0.7088607594936709, 0.7088607594936709, 0.7139240506329114, 0.7189873417721518, 0.7189873417721518, 0.7215189873417721, 0.7215189873417721, 0.7215189873417721, 0.7215189873417721, 0.7215189873417721, 0.7240506329113924, 0.7265822784810126, 0.7265822784810126, 0.7265822784810126, 0.7265822784810126, 0.7822784810126582, 0.789873417721519, 0.789873417721519, 0.789873417721519, 0.7924050632911392, 0.7949367088607595, 0.7949367088607595, 0.7974683544303798, 0.810126582278481, 0.810126582278481, 0.8126582278481013, 0.8126582278481013, 0.8126582278481013, 0.8177215189873418, 0.8177215189873418, 0.8177215189873418, 0.8227848101265823, 0.8253164556962025, 0.8253164556962025, 0.830379746835443, 0.8354430379746836, 0.8379746835443038, 0.8379746835443038, 0.8430379746835444, 0.8430379746835444, 0.8430379746835444, 0.8430379746835444, 0.8430379746835444, 0.8430379746835444, 0.8455696202531645, 0.8481012658227848, 0.850632911392405, 0.850632911392405, 0.850632911392405, 0.850632911392405, 0.8556962025316456, 0.8556962025316456, 0.8556962025316456, 0.8556962025316456, 0.8607594936708861, 0.8632911392405064, 0.8632911392405064, 0.8632911392405064, 0.8632911392405064, 0.8658227848101265, 0.8658227848101265, 0.8683544303797468, 0.8683544303797468, 0.8683544303797468, 0.8683544303797468, 0.8708860759493671, 0.8734177215189873, 0.8734177215189873, 0.8784810126582279, 0.8810126582278481, 0.8810126582278481, 0.8810126582278481, 0.8835443037974684, 0.8835443037974684, 0.8860759493670886, 0.8886075949367088, 0.8886075949367088, 0.8911392405063291, 0.8911392405063291, 0.8936708860759494, 0.8936708860759494, 0.8936708860759494, 0.8962025316455696, 0.8987341772151899, 0.8987341772151899, 0.9012658227848102, 0.9012658227848102, 0.9037974683544304, 0.9037974683544304, 0.9063291139240506, 0.9063291139240506, 0.9063291139240506, 0.9063291139240506, 0.9088607594936708, 0.9088607594936708, 0.9113924050632911, 0.9139240506329114, 0.9139240506329114, 0.9164556962025316, 0.9164556962025316, 0.9189873417721519, 0.9189873417721519, 0.9240506329113924, 0.9240506329113924, 0.9240506329113924, 0.9240506329113924, 0.9265822784810127, 0.9265822784810127, 0.9291139240506329, 0.9316455696202531, 0.9341772151898734, 0.9341772151898734, 0.9367088607594937, 0.9367088607594937, 0.9367088607594937, 0.9367088607594937, 0.9367088607594937, 0.9367088607594937, 0.9367088607594937, 0.9392405063291139, 0.9392405063291139, 0.9392405063291139, 0.9392405063291139, 0.9417721518987342, 0.9417721518987342, 0.9417721518987342, 0.9443037974683545, 0.9443037974683545, 0.9468354430379747, 0.9468354430379747, 0.9468354430379747, 0.9468354430379747, 0.9518987341772152, 0.9518987341772152, 0.9518987341772152, 0.9518987341772152, 0.9544303797468354, 0.9544303797468354, 0.9544303797468354, 0.9544303797468354, 0.9544303797468354, 0.9569620253164557, 0.9569620253164557, 0.959493670886076, 0.959493670886076, 0.959493670886076, 0.959493670886076, 0.959493670886076, 0.959493670886076, 0.959493670886076, 0.959493670886076, 0.9620253164556962, 0.9620253164556962, 0.9620253164556962, 0.9620253164556962, 0.9645569620253165, 0.9645569620253165, 0.9645569620253165, 0.9645569620253165, 0.9645569620253165, 0.9645569620253165, 0.9645569620253165, 0.9645569620253165, 0.9645569620253165, 0.9645569620253165, 0.9645569620253165, 0.9670886075949368, 0.9670886075949368, 0.9670886075949368, 0.9670886075949368, 0.9670886075949368, 0.9670886075949368, 0.9670886075949368, 0.9670886075949368, 0.9670886075949368, 0.9670886075949368, 0.9670886075949368, 0.9670886075949368, 0.9670886075949368, 0.9670886075949368, 0.9670886075949368, 0.9670886075949368, 0.9696202531645569, 0.9696202531645569, 0.9696202531645569, 0.9696202531645569, 0.9721518987341772, 0.9721518987341772, 0.9721518987341772, 0.9746835443037974, 0.9746835443037974, 0.9746835443037974, 0.9746835443037974, 0.9746835443037974, 0.9746835443037974, 0.9746835443037974, 0.9746835443037974, 0.9746835443037974, 0.9746835443037974, 0.9746835443037974, 0.9746835443037974, 0.9772151898734177, 0.9772151898734177, 0.9772151898734177, 0.9772151898734177, 0.9772151898734177, 0.9772151898734177, 0.9772151898734177, 0.9772151898734177, 0.9772151898734177, 0.9772151898734177, 0.9772151898734177, 0.9772151898734177, 0.9772151898734177, 0.979746835443038, 0.979746835443038, 0.9848101265822785, 0.9848101265822785, 0.9873417721518988, 0.9873417721518988, 0.9873417721518988, 0.9873417721518988, 0.9873417721518988, 0.9873417721518988, 0.9873417721518988, 0.9873417721518988, 0.9873417721518988, 0.9873417721518988, 0.9873417721518988, 0.9873417721518988, 0.9873417721518988, 0.9873417721518988, 0.9898734177215189, 0.9898734177215189, 0.9898734177215189, 0.9898734177215189, 0.9898734177215189, 0.9898734177215189, 0.9898734177215189, 0.9898734177215189, 0.9898734177215189, 0.9898734177215189, 0.9898734177215189, 0.9898734177215189, 0.9898734177215189, 0.9898734177215189, 0.9898734177215189, 0.9898734177215189, 0.9898734177215189, 0.9898734177215189, 0.9898734177215189, 0.9924050632911392, 0.9924050632911392, 0.9924050632911392, 0.9924050632911392, 0.9924050632911392, 0.9949367088607595, 0.9949367088607595, 0.9949367088607595, 0.9949367088607595, 0.9949367088607595, 0.9949367088607595, 0.9974683544303797, 0.9974683544303797, 1.0, 1.0, 1.0, 1.0, 1.0, 1.0, 1.0, 1.0, 1.0, 1.0], \"yaxis\": \"y2\"}, {\"line\": {\"color\": \"rgb(205, 12, 24)\", \"dash\": \"dot\", \"width\": 2}, \"type\": \"scatter\", \"x\": [0, 1], \"xaxis\": \"x2\", \"y\": [0, 1], \"yaxis\": \"y2\"}],                        {\"annotations\": [{\"font\": {\"size\": 16}, \"showarrow\": false, \"text\": \"ROC\", \"x\": 0.775, \"xanchor\": \"center\", \"xref\": \"paper\", \"y\": 1.0, \"yanchor\": \"bottom\", \"yref\": \"paper\"}], \"template\": {\"data\": {\"bar\": [{\"error_x\": {\"color\": \"#2a3f5f\"}, \"error_y\": {\"color\": \"#2a3f5f\"}, \"marker\": {\"line\": {\"color\": \"#E5ECF6\", \"width\": 0.5}}, \"type\": \"bar\"}], \"barpolar\": [{\"marker\": {\"line\": {\"color\": \"#E5ECF6\", \"width\": 0.5}}, \"type\": \"barpolar\"}], \"carpet\": [{\"aaxis\": {\"endlinecolor\": \"#2a3f5f\", \"gridcolor\": \"white\", \"linecolor\": \"white\", \"minorgridcolor\": \"white\", \"startlinecolor\": \"#2a3f5f\"}, \"baxis\": {\"endlinecolor\": \"#2a3f5f\", \"gridcolor\": \"white\", \"linecolor\": \"white\", \"minorgridcolor\": \"white\", \"startlinecolor\": \"#2a3f5f\"}, \"type\": \"carpet\"}], \"choropleth\": [{\"colorbar\": {\"outlinewidth\": 0, \"ticks\": \"\"}, \"type\": \"choropleth\"}], \"contour\": [{\"colorbar\": {\"outlinewidth\": 0, \"ticks\": \"\"}, \"colorscale\": [[0.0, \"#0d0887\"], [0.1111111111111111, \"#46039f\"], [0.2222222222222222, \"#7201a8\"], [0.3333333333333333, \"#9c179e\"], [0.4444444444444444, \"#bd3786\"], [0.5555555555555556, \"#d8576b\"], [0.6666666666666666, \"#ed7953\"], [0.7777777777777778, \"#fb9f3a\"], [0.8888888888888888, \"#fdca26\"], [1.0, \"#f0f921\"]], \"type\": \"contour\"}], \"contourcarpet\": [{\"colorbar\": {\"outlinewidth\": 0, \"ticks\": \"\"}, \"type\": \"contourcarpet\"}], \"heatmap\": [{\"colorbar\": {\"outlinewidth\": 0, \"ticks\": \"\"}, \"colorscale\": [[0.0, \"#0d0887\"], [0.1111111111111111, \"#46039f\"], [0.2222222222222222, \"#7201a8\"], [0.3333333333333333, \"#9c179e\"], [0.4444444444444444, \"#bd3786\"], [0.5555555555555556, \"#d8576b\"], [0.6666666666666666, \"#ed7953\"], [0.7777777777777778, \"#fb9f3a\"], [0.8888888888888888, \"#fdca26\"], [1.0, \"#f0f921\"]], \"type\": \"heatmap\"}], \"heatmapgl\": [{\"colorbar\": {\"outlinewidth\": 0, \"ticks\": \"\"}, \"colorscale\": [[0.0, \"#0d0887\"], [0.1111111111111111, \"#46039f\"], [0.2222222222222222, \"#7201a8\"], [0.3333333333333333, \"#9c179e\"], [0.4444444444444444, \"#bd3786\"], [0.5555555555555556, \"#d8576b\"], [0.6666666666666666, \"#ed7953\"], [0.7777777777777778, \"#fb9f3a\"], [0.8888888888888888, \"#fdca26\"], [1.0, \"#f0f921\"]], \"type\": \"heatmapgl\"}], \"histogram\": [{\"marker\": {\"colorbar\": {\"outlinewidth\": 0, \"ticks\": \"\"}}, \"type\": \"histogram\"}], \"histogram2d\": [{\"colorbar\": {\"outlinewidth\": 0, \"ticks\": \"\"}, \"colorscale\": [[0.0, \"#0d0887\"], [0.1111111111111111, \"#46039f\"], [0.2222222222222222, \"#7201a8\"], [0.3333333333333333, \"#9c179e\"], [0.4444444444444444, \"#bd3786\"], [0.5555555555555556, \"#d8576b\"], [0.6666666666666666, \"#ed7953\"], [0.7777777777777778, \"#fb9f3a\"], [0.8888888888888888, \"#fdca26\"], [1.0, \"#f0f921\"]], \"type\": \"histogram2d\"}], \"histogram2dcontour\": [{\"colorbar\": {\"outlinewidth\": 0, \"ticks\": \"\"}, \"colorscale\": [[0.0, \"#0d0887\"], [0.1111111111111111, \"#46039f\"], [0.2222222222222222, \"#7201a8\"], [0.3333333333333333, \"#9c179e\"], [0.4444444444444444, \"#bd3786\"], [0.5555555555555556, \"#d8576b\"], [0.6666666666666666, \"#ed7953\"], [0.7777777777777778, \"#fb9f3a\"], [0.8888888888888888, \"#fdca26\"], [1.0, \"#f0f921\"]], \"type\": \"histogram2dcontour\"}], \"mesh3d\": [{\"colorbar\": {\"outlinewidth\": 0, \"ticks\": \"\"}, \"type\": \"mesh3d\"}], \"parcoords\": [{\"line\": {\"colorbar\": {\"outlinewidth\": 0, \"ticks\": \"\"}}, \"type\": \"parcoords\"}], \"pie\": [{\"automargin\": true, \"type\": \"pie\"}], \"scatter\": [{\"marker\": {\"colorbar\": {\"outlinewidth\": 0, \"ticks\": \"\"}}, \"type\": \"scatter\"}], \"scatter3d\": [{\"line\": {\"colorbar\": {\"outlinewidth\": 0, \"ticks\": \"\"}}, \"marker\": {\"colorbar\": {\"outlinewidth\": 0, \"ticks\": \"\"}}, \"type\": \"scatter3d\"}], \"scattercarpet\": [{\"marker\": {\"colorbar\": {\"outlinewidth\": 0, \"ticks\": \"\"}}, \"type\": \"scattercarpet\"}], \"scattergeo\": [{\"marker\": {\"colorbar\": {\"outlinewidth\": 0, \"ticks\": \"\"}}, \"type\": \"scattergeo\"}], \"scattergl\": [{\"marker\": {\"colorbar\": {\"outlinewidth\": 0, \"ticks\": \"\"}}, \"type\": \"scattergl\"}], \"scattermapbox\": [{\"marker\": {\"colorbar\": {\"outlinewidth\": 0, \"ticks\": \"\"}}, \"type\": \"scattermapbox\"}], \"scatterpolar\": [{\"marker\": {\"colorbar\": {\"outlinewidth\": 0, \"ticks\": \"\"}}, \"type\": \"scatterpolar\"}], \"scatterpolargl\": [{\"marker\": {\"colorbar\": {\"outlinewidth\": 0, \"ticks\": \"\"}}, \"type\": \"scatterpolargl\"}], \"scatterternary\": [{\"marker\": {\"colorbar\": {\"outlinewidth\": 0, \"ticks\": \"\"}}, \"type\": \"scatterternary\"}], \"surface\": [{\"colorbar\": {\"outlinewidth\": 0, \"ticks\": \"\"}, \"colorscale\": [[0.0, \"#0d0887\"], [0.1111111111111111, \"#46039f\"], [0.2222222222222222, \"#7201a8\"], [0.3333333333333333, \"#9c179e\"], [0.4444444444444444, \"#bd3786\"], [0.5555555555555556, \"#d8576b\"], [0.6666666666666666, \"#ed7953\"], [0.7777777777777778, \"#fb9f3a\"], [0.8888888888888888, \"#fdca26\"], [1.0, \"#f0f921\"]], \"type\": \"surface\"}], \"table\": [{\"cells\": {\"fill\": {\"color\": \"#EBF0F8\"}, \"line\": {\"color\": \"white\"}}, \"header\": {\"fill\": {\"color\": \"#C8D4E3\"}, \"line\": {\"color\": \"white\"}}, \"type\": \"table\"}]}, \"layout\": {\"annotationdefaults\": {\"arrowcolor\": \"#2a3f5f\", \"arrowhead\": 0, \"arrowwidth\": 1}, \"coloraxis\": {\"colorbar\": {\"outlinewidth\": 0, \"ticks\": \"\"}}, \"colorscale\": {\"diverging\": [[0, \"#8e0152\"], [0.1, \"#c51b7d\"], [0.2, \"#de77ae\"], [0.3, \"#f1b6da\"], [0.4, \"#fde0ef\"], [0.5, \"#f7f7f7\"], [0.6, \"#e6f5d0\"], [0.7, \"#b8e186\"], [0.8, \"#7fbc41\"], [0.9, \"#4d9221\"], [1, \"#276419\"]], \"sequential\": [[0.0, \"#0d0887\"], [0.1111111111111111, \"#46039f\"], [0.2222222222222222, \"#7201a8\"], [0.3333333333333333, \"#9c179e\"], [0.4444444444444444, \"#bd3786\"], [0.5555555555555556, \"#d8576b\"], [0.6666666666666666, \"#ed7953\"], [0.7777777777777778, \"#fb9f3a\"], [0.8888888888888888, \"#fdca26\"], [1.0, \"#f0f921\"]], \"sequentialminus\": [[0.0, \"#0d0887\"], [0.1111111111111111, \"#46039f\"], [0.2222222222222222, \"#7201a8\"], [0.3333333333333333, \"#9c179e\"], [0.4444444444444444, \"#bd3786\"], [0.5555555555555556, \"#d8576b\"], [0.6666666666666666, \"#ed7953\"], [0.7777777777777778, \"#fb9f3a\"], [0.8888888888888888, \"#fdca26\"], [1.0, \"#f0f921\"]]}, \"colorway\": [\"#636efa\", \"#EF553B\", \"#00cc96\", \"#ab63fa\", \"#FFA15A\", \"#19d3f3\", \"#FF6692\", \"#B6E880\", \"#FF97FF\", \"#FECB52\"], \"font\": {\"color\": \"#2a3f5f\"}, \"geo\": {\"bgcolor\": \"white\", \"lakecolor\": \"white\", \"landcolor\": \"#E5ECF6\", \"showlakes\": true, \"showland\": true, \"subunitcolor\": \"white\"}, \"hoverlabel\": {\"align\": \"left\"}, \"hovermode\": \"closest\", \"mapbox\": {\"style\": \"light\"}, \"paper_bgcolor\": \"white\", \"plot_bgcolor\": \"#E5ECF6\", \"polar\": {\"angularaxis\": {\"gridcolor\": \"white\", \"linecolor\": \"white\", \"ticks\": \"\"}, \"bgcolor\": \"#E5ECF6\", \"radialaxis\": {\"gridcolor\": \"white\", \"linecolor\": \"white\", \"ticks\": \"\"}}, \"scene\": {\"xaxis\": {\"backgroundcolor\": \"#E5ECF6\", \"gridcolor\": \"white\", \"gridwidth\": 2, \"linecolor\": \"white\", \"showbackground\": true, \"ticks\": \"\", \"zerolinecolor\": \"white\"}, \"yaxis\": {\"backgroundcolor\": \"#E5ECF6\", \"gridcolor\": \"white\", \"gridwidth\": 2, \"linecolor\": \"white\", \"showbackground\": true, \"ticks\": \"\", \"zerolinecolor\": \"white\"}, \"zaxis\": {\"backgroundcolor\": \"#E5ECF6\", \"gridcolor\": \"white\", \"gridwidth\": 2, \"linecolor\": \"white\", \"showbackground\": true, \"ticks\": \"\", \"zerolinecolor\": \"white\"}}, \"shapedefaults\": {\"line\": {\"color\": \"#2a3f5f\"}}, \"ternary\": {\"aaxis\": {\"gridcolor\": \"white\", \"linecolor\": \"white\", \"ticks\": \"\"}, \"baxis\": {\"gridcolor\": \"white\", \"linecolor\": \"white\", \"ticks\": \"\"}, \"bgcolor\": \"#E5ECF6\", \"caxis\": {\"gridcolor\": \"white\", \"linecolor\": \"white\", \"ticks\": \"\"}}, \"title\": {\"x\": 0.05}, \"xaxis\": {\"automargin\": true, \"gridcolor\": \"white\", \"linecolor\": \"white\", \"ticks\": \"\", \"title\": {\"standoff\": 15}, \"zerolinecolor\": \"white\", \"zerolinewidth\": 2}, \"yaxis\": {\"automargin\": true, \"gridcolor\": \"white\", \"linecolor\": \"white\", \"ticks\": \"\", \"title\": {\"standoff\": 15}, \"zerolinecolor\": \"white\", \"zerolinewidth\": 2}}}, \"xaxis\": {\"anchor\": \"y\", \"domain\": [0.0, 0.45]}, \"xaxis2\": {\"anchor\": \"y2\", \"domain\": [0.55, 1.0]}, \"xaxis3\": {\"anchor\": \"y3\", \"domain\": [0.0, 1.0]}, \"yaxis\": {\"anchor\": \"x\", \"domain\": [0.625, 1.0]}, \"yaxis2\": {\"anchor\": \"x2\", \"domain\": [0.625, 1.0]}, \"yaxis3\": {\"anchor\": \"x3\", \"domain\": [0.0, 0.375]}},                        {\"responsive\": true}                    ).then(function(){\n",
       "                            \n",
       "var gd = document.getElementById('ea91165d-18c2-40c8-9c22-f1e01e4863aa');\n",
       "var x = new MutationObserver(function (mutations, observer) {{\n",
       "        var display = window.getComputedStyle(gd).display;\n",
       "        if (!display || display === 'none') {{\n",
       "            console.log([gd, 'removed!']);\n",
       "            Plotly.purge(gd);\n",
       "            observer.disconnect();\n",
       "        }}\n",
       "}});\n",
       "\n",
       "// Listen for the removal of the full notebook cells\n",
       "var notebookContainer = gd.closest('#notebook-container');\n",
       "if (notebookContainer) {{\n",
       "    x.observe(notebookContainer, {childList: true});\n",
       "}}\n",
       "\n",
       "// Listen for the clearing of the current output cell\n",
       "var outputEl = gd.closest('.output');\n",
       "if (outputEl) {{\n",
       "    x.observe(outputEl, {childList: true});\n",
       "}}\n",
       "\n",
       "                        })                };                });            </script>        </div>"
      ]
     },
     "metadata": {},
     "output_type": "display_data"
    }
   ],
   "source": [
    "import plotly.tools as tls\n",
    "import plotly as py\n",
    "\n",
    "fig = tls.make_subplots(rows=2, cols=2, specs=[[{}, {}], [{'colspan': 2}, None]],\n",
    "                            subplot_titles=('',\n",
    "                                            'ROC',\n",
    "                                            ''))\n",
    "\n",
    "fig.append_trace(trace2,1,2)\n",
    "fig.append_trace(trace3,1,2)\n",
    "\n",
    "py.offline.iplot(fig)\n"
   ]
  },
  {
   "cell_type": "code",
   "execution_count": 128,
   "metadata": {},
   "outputs": [
    {
     "data": {
      "text/plain": [
       "0.7725657427149965"
      ]
     },
     "execution_count": 128,
     "metadata": {},
     "output_type": "execute_result"
    }
   ],
   "source": [
    "acc_sequential = accuracy_score(y_test, predictions.round())\n",
    "\n",
    "acc_sequential"
   ]
  },
  {
   "cell_type": "code",
   "execution_count": 129,
   "metadata": {},
   "outputs": [
    {
     "data": {
      "image/png": "[encoded data removed]",
      "text/plain": [
       "<Figure size 432x288 with 2 Axes>"
      ]
     },
     "metadata": {
      "needs_background": "light"
     },
     "output_type": "display_data"
    }
   ],
   "source": [
    "pl = confusion_matrix(y_test,predictions.round())\n",
    "\n",
    "labels = ['Churn', 'Remain']\n",
    "\n",
    "\n",
    "fig = plt.figure()\n",
    "ax = fig.add_subplot(111)\n",
    "cax = ax.matshow(pl)\n",
    "plt.title('Confusion matrix of the classifier')\n",
    "fig.colorbar(cax)\n",
    "ax.set_xticklabels([''] + labels)\n",
    "ax.set_yticklabels([''] + labels)\n",
    "plt.xlabel('Predicted')\n",
    "plt.ylabel('True')\n",
    "plt.show()"
   ]
  },
  {
   "cell_type": "code",
   "execution_count": 130,
   "metadata": {},
   "outputs": [
    {
     "data": {
      "text/plain": [
       "array([[924,  88],\n",
       "       [232, 163]], dtype=int64)"
      ]
     },
     "execution_count": 130,
     "metadata": {},
     "output_type": "execute_result"
    }
   ],
   "source": [
    "pl"
   ]
  },
  {
   "cell_type": "code",
   "execution_count": 131,
   "metadata": {},
   "outputs": [
    {
     "data": {
      "text/plain": [
       "(0.08695652173913043, 0.9130434782608695)"
      ]
     },
     "execution_count": 131,
     "metadata": {},
     "output_type": "execute_result"
    }
   ],
   "source": [
    "fn,tp = pl[0][1], pl[0][0]\n",
    "fnr_seq = fn / (tp + fn)\n",
    "tpr_seq = tp / (tp + fn)\n",
    "fnr_seq, tpr_seq"
   ]
  },
  {
   "cell_type": "markdown",
   "metadata": {},
   "source": [
    "## Conclusions"
   ]
  },
  {
   "cell_type": "markdown",
   "metadata": {},
   "source": [
    "We have created 4 classification models and will compare the results. First, we look at the table of ROC-AUC scores and accuracy scores to see which are the best at predicting the churn of customers."
   ]
  },
  {
   "cell_type": "code",
   "execution_count": 132,
   "metadata": {},
   "outputs": [
    {
     "data": {
      "text/html": [
       "<div>\n",
       "<style scoped>\n",
       "    .dataframe tbody tr th:only-of-type {\n",
       "        vertical-align: middle;\n",
       "    }\n",
       "\n",
       "    .dataframe tbody tr th {\n",
       "        vertical-align: top;\n",
       "    }\n",
       "\n",
       "    .dataframe thead th {\n",
       "        text-align: right;\n",
       "    }\n",
       "</style>\n",
       "<table border=\"1\" class=\"dataframe\">\n",
       "  <thead>\n",
       "    <tr style=\"text-align: right;\">\n",
       "      <th></th>\n",
       "      <th>Model</th>\n",
       "      <th>ROC_AUC_Score</th>\n",
       "      <th>Accuracy_Score</th>\n",
       "      <th>False Negative Rate</th>\n",
       "      <th>True Positive Rate</th>\n",
       "    </tr>\n",
       "  </thead>\n",
       "  <tbody>\n",
       "    <tr>\n",
       "      <th>0</th>\n",
       "      <td>K Means</td>\n",
       "      <td>0.694280</td>\n",
       "      <td>0.788913</td>\n",
       "      <td>0.089921</td>\n",
       "      <td>0.910079</td>\n",
       "    </tr>\n",
       "    <tr>\n",
       "      <th>1</th>\n",
       "      <td>Ridge</td>\n",
       "      <td>0.689927</td>\n",
       "      <td>0.788202</td>\n",
       "      <td>0.085968</td>\n",
       "      <td>0.914032</td>\n",
       "    </tr>\n",
       "    <tr>\n",
       "      <th>2</th>\n",
       "      <td>SVC</td>\n",
       "      <td>0.699744</td>\n",
       "      <td>0.786780</td>\n",
       "      <td>0.101779</td>\n",
       "      <td>0.898221</td>\n",
       "    </tr>\n",
       "    <tr>\n",
       "      <th>3</th>\n",
       "      <td>Sequential NN</td>\n",
       "      <td>0.830647</td>\n",
       "      <td>0.772566</td>\n",
       "      <td>0.086957</td>\n",
       "      <td>0.913043</td>\n",
       "    </tr>\n",
       "  </tbody>\n",
       "</table>\n",
       "</div>"
      ],
      "text/plain": [
       "           Model  ROC_AUC_Score  Accuracy_Score  False Negative Rate  \\\n",
       "0        K Means       0.694280        0.788913             0.089921   \n",
       "1          Ridge       0.689927        0.788202             0.085968   \n",
       "2            SVC       0.699744        0.786780             0.101779   \n",
       "3  Sequential NN       0.830647        0.772566             0.086957   \n",
       "\n",
       "   True Positive Rate  \n",
       "0            0.910079  \n",
       "1            0.914032  \n",
       "2            0.898221  \n",
       "3            0.913043  "
      ]
     },
     "execution_count": 132,
     "metadata": {},
     "output_type": "execute_result"
    }
   ],
   "source": [
    "scores = pd.DataFrame([['K Means', auc_kmeans, acc_kmeans, fnr_kmeans, tpr_kmeans], \n",
    "                       ['Ridge', auc_ridge, acc_ridge, fnr_ridge, tpr_ridge],\n",
    "                       ['SVC', auc_svc, acc_svc, fnr_svc, tpr_svc],\n",
    "                       ['Sequential NN', seq_roc_auc, acc_sequential, fnr_seq, tpr_seq]],\n",
    "                      columns=['Model', 'ROC_AUC_Score', 'Accuracy_Score', 'False Negative Rate', 'True Positive Rate']\n",
    "            )\n",
    "scores"
   ]
  },
  {
   "cell_type": "markdown",
   "metadata": {},
   "source": [
    "We see in our table of scoring that the Sequential NN has the best ROC_AUC score, but is not necessarily the most accurate. Of the models that are not neural networks, it appears that the KMeans and SVC models work identically well, while the Ridge model is slightly less accurate and has a lower ROC_AUC_Score. We conclude that we should use the Sequential NN or the KMeans models for our final assessments."
   ]
  },
  {
   "cell_type": "code",
   "execution_count": 133,
   "metadata": {},
   "outputs": [
    {
     "data": {
      "text/plain": [
       "array([[-0.20184005,  0.20546116,  0.14302479,  0.01090988,  0.10947003]])"
      ]
     },
     "execution_count": 133,
     "metadata": {},
     "output_type": "execute_result"
    }
   ],
   "source": [
    "ridge.coef_"
   ]
  },
  {
   "cell_type": "code",
   "execution_count": 135,
   "metadata": {},
   "outputs": [
    {
     "data": {
      "text/plain": [
       "array([-0.4737177])"
      ]
     },
     "execution_count": 135,
     "metadata": {},
     "output_type": "execute_result"
    }
   ],
   "source": [
    "ridge.intercept_"
   ]
  },
  {
   "cell_type": "markdown",
   "metadata": {},
   "source": [
    "And thus, we have our ridge equation given as:\n",
    "\n",
    "$y = -0.4737177 - 0.20184005*x_1 + 0.20546116*x_2 + 0.14302479*x_3 + 0.01090988*x_4 + 0.10947003*x_5$\n",
    "\n",
    "Where \n",
    "* $x_1$ = 'Tenure in Months', \n",
    "* $x_2$ = 'Fiber Optics customers', \n",
    "* $x_3$ = 'Month-to-Month contracts', \n",
    "* $x_4$ = '2-year contracts', \n",
    "* $x_5$ = 'Electronic Check Payments'"
   ]
  },
  {
   "cell_type": "code",
   "execution_count": null,
   "metadata": {},
   "outputs": [],
   "source": []
  },
  {
   "cell_type": "code",
   "execution_count": null,
   "metadata": {},
   "outputs": [],
   "source": []
  },
  {
   "cell_type": "code",
   "execution_count": 42,
   "metadata": {},
   "outputs": [
    {
     "name": "stdout",
     "output_type": "stream",
     "text": [
      "KNeighborsClassifier(n_neighbors=41): 0.729663253265227\n",
      "RidgeClassifier(alpha=0.1): 0.8040386977886979\n",
      "SVC(C=1): 0.7342149715504978\n"
     ]
    }
   ],
   "source": [
    "from sklearn.model_selection import cross_val_score, cross_validate\n",
    "\n",
    "models = [knn, ridge, svc]\n",
    "\n",
    "for m in models:\n",
    "    cv_res = cross_val_score(m, X, y, scoring='accuracy', cv = 10)\n",
    "    print(str(m) + ': '+ str(cv_res.mean()))"
   ]
  },
  {
   "cell_type": "code",
   "execution_count": 43,
   "metadata": {},
   "outputs": [
    {
     "name": "stdout",
     "output_type": "stream",
     "text": [
      "KNeighborsClassifier(n_neighbors=41): 0.678946 (0.377039)\n",
      "RidgeClassifier(alpha=0.1): 0.727661 (0.243176)\n",
      "SVC(C=1): 0.734424 (0.415297)\n"
     ]
    },
    {
     "data": {
      "image/png": "[encoded data removed]",
      "text/plain": [
       "<Figure size 432x288 with 1 Axes>"
      ]
     },
     "metadata": {
      "needs_background": "light"
     },
     "output_type": "display_data"
    }
   ],
   "source": [
    "from sklearn import model_selection\n",
    "results = []\n",
    "names = ['KMeans', 'Ridge', 'SVC']\n",
    "\n",
    "for m in models:\n",
    "    kfold = model_selection.KFold(n_splits=10)\n",
    "    cv_results = model_selection.cross_val_score(m, X, y, cv=kfold, scoring='accuracy')\n",
    "    results.append(cv_results)\n",
    "    msg = \"%s: %f (%f)\" % (str(m), cv_results.mean(), cv_results.std())\n",
    "    print(msg)\n",
    "# boxplot algorithm comparison\n",
    "fig = plt.figure()\n",
    "fig.suptitle('Algorithm Comparison')\n",
    "ax = fig.add_subplot(111)\n",
    "plt.boxplot(results)\n",
    "ax.set_xticklabels(names)\n",
    "plt.show()"
   ]
  },
  {
   "cell_type": "code",
   "execution_count": 44,
   "metadata": {},
   "outputs": [
    {
     "data": {
      "text/plain": [
       "array([-0.19616205, -0.18123667, -0.20981508, -0.19345661, -0.19772404])"
      ]
     },
     "execution_count": 44,
     "metadata": {},
     "output_type": "execute_result"
    }
   ],
   "source": [
    "cv_results = cross_validate(ridge, X, y, scoring='neg_mean_absolute_error', cv=5, n_jobs=-1)\n",
    "cv_results['test_score']"
   ]
  },
  {
   "cell_type": "code",
   "execution_count": 45,
   "metadata": {},
   "outputs": [
    {
     "data": {
      "text/plain": [
       "array([-0.26581379, -0.26581379, -0.26600284, -0.26600284, -0.26529161])"
      ]
     },
     "execution_count": 45,
     "metadata": {},
     "output_type": "execute_result"
    }
   ],
   "source": [
    "cv_results = cross_validate(svc, X, y, scoring='neg_mean_absolute_error', cv=5, n_jobs=-1)\n",
    "cv_results['test_score']"
   ]
  },
  {
   "cell_type": "code",
   "execution_count": 46,
   "metadata": {},
   "outputs": [
    {
     "data": {
      "text/plain": [
       "array([-0.26297086, -0.27789623, -0.26315789, -0.27382646, -0.26742532])"
      ]
     },
     "execution_count": 46,
     "metadata": {},
     "output_type": "execute_result"
    }
   ],
   "source": [
    "cv_results = cross_validate(knn, X, y, scoring='neg_mean_absolute_error', cv=5, n_jobs=-1)\n",
    "cv_results['test_score']"
   ]
  },
  {
   "cell_type": "code",
   "execution_count": null,
   "metadata": {},
   "outputs": [],
   "source": []
  },
  {
   "cell_type": "code",
   "execution_count": 47,
   "metadata": {},
   "outputs": [],
   "source": [
    "from keras import backend as K\n",
    "\n",
    "def recall_m(y_true, y_pred):\n",
    "    true_positives = K.sum(K.round(K.clip(y_true * y_pred, 0, 1)))\n",
    "    possible_positives = K.sum(K.round(K.clip(y_true, 0, 1)))\n",
    "    recall = true_positives / (possible_positives + K.epsilon())\n",
    "    return recall\n",
    "\n",
    "def precision_m(y_true, y_pred):\n",
    "    true_positives = K.sum(K.round(K.clip(y_true * y_pred, 0, 1)))\n",
    "    predicted_positives = K.sum(K.round(K.clip(y_pred, 0, 1)))\n",
    "    precision = true_positives / (predicted_positives + K.epsilon())\n",
    "    return precision\n",
    "\n",
    "def f1_m(y_true, y_pred):\n",
    "    precision = precision_m(y_true, y_pred)\n",
    "    recall = recall_m(y_true, y_pred)\n",
    "    return 2*((precision*recall)/(precision+recall+K.epsilon()))"
   ]
  },
  {
   "cell_type": "code",
   "execution_count": 48,
   "metadata": {},
   "outputs": [],
   "source": [
    "seq.compile(optimizer='adam', loss='binary_crossentropy', metrics=['acc',f1_m,precision_m, recall_m])\n",
    "\n",
    "history = seq.fit(X_train, y_train, validation_split=0.3, epochs=10, verbose=0)\n",
    "\n",
    "loss, accuracy, f1_score, precision, recall = seq.evaluate(X_test, y_test, verbose=0)"
   ]
  },
  {
   "cell_type": "code",
   "execution_count": 49,
   "metadata": {},
   "outputs": [
    {
     "name": "stdout",
     "output_type": "stream",
     "text": [
      "0.43621209263801575 0.7938876748085022 0.5782781839370728 0.6754469275474548 0.5384647846221924\n"
     ]
    }
   ],
   "source": [
    "print(loss, accuracy, f1_score, precision, recall)"
   ]
  },
  {
   "cell_type": "code",
   "execution_count": 50,
   "metadata": {},
   "outputs": [],
   "source": [
    "# Save the best model in best_model\n",
    "best_model = ridge"
   ]
  },
  {
   "cell_type": "markdown",
   "metadata": {},
   "source": [
    "## Model evaluation"
   ]
  },
  {
   "cell_type": "markdown",
   "metadata": {},
   "source": [
    "To make one comparison between our best model, the Ridge Classifier with alpha=0.1, we will first compare it to a dummy classifier and compare the results."
   ]
  },
  {
   "cell_type": "code",
   "execution_count": 51,
   "metadata": {},
   "outputs": [],
   "source": [
    "from sklearn.dummy import DummyClassifier"
   ]
  },
  {
   "cell_type": "code",
   "execution_count": 52,
   "metadata": {},
   "outputs": [],
   "source": [
    "dummy = DummyClassifier()"
   ]
  },
  {
   "cell_type": "code",
   "execution_count": 53,
   "metadata": {},
   "outputs": [
    {
     "name": "stderr",
     "output_type": "stream",
     "text": [
      "C:\\Users\\david\\anaconda3\\lib\\site-packages\\sklearn\\dummy.py:131: FutureWarning:\n",
      "\n",
      "The default value of strategy will change from stratified to prior in 0.24.\n",
      "\n"
     ]
    },
    {
     "data": {
      "image/png": "[encoded data removed]",
      "text/plain": [
       "<Figure size 432x288 with 2 Axes>"
      ]
     },
     "metadata": {
      "needs_background": "light"
     },
     "output_type": "display_data"
    }
   ],
   "source": [
    "dummy.fit(X_train, y_train)\n",
    "y_pred = dummy.predict(X_test)\n",
    "\n",
    "pl = confusion_matrix(y_test,y_pred)\n",
    "\n",
    "labels = ['Churn', 'Remain']\n",
    "\n",
    "\n",
    "fig = plt.figure()\n",
    "ax = fig.add_subplot(111)\n",
    "cax = ax.matshow(pl)\n",
    "plt.title('Confusion matrix of the classifier')\n",
    "fig.colorbar(cax)\n",
    "ax.set_xticklabels([''] + labels)\n",
    "ax.set_yticklabels([''] + labels)\n",
    "plt.xlabel('Predicted')\n",
    "plt.ylabel('True')\n",
    "plt.show()"
   ]
  },
  {
   "cell_type": "code",
   "execution_count": 54,
   "metadata": {},
   "outputs": [
    {
     "name": "stdout",
     "output_type": "stream",
     "text": [
      "[[734 278]\n",
      " [285 110]]\n"
     ]
    }
   ],
   "source": [
    "print(pl)"
   ]
  },
  {
   "cell_type": "code",
   "execution_count": 55,
   "metadata": {},
   "outputs": [
    {
     "data": {
      "text/plain": [
       "(0.274703557312253, 0.7252964426877471)"
      ]
     },
     "execution_count": 55,
     "metadata": {},
     "output_type": "execute_result"
    }
   ],
   "source": [
    "fn,tp = pl[0][1], pl[0][0]\n",
    "fnr_dummy = fn / (tp + fn)\n",
    "tpr_dummy = tp / (tp + fn)\n",
    "fnr_dummy, tpr_dummy"
   ]
  },
  {
   "cell_type": "code",
   "execution_count": 56,
   "metadata": {},
   "outputs": [
    {
     "name": "stdout",
     "output_type": "stream",
     "text": [
      "Dummy TPR: 0.7252964426877471\n",
      "Ridge TPR: 0.9140316205533597\n"
     ]
    }
   ],
   "source": [
    "print(\"Dummy TPR: \" + str(tpr_dummy))\n",
    "print(\"Ridge TPR: \" + str(tpr_ridge))"
   ]
  },
  {
   "cell_type": "code",
   "execution_count": null,
   "metadata": {},
   "outputs": [],
   "source": []
  },
  {
   "cell_type": "code",
   "execution_count": null,
   "metadata": {},
   "outputs": [],
   "source": []
  },
  {
   "cell_type": "markdown",
   "metadata": {},
   "source": [
    "Business rule 1: Any customer with less than 17 months tenure is likely to churn."
   ]
  },
  {
   "cell_type": "code",
   "execution_count": 57,
   "metadata": {},
   "outputs": [],
   "source": [
    "inversed = scaler.inverse_transform(X_test)"
   ]
  },
  {
   "cell_type": "code",
   "execution_count": 58,
   "metadata": {},
   "outputs": [
    {
     "data": {
      "text/html": [
       "<div>\n",
       "<style scoped>\n",
       "    .dataframe tbody tr th:only-of-type {\n",
       "        vertical-align: middle;\n",
       "    }\n",
       "\n",
       "    .dataframe tbody tr th {\n",
       "        vertical-align: top;\n",
       "    }\n",
       "\n",
       "    .dataframe thead th {\n",
       "        text-align: right;\n",
       "    }\n",
       "</style>\n",
       "<table border=\"1\" class=\"dataframe\">\n",
       "  <thead>\n",
       "    <tr style=\"text-align: right;\">\n",
       "      <th></th>\n",
       "      <th>Tenure Months</th>\n",
       "      <th>Internet Service_Fiber optic</th>\n",
       "      <th>Contract_Month-to-month</th>\n",
       "      <th>Contract_Two year</th>\n",
       "      <th>Payment Method_Electronic check</th>\n",
       "    </tr>\n",
       "  </thead>\n",
       "  <tbody>\n",
       "    <tr>\n",
       "      <th>0</th>\n",
       "      <td>42.0</td>\n",
       "      <td>0.0</td>\n",
       "      <td>0.0</td>\n",
       "      <td>1.000000e+00</td>\n",
       "      <td>1.0</td>\n",
       "    </tr>\n",
       "    <tr>\n",
       "      <th>1</th>\n",
       "      <td>43.0</td>\n",
       "      <td>0.0</td>\n",
       "      <td>0.0</td>\n",
       "      <td>-2.775558e-17</td>\n",
       "      <td>1.0</td>\n",
       "    </tr>\n",
       "    <tr>\n",
       "      <th>2</th>\n",
       "      <td>27.0</td>\n",
       "      <td>1.0</td>\n",
       "      <td>1.0</td>\n",
       "      <td>-2.775558e-17</td>\n",
       "      <td>1.0</td>\n",
       "    </tr>\n",
       "    <tr>\n",
       "      <th>3</th>\n",
       "      <td>65.0</td>\n",
       "      <td>0.0</td>\n",
       "      <td>0.0</td>\n",
       "      <td>1.000000e+00</td>\n",
       "      <td>0.0</td>\n",
       "    </tr>\n",
       "    <tr>\n",
       "      <th>4</th>\n",
       "      <td>29.0</td>\n",
       "      <td>0.0</td>\n",
       "      <td>0.0</td>\n",
       "      <td>-2.775558e-17</td>\n",
       "      <td>0.0</td>\n",
       "    </tr>\n",
       "  </tbody>\n",
       "</table>\n",
       "</div>"
      ],
      "text/plain": [
       "   Tenure Months  Internet Service_Fiber optic  Contract_Month-to-month  \\\n",
       "0           42.0                           0.0                      0.0   \n",
       "1           43.0                           0.0                      0.0   \n",
       "2           27.0                           1.0                      1.0   \n",
       "3           65.0                           0.0                      0.0   \n",
       "4           29.0                           0.0                      0.0   \n",
       "\n",
       "   Contract_Two year  Payment Method_Electronic check  \n",
       "0       1.000000e+00                              1.0  \n",
       "1      -2.775558e-17                              1.0  \n",
       "2      -2.775558e-17                              1.0  \n",
       "3       1.000000e+00                              0.0  \n",
       "4      -2.775558e-17                              0.0  "
      ]
     },
     "execution_count": 58,
     "metadata": {},
     "output_type": "execute_result"
    }
   ],
   "source": [
    "rules = inversed\n",
    "rules = pd.DataFrame(rules, columns=X_cols)\n",
    "rules.head()"
   ]
  },
  {
   "cell_type": "code",
   "execution_count": null,
   "metadata": {},
   "outputs": [],
   "source": []
  },
  {
   "cell_type": "code",
   "execution_count": 60,
   "metadata": {},
   "outputs": [
    {
     "data": {
      "text/plain": [
       "array([0, 1], dtype=int64)"
      ]
     },
     "execution_count": 60,
     "metadata": {},
     "output_type": "execute_result"
    }
   ],
   "source": [
    "rules['Rule_1'] = 0\n",
    "rules.loc[rules['Tenure Months'] < 17,'Rule_1'] = 1\n",
    "rules['Rule_1'].unique()"
   ]
  },
  {
   "cell_type": "code",
   "execution_count": 61,
   "metadata": {},
   "outputs": [
    {
     "data": {
      "image/png": "[encoded data removed]",
      "text/plain": [
       "<Figure size 432x288 with 2 Axes>"
      ]
     },
     "metadata": {
      "needs_background": "light"
     },
     "output_type": "display_data"
    }
   ],
   "source": [
    "pl = confusion_matrix(y_test,rules['Rule_1'])\n",
    "\n",
    "labels = ['Churn', 'Remain']\n",
    "\n",
    "\n",
    "fig = plt.figure()\n",
    "ax = fig.add_subplot(111)\n",
    "cax = ax.matshow(pl)\n",
    "plt.title('Confusion matrix of the classifier')\n",
    "fig.colorbar(cax)\n",
    "ax.set_xticklabels([''] + labels)\n",
    "ax.set_yticklabels([''] + labels)\n",
    "plt.xlabel('Predicted')\n",
    "plt.ylabel('True')\n",
    "plt.show()"
   ]
  },
  {
   "cell_type": "code",
   "execution_count": 62,
   "metadata": {},
   "outputs": [
    {
     "name": "stdout",
     "output_type": "stream",
     "text": [
      "[[772 240]\n",
      " [158 237]]\n",
      "0.7628458498023716\n"
     ]
    }
   ],
   "source": [
    "print(pl)\n",
    "\n",
    "fn,tp = pl[0][1], pl[0][0]\n",
    "fnr_rule_1 = fn / (tp + fn)\n",
    "tpr_rule_1 = tp / (tp + fn)\n",
    "print(tpr_rule_1)"
   ]
  },
  {
   "cell_type": "markdown",
   "metadata": {},
   "source": [
    "Business rule 2: Any customer with month to month contracts are marked as churning."
   ]
  },
  {
   "cell_type": "code",
   "execution_count": 63,
   "metadata": {},
   "outputs": [
    {
     "data": {
      "text/plain": [
       "array([0, 1], dtype=int64)"
      ]
     },
     "execution_count": 63,
     "metadata": {},
     "output_type": "execute_result"
    }
   ],
   "source": [
    "rules['Rule_2'] = 0\n",
    "rules.loc[rules['Contract_Month-to-month'] == 1,'Rule_2'] = 1\n",
    "rules['Rule_2'].unique()"
   ]
  },
  {
   "cell_type": "code",
   "execution_count": 64,
   "metadata": {},
   "outputs": [
    {
     "data": {
      "image/png": "[encoded data removed]",
      "text/plain": [
       "<Figure size 432x288 with 2 Axes>"
      ]
     },
     "metadata": {
      "needs_background": "light"
     },
     "output_type": "display_data"
    }
   ],
   "source": [
    "pl = confusion_matrix(y_test,rules['Rule_2'])\n",
    "\n",
    "labels = ['Churn', 'Remain']\n",
    "\n",
    "\n",
    "fig = plt.figure()\n",
    "ax = fig.add_subplot(111)\n",
    "cax = ax.matshow(pl)\n",
    "plt.title('Confusion matrix of the classifier')\n",
    "fig.colorbar(cax)\n",
    "ax.set_xticklabels([''] + labels)\n",
    "ax.set_yticklabels([''] + labels)\n",
    "plt.xlabel('Predicted')\n",
    "plt.ylabel('True')\n",
    "plt.show()"
   ]
  },
  {
   "cell_type": "code",
   "execution_count": 65,
   "metadata": {},
   "outputs": [
    {
     "name": "stdout",
     "output_type": "stream",
     "text": [
      "[[578 434]\n",
      " [ 42 353]]\n",
      "0.5711462450592886\n"
     ]
    }
   ],
   "source": [
    "print(pl)\n",
    "\n",
    "fn,tp = pl[0][1], pl[0][0]\n",
    "fnr_rule_2 = fn / (tp + fn)\n",
    "tpr_rule_2 = tp / (tp + fn)\n",
    "print(tpr_rule_2)"
   ]
  },
  {
   "cell_type": "markdown",
   "metadata": {},
   "source": [
    "Business Rule 3: Customers with Fiber Optics and Month to Month Contracts will churn."
   ]
  },
  {
   "cell_type": "code",
   "execution_count": 66,
   "metadata": {},
   "outputs": [
    {
     "data": {
      "text/plain": [
       "array([0, 1], dtype=int64)"
      ]
     },
     "execution_count": 66,
     "metadata": {},
     "output_type": "execute_result"
    }
   ],
   "source": [
    "rules['Rule_3'] = 0\n",
    "rules.loc[(rules['Internet Service_Fiber optic'] == 1)&(rules['Contract_Month-to-month'] == 1), 'Rule_3'] = 1\n",
    "# rules.loc[] = 1\n",
    "rules['Rule_3'].unique()"
   ]
  },
  {
   "cell_type": "code",
   "execution_count": 67,
   "metadata": {},
   "outputs": [
    {
     "data": {
      "image/png": "[encoded data removed]",
      "text/plain": [
       "<Figure size 432x288 with 2 Axes>"
      ]
     },
     "metadata": {
      "needs_background": "light"
     },
     "output_type": "display_data"
    }
   ],
   "source": [
    "pl = confusion_matrix(y_test,rules['Rule_3'])\n",
    "\n",
    "labels = ['Churn', 'Remain']\n",
    "\n",
    "\n",
    "fig = plt.figure()\n",
    "ax = fig.add_subplot(111)\n",
    "cax = ax.matshow(pl)\n",
    "plt.title('Confusion matrix of the classifier')\n",
    "fig.colorbar(cax)\n",
    "ax.set_xticklabels([''] + labels)\n",
    "ax.set_yticklabels([''] + labels)\n",
    "plt.xlabel('Predicted')\n",
    "plt.ylabel('True')\n",
    "plt.show()"
   ]
  },
  {
   "cell_type": "code",
   "execution_count": 68,
   "metadata": {},
   "outputs": [
    {
     "name": "stdout",
     "output_type": "stream",
     "text": [
      "[[804 208]\n",
      " [141 254]]\n",
      "0.7944664031620553\n"
     ]
    }
   ],
   "source": [
    "print(pl)\n",
    "\n",
    "fn,tp = pl[0][1], pl[0][0]\n",
    "fnr_rule_3 = fn / (tp + fn)\n",
    "tpr_rule_3 = tp / (tp + fn)\n",
    "print(tpr_rule_3)"
   ]
  },
  {
   "cell_type": "code",
   "execution_count": 69,
   "metadata": {},
   "outputs": [
    {
     "data": {
      "text/html": [
       "<div>\n",
       "<style scoped>\n",
       "    .dataframe tbody tr th:only-of-type {\n",
       "        vertical-align: middle;\n",
       "    }\n",
       "\n",
       "    .dataframe tbody tr th {\n",
       "        vertical-align: top;\n",
       "    }\n",
       "\n",
       "    .dataframe thead th {\n",
       "        text-align: right;\n",
       "    }\n",
       "</style>\n",
       "<table border=\"1\" class=\"dataframe\">\n",
       "  <thead>\n",
       "    <tr style=\"text-align: right;\">\n",
       "      <th></th>\n",
       "      <th>Model/Business Criteria</th>\n",
       "      <th>True Positive Rate</th>\n",
       "    </tr>\n",
       "  </thead>\n",
       "  <tbody>\n",
       "    <tr>\n",
       "      <th>0</th>\n",
       "      <td>Ridge</td>\n",
       "      <td>0.914032</td>\n",
       "    </tr>\n",
       "    <tr>\n",
       "      <th>1</th>\n",
       "      <td>Rule 1</td>\n",
       "      <td>0.762846</td>\n",
       "    </tr>\n",
       "    <tr>\n",
       "      <th>2</th>\n",
       "      <td>Rule 2</td>\n",
       "      <td>0.571146</td>\n",
       "    </tr>\n",
       "    <tr>\n",
       "      <th>3</th>\n",
       "      <td>Rule 3</td>\n",
       "      <td>0.794466</td>\n",
       "    </tr>\n",
       "  </tbody>\n",
       "</table>\n",
       "</div>"
      ],
      "text/plain": [
       "  Model/Business Criteria  True Positive Rate\n",
       "0                   Ridge            0.914032\n",
       "1                  Rule 1            0.762846\n",
       "2                  Rule 2            0.571146\n",
       "3                  Rule 3            0.794466"
      ]
     },
     "execution_count": 69,
     "metadata": {},
     "output_type": "execute_result"
    }
   ],
   "source": [
    "business_scores = pd.DataFrame([ \n",
    "                       ['Ridge', tpr_ridge],\n",
    "                       ['Rule 1', tpr_rule_1],\n",
    "                       ['Rule 2', tpr_rule_2],\n",
    "                       ['Rule 3', tpr_rule_3]],\n",
    "                      columns=['Model/Business Criteria', 'True Positive Rate']\n",
    "            )\n",
    "business_scores"
   ]
  },
  {
   "cell_type": "code",
   "execution_count": null,
   "metadata": {},
   "outputs": [],
   "source": []
  },
  {
   "cell_type": "code",
   "execution_count": 84,
   "metadata": {},
   "outputs": [],
   "source": [
    "from sklearn.tree import DecisionTreeClassifier"
   ]
  },
  {
   "cell_type": "code",
   "execution_count": 88,
   "metadata": {},
   "outputs": [
    {
     "name": "stdout",
     "output_type": "stream",
     "text": [
      "Best: 0.792297 using {'criterion': 'entropy', 'max_depth': 6, 'max_features': 'log2'}\n",
      "0.000000 (0.000000) with: {'criterion': 'gini', 'max_depth': 5, 'max_features': 'int'}\n",
      "0.000000 (0.000000) with: {'criterion': 'gini', 'max_depth': 5, 'max_features': 'float'}\n",
      "0.791171 (0.013090) with: {'criterion': 'gini', 'max_depth': 5, 'max_features': 'auto'}\n",
      "0.791289 (0.010493) with: {'criterion': 'gini', 'max_depth': 5, 'max_features': 'sqrt'}\n",
      "0.789628 (0.018130) with: {'criterion': 'gini', 'max_depth': 5, 'max_features': 'log2'}\n",
      "0.000000 (0.000000) with: {'criterion': 'gini', 'max_depth': 6, 'max_features': 'int'}\n",
      "0.000000 (0.000000) with: {'criterion': 'gini', 'max_depth': 6, 'max_features': 'float'}\n",
      "0.791231 (0.012927) with: {'criterion': 'gini', 'max_depth': 6, 'max_features': 'auto'}\n",
      "0.789511 (0.014269) with: {'criterion': 'gini', 'max_depth': 6, 'max_features': 'sqrt'}\n",
      "0.790993 (0.014313) with: {'criterion': 'gini', 'max_depth': 6, 'max_features': 'log2'}\n",
      "0.000000 (0.000000) with: {'criterion': 'gini', 'max_depth': 7, 'max_features': 'int'}\n",
      "0.000000 (0.000000) with: {'criterion': 'gini', 'max_depth': 7, 'max_features': 'float'}\n",
      "0.790104 (0.014217) with: {'criterion': 'gini', 'max_depth': 7, 'max_features': 'auto'}\n",
      "0.791230 (0.013122) with: {'criterion': 'gini', 'max_depth': 7, 'max_features': 'sqrt'}\n",
      "0.790578 (0.014113) with: {'criterion': 'gini', 'max_depth': 7, 'max_features': 'log2'}\n",
      "0.000000 (0.000000) with: {'criterion': 'entropy', 'max_depth': 5, 'max_features': 'int'}\n",
      "0.000000 (0.000000) with: {'criterion': 'entropy', 'max_depth': 5, 'max_features': 'float'}\n",
      "0.789987 (0.014819) with: {'criterion': 'entropy', 'max_depth': 5, 'max_features': 'auto'}\n",
      "0.789156 (0.012588) with: {'criterion': 'entropy', 'max_depth': 5, 'max_features': 'sqrt'}\n",
      "0.786665 (0.016178) with: {'criterion': 'entropy', 'max_depth': 5, 'max_features': 'log2'}\n",
      "0.000000 (0.000000) with: {'criterion': 'entropy', 'max_depth': 6, 'max_features': 'int'}\n",
      "0.000000 (0.000000) with: {'criterion': 'entropy', 'max_depth': 6, 'max_features': 'float'}\n",
      "0.792177 (0.012332) with: {'criterion': 'entropy', 'max_depth': 6, 'max_features': 'auto'}\n",
      "0.792120 (0.013474) with: {'criterion': 'entropy', 'max_depth': 6, 'max_features': 'sqrt'}\n",
      "0.792297 (0.013275) with: {'criterion': 'entropy', 'max_depth': 6, 'max_features': 'log2'}\n",
      "0.000000 (0.000000) with: {'criterion': 'entropy', 'max_depth': 7, 'max_features': 'int'}\n",
      "0.000000 (0.000000) with: {'criterion': 'entropy', 'max_depth': 7, 'max_features': 'float'}\n",
      "0.791229 (0.012006) with: {'criterion': 'entropy', 'max_depth': 7, 'max_features': 'auto'}\n",
      "0.791586 (0.012011) with: {'criterion': 'entropy', 'max_depth': 7, 'max_features': 'sqrt'}\n",
      "0.792238 (0.012159) with: {'criterion': 'entropy', 'max_depth': 7, 'max_features': 'log2'}\n"
     ]
    }
   ],
   "source": [
    "model = DecisionTreeClassifier()\n",
    "max_depth = [5,6,7]\n",
    "criterion = ['gini', 'entropy']\n",
    "max_features = ['int', 'float',\"auto\", \"sqrt\", \"log2\"]\n",
    "# define grid search\n",
    "grid = dict(criterion=criterion, max_depth=max_depth, max_features=max_features)\n",
    "cv = RepeatedStratifiedKFold(n_splits=10, n_repeats=3, random_state=1)\n",
    "grid_search = GridSearchCV(estimator=model, param_grid=grid, n_jobs=-1, cv=cv, scoring='accuracy',error_score=0)\n",
    "grid_result = grid_search.fit(X_train, y_train)\n",
    "# summarize results\n",
    "print(\"Best: %f using %s\" % (grid_result.best_score_, grid_result.best_params_))\n",
    "means = grid_result.cv_results_['mean_test_score']\n",
    "stds = grid_result.cv_results_['std_test_score']\n",
    "params = grid_result.cv_results_['params']\n",
    "for mean, stdev, param in zip(means, stds, params):\n",
    "    print(\"%f (%f) with: %r\" % (mean, stdev, param))"
   ]
  },
  {
   "cell_type": "code",
   "execution_count": 89,
   "metadata": {},
   "outputs": [
    {
     "data": {
      "text/plain": [
       "array([[922, 200],\n",
       "       [ 90, 195]], dtype=int64)"
      ]
     },
     "execution_count": 89,
     "metadata": {},
     "output_type": "execute_result"
    }
   ],
   "source": [
    "tree = DecisionTreeClassifier(criterion='entropy', max_depth=6, max_features='log2')\n",
    "\n",
    "tree.fit(X_train,y_train)\n",
    "\n",
    "t_pred = tree.predict(X_test)\n",
    "\n",
    "confusion_matrix(t_pred, y_test)"
   ]
  },
  {
   "cell_type": "code",
   "execution_count": 90,
   "metadata": {},
   "outputs": [
    {
     "data": {
      "image/png": "[encoded data removed]",
      "text/plain": [
       "<Figure size 432x288 with 2 Axes>"
      ]
     },
     "metadata": {
      "needs_background": "light"
     },
     "output_type": "display_data"
    }
   ],
   "source": [
    "pl = confusion_matrix(y_test,t_pred)\n",
    "\n",
    "labels = ['Churn', 'Remain']\n",
    "\n",
    "\n",
    "fig = plt.figure()\n",
    "ax = fig.add_subplot(111)\n",
    "cax = ax.matshow(pl)\n",
    "plt.title('Confusion matrix of the classifier')\n",
    "fig.colorbar(cax)\n",
    "ax.set_xticklabels([''] + labels)\n",
    "ax.set_yticklabels([''] + labels)\n",
    "plt.xlabel('Predicted')\n",
    "plt.ylabel('True')\n",
    "plt.show()"
   ]
  },
  {
   "cell_type": "code",
   "execution_count": 91,
   "metadata": {},
   "outputs": [
    {
     "name": "stdout",
     "output_type": "stream",
     "text": [
      "[[922  90]\n",
      " [200 195]]\n",
      "0.9110671936758893\n"
     ]
    }
   ],
   "source": [
    "print(pl)\n",
    "\n",
    "fn,tp = pl[0][1], pl[0][0]\n",
    "fnr_rule_3 = fn / (tp + fn)\n",
    "tpr_rule_3 = tp / (tp + fn)\n",
    "print(tpr_rule_3)"
   ]
  },
  {
   "cell_type": "code",
   "execution_count": null,
   "metadata": {},
   "outputs": [],
   "source": []
  },
  {
   "cell_type": "code",
   "execution_count": null,
   "metadata": {},
   "outputs": [],
   "source": []
  },
  {
   "cell_type": "markdown",
   "metadata": {},
   "source": [
    "##### Using Featuretools for feature engineering"
   ]
  },
  {
   "cell_type": "code",
   "execution_count": null,
   "metadata": {},
   "outputs": [],
   "source": [
    "import featuretools as ft"
   ]
  },
  {
   "cell_type": "code",
   "execution_count": null,
   "metadata": {},
   "outputs": [],
   "source": [
    "demo = pd.read_excel('data/Telco_customer_churn_demographics.xlsx')\n",
    "loc = pd.read_excel('data/Telco_customer_churn_location.xlsx')\n",
    "# pop = pd.read_excel('data/Telco_customer_churn_population.xlsx')\n",
    "serv = pd.read_excel('data/Telco_customer_churn_services.xlsx')\n",
    "status = pd.read_excel('data/Telco_customer_churn_status.xlsx')"
   ]
  },
  {
   "cell_type": "code",
   "execution_count": null,
   "metadata": {},
   "outputs": [],
   "source": [
    "es = ft.EntitySet(id='customers')"
   ]
  },
  {
   "cell_type": "code",
   "execution_count": null,
   "metadata": {},
   "outputs": [],
   "source": [
    "demo.drop(columns='Count', inplace=True)\n",
    "demo.head()"
   ]
  },
  {
   "cell_type": "code",
   "execution_count": null,
   "metadata": {},
   "outputs": [],
   "source": [
    "import featuretools.variable_types as vtypes"
   ]
  },
  {
   "cell_type": "code",
   "execution_count": null,
   "metadata": {},
   "outputs": [],
   "source": [
    "es.entity_from_dataframe(entity_id='demographics', dataframe=demo,\n",
    "                         index = 'Customer ID', \n",
    "                         variable_types = {'Gender': vtypes.Categorical, \n",
    "                                           'Under 30': vtypes.Boolean,\n",
    "                                          'Senior Citizen': vtypes.Boolean,\n",
    "                                          'Married': vtypes.Boolean,\n",
    "                                          'Dependents': vtypes.Boolean})"
   ]
  },
  {
   "cell_type": "code",
   "execution_count": null,
   "metadata": {},
   "outputs": [],
   "source": [
    "loc.drop(columns=['Country', 'State', 'Count'], inplace=True)"
   ]
  },
  {
   "cell_type": "code",
   "execution_count": null,
   "metadata": {},
   "outputs": [],
   "source": [
    "loc.head()"
   ]
  },
  {
   "cell_type": "code",
   "execution_count": null,
   "metadata": {},
   "outputs": [],
   "source": [
    "es.entity_from_dataframe(entity_id='location', dataframe=loc,\n",
    "                         index = 'Customer ID', \n",
    "                         variable_types = {'City': vtypes.Categorical,\n",
    "                                           'Lat Long': vtypes.Categorical,\n",
    "                                          'Zip Code': vtypes.Categorical})"
   ]
  },
  {
   "cell_type": "code",
   "execution_count": null,
   "metadata": {
    "scrolled": true
   },
   "outputs": [],
   "source": [
    "serv.drop(columns=['Count', 'Quarter'], inplace=True)\n",
    "serv.head()"
   ]
  },
  {
   "cell_type": "code",
   "execution_count": null,
   "metadata": {},
   "outputs": [],
   "source": [
    "serv.columns"
   ]
  },
  {
   "cell_type": "code",
   "execution_count": null,
   "metadata": {},
   "outputs": [],
   "source": [
    "serv['Paperless Billing'].unique()"
   ]
  },
  {
   "cell_type": "code",
   "execution_count": null,
   "metadata": {},
   "outputs": [],
   "source": [
    "es.entity_from_dataframe(entity_id='services', dataframe=serv,\n",
    "                         index = 'Customer ID', \n",
    "                         variable_types = {'Referred a Friend': vtypes.Boolean,\n",
    "                                           'Offer': vtypes.Categorical,\n",
    "                                          'Phone Service': vtypes.Boolean,\n",
    "                                          'Multiple Lines': vtypes.Boolean,\n",
    "                                          'Internet Service': vtypes.Boolean,\n",
    "                                          'Internet Type': vtypes.Categorical,\n",
    "                                          'Online Security': vtypes.Boolean,\n",
    "                                          'Online Backup': vtypes.Boolean,\n",
    "                                          'Device Protection Plan': vtypes.Boolean,\n",
    "                                          'Premium Tech Support': vtypes.Boolean,\n",
    "                                          'Streaming TV': vtypes.Boolean,\n",
    "                                           'Streaming Movies': vtypes.Boolean,\n",
    "                                           'Streaming Music': vtypes.Boolean,\n",
    "                                           'Unlimited Data': vtypes.Boolean, \n",
    "                                           'Paperless Billing': vtypes.Boolean,\n",
    "                                          'Contract': vtypes.Categorical,\n",
    "                                          'Payment Method': vtypes.Categorical})"
   ]
  },
  {
   "cell_type": "code",
   "execution_count": null,
   "metadata": {},
   "outputs": [],
   "source": [
    "status.drop(columns=['Count', 'Quarter', 'Customer Status', 'Churn Label', 'Churn Category', 'Churn Reason'], inplace=True)\n",
    "status.head()"
   ]
  },
  {
   "cell_type": "code",
   "execution_count": null,
   "metadata": {},
   "outputs": [],
   "source": [
    "status.drop(columns='Churn Score', inplace=True)"
   ]
  },
  {
   "cell_type": "code",
   "execution_count": null,
   "metadata": {},
   "outputs": [],
   "source": [
    "es.entity_from_dataframe(entity_id='status', dataframe=status,\n",
    "                         index = 'Customer ID', \n",
    "                         variable_types = {'Churn Value': vtypes.Boolean\n",
    "                                           })"
   ]
  },
  {
   "cell_type": "code",
   "execution_count": null,
   "metadata": {},
   "outputs": [],
   "source": [
    "r_customer_demos = ft.Relationship(es['status']['Customer ID'], es['demographics']['Customer ID'])\n",
    "r_customer_services = ft.Relationship(es['status']['Customer ID'], es['services']['Customer ID'])\n",
    "r_customer_loc = ft.Relationship(es['status']['Customer ID'], es['location']['Customer ID'])\n",
    "\n",
    "es.add_relationships([r_customer_services, r_customer_demos, r_customer_loc])"
   ]
  },
  {
   "cell_type": "code",
   "execution_count": null,
   "metadata": {},
   "outputs": [],
   "source": [
    "feature_defs = ft.dfs(entityset=es, target_entity='status[\"Churn Value\"]', where_primitives = ['sum', 'mean', 'max', 'min'],\n",
    "                      max_depth=3, features_only=True)"
   ]
  },
  {
   "cell_type": "code",
   "execution_count": null,
   "metadata": {},
   "outputs": [],
   "source": [
    "print(f'This will generate {len(feature_defs)} features.')"
   ]
  },
  {
   "cell_type": "code",
   "execution_count": null,
   "metadata": {},
   "outputs": [],
   "source": []
  }
 ],
 "metadata": {
  "kernelspec": {
   "display_name": "Python 3",
   "language": "python",
   "name": "python3"
  },
  "language_info": {
   "codemirror_mode": {
    "name": "ipython",
    "version": 3
   },
   "file_extension": ".py",
   "mimetype": "text/x-python",
   "name": "python",
   "nbconvert_exporter": "python",
   "pygments_lexer": "ipython3",
   "version": "3.8.3"
  }
 },
 "nbformat": 4,
 "nbformat_minor": 4
}
