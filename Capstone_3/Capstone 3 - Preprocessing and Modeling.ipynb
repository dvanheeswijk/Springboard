{
 "cells": [
  {
   "cell_type": "markdown",
   "metadata": {},
   "source": [
    "# Capstone 3 - Customer Churn Prediction for Telco\n",
    "\n",
    "In our previous [Notebook](https://github.com/dvanheeswijk/Springboard/blob/master/Capstone_3/Capstone%203%20-%20EDA.ipynb), we explored our data set to find any possible leads to areas to focus on for our modeling. We found that bigger cities had larger churn volumes, while a few cities also had much higher percentages of churn than most others, specifically smaller cities with a handful of customers. We also saw that Fiber Optics customers were almost twice as likely to churn as DSL customers or customers with no internet service. Lastly, we saw that the primary reasons for leaving were basically either competitive offers from other companies or poor service attitude when dealing with troubleshooting issues. \n",
    "\n",
    "We will now explore *clean_data.csv*, our preprocessed data set and create training and testing data sets in order to evaluate models.\n",
    "\n",
    "We start with importing the data and necessary libraries."
   ]
  },
  {
   "cell_type": "code",
   "execution_count": 919,
   "metadata": {},
   "outputs": [],
   "source": [
    "import pandas as pd\n",
    "import numpy as np\n",
    "import matplotlib.pyplot as plt\n",
    "%matplotlib inline\n",
    "\n",
    "import seaborn as sns\n",
    "\n",
    "from sklearn.model_selection import train_test_split, RandomizedSearchCV, GridSearchCV\n",
    "from sklearn.pipeline import Pipeline\n",
    "from sklearn.neighbors import KNeighborsClassifier\n",
    "from sklearn.linear_model import RidgeClassifier\n",
    "# from sklearn.neural_network import MLPClassifier\n",
    "from sklearn.svm import SVC\n",
    "from sklearn.ensemble import GradientBoostingClassifier, RandomForestClassifier\n",
    "from sklearn.preprocessing import StandardScaler\n",
    "from sklearn.metrics import accuracy_score, roc_auc_score,roc_curve,scorer\n",
    "from sklearn.feature_selection import SelectKBest"
   ]
  },
  {
   "cell_type": "code",
   "execution_count": 920,
   "metadata": {},
   "outputs": [
    {
     "data": {
      "text/html": [
       "<div>\n",
       "<style scoped>\n",
       "    .dataframe tbody tr th:only-of-type {\n",
       "        vertical-align: middle;\n",
       "    }\n",
       "\n",
       "    .dataframe tbody tr th {\n",
       "        vertical-align: top;\n",
       "    }\n",
       "\n",
       "    .dataframe thead th {\n",
       "        text-align: right;\n",
       "    }\n",
       "</style>\n",
       "<table border=\"1\" class=\"dataframe\">\n",
       "  <thead>\n",
       "    <tr style=\"text-align: right;\">\n",
       "      <th></th>\n",
       "      <th>CustomerID</th>\n",
       "      <th>Zip Code</th>\n",
       "      <th>Latitude</th>\n",
       "      <th>Longitude</th>\n",
       "      <th>Gender</th>\n",
       "      <th>Senior Citizen</th>\n",
       "      <th>Partner</th>\n",
       "      <th>Dependents</th>\n",
       "      <th>Tenure Months</th>\n",
       "      <th>Phone Service</th>\n",
       "      <th>...</th>\n",
       "      <th>Internet Service_DSL</th>\n",
       "      <th>Internet Service_Fiber optic</th>\n",
       "      <th>Internet Service_No</th>\n",
       "      <th>Contract_Month-to-month</th>\n",
       "      <th>Contract_One year</th>\n",
       "      <th>Contract_Two year</th>\n",
       "      <th>Payment Method_Bank transfer (automatic)</th>\n",
       "      <th>Payment Method_Credit card (automatic)</th>\n",
       "      <th>Payment Method_Electronic check</th>\n",
       "      <th>Payment Method_Mailed check</th>\n",
       "    </tr>\n",
       "  </thead>\n",
       "  <tbody>\n",
       "    <tr>\n",
       "      <th>0</th>\n",
       "      <td>3668-QPYBK</td>\n",
       "      <td>90003</td>\n",
       "      <td>33.964131</td>\n",
       "      <td>-118.272783</td>\n",
       "      <td>0</td>\n",
       "      <td>0</td>\n",
       "      <td>0</td>\n",
       "      <td>0</td>\n",
       "      <td>2</td>\n",
       "      <td>1</td>\n",
       "      <td>...</td>\n",
       "      <td>1</td>\n",
       "      <td>0</td>\n",
       "      <td>0</td>\n",
       "      <td>1</td>\n",
       "      <td>0</td>\n",
       "      <td>0</td>\n",
       "      <td>0</td>\n",
       "      <td>0</td>\n",
       "      <td>0</td>\n",
       "      <td>1</td>\n",
       "    </tr>\n",
       "    <tr>\n",
       "      <th>1</th>\n",
       "      <td>9237-HQITU</td>\n",
       "      <td>90005</td>\n",
       "      <td>34.059281</td>\n",
       "      <td>-118.307420</td>\n",
       "      <td>1</td>\n",
       "      <td>0</td>\n",
       "      <td>0</td>\n",
       "      <td>1</td>\n",
       "      <td>2</td>\n",
       "      <td>1</td>\n",
       "      <td>...</td>\n",
       "      <td>0</td>\n",
       "      <td>1</td>\n",
       "      <td>0</td>\n",
       "      <td>1</td>\n",
       "      <td>0</td>\n",
       "      <td>0</td>\n",
       "      <td>0</td>\n",
       "      <td>0</td>\n",
       "      <td>1</td>\n",
       "      <td>0</td>\n",
       "    </tr>\n",
       "    <tr>\n",
       "      <th>2</th>\n",
       "      <td>9305-CDSKC</td>\n",
       "      <td>90006</td>\n",
       "      <td>34.048013</td>\n",
       "      <td>-118.293953</td>\n",
       "      <td>1</td>\n",
       "      <td>0</td>\n",
       "      <td>0</td>\n",
       "      <td>1</td>\n",
       "      <td>8</td>\n",
       "      <td>1</td>\n",
       "      <td>...</td>\n",
       "      <td>0</td>\n",
       "      <td>1</td>\n",
       "      <td>0</td>\n",
       "      <td>1</td>\n",
       "      <td>0</td>\n",
       "      <td>0</td>\n",
       "      <td>0</td>\n",
       "      <td>0</td>\n",
       "      <td>1</td>\n",
       "      <td>0</td>\n",
       "    </tr>\n",
       "    <tr>\n",
       "      <th>3</th>\n",
       "      <td>7892-POOKP</td>\n",
       "      <td>90010</td>\n",
       "      <td>34.062125</td>\n",
       "      <td>-118.315709</td>\n",
       "      <td>1</td>\n",
       "      <td>0</td>\n",
       "      <td>1</td>\n",
       "      <td>1</td>\n",
       "      <td>28</td>\n",
       "      <td>1</td>\n",
       "      <td>...</td>\n",
       "      <td>0</td>\n",
       "      <td>1</td>\n",
       "      <td>0</td>\n",
       "      <td>1</td>\n",
       "      <td>0</td>\n",
       "      <td>0</td>\n",
       "      <td>0</td>\n",
       "      <td>0</td>\n",
       "      <td>1</td>\n",
       "      <td>0</td>\n",
       "    </tr>\n",
       "    <tr>\n",
       "      <th>4</th>\n",
       "      <td>0280-XJGEX</td>\n",
       "      <td>90015</td>\n",
       "      <td>34.039224</td>\n",
       "      <td>-118.266293</td>\n",
       "      <td>0</td>\n",
       "      <td>0</td>\n",
       "      <td>0</td>\n",
       "      <td>1</td>\n",
       "      <td>49</td>\n",
       "      <td>1</td>\n",
       "      <td>...</td>\n",
       "      <td>0</td>\n",
       "      <td>1</td>\n",
       "      <td>0</td>\n",
       "      <td>1</td>\n",
       "      <td>0</td>\n",
       "      <td>0</td>\n",
       "      <td>1</td>\n",
       "      <td>0</td>\n",
       "      <td>0</td>\n",
       "      <td>0</td>\n",
       "    </tr>\n",
       "  </tbody>\n",
       "</table>\n",
       "<p>5 rows × 32 columns</p>\n",
       "</div>"
      ],
      "text/plain": [
       "   CustomerID  Zip Code   Latitude   Longitude  Gender  Senior Citizen  \\\n",
       "0  3668-QPYBK     90003  33.964131 -118.272783       0               0   \n",
       "1  9237-HQITU     90005  34.059281 -118.307420       1               0   \n",
       "2  9305-CDSKC     90006  34.048013 -118.293953       1               0   \n",
       "3  7892-POOKP     90010  34.062125 -118.315709       1               0   \n",
       "4  0280-XJGEX     90015  34.039224 -118.266293       0               0   \n",
       "\n",
       "   Partner  Dependents  Tenure Months  Phone Service  ...  \\\n",
       "0        0           0              2              1  ...   \n",
       "1        0           1              2              1  ...   \n",
       "2        0           1              8              1  ...   \n",
       "3        1           1             28              1  ...   \n",
       "4        0           1             49              1  ...   \n",
       "\n",
       "   Internet Service_DSL  Internet Service_Fiber optic  Internet Service_No  \\\n",
       "0                     1                             0                    0   \n",
       "1                     0                             1                    0   \n",
       "2                     0                             1                    0   \n",
       "3                     0                             1                    0   \n",
       "4                     0                             1                    0   \n",
       "\n",
       "   Contract_Month-to-month  Contract_One year  Contract_Two year  \\\n",
       "0                        1                  0                  0   \n",
       "1                        1                  0                  0   \n",
       "2                        1                  0                  0   \n",
       "3                        1                  0                  0   \n",
       "4                        1                  0                  0   \n",
       "\n",
       "   Payment Method_Bank transfer (automatic)  \\\n",
       "0                                         0   \n",
       "1                                         0   \n",
       "2                                         0   \n",
       "3                                         0   \n",
       "4                                         1   \n",
       "\n",
       "   Payment Method_Credit card (automatic)  Payment Method_Electronic check  \\\n",
       "0                                       0                                0   \n",
       "1                                       0                                1   \n",
       "2                                       0                                1   \n",
       "3                                       0                                1   \n",
       "4                                       0                                0   \n",
       "\n",
       "   Payment Method_Mailed check  \n",
       "0                            1  \n",
       "1                            0  \n",
       "2                            0  \n",
       "3                            0  \n",
       "4                            0  \n",
       "\n",
       "[5 rows x 32 columns]"
      ]
     },
     "execution_count": 920,
     "metadata": {},
     "output_type": "execute_result"
    }
   ],
   "source": [
    "data = pd.read_csv('data/clean_data.csv')\n",
    "\n",
    "data.head()"
   ]
  },
  {
   "cell_type": "code",
   "execution_count": 921,
   "metadata": {},
   "outputs": [
    {
     "name": "stdout",
     "output_type": "stream",
     "text": [
      "<class 'pandas.core.frame.DataFrame'>\n",
      "RangeIndex: 7032 entries, 0 to 7031\n",
      "Data columns (total 32 columns):\n",
      " #   Column                                    Non-Null Count  Dtype  \n",
      "---  ------                                    --------------  -----  \n",
      " 0   CustomerID                                7032 non-null   object \n",
      " 1   Zip Code                                  7032 non-null   int64  \n",
      " 2   Latitude                                  7032 non-null   float64\n",
      " 3   Longitude                                 7032 non-null   float64\n",
      " 4   Gender                                    7032 non-null   int64  \n",
      " 5   Senior Citizen                            7032 non-null   int64  \n",
      " 6   Partner                                   7032 non-null   int64  \n",
      " 7   Dependents                                7032 non-null   int64  \n",
      " 8   Tenure Months                             7032 non-null   int64  \n",
      " 9   Phone Service                             7032 non-null   int64  \n",
      " 10  Multiple Lines                            7032 non-null   int64  \n",
      " 11  Online Security                           7032 non-null   int64  \n",
      " 12  Online Backup                             7032 non-null   int64  \n",
      " 13  Device Protection                         7032 non-null   int64  \n",
      " 14  Tech Support                              7032 non-null   int64  \n",
      " 15  Streaming TV                              7032 non-null   int64  \n",
      " 16  Streaming Movies                          7032 non-null   int64  \n",
      " 17  Paperless Billing                         7032 non-null   int64  \n",
      " 18  Monthly Charges                           7032 non-null   float64\n",
      " 19  Total Charges                             7032 non-null   float64\n",
      " 20  Churn Value                               7032 non-null   int64  \n",
      " 21  CLTV                                      7032 non-null   int64  \n",
      " 22  Internet Service_DSL                      7032 non-null   int64  \n",
      " 23  Internet Service_Fiber optic              7032 non-null   int64  \n",
      " 24  Internet Service_No                       7032 non-null   int64  \n",
      " 25  Contract_Month-to-month                   7032 non-null   int64  \n",
      " 26  Contract_One year                         7032 non-null   int64  \n",
      " 27  Contract_Two year                         7032 non-null   int64  \n",
      " 28  Payment Method_Bank transfer (automatic)  7032 non-null   int64  \n",
      " 29  Payment Method_Credit card (automatic)    7032 non-null   int64  \n",
      " 30  Payment Method_Electronic check           7032 non-null   int64  \n",
      " 31  Payment Method_Mailed check               7032 non-null   int64  \n",
      "dtypes: float64(4), int64(27), object(1)\n",
      "memory usage: 1.7+ MB\n"
     ]
    }
   ],
   "source": [
    "data.info()"
   ]
  },
  {
   "cell_type": "code",
   "execution_count": 922,
   "metadata": {},
   "outputs": [
    {
     "data": {
      "text/plain": [
       "True"
      ]
     },
     "execution_count": 922,
     "metadata": {},
     "output_type": "execute_result"
    }
   ],
   "source": [
    "data['CustomerID'].is_unique"
   ]
  },
  {
   "cell_type": "code",
   "execution_count": 923,
   "metadata": {},
   "outputs": [
    {
     "name": "stdout",
     "output_type": "stream",
     "text": [
      "<class 'pandas.core.frame.DataFrame'>\n",
      "Index: 7032 entries, 3668-QPYBK to 3186-AJIEK\n",
      "Data columns (total 31 columns):\n",
      " #   Column                                    Non-Null Count  Dtype  \n",
      "---  ------                                    --------------  -----  \n",
      " 0   Zip Code                                  7032 non-null   int64  \n",
      " 1   Latitude                                  7032 non-null   float64\n",
      " 2   Longitude                                 7032 non-null   float64\n",
      " 3   Gender                                    7032 non-null   int64  \n",
      " 4   Senior Citizen                            7032 non-null   int64  \n",
      " 5   Partner                                   7032 non-null   int64  \n",
      " 6   Dependents                                7032 non-null   int64  \n",
      " 7   Tenure Months                             7032 non-null   int64  \n",
      " 8   Phone Service                             7032 non-null   int64  \n",
      " 9   Multiple Lines                            7032 non-null   int64  \n",
      " 10  Online Security                           7032 non-null   int64  \n",
      " 11  Online Backup                             7032 non-null   int64  \n",
      " 12  Device Protection                         7032 non-null   int64  \n",
      " 13  Tech Support                              7032 non-null   int64  \n",
      " 14  Streaming TV                              7032 non-null   int64  \n",
      " 15  Streaming Movies                          7032 non-null   int64  \n",
      " 16  Paperless Billing                         7032 non-null   int64  \n",
      " 17  Monthly Charges                           7032 non-null   float64\n",
      " 18  Total Charges                             7032 non-null   float64\n",
      " 19  Churn Value                               7032 non-null   int64  \n",
      " 20  CLTV                                      7032 non-null   int64  \n",
      " 21  Internet Service_DSL                      7032 non-null   int64  \n",
      " 22  Internet Service_Fiber optic              7032 non-null   int64  \n",
      " 23  Internet Service_No                       7032 non-null   int64  \n",
      " 24  Contract_Month-to-month                   7032 non-null   int64  \n",
      " 25  Contract_One year                         7032 non-null   int64  \n",
      " 26  Contract_Two year                         7032 non-null   int64  \n",
      " 27  Payment Method_Bank transfer (automatic)  7032 non-null   int64  \n",
      " 28  Payment Method_Credit card (automatic)    7032 non-null   int64  \n",
      " 29  Payment Method_Electronic check           7032 non-null   int64  \n",
      " 30  Payment Method_Mailed check               7032 non-null   int64  \n",
      "dtypes: float64(4), int64(27)\n",
      "memory usage: 1.7+ MB\n"
     ]
    }
   ],
   "source": [
    "data.set_index('CustomerID', inplace=True)\n",
    "\n",
    "data.info()"
   ]
  },
  {
   "cell_type": "markdown",
   "metadata": {},
   "source": [
    "We see now that we have the data in complete numeric format, meaning that we are ready to begin training the data."
   ]
  },
  {
   "cell_type": "markdown",
   "metadata": {},
   "source": [
    "### Training the data"
   ]
  },
  {
   "cell_type": "code",
   "execution_count": 924,
   "metadata": {},
   "outputs": [],
   "source": [
    "# Splitting the data between our dependent and independent variables\n",
    "X = data.drop(columns='Churn Value')\n",
    "y = data['Churn Value']"
   ]
  },
  {
   "cell_type": "code",
   "execution_count": 925,
   "metadata": {},
   "outputs": [],
   "source": [
    "feature_selection = SelectKBest(k=5)\n",
    "feature_selection.fit(X, y)\n",
    "\n",
    "cols = feature_selection.get_support(indices=True)\n",
    "X_new = X.iloc[:,cols]"
   ]
  },
  {
   "cell_type": "code",
   "execution_count": 926,
   "metadata": {},
   "outputs": [
    {
     "data": {
      "text/html": [
       "<div>\n",
       "<style scoped>\n",
       "    .dataframe tbody tr th:only-of-type {\n",
       "        vertical-align: middle;\n",
       "    }\n",
       "\n",
       "    .dataframe tbody tr th {\n",
       "        vertical-align: top;\n",
       "    }\n",
       "\n",
       "    .dataframe thead th {\n",
       "        text-align: right;\n",
       "    }\n",
       "</style>\n",
       "<table border=\"1\" class=\"dataframe\">\n",
       "  <thead>\n",
       "    <tr style=\"text-align: right;\">\n",
       "      <th></th>\n",
       "      <th>Tenure Months</th>\n",
       "      <th>Internet Service_Fiber optic</th>\n",
       "      <th>Contract_Month-to-month</th>\n",
       "      <th>Contract_Two year</th>\n",
       "      <th>Payment Method_Electronic check</th>\n",
       "    </tr>\n",
       "    <tr>\n",
       "      <th>CustomerID</th>\n",
       "      <th></th>\n",
       "      <th></th>\n",
       "      <th></th>\n",
       "      <th></th>\n",
       "      <th></th>\n",
       "    </tr>\n",
       "  </thead>\n",
       "  <tbody>\n",
       "    <tr>\n",
       "      <th>3668-QPYBK</th>\n",
       "      <td>2</td>\n",
       "      <td>0</td>\n",
       "      <td>1</td>\n",
       "      <td>0</td>\n",
       "      <td>0</td>\n",
       "    </tr>\n",
       "    <tr>\n",
       "      <th>9237-HQITU</th>\n",
       "      <td>2</td>\n",
       "      <td>1</td>\n",
       "      <td>1</td>\n",
       "      <td>0</td>\n",
       "      <td>1</td>\n",
       "    </tr>\n",
       "    <tr>\n",
       "      <th>9305-CDSKC</th>\n",
       "      <td>8</td>\n",
       "      <td>1</td>\n",
       "      <td>1</td>\n",
       "      <td>0</td>\n",
       "      <td>1</td>\n",
       "    </tr>\n",
       "    <tr>\n",
       "      <th>7892-POOKP</th>\n",
       "      <td>28</td>\n",
       "      <td>1</td>\n",
       "      <td>1</td>\n",
       "      <td>0</td>\n",
       "      <td>1</td>\n",
       "    </tr>\n",
       "    <tr>\n",
       "      <th>0280-XJGEX</th>\n",
       "      <td>49</td>\n",
       "      <td>1</td>\n",
       "      <td>1</td>\n",
       "      <td>0</td>\n",
       "      <td>0</td>\n",
       "    </tr>\n",
       "  </tbody>\n",
       "</table>\n",
       "</div>"
      ],
      "text/plain": [
       "            Tenure Months  Internet Service_Fiber optic  \\\n",
       "CustomerID                                                \n",
       "3668-QPYBK              2                             0   \n",
       "9237-HQITU              2                             1   \n",
       "9305-CDSKC              8                             1   \n",
       "7892-POOKP             28                             1   \n",
       "0280-XJGEX             49                             1   \n",
       "\n",
       "            Contract_Month-to-month  Contract_Two year  \\\n",
       "CustomerID                                               \n",
       "3668-QPYBK                        1                  0   \n",
       "9237-HQITU                        1                  0   \n",
       "9305-CDSKC                        1                  0   \n",
       "7892-POOKP                        1                  0   \n",
       "0280-XJGEX                        1                  0   \n",
       "\n",
       "            Payment Method_Electronic check  \n",
       "CustomerID                                   \n",
       "3668-QPYBK                                0  \n",
       "9237-HQITU                                1  \n",
       "9305-CDSKC                                1  \n",
       "7892-POOKP                                1  \n",
       "0280-XJGEX                                0  "
      ]
     },
     "execution_count": 926,
     "metadata": {},
     "output_type": "execute_result"
    }
   ],
   "source": [
    "X_new.head()"
   ]
  },
  {
   "cell_type": "code",
   "execution_count": 927,
   "metadata": {},
   "outputs": [],
   "source": [
    "scaler = StandardScaler()\n",
    "\n",
    "X_scaled = scaler.fit_transform(X_new)\n",
    "\n",
    "X_train, X_test, y_train, y_test = train_test_split(X_scaled, y, test_size=.2, random_state=42)"
   ]
  },
  {
   "cell_type": "code",
   "execution_count": 928,
   "metadata": {},
   "outputs": [
    {
     "name": "stdout",
     "output_type": "stream",
     "text": [
      "(5625, 5) (1407, 5)\n"
     ]
    }
   ],
   "source": [
    "print(X_train.shape, X_test.shape)"
   ]
  },
  {
   "cell_type": "code",
   "execution_count": 929,
   "metadata": {},
   "outputs": [
    {
     "name": "stdout",
     "output_type": "stream",
     "text": [
      "(5625,) (1407,)\n"
     ]
    }
   ],
   "source": [
    "print(y_train.shape, y_test.shape)"
   ]
  },
  {
   "cell_type": "markdown",
   "metadata": {},
   "source": [
    "### Creating the models"
   ]
  },
  {
   "cell_type": "markdown",
   "metadata": {},
   "source": [
    "#### K Means Classifier"
   ]
  },
  {
   "cell_type": "code",
   "execution_count": 930,
   "metadata": {},
   "outputs": [
    {
     "data": {
      "text/plain": [
       "{'n_neighbors': 41}"
      ]
     },
     "execution_count": 930,
     "metadata": {},
     "output_type": "execute_result"
    }
   ],
   "source": [
    "param_grid = {'n_neighbors':np.arange(1,50)}\n",
    "\n",
    "knn = KNeighborsClassifier()\n",
    "\n",
    "clf = RandomizedSearchCV(knn, param_grid, random_state=0)\n",
    "search = clf.fit(X_train, y_train)\n",
    "search.best_params_"
   ]
  },
  {
   "cell_type": "code",
   "execution_count": 931,
   "metadata": {},
   "outputs": [
    {
     "data": {
      "text/plain": [
       "KNeighborsClassifier(n_neighbors=41)"
      ]
     },
     "execution_count": 931,
     "metadata": {},
     "output_type": "execute_result"
    }
   ],
   "source": [
    "knn = KNeighborsClassifier(n_neighbors=41)\n",
    "\n",
    "knn.fit(X_train, y_train)"
   ]
  },
  {
   "cell_type": "code",
   "execution_count": 932,
   "metadata": {},
   "outputs": [],
   "source": [
    "from sklearn.metrics import confusion_matrix\n",
    "y_pred = knn.predict(X_test)\n",
    "pl = confusion_matrix(y_test,y_pred)"
   ]
  },
  {
   "cell_type": "code",
   "execution_count": 933,
   "metadata": {},
   "outputs": [
    {
     "data": {
      "image/png": "[encoded data removed]",
      "text/plain": [
       "<Figure size 432x288 with 2 Axes>"
      ]
     },
     "metadata": {
      "needs_background": "light"
     },
     "output_type": "display_data"
    }
   ],
   "source": [
    "# plot_confusion_matrix(knn, X_test, y_test, cmap=plt.cm.Blues)\n",
    "# plt.title('Confusion Matrix')\n",
    "# plot_confusion_matrix(knn, X_test, y_test, cmap=plt.cm.Blues, normalize='true')\n",
    "# plt.title('Normalized Matrix')\n",
    "labels = ['Churn', 'Remain']\n",
    "\n",
    "\n",
    "fig = plt.figure()\n",
    "ax = fig.add_subplot(111)\n",
    "cax = ax.matshow(pl)\n",
    "plt.title('Confusion matrix of the classifier')\n",
    "fig.colorbar(cax)\n",
    "ax.set_xticklabels([''] + labels)\n",
    "ax.set_yticklabels([''] + labels)\n",
    "plt.xlabel('Predicted')\n",
    "plt.ylabel('True')\n",
    "plt.show()"
   ]
  },
  {
   "cell_type": "code",
   "execution_count": 934,
   "metadata": {},
   "outputs": [
    {
     "name": "stdout",
     "output_type": "stream",
     "text": [
      "[[921  91]\n",
      " [206 189]]\n"
     ]
    }
   ],
   "source": [
    "print(pl)"
   ]
  },
  {
   "cell_type": "code",
   "execution_count": 935,
   "metadata": {},
   "outputs": [
    {
     "name": "stdout",
     "output_type": "stream",
     "text": [
      "0.6942800320208135 0.7889125799573561\n"
     ]
    }
   ],
   "source": [
    "auc_kmeans = roc_auc_score(y_test, y_pred)\n",
    "acc_kmeans = accuracy_score(y_test,y_pred)\n",
    "print(auc_kmeans, acc_kmeans)"
   ]
  },
  {
   "cell_type": "markdown",
   "metadata": {},
   "source": [
    "As we can see, this model is alright, but we can likely do better with a different model. "
   ]
  },
  {
   "cell_type": "markdown",
   "metadata": {},
   "source": [
    "#### Ridge Classifier"
   ]
  },
  {
   "cell_type": "code",
   "execution_count": 936,
   "metadata": {},
   "outputs": [
    {
     "data": {
      "text/plain": [
       "{'alpha': 0.1}"
      ]
     },
     "execution_count": 936,
     "metadata": {},
     "output_type": "execute_result"
    }
   ],
   "source": [
    "from sklearn.model_selection import RepeatedStratifiedKFold\n",
    "\n",
    "ridge = RidgeClassifier()\n",
    "\n",
    "alphas = [0.1, 0.3, 0.5, 0.7, 0.9]\n",
    "\n",
    "param_grid = dict(alpha=alphas)\n",
    "\n",
    "cv = RepeatedStratifiedKFold(n_splits=10, n_repeats=3, random_state=1)\n",
    "\n",
    "grid = GridSearchCV(ridge, param_grid, n_jobs=-1, cv=cv, scoring='accuracy',error_score=0)\n",
    "\n",
    "search = grid.fit(X_train, y_train)\n",
    "\n",
    "search.best_params_"
   ]
  },
  {
   "cell_type": "code",
   "execution_count": 937,
   "metadata": {},
   "outputs": [
    {
     "data": {
      "text/plain": [
       "RidgeClassifier(alpha=0.1)"
      ]
     },
     "execution_count": 937,
     "metadata": {},
     "output_type": "execute_result"
    }
   ],
   "source": [
    "ridge = RidgeClassifier(alpha=0.1)\n",
    "\n",
    "ridge.fit(X_train, y_train)"
   ]
  },
  {
   "cell_type": "code",
   "execution_count": 938,
   "metadata": {},
   "outputs": [
    {
     "data": {
      "image/png": "[encoded data removed]",
      "text/plain": [
       "<Figure size 432x288 with 2 Axes>"
      ]
     },
     "metadata": {
      "needs_background": "light"
     },
     "output_type": "display_data"
    }
   ],
   "source": [
    "y_pred = ridge.predict(X_test)\n",
    "\n",
    "pl = confusion_matrix(y_test,y_pred)\n",
    "\n",
    "labels = ['Churn', 'Remain']\n",
    "\n",
    "\n",
    "fig = plt.figure()\n",
    "ax = fig.add_subplot(111)\n",
    "cax = ax.matshow(pl)\n",
    "plt.title('Confusion matrix of the classifier')\n",
    "fig.colorbar(cax)\n",
    "ax.set_xticklabels([''] + labels)\n",
    "ax.set_yticklabels([''] + labels)\n",
    "plt.xlabel('Predicted')\n",
    "plt.ylabel('True')\n",
    "plt.show()"
   ]
  },
  {
   "cell_type": "code",
   "execution_count": 939,
   "metadata": {},
   "outputs": [
    {
     "name": "stdout",
     "output_type": "stream",
     "text": [
      "[[925  87]\n",
      " [211 184]]\n"
     ]
    }
   ],
   "source": [
    "print(pl)"
   ]
  },
  {
   "cell_type": "code",
   "execution_count": 940,
   "metadata": {},
   "outputs": [
    {
     "name": "stdout",
     "output_type": "stream",
     "text": [
      "0.6899272026817431 0.7882018479033405\n"
     ]
    }
   ],
   "source": [
    "auc_ridge = roc_auc_score(y_test, y_pred)\n",
    "acc_ridge = accuracy_score(y_test,y_pred)\n",
    "print(auc_ridge, acc_ridge)"
   ]
  },
  {
   "cell_type": "markdown",
   "metadata": {},
   "source": [
    "#### SVC"
   ]
  },
  {
   "cell_type": "code",
   "execution_count": 942,
   "metadata": {},
   "outputs": [
    {
     "name": "stdout",
     "output_type": "stream",
     "text": [
      "{'C': 1.0, 'gamma': 'scale', 'kernel': 'rbf'}\n"
     ]
    }
   ],
   "source": [
    "svc = SVC()\n",
    "\n",
    "kernel = ['poly', 'rbf', 'sigmoid']\n",
    "C = [50, 10, 1.0, 0.1, 0.01]\n",
    "gamma = ['scale']\n",
    "# define grid search\n",
    "grid = dict(kernel=kernel,C=C,gamma=gamma)\n",
    "cv = RepeatedStratifiedKFold(n_splits=10, n_repeats=3, random_state=1)\n",
    "grid_search = GridSearchCV(estimator=svc, param_grid=grid, n_jobs=-1, cv=cv, scoring='accuracy',error_score=0)\n",
    "grid_result = grid_search.fit(X_train, y_train)\n",
    "\n",
    "print(grid_result.best_params_)"
   ]
  },
  {
   "cell_type": "code",
   "execution_count": 943,
   "metadata": {},
   "outputs": [
    {
     "data": {
      "text/plain": [
       "SVC(C=1)"
      ]
     },
     "execution_count": 943,
     "metadata": {},
     "output_type": "execute_result"
    }
   ],
   "source": [
    "svc = SVC(C=1, gamma='scale', kernel='rbf')\n",
    "\n",
    "svc.fit(X_train, y_train)"
   ]
  },
  {
   "cell_type": "code",
   "execution_count": 944,
   "metadata": {},
   "outputs": [
    {
     "data": {
      "image/png": "[encoded data removed]",
      "text/plain": [
       "<Figure size 432x288 with 2 Axes>"
      ]
     },
     "metadata": {
      "needs_background": "light"
     },
     "output_type": "display_data"
    }
   ],
   "source": [
    "y_pred = svc.predict(X_test)\n",
    "\n",
    "pl = confusion_matrix(y_test,y_pred)\n",
    "\n",
    "labels = ['Churn', 'Remain']\n",
    "\n",
    "\n",
    "fig = plt.figure()\n",
    "ax = fig.add_subplot(111)\n",
    "cax = ax.matshow(pl)\n",
    "plt.title('Confusion matrix of the classifier')\n",
    "fig.colorbar(cax)\n",
    "ax.set_xticklabels([''] + labels)\n",
    "ax.set_yticklabels([''] + labels)\n",
    "plt.xlabel('Predicted')\n",
    "plt.ylabel('True')\n",
    "plt.show()"
   ]
  },
  {
   "cell_type": "code",
   "execution_count": 945,
   "metadata": {},
   "outputs": [
    {
     "name": "stdout",
     "output_type": "stream",
     "text": [
      "[[909 103]\n",
      " [197 198]]\n"
     ]
    }
   ],
   "source": [
    "print(pl)"
   ]
  },
  {
   "cell_type": "code",
   "execution_count": 946,
   "metadata": {},
   "outputs": [
    {
     "name": "stdout",
     "output_type": "stream",
     "text": [
      "0.699743583329164 0.7867803837953091\n"
     ]
    }
   ],
   "source": [
    "auc_svc = roc_auc_score(y_test, y_pred)\n",
    "acc_svc = accuracy_score(y_test,y_pred)\n",
    "print(auc_svc, acc_svc)"
   ]
  },
  {
   "cell_type": "markdown",
   "metadata": {},
   "source": [
    "## Deep learning modeling using Keras"
   ]
  },
  {
   "cell_type": "code",
   "execution_count": 947,
   "metadata": {},
   "outputs": [],
   "source": [
    "from keras.layers import Dense\n",
    "from keras.models import Sequential\n",
    "from IPython.display import SVG\n",
    "from keras.optimizers import Adam\n",
    "from keras import regularizers\n",
    "from keras.utils.vis_utils import model_to_dot\n",
    "from keras import losses\n",
    "#import pydot\n",
    "from keras.utils.vis_utils import plot_model"
   ]
  },
  {
   "cell_type": "code",
   "execution_count": 964,
   "metadata": {},
   "outputs": [
    {
     "name": "stdout",
     "output_type": "stream",
     "text": [
      "Model: \"sequential_26\"\n",
      "_________________________________________________________________\n",
      "Layer (type)                 Output Shape              Param #   \n",
      "=================================================================\n",
      "dense_118 (Dense)            (None, 64)                384       \n",
      "_________________________________________________________________\n",
      "dense_119 (Dense)            (None, 32)                2080      \n",
      "_________________________________________________________________\n",
      "dense_120 (Dense)            (None, 16)                528       \n",
      "_________________________________________________________________\n",
      "dense_121 (Dense)            (None, 8)                 136       \n",
      "_________________________________________________________________\n",
      "dense_122 (Dense)            (None, 1)                 9         \n",
      "=================================================================\n",
      "Total params: 3,137\n",
      "Trainable params: 3,137\n",
      "Non-trainable params: 0\n",
      "_________________________________________________________________\n"
     ]
    },
    {
     "data": {
      "image/svg+xml": [
       "<svg xmlns=\"http://www.w3.org/2000/svg\" xmlns:xlink=\"http://www.w3.org/1999/xlink\" width=\"249pt\" height=\"547pt\" viewBox=\"0.00 0.00 187.00 410.00\">\n",
       "<g id=\"graph0\" class=\"graph\" transform=\"scale(1.33333 1.33333) rotate(0) translate(4 406)\">\n",
       "<title>G</title>\n",
       "<polygon fill=\"white\" stroke=\"none\" points=\"-4,4 -4,-406 183,-406 183,4 -4,4\"/>\n",
       "<!-- 2070181818480 -->\n",
       "<g id=\"node1\" class=\"node\"><title>2070181818480</title>\n",
       "<polygon fill=\"none\" stroke=\"black\" points=\"0,-365.5 0,-401.5 179,-401.5 179,-365.5 0,-365.5\"/>\n",
       "<text text-anchor=\"middle\" x=\"89.5\" y=\"-379.8\" font-family=\"Times New Roman,serif\" font-size=\"14.00\">dense_118_input: InputLayer</text>\n",
       "</g>\n",
       "<!-- 2070182962032 -->\n",
       "<g id=\"node2\" class=\"node\"><title>2070182962032</title>\n",
       "<polygon fill=\"none\" stroke=\"black\" points=\"30.5,-292.5 30.5,-328.5 148.5,-328.5 148.5,-292.5 30.5,-292.5\"/>\n",
       "<text text-anchor=\"middle\" x=\"89.5\" y=\"-306.8\" font-family=\"Times New Roman,serif\" font-size=\"14.00\">dense_118: Dense</text>\n",
       "</g>\n",
       "<!-- 2070181818480&#45;&gt;2070182962032 -->\n",
       "<g id=\"edge1\" class=\"edge\"><title>2070181818480-&gt;2070182962032</title>\n",
       "<path fill=\"none\" stroke=\"black\" d=\"M89.5,-365.313C89.5,-357.289 89.5,-347.547 89.5,-338.569\"/>\n",
       "<polygon fill=\"black\" stroke=\"black\" points=\"93.0001,-338.529 89.5,-328.529 86.0001,-338.529 93.0001,-338.529\"/>\n",
       "</g>\n",
       "<!-- 2070182913840 -->\n",
       "<g id=\"node3\" class=\"node\"><title>2070182913840</title>\n",
       "<polygon fill=\"none\" stroke=\"black\" points=\"30.5,-219.5 30.5,-255.5 148.5,-255.5 148.5,-219.5 30.5,-219.5\"/>\n",
       "<text text-anchor=\"middle\" x=\"89.5\" y=\"-233.8\" font-family=\"Times New Roman,serif\" font-size=\"14.00\">dense_119: Dense</text>\n",
       "</g>\n",
       "<!-- 2070182962032&#45;&gt;2070182913840 -->\n",
       "<g id=\"edge2\" class=\"edge\"><title>2070182962032-&gt;2070182913840</title>\n",
       "<path fill=\"none\" stroke=\"black\" d=\"M89.5,-292.313C89.5,-284.289 89.5,-274.547 89.5,-265.569\"/>\n",
       "<polygon fill=\"black\" stroke=\"black\" points=\"93.0001,-265.529 89.5,-255.529 86.0001,-265.529 93.0001,-265.529\"/>\n",
       "</g>\n",
       "<!-- 2070182902512 -->\n",
       "<g id=\"node4\" class=\"node\"><title>2070182902512</title>\n",
       "<polygon fill=\"none\" stroke=\"black\" points=\"30.5,-146.5 30.5,-182.5 148.5,-182.5 148.5,-146.5 30.5,-146.5\"/>\n",
       "<text text-anchor=\"middle\" x=\"89.5\" y=\"-160.8\" font-family=\"Times New Roman,serif\" font-size=\"14.00\">dense_120: Dense</text>\n",
       "</g>\n",
       "<!-- 2070182913840&#45;&gt;2070182902512 -->\n",
       "<g id=\"edge3\" class=\"edge\"><title>2070182913840-&gt;2070182902512</title>\n",
       "<path fill=\"none\" stroke=\"black\" d=\"M89.5,-219.313C89.5,-211.289 89.5,-201.547 89.5,-192.569\"/>\n",
       "<polygon fill=\"black\" stroke=\"black\" points=\"93.0001,-192.529 89.5,-182.529 86.0001,-192.529 93.0001,-192.529\"/>\n",
       "</g>\n",
       "<!-- 2070182901360 -->\n",
       "<g id=\"node5\" class=\"node\"><title>2070182901360</title>\n",
       "<polygon fill=\"none\" stroke=\"black\" points=\"30.5,-73.5 30.5,-109.5 148.5,-109.5 148.5,-73.5 30.5,-73.5\"/>\n",
       "<text text-anchor=\"middle\" x=\"89.5\" y=\"-87.8\" font-family=\"Times New Roman,serif\" font-size=\"14.00\">dense_121: Dense</text>\n",
       "</g>\n",
       "<!-- 2070182902512&#45;&gt;2070182901360 -->\n",
       "<g id=\"edge4\" class=\"edge\"><title>2070182902512-&gt;2070182901360</title>\n",
       "<path fill=\"none\" stroke=\"black\" d=\"M89.5,-146.313C89.5,-138.289 89.5,-128.547 89.5,-119.569\"/>\n",
       "<polygon fill=\"black\" stroke=\"black\" points=\"93.0001,-119.529 89.5,-109.529 86.0001,-119.529 93.0001,-119.529\"/>\n",
       "</g>\n",
       "<!-- 2070182947472 -->\n",
       "<g id=\"node6\" class=\"node\"><title>2070182947472</title>\n",
       "<polygon fill=\"none\" stroke=\"black\" points=\"30.5,-0.5 30.5,-36.5 148.5,-36.5 148.5,-0.5 30.5,-0.5\"/>\n",
       "<text text-anchor=\"middle\" x=\"89.5\" y=\"-14.8\" font-family=\"Times New Roman,serif\" font-size=\"14.00\">dense_122: Dense</text>\n",
       "</g>\n",
       "<!-- 2070182901360&#45;&gt;2070182947472 -->\n",
       "<g id=\"edge5\" class=\"edge\"><title>2070182901360-&gt;2070182947472</title>\n",
       "<path fill=\"none\" stroke=\"black\" d=\"M89.5,-73.3129C89.5,-65.2895 89.5,-55.5475 89.5,-46.5691\"/>\n",
       "<polygon fill=\"black\" stroke=\"black\" points=\"93.0001,-46.5288 89.5,-36.5288 86.0001,-46.5289 93.0001,-46.5288\"/>\n",
       "</g>\n",
       "</g>\n",
       "</svg>"
      ],
      "text/plain": [
       "<IPython.core.display.SVG object>"
      ]
     },
     "execution_count": 964,
     "metadata": {},
     "output_type": "execute_result"
    }
   ],
   "source": [
    "n_cols=X_train.shape[1]\n",
    "seq = Sequential()\n",
    "seq.add(Dense(64, input_shape=(n_cols,), activation='relu'))\n",
    "seq.add(Dense(32, activation='relu'))\n",
    "seq.add(Dense(16, activation='relu'))\n",
    "seq.add(Dense(8, activation='relu'))\n",
    "seq.add(Dense(1, activation='sigmoid'))\n",
    "\n",
    "seq.compile(loss='binary_crossentropy', optimizer='adam')\n",
    "seq.summary()\n",
    "\n",
    "#plot the a graph\n",
    "SVG(model_to_dot(seq).create(prog='dot', format='svg'))"
   ]
  },
  {
   "cell_type": "code",
   "execution_count": 965,
   "metadata": {},
   "outputs": [
    {
     "name": "stdout",
     "output_type": "stream",
     "text": [
      "176/176 [==============================] - 0s 1ms/step - loss: 0.4486\n",
      "Area under curve :  0.8363423725421524 \n",
      "\n"
     ]
    }
   ],
   "source": [
    "seq.fit(X_train, y_train)\n",
    "predictions   = seq.predict(X_test)\n",
    "probabilities = seq.predict_proba(X_test)\n",
    "\n",
    "seq_roc_auc = roc_auc_score(y_test,predictions) \n",
    "print (\"Area under curve : \",seq_roc_auc,\"\\n\")\n",
    "fpr,tpr,thresholds = roc_curve(y_test,probabilities)"
   ]
  },
  {
   "cell_type": "code",
   "execution_count": 966,
   "metadata": {},
   "outputs": [],
   "source": [
    "import plotly.graph_objects as go\n",
    "#plot roc curve\n",
    "trace2 = go.Scatter(x = fpr,y = tpr,\n",
    "                        name = \"Roc : \" + str(seq_roc_auc),\n",
    "                        line = dict(color = ('rgb(22, 96, 167)'),width = 2))\n",
    "trace3 = go.Scatter(x = [0,1],y=[0,1],\n",
    "                        line = dict(color = ('rgb(205, 12, 24)'),width = 2,\n",
    "                        dash = 'dot'))\n"
   ]
  },
  {
   "cell_type": "code",
   "execution_count": 967,
   "metadata": {},
   "outputs": [
    {
     "data": {
      "application/vnd.plotly.v1+json": {
       "config": {
        "linkText": "Export to plot.ly",
        "plotlyServerURL": "https://plot.ly",
        "showLink": false
       },
       "data": [
        {
         "line": {
          "color": "rgb(22, 96, 167)",
          "width": 2
         },
         "name": "Roc : 0.8363423725421524",
         "type": "scatter",
         "x": [
          0,
          0.003952569169960474,
          0.008893280632411068,
          0.014822134387351778,
          0.015810276679841896,
          0.018774703557312252,
          0.020750988142292492,
          0.021739130434782608,
          0.024703557312252964,
          0.02865612648221344,
          0.029644268774703556,
          0.030632411067193676,
          0.03359683794466403,
          0.03359683794466403,
          0.03557312252964427,
          0.03557312252964427,
          0.037549407114624504,
          0.038537549407114624,
          0.039525691699604744,
          0.041501976284584984,
          0.045454545454545456,
          0.046442687747035576,
          0.04743083003952569,
          0.05039525691699605,
          0.05138339920948617,
          0.05237154150197629,
          0.0533596837944664,
          0.05533596837944664,
          0.05632411067193676,
          0.05632411067193676,
          0.058300395256917,
          0.058300395256917,
          0.05928853754940711,
          0.06027667984189723,
          0.06126482213438735,
          0.06521739130434782,
          0.06620553359683795,
          0.07015810276679842,
          0.0741106719367589,
          0.07509881422924901,
          0.07707509881422925,
          0.07707509881422925,
          0.07806324110671936,
          0.08102766798418973,
          0.08300395256916997,
          0.08399209486166008,
          0.08498023715415019,
          0.08498023715415019,
          0.08794466403162056,
          0.08992094861660078,
          0.09189723320158102,
          0.09486166007905138,
          0.09683794466403162,
          0.09782608695652174,
          0.10177865612648221,
          0.10276679841897234,
          0.11067193675889328,
          0.11067193675889328,
          0.11264822134387352,
          0.11462450592885376,
          0.11462450592885376,
          0.11561264822134387,
          0.11758893280632411,
          0.11758893280632411,
          0.11857707509881422,
          0.11857707509881422,
          0.1225296442687747,
          0.1225296442687747,
          0.1225296442687747,
          0.12549407114624506,
          0.12845849802371542,
          0.13142292490118576,
          0.13438735177865613,
          0.13537549407114624,
          0.13932806324110672,
          0.14130434782608695,
          0.14130434782608695,
          0.1432806324110672,
          0.1442687747035573,
          0.14624505928853754,
          0.14624505928853754,
          0.14723320158102768,
          0.1492094861660079,
          0.15019762845849802,
          0.15118577075098813,
          0.15217391304347827,
          0.15217391304347827,
          0.1541501976284585,
          0.15612648221343872,
          0.1590909090909091,
          0.1590909090909091,
          0.16304347826086957,
          0.1650197628458498,
          0.16798418972332016,
          0.17193675889328064,
          0.17292490118577075,
          0.17391304347826086,
          0.17588932806324112,
          0.17687747035573123,
          0.17885375494071146,
          0.17984189723320157,
          0.18379446640316205,
          0.18478260869565216,
          0.18675889328063242,
          0.18873517786561264,
          0.18972332015810275,
          0.191699604743083,
          0.191699604743083,
          0.19268774703557312,
          0.1956521739130435,
          0.1976284584980237,
          0.19960474308300397,
          0.20059288537549408,
          0.20059288537549408,
          0.2015810276679842,
          0.2025691699604743,
          0.20454545454545456,
          0.20652173913043478,
          0.2075098814229249,
          0.208498023715415,
          0.21047430830039526,
          0.21047430830039526,
          0.2134387351778656,
          0.24110671936758893,
          0.24110671936758893,
          0.24703557312252963,
          0.24802371541501977,
          0.2490118577075099,
          0.25592885375494073,
          0.25691699604743085,
          0.25790513833992096,
          0.2618577075098814,
          0.2618577075098814,
          0.2727272727272727,
          0.2737154150197628,
          0.2816205533596838,
          0.2826086956521739,
          0.2885375494071146,
          0.28952569169960474,
          0.28952569169960474,
          0.2924901185770751,
          0.29446640316205536,
          0.2964426877470356,
          0.3073122529644269,
          0.3102766798418972,
          0.31719367588932806,
          0.3191699604743083,
          0.3241106719367589,
          0.32707509881422925,
          0.3290513833992095,
          0.3310276679841897,
          0.3349802371541502,
          0.3359683794466403,
          0.33794466403162055,
          0.33893280632411066,
          0.34189723320158105,
          0.3458498023715415,
          0.34782608695652173,
          0.34782608695652173,
          0.34980237154150196,
          0.34980237154150196,
          0.35079051383399207,
          0.35375494071146246,
          0.35375494071146246,
          0.3577075098814229,
          0.3577075098814229,
          0.35968379446640314,
          0.3616600790513834,
          0.3675889328063241,
          0.3695652173913043,
          0.3725296442687747,
          0.37450592885375494,
          0.37549407114624506,
          0.3794466403162055,
          0.3814229249011858,
          0.383399209486166,
          0.38636363636363635,
          0.3893280632411067,
          0.3922924901185771,
          0.39624505928853754,
          0.39822134387351776,
          0.39822134387351776,
          0.40118577075098816,
          0.40217391304347827,
          0.4061264822134387,
          0.40711462450592883,
          0.40711462450592883,
          0.40810276679841895,
          0.40810276679841895,
          0.41106719367588934,
          0.41304347826086957,
          0.4160079051383399,
          0.41798418972332013,
          0.4199604743083004,
          0.4199604743083004,
          0.4209486166007905,
          0.4209486166007905,
          0.42193675889328064,
          0.42391304347826086,
          0.42391304347826086,
          0.424901185770751,
          0.424901185770751,
          0.4268774703557312,
          0.4288537549407115,
          0.4288537549407115,
          0.4298418972332016,
          0.4298418972332016,
          0.4308300395256917,
          0.43280632411067194,
          0.43478260869565216,
          0.43873517786561267,
          0.43873517786561267,
          0.4407114624505929,
          0.44466403162055335,
          0.44466403162055335,
          0.44861660079051385,
          0.4505928853754941,
          0.4535573122529644,
          0.4535573122529644,
          0.45454545454545453,
          0.45553359683794464,
          0.4575098814229249,
          0.45948616600790515,
          0.4624505928853755,
          0.4644268774703557,
          0.4654150197628458,
          0.4673913043478261,
          0.4683794466403162,
          0.4743083003952569,
          0.4772727272727273,
          0.4792490118577075,
          0.4792490118577075,
          0.48122529644268774,
          0.48221343873517786,
          0.48221343873517786,
          0.48320158102766797,
          0.4851778656126482,
          0.48616600790513836,
          0.4881422924901186,
          0.49110671936758893,
          0.49209486166007904,
          0.49209486166007904,
          0.49407114624505927,
          0.4950592885375494,
          0.49604743083003955,
          0.4980237154150198,
          0.5,
          0.5,
          0.5,
          0.5019762845849802,
          0.5039525691699605,
          0.5039525691699605,
          0.5158102766798419,
          0.5177865612648221,
          0.5197628458498024,
          0.5217391304347826,
          0.5227272727272727,
          0.5247035573122529,
          0.525691699604743,
          0.525691699604743,
          0.5286561264822134,
          0.5296442687747036,
          0.532608695652174,
          0.5345849802371542,
          0.5365612648221344,
          0.541501976284585,
          0.5454545454545454,
          0.549407114624506,
          0.5533596837944664,
          0.5543478260869565,
          0.5563241106719368,
          0.5573122529644269,
          0.558300395256917,
          0.5622529644268774,
          0.5632411067193676,
          0.5662055335968379,
          0.567193675889328,
          0.567193675889328,
          0.5731225296442688,
          0.5741106719367589,
          0.5810276679841897,
          0.5849802371541502,
          0.5879446640316206,
          0.5909090909090909,
          0.5928853754940712,
          0.5968379446640316,
          0.6037549407114624,
          0.6057312252964426,
          0.6116600790513834,
          0.6126482213438735,
          0.6205533596837944,
          0.6235177865612648,
          0.6254940711462451,
          0.6284584980237155,
          0.6304347826086957,
          0.6373517786561265,
          0.6413043478260869,
          0.642292490118577,
          0.6442687747035574,
          0.6462450592885376,
          0.6482213438735178,
          0.6541501976284585,
          0.658102766798419,
          0.6600790513833992,
          0.6620553359683794,
          0.66600790513834,
          0.6699604743083004,
          0.6729249011857708,
          0.674901185770751,
          0.6788537549407114,
          0.682806324110672,
          0.682806324110672,
          0.6847826086956522,
          0.6897233201581028,
          0.6936758893280632,
          0.6946640316205533,
          0.6976284584980237,
          0.7015810276679841,
          0.7045454545454546,
          0.7065217391304348,
          0.7075098814229249,
          0.7114624505928854,
          0.7134387351778656,
          0.7164031620553359,
          0.7203557312252964,
          0.7213438735177866,
          0.7233201581027668,
          0.7262845849802372,
          0.7480237154150198,
          0.75,
          0.7519762845849802,
          0.7539525691699605,
          0.7549407114624506,
          0.7569169960474308,
          0.7598814229249012,
          0.7648221343873518,
          0.766798418972332,
          0.7687747035573123,
          0.7697628458498024,
          0.7707509881422925,
          0.7727272727272727,
          0.775691699604743,
          0.7796442687747036,
          0.7875494071146245,
          0.7895256916996047,
          0.7944664031620553,
          0.7974308300395256,
          0.799407114624506,
          0.8033596837944664,
          0.8033596837944664,
          0.8053359683794467,
          0.8073122529644269,
          0.8102766798418972,
          0.8162055335968379,
          0.817193675889328,
          0.8201581027667985,
          0.8211462450592886,
          0.8231225296442688,
          0.8241106719367589,
          0.8290513833992095,
          0.8320158102766798,
          0.8349802371541502,
          0.8389328063241107,
          0.8399209486166008,
          0.8458498023715415,
          0.8468379446640316,
          0.8507905138339921,
          0.8527667984189723,
          0.8586956521739131,
          0.8596837944664032,
          0.8646245059288538,
          0.8675889328063241,
          0.8685770750988142,
          0.8705533596837944,
          0.8715415019762845,
          0.8735177865612648,
          0.8784584980237155,
          0.8824110671936759,
          0.8913043478260869,
          0.8942687747035574,
          0.900197628458498,
          0.908102766798419,
          0.9179841897233202,
          0.9268774703557312,
          0.9278656126482213,
          0.9337944664031621,
          0.9426877470355731,
          0.9446640316205533,
          0.9664031620553359,
          0.9980237154150198,
          1
         ],
         "xaxis": "x2",
         "y": [
          0,
          0.07088607594936709,
          0.1189873417721519,
          0.1468354430379747,
          0.1620253164556962,
          0.17468354430379746,
          0.189873417721519,
          0.20759493670886076,
          0.22531645569620254,
          0.2430379746835443,
          0.2607594936708861,
          0.2607594936708861,
          0.26582278481012656,
          0.2708860759493671,
          0.27341772151898736,
          0.2810126582278481,
          0.28607594936708863,
          0.2911392405063291,
          0.2911392405063291,
          0.30632911392405066,
          0.31139240506329113,
          0.32151898734177214,
          0.3341772151898734,
          0.3367088607594937,
          0.3367088607594937,
          0.3569620253164557,
          0.3594936708860759,
          0.369620253164557,
          0.3822784810126582,
          0.389873417721519,
          0.3924050632911392,
          0.4,
          0.4050632911392405,
          0.40759493670886077,
          0.41265822784810124,
          0.4177215189873418,
          0.4253164556962025,
          0.43037974683544306,
          0.43544303797468353,
          0.44050632911392407,
          0.44556962025316454,
          0.4506329113924051,
          0.4582278481012658,
          0.46329113924050636,
          0.46329113924050636,
          0.46582278481012657,
          0.4759493670886076,
          0.4860759493670886,
          0.48860759493670886,
          0.4936708860759494,
          0.4962025316455696,
          0.5063291139240507,
          0.5063291139240507,
          0.5088607594936709,
          0.5113924050632911,
          0.5139240506329114,
          0.5443037974683544,
          0.5468354430379747,
          0.5468354430379747,
          0.5544303797468354,
          0.5620253164556962,
          0.5645569620253165,
          0.5772151898734177,
          0.579746835443038,
          0.5822784810126582,
          0.5873417721518988,
          0.5873417721518988,
          0.5924050632911393,
          0.5949367088607594,
          0.5974683544303797,
          0.6050632911392405,
          0.610126582278481,
          0.610126582278481,
          0.610126582278481,
          0.6126582278481013,
          0.6177215189873417,
          0.6227848101265823,
          0.6253164556962025,
          0.6253164556962025,
          0.6278481012658228,
          0.6329113924050633,
          0.6354430379746835,
          0.6354430379746835,
          0.640506329113924,
          0.640506329113924,
          0.6430379746835443,
          0.6481012658227848,
          0.6481012658227848,
          0.6531645569620254,
          0.6531645569620254,
          0.6556962025316456,
          0.6582278481012658,
          0.660759493670886,
          0.6632911392405063,
          0.6632911392405063,
          0.6632911392405063,
          0.6658227848101266,
          0.6658227848101266,
          0.6708860759493671,
          0.6708860759493671,
          0.6734177215189874,
          0.6734177215189874,
          0.6734177215189874,
          0.6759493670886076,
          0.6759493670886076,
          0.6759493670886076,
          0.6784810126582278,
          0.6835443037974683,
          0.6835443037974683,
          0.6835443037974683,
          0.6835443037974683,
          0.6835443037974683,
          0.6886075949367089,
          0.6911392405063291,
          0.6936708860759494,
          0.6936708860759494,
          0.6936708860759494,
          0.6962025316455697,
          0.6987341772151898,
          0.6987341772151898,
          0.7012658227848101,
          0.7063291139240506,
          0.7063291139240506,
          0.7620253164556962,
          0.7645569620253164,
          0.7721518987341772,
          0.7721518987341772,
          0.7772151898734178,
          0.779746835443038,
          0.7822784810126582,
          0.7822784810126582,
          0.7822784810126582,
          0.7848101265822784,
          0.7974683544303798,
          0.8025316455696202,
          0.8075949367088607,
          0.8075949367088607,
          0.8126582278481013,
          0.8126582278481013,
          0.8151898734177215,
          0.8177215189873418,
          0.8177215189873418,
          0.8177215189873418,
          0.8202531645569621,
          0.8202531645569621,
          0.8253164556962025,
          0.8253164556962025,
          0.8253164556962025,
          0.8253164556962025,
          0.8253164556962025,
          0.8253164556962025,
          0.8253164556962025,
          0.8278481012658228,
          0.8278481012658228,
          0.8278481012658228,
          0.830379746835443,
          0.830379746835443,
          0.830379746835443,
          0.8329113924050633,
          0.8329113924050633,
          0.8354430379746836,
          0.8405063291139241,
          0.8405063291139241,
          0.8430379746835444,
          0.8430379746835444,
          0.8455696202531645,
          0.8481012658227848,
          0.8481012658227848,
          0.8481012658227848,
          0.8481012658227848,
          0.8481012658227848,
          0.8481012658227848,
          0.8481012658227848,
          0.850632911392405,
          0.8531645569620253,
          0.8531645569620253,
          0.8531645569620253,
          0.8531645569620253,
          0.8531645569620253,
          0.8556962025316456,
          0.8556962025316456,
          0.8582278481012658,
          0.8632911392405064,
          0.8632911392405064,
          0.8632911392405064,
          0.8632911392405064,
          0.8658227848101265,
          0.8658227848101265,
          0.8683544303797468,
          0.8708860759493671,
          0.8734177215189873,
          0.8734177215189873,
          0.8734177215189873,
          0.8734177215189873,
          0.8759493670886076,
          0.8759493670886076,
          0.8784810126582279,
          0.8784810126582279,
          0.8810126582278481,
          0.8835443037974684,
          0.8835443037974684,
          0.8886075949367088,
          0.8886075949367088,
          0.8886075949367088,
          0.8911392405063291,
          0.8911392405063291,
          0.8936708860759494,
          0.8936708860759494,
          0.8987341772151899,
          0.8987341772151899,
          0.8987341772151899,
          0.9012658227848102,
          0.9012658227848102,
          0.9012658227848102,
          0.9037974683544304,
          0.9037974683544304,
          0.9088607594936708,
          0.9113924050632911,
          0.9189873417721519,
          0.9189873417721519,
          0.9215189873417722,
          0.9215189873417722,
          0.9215189873417722,
          0.9215189873417722,
          0.9215189873417722,
          0.9215189873417722,
          0.9215189873417722,
          0.9215189873417722,
          0.9215189873417722,
          0.9215189873417722,
          0.9215189873417722,
          0.9240506329113924,
          0.9265822784810127,
          0.9265822784810127,
          0.9291139240506329,
          0.9291139240506329,
          0.9291139240506329,
          0.9291139240506329,
          0.9316455696202531,
          0.9341772151898734,
          0.9341772151898734,
          0.9367088607594937,
          0.9367088607594937,
          0.9417721518987342,
          0.9417721518987342,
          0.9417721518987342,
          0.9417721518987342,
          0.9468354430379747,
          0.9493670886075949,
          0.9493670886075949,
          0.9493670886075949,
          0.9518987341772152,
          0.9518987341772152,
          0.9518987341772152,
          0.9518987341772152,
          0.9518987341772152,
          0.9518987341772152,
          0.9518987341772152,
          0.9518987341772152,
          0.9544303797468354,
          0.9544303797468354,
          0.9569620253164557,
          0.9569620253164557,
          0.9569620253164557,
          0.9569620253164557,
          0.959493670886076,
          0.959493670886076,
          0.959493670886076,
          0.959493670886076,
          0.959493670886076,
          0.959493670886076,
          0.9620253164556962,
          0.9620253164556962,
          0.9620253164556962,
          0.9620253164556962,
          0.9620253164556962,
          0.9620253164556962,
          0.9645569620253165,
          0.9645569620253165,
          0.9645569620253165,
          0.9645569620253165,
          0.9645569620253165,
          0.9645569620253165,
          0.9645569620253165,
          0.9645569620253165,
          0.9670886075949368,
          0.9670886075949368,
          0.9670886075949368,
          0.9670886075949368,
          0.9670886075949368,
          0.9670886075949368,
          0.9670886075949368,
          0.9670886075949368,
          0.9670886075949368,
          0.9670886075949368,
          0.9670886075949368,
          0.9670886075949368,
          0.9670886075949368,
          0.9696202531645569,
          0.9696202531645569,
          0.9696202531645569,
          0.9696202531645569,
          0.9696202531645569,
          0.9721518987341772,
          0.9721518987341772,
          0.9721518987341772,
          0.9721518987341772,
          0.9721518987341772,
          0.9721518987341772,
          0.9721518987341772,
          0.9721518987341772,
          0.9746835443037974,
          0.9746835443037974,
          0.9746835443037974,
          0.9746835443037974,
          0.9746835443037974,
          0.9746835443037974,
          0.9746835443037974,
          0.9746835443037974,
          0.9746835443037974,
          0.9746835443037974,
          0.9746835443037974,
          0.9746835443037974,
          0.9772151898734177,
          0.9822784810126582,
          0.9822784810126582,
          0.9822784810126582,
          0.9848101265822785,
          0.9848101265822785,
          0.9848101265822785,
          0.9848101265822785,
          0.9848101265822785,
          0.9848101265822785,
          0.9848101265822785,
          0.9848101265822785,
          0.9848101265822785,
          0.9848101265822785,
          0.9848101265822785,
          0.9873417721518988,
          0.9873417721518988,
          0.9873417721518988,
          0.9873417721518988,
          0.9873417721518988,
          0.9873417721518988,
          0.9873417721518988,
          0.9873417721518988,
          0.9873417721518988,
          0.9873417721518988,
          0.9873417721518988,
          0.9898734177215189,
          0.9898734177215189,
          0.9898734177215189,
          0.9898734177215189,
          0.9898734177215189,
          0.9898734177215189,
          0.9898734177215189,
          0.9898734177215189,
          0.9898734177215189,
          0.9898734177215189,
          0.9898734177215189,
          0.9898734177215189,
          0.9898734177215189,
          0.9898734177215189,
          0.9898734177215189,
          0.9898734177215189,
          0.9898734177215189,
          0.9898734177215189,
          0.9898734177215189,
          0.9898734177215189,
          0.9924050632911392,
          0.9924050632911392,
          0.9924050632911392,
          0.9924050632911392,
          0.9924050632911392,
          0.9949367088607595,
          0.9949367088607595,
          0.9949367088607595,
          0.9949367088607595,
          0.9949367088607595,
          0.9974683544303797,
          0.9974683544303797,
          1,
          1,
          1,
          1,
          1,
          1,
          1,
          1,
          1,
          1
         ],
         "yaxis": "y2"
        },
        {
         "line": {
          "color": "rgb(205, 12, 24)",
          "dash": "dot",
          "width": 2
         },
         "type": "scatter",
         "x": [
          0,
          1
         ],
         "xaxis": "x2",
         "y": [
          0,
          1
         ],
         "yaxis": "y2"
        }
       ],
       "layout": {
        "annotations": [
         {
          "font": {
           "size": 16
          },
          "showarrow": false,
          "text": "ROC",
          "x": 0.775,
          "xanchor": "center",
          "xref": "paper",
          "y": 1,
          "yanchor": "bottom",
          "yref": "paper"
         }
        ],
        "template": {
         "data": {
          "bar": [
           {
            "error_x": {
             "color": "#2a3f5f"
            },
            "error_y": {
             "color": "#2a3f5f"
            },
            "marker": {
             "line": {
              "color": "#E5ECF6",
              "width": 0.5
             }
            },
            "type": "bar"
           }
          ],
          "barpolar": [
           {
            "marker": {
             "line": {
              "color": "#E5ECF6",
              "width": 0.5
             }
            },
            "type": "barpolar"
           }
          ],
          "carpet": [
           {
            "aaxis": {
             "endlinecolor": "#2a3f5f",
             "gridcolor": "white",
             "linecolor": "white",
             "minorgridcolor": "white",
             "startlinecolor": "#2a3f5f"
            },
            "baxis": {
             "endlinecolor": "#2a3f5f",
             "gridcolor": "white",
             "linecolor": "white",
             "minorgridcolor": "white",
             "startlinecolor": "#2a3f5f"
            },
            "type": "carpet"
           }
          ],
          "choropleth": [
           {
            "colorbar": {
             "outlinewidth": 0,
             "ticks": ""
            },
            "type": "choropleth"
           }
          ],
          "contour": [
           {
            "colorbar": {
             "outlinewidth": 0,
             "ticks": ""
            },
            "colorscale": [
             [
              0,
              "#0d0887"
             ],
             [
              0.1111111111111111,
              "#46039f"
             ],
             [
              0.2222222222222222,
              "#7201a8"
             ],
             [
              0.3333333333333333,
              "#9c179e"
             ],
             [
              0.4444444444444444,
              "#bd3786"
             ],
             [
              0.5555555555555556,
              "#d8576b"
             ],
             [
              0.6666666666666666,
              "#ed7953"
             ],
             [
              0.7777777777777778,
              "#fb9f3a"
             ],
             [
              0.8888888888888888,
              "#fdca26"
             ],
             [
              1,
              "#f0f921"
             ]
            ],
            "type": "contour"
           }
          ],
          "contourcarpet": [
           {
            "colorbar": {
             "outlinewidth": 0,
             "ticks": ""
            },
            "type": "contourcarpet"
           }
          ],
          "heatmap": [
           {
            "colorbar": {
             "outlinewidth": 0,
             "ticks": ""
            },
            "colorscale": [
             [
              0,
              "#0d0887"
             ],
             [
              0.1111111111111111,
              "#46039f"
             ],
             [
              0.2222222222222222,
              "#7201a8"
             ],
             [
              0.3333333333333333,
              "#9c179e"
             ],
             [
              0.4444444444444444,
              "#bd3786"
             ],
             [
              0.5555555555555556,
              "#d8576b"
             ],
             [
              0.6666666666666666,
              "#ed7953"
             ],
             [
              0.7777777777777778,
              "#fb9f3a"
             ],
             [
              0.8888888888888888,
              "#fdca26"
             ],
             [
              1,
              "#f0f921"
             ]
            ],
            "type": "heatmap"
           }
          ],
          "heatmapgl": [
           {
            "colorbar": {
             "outlinewidth": 0,
             "ticks": ""
            },
            "colorscale": [
             [
              0,
              "#0d0887"
             ],
             [
              0.1111111111111111,
              "#46039f"
             ],
             [
              0.2222222222222222,
              "#7201a8"
             ],
             [
              0.3333333333333333,
              "#9c179e"
             ],
             [
              0.4444444444444444,
              "#bd3786"
             ],
             [
              0.5555555555555556,
              "#d8576b"
             ],
             [
              0.6666666666666666,
              "#ed7953"
             ],
             [
              0.7777777777777778,
              "#fb9f3a"
             ],
             [
              0.8888888888888888,
              "#fdca26"
             ],
             [
              1,
              "#f0f921"
             ]
            ],
            "type": "heatmapgl"
           }
          ],
          "histogram": [
           {
            "marker": {
             "colorbar": {
              "outlinewidth": 0,
              "ticks": ""
             }
            },
            "type": "histogram"
           }
          ],
          "histogram2d": [
           {
            "colorbar": {
             "outlinewidth": 0,
             "ticks": ""
            },
            "colorscale": [
             [
              0,
              "#0d0887"
             ],
             [
              0.1111111111111111,
              "#46039f"
             ],
             [
              0.2222222222222222,
              "#7201a8"
             ],
             [
              0.3333333333333333,
              "#9c179e"
             ],
             [
              0.4444444444444444,
              "#bd3786"
             ],
             [
              0.5555555555555556,
              "#d8576b"
             ],
             [
              0.6666666666666666,
              "#ed7953"
             ],
             [
              0.7777777777777778,
              "#fb9f3a"
             ],
             [
              0.8888888888888888,
              "#fdca26"
             ],
             [
              1,
              "#f0f921"
             ]
            ],
            "type": "histogram2d"
           }
          ],
          "histogram2dcontour": [
           {
            "colorbar": {
             "outlinewidth": 0,
             "ticks": ""
            },
            "colorscale": [
             [
              0,
              "#0d0887"
             ],
             [
              0.1111111111111111,
              "#46039f"
             ],
             [
              0.2222222222222222,
              "#7201a8"
             ],
             [
              0.3333333333333333,
              "#9c179e"
             ],
             [
              0.4444444444444444,
              "#bd3786"
             ],
             [
              0.5555555555555556,
              "#d8576b"
             ],
             [
              0.6666666666666666,
              "#ed7953"
             ],
             [
              0.7777777777777778,
              "#fb9f3a"
             ],
             [
              0.8888888888888888,
              "#fdca26"
             ],
             [
              1,
              "#f0f921"
             ]
            ],
            "type": "histogram2dcontour"
           }
          ],
          "mesh3d": [
           {
            "colorbar": {
             "outlinewidth": 0,
             "ticks": ""
            },
            "type": "mesh3d"
           }
          ],
          "parcoords": [
           {
            "line": {
             "colorbar": {
              "outlinewidth": 0,
              "ticks": ""
             }
            },
            "type": "parcoords"
           }
          ],
          "pie": [
           {
            "automargin": true,
            "type": "pie"
           }
          ],
          "scatter": [
           {
            "marker": {
             "colorbar": {
              "outlinewidth": 0,
              "ticks": ""
             }
            },
            "type": "scatter"
           }
          ],
          "scatter3d": [
           {
            "line": {
             "colorbar": {
              "outlinewidth": 0,
              "ticks": ""
             }
            },
            "marker": {
             "colorbar": {
              "outlinewidth": 0,
              "ticks": ""
             }
            },
            "type": "scatter3d"
           }
          ],
          "scattercarpet": [
           {
            "marker": {
             "colorbar": {
              "outlinewidth": 0,
              "ticks": ""
             }
            },
            "type": "scattercarpet"
           }
          ],
          "scattergeo": [
           {
            "marker": {
             "colorbar": {
              "outlinewidth": 0,
              "ticks": ""
             }
            },
            "type": "scattergeo"
           }
          ],
          "scattergl": [
           {
            "marker": {
             "colorbar": {
              "outlinewidth": 0,
              "ticks": ""
             }
            },
            "type": "scattergl"
           }
          ],
          "scattermapbox": [
           {
            "marker": {
             "colorbar": {
              "outlinewidth": 0,
              "ticks": ""
             }
            },
            "type": "scattermapbox"
           }
          ],
          "scatterpolar": [
           {
            "marker": {
             "colorbar": {
              "outlinewidth": 0,
              "ticks": ""
             }
            },
            "type": "scatterpolar"
           }
          ],
          "scatterpolargl": [
           {
            "marker": {
             "colorbar": {
              "outlinewidth": 0,
              "ticks": ""
             }
            },
            "type": "scatterpolargl"
           }
          ],
          "scatterternary": [
           {
            "marker": {
             "colorbar": {
              "outlinewidth": 0,
              "ticks": ""
             }
            },
            "type": "scatterternary"
           }
          ],
          "surface": [
           {
            "colorbar": {
             "outlinewidth": 0,
             "ticks": ""
            },
            "colorscale": [
             [
              0,
              "#0d0887"
             ],
             [
              0.1111111111111111,
              "#46039f"
             ],
             [
              0.2222222222222222,
              "#7201a8"
             ],
             [
              0.3333333333333333,
              "#9c179e"
             ],
             [
              0.4444444444444444,
              "#bd3786"
             ],
             [
              0.5555555555555556,
              "#d8576b"
             ],
             [
              0.6666666666666666,
              "#ed7953"
             ],
             [
              0.7777777777777778,
              "#fb9f3a"
             ],
             [
              0.8888888888888888,
              "#fdca26"
             ],
             [
              1,
              "#f0f921"
             ]
            ],
            "type": "surface"
           }
          ],
          "table": [
           {
            "cells": {
             "fill": {
              "color": "#EBF0F8"
             },
             "line": {
              "color": "white"
             }
            },
            "header": {
             "fill": {
              "color": "#C8D4E3"
             },
             "line": {
              "color": "white"
             }
            },
            "type": "table"
           }
          ]
         },
         "layout": {
          "annotationdefaults": {
           "arrowcolor": "#2a3f5f",
           "arrowhead": 0,
           "arrowwidth": 1
          },
          "coloraxis": {
           "colorbar": {
            "outlinewidth": 0,
            "ticks": ""
           }
          },
          "colorscale": {
           "diverging": [
            [
             0,
             "#8e0152"
            ],
            [
             0.1,
             "#c51b7d"
            ],
            [
             0.2,
             "#de77ae"
            ],
            [
             0.3,
             "#f1b6da"
            ],
            [
             0.4,
             "#fde0ef"
            ],
            [
             0.5,
             "#f7f7f7"
            ],
            [
             0.6,
             "#e6f5d0"
            ],
            [
             0.7,
             "#b8e186"
            ],
            [
             0.8,
             "#7fbc41"
            ],
            [
             0.9,
             "#4d9221"
            ],
            [
             1,
             "#276419"
            ]
           ],
           "sequential": [
            [
             0,
             "#0d0887"
            ],
            [
             0.1111111111111111,
             "#46039f"
            ],
            [
             0.2222222222222222,
             "#7201a8"
            ],
            [
             0.3333333333333333,
             "#9c179e"
            ],
            [
             0.4444444444444444,
             "#bd3786"
            ],
            [
             0.5555555555555556,
             "#d8576b"
            ],
            [
             0.6666666666666666,
             "#ed7953"
            ],
            [
             0.7777777777777778,
             "#fb9f3a"
            ],
            [
             0.8888888888888888,
             "#fdca26"
            ],
            [
             1,
             "#f0f921"
            ]
           ],
           "sequentialminus": [
            [
             0,
             "#0d0887"
            ],
            [
             0.1111111111111111,
             "#46039f"
            ],
            [
             0.2222222222222222,
             "#7201a8"
            ],
            [
             0.3333333333333333,
             "#9c179e"
            ],
            [
             0.4444444444444444,
             "#bd3786"
            ],
            [
             0.5555555555555556,
             "#d8576b"
            ],
            [
             0.6666666666666666,
             "#ed7953"
            ],
            [
             0.7777777777777778,
             "#fb9f3a"
            ],
            [
             0.8888888888888888,
             "#fdca26"
            ],
            [
             1,
             "#f0f921"
            ]
           ]
          },
          "colorway": [
           "#636efa",
           "#EF553B",
           "#00cc96",
           "#ab63fa",
           "#FFA15A",
           "#19d3f3",
           "#FF6692",
           "#B6E880",
           "#FF97FF",
           "#FECB52"
          ],
          "font": {
           "color": "#2a3f5f"
          },
          "geo": {
           "bgcolor": "white",
           "lakecolor": "white",
           "landcolor": "#E5ECF6",
           "showlakes": true,
           "showland": true,
           "subunitcolor": "white"
          },
          "hoverlabel": {
           "align": "left"
          },
          "hovermode": "closest",
          "mapbox": {
           "style": "light"
          },
          "paper_bgcolor": "white",
          "plot_bgcolor": "#E5ECF6",
          "polar": {
           "angularaxis": {
            "gridcolor": "white",
            "linecolor": "white",
            "ticks": ""
           },
           "bgcolor": "#E5ECF6",
           "radialaxis": {
            "gridcolor": "white",
            "linecolor": "white",
            "ticks": ""
           }
          },
          "scene": {
           "xaxis": {
            "backgroundcolor": "#E5ECF6",
            "gridcolor": "white",
            "gridwidth": 2,
            "linecolor": "white",
            "showbackground": true,
            "ticks": "",
            "zerolinecolor": "white"
           },
           "yaxis": {
            "backgroundcolor": "#E5ECF6",
            "gridcolor": "white",
            "gridwidth": 2,
            "linecolor": "white",
            "showbackground": true,
            "ticks": "",
            "zerolinecolor": "white"
           },
           "zaxis": {
            "backgroundcolor": "#E5ECF6",
            "gridcolor": "white",
            "gridwidth": 2,
            "linecolor": "white",
            "showbackground": true,
            "ticks": "",
            "zerolinecolor": "white"
           }
          },
          "shapedefaults": {
           "line": {
            "color": "#2a3f5f"
           }
          },
          "ternary": {
           "aaxis": {
            "gridcolor": "white",
            "linecolor": "white",
            "ticks": ""
           },
           "baxis": {
            "gridcolor": "white",
            "linecolor": "white",
            "ticks": ""
           },
           "bgcolor": "#E5ECF6",
           "caxis": {
            "gridcolor": "white",
            "linecolor": "white",
            "ticks": ""
           }
          },
          "title": {
           "x": 0.05
          },
          "xaxis": {
           "automargin": true,
           "gridcolor": "white",
           "linecolor": "white",
           "ticks": "",
           "title": {
            "standoff": 15
           },
           "zerolinecolor": "white",
           "zerolinewidth": 2
          },
          "yaxis": {
           "automargin": true,
           "gridcolor": "white",
           "linecolor": "white",
           "ticks": "",
           "title": {
            "standoff": 15
           },
           "zerolinecolor": "white",
           "zerolinewidth": 2
          }
         }
        },
        "xaxis": {
         "anchor": "y",
         "domain": [
          0,
          0.45
         ]
        },
        "xaxis2": {
         "anchor": "y2",
         "domain": [
          0.55,
          1
         ]
        },
        "xaxis3": {
         "anchor": "y3",
         "domain": [
          0,
          1
         ]
        },
        "yaxis": {
         "anchor": "x",
         "domain": [
          0.625,
          1
         ]
        },
        "yaxis2": {
         "anchor": "x2",
         "domain": [
          0.625,
          1
         ]
        },
        "yaxis3": {
         "anchor": "x3",
         "domain": [
          0,
          0.375
         ]
        }
       }
      },
      "text/html": [
       "<div>                            <div id=\"9522f60e-e8e7-4784-8367-a2e2a4ea7033\" class=\"plotly-graph-div\" style=\"height:525px; width:100%;\"></div>            <script type=\"text/javascript\">                require([\"plotly\"], function(Plotly) {                    window.PLOTLYENV=window.PLOTLYENV || {};                                    if (document.getElementById(\"9522f60e-e8e7-4784-8367-a2e2a4ea7033\")) {                    Plotly.newPlot(                        \"9522f60e-e8e7-4784-8367-a2e2a4ea7033\",                        [{\"line\": {\"color\": \"rgb(22, 96, 167)\", \"width\": 2}, \"name\": \"Roc : 0.8363423725421524\", \"type\": \"scatter\", \"x\": [0.0, 0.003952569169960474, 0.008893280632411068, 0.014822134387351778, 0.015810276679841896, 0.018774703557312252, 0.020750988142292492, 0.021739130434782608, 0.024703557312252964, 0.02865612648221344, 0.029644268774703556, 0.030632411067193676, 0.03359683794466403, 0.03359683794466403, 0.03557312252964427, 0.03557312252964427, 0.037549407114624504, 0.038537549407114624, 0.039525691699604744, 0.041501976284584984, 0.045454545454545456, 0.046442687747035576, 0.04743083003952569, 0.05039525691699605, 0.05138339920948617, 0.05237154150197629, 0.0533596837944664, 0.05533596837944664, 0.05632411067193676, 0.05632411067193676, 0.058300395256917, 0.058300395256917, 0.05928853754940711, 0.06027667984189723, 0.06126482213438735, 0.06521739130434782, 0.06620553359683795, 0.07015810276679842, 0.0741106719367589, 0.07509881422924901, 0.07707509881422925, 0.07707509881422925, 0.07806324110671936, 0.08102766798418973, 0.08300395256916997, 0.08399209486166008, 0.08498023715415019, 0.08498023715415019, 0.08794466403162056, 0.08992094861660078, 0.09189723320158102, 0.09486166007905138, 0.09683794466403162, 0.09782608695652174, 0.10177865612648221, 0.10276679841897234, 0.11067193675889328, 0.11067193675889328, 0.11264822134387352, 0.11462450592885376, 0.11462450592885376, 0.11561264822134387, 0.11758893280632411, 0.11758893280632411, 0.11857707509881422, 0.11857707509881422, 0.1225296442687747, 0.1225296442687747, 0.1225296442687747, 0.12549407114624506, 0.12845849802371542, 0.13142292490118576, 0.13438735177865613, 0.13537549407114624, 0.13932806324110672, 0.14130434782608695, 0.14130434782608695, 0.1432806324110672, 0.1442687747035573, 0.14624505928853754, 0.14624505928853754, 0.14723320158102768, 0.1492094861660079, 0.15019762845849802, 0.15118577075098813, 0.15217391304347827, 0.15217391304347827, 0.1541501976284585, 0.15612648221343872, 0.1590909090909091, 0.1590909090909091, 0.16304347826086957, 0.1650197628458498, 0.16798418972332016, 0.17193675889328064, 0.17292490118577075, 0.17391304347826086, 0.17588932806324112, 0.17687747035573123, 0.17885375494071146, 0.17984189723320157, 0.18379446640316205, 0.18478260869565216, 0.18675889328063242, 0.18873517786561264, 0.18972332015810275, 0.191699604743083, 0.191699604743083, 0.19268774703557312, 0.1956521739130435, 0.1976284584980237, 0.19960474308300397, 0.20059288537549408, 0.20059288537549408, 0.2015810276679842, 0.2025691699604743, 0.20454545454545456, 0.20652173913043478, 0.2075098814229249, 0.208498023715415, 0.21047430830039526, 0.21047430830039526, 0.2134387351778656, 0.24110671936758893, 0.24110671936758893, 0.24703557312252963, 0.24802371541501977, 0.2490118577075099, 0.25592885375494073, 0.25691699604743085, 0.25790513833992096, 0.2618577075098814, 0.2618577075098814, 0.2727272727272727, 0.2737154150197628, 0.2816205533596838, 0.2826086956521739, 0.2885375494071146, 0.28952569169960474, 0.28952569169960474, 0.2924901185770751, 0.29446640316205536, 0.2964426877470356, 0.3073122529644269, 0.3102766798418972, 0.31719367588932806, 0.3191699604743083, 0.3241106719367589, 0.32707509881422925, 0.3290513833992095, 0.3310276679841897, 0.3349802371541502, 0.3359683794466403, 0.33794466403162055, 0.33893280632411066, 0.34189723320158105, 0.3458498023715415, 0.34782608695652173, 0.34782608695652173, 0.34980237154150196, 0.34980237154150196, 0.35079051383399207, 0.35375494071146246, 0.35375494071146246, 0.3577075098814229, 0.3577075098814229, 0.35968379446640314, 0.3616600790513834, 0.3675889328063241, 0.3695652173913043, 0.3725296442687747, 0.37450592885375494, 0.37549407114624506, 0.3794466403162055, 0.3814229249011858, 0.383399209486166, 0.38636363636363635, 0.3893280632411067, 0.3922924901185771, 0.39624505928853754, 0.39822134387351776, 0.39822134387351776, 0.40118577075098816, 0.40217391304347827, 0.4061264822134387, 0.40711462450592883, 0.40711462450592883, 0.40810276679841895, 0.40810276679841895, 0.41106719367588934, 0.41304347826086957, 0.4160079051383399, 0.41798418972332013, 0.4199604743083004, 0.4199604743083004, 0.4209486166007905, 0.4209486166007905, 0.42193675889328064, 0.42391304347826086, 0.42391304347826086, 0.424901185770751, 0.424901185770751, 0.4268774703557312, 0.4288537549407115, 0.4288537549407115, 0.4298418972332016, 0.4298418972332016, 0.4308300395256917, 0.43280632411067194, 0.43478260869565216, 0.43873517786561267, 0.43873517786561267, 0.4407114624505929, 0.44466403162055335, 0.44466403162055335, 0.44861660079051385, 0.4505928853754941, 0.4535573122529644, 0.4535573122529644, 0.45454545454545453, 0.45553359683794464, 0.4575098814229249, 0.45948616600790515, 0.4624505928853755, 0.4644268774703557, 0.4654150197628458, 0.4673913043478261, 0.4683794466403162, 0.4743083003952569, 0.4772727272727273, 0.4792490118577075, 0.4792490118577075, 0.48122529644268774, 0.48221343873517786, 0.48221343873517786, 0.48320158102766797, 0.4851778656126482, 0.48616600790513836, 0.4881422924901186, 0.49110671936758893, 0.49209486166007904, 0.49209486166007904, 0.49407114624505927, 0.4950592885375494, 0.49604743083003955, 0.4980237154150198, 0.5, 0.5, 0.5, 0.5019762845849802, 0.5039525691699605, 0.5039525691699605, 0.5158102766798419, 0.5177865612648221, 0.5197628458498024, 0.5217391304347826, 0.5227272727272727, 0.5247035573122529, 0.525691699604743, 0.525691699604743, 0.5286561264822134, 0.5296442687747036, 0.532608695652174, 0.5345849802371542, 0.5365612648221344, 0.541501976284585, 0.5454545454545454, 0.549407114624506, 0.5533596837944664, 0.5543478260869565, 0.5563241106719368, 0.5573122529644269, 0.558300395256917, 0.5622529644268774, 0.5632411067193676, 0.5662055335968379, 0.567193675889328, 0.567193675889328, 0.5731225296442688, 0.5741106719367589, 0.5810276679841897, 0.5849802371541502, 0.5879446640316206, 0.5909090909090909, 0.5928853754940712, 0.5968379446640316, 0.6037549407114624, 0.6057312252964426, 0.6116600790513834, 0.6126482213438735, 0.6205533596837944, 0.6235177865612648, 0.6254940711462451, 0.6284584980237155, 0.6304347826086957, 0.6373517786561265, 0.6413043478260869, 0.642292490118577, 0.6442687747035574, 0.6462450592885376, 0.6482213438735178, 0.6541501976284585, 0.658102766798419, 0.6600790513833992, 0.6620553359683794, 0.66600790513834, 0.6699604743083004, 0.6729249011857708, 0.674901185770751, 0.6788537549407114, 0.682806324110672, 0.682806324110672, 0.6847826086956522, 0.6897233201581028, 0.6936758893280632, 0.6946640316205533, 0.6976284584980237, 0.7015810276679841, 0.7045454545454546, 0.7065217391304348, 0.7075098814229249, 0.7114624505928854, 0.7134387351778656, 0.7164031620553359, 0.7203557312252964, 0.7213438735177866, 0.7233201581027668, 0.7262845849802372, 0.7480237154150198, 0.75, 0.7519762845849802, 0.7539525691699605, 0.7549407114624506, 0.7569169960474308, 0.7598814229249012, 0.7648221343873518, 0.766798418972332, 0.7687747035573123, 0.7697628458498024, 0.7707509881422925, 0.7727272727272727, 0.775691699604743, 0.7796442687747036, 0.7875494071146245, 0.7895256916996047, 0.7944664031620553, 0.7974308300395256, 0.799407114624506, 0.8033596837944664, 0.8033596837944664, 0.8053359683794467, 0.8073122529644269, 0.8102766798418972, 0.8162055335968379, 0.817193675889328, 0.8201581027667985, 0.8211462450592886, 0.8231225296442688, 0.8241106719367589, 0.8290513833992095, 0.8320158102766798, 0.8349802371541502, 0.8389328063241107, 0.8399209486166008, 0.8458498023715415, 0.8468379446640316, 0.8507905138339921, 0.8527667984189723, 0.8586956521739131, 0.8596837944664032, 0.8646245059288538, 0.8675889328063241, 0.8685770750988142, 0.8705533596837944, 0.8715415019762845, 0.8735177865612648, 0.8784584980237155, 0.8824110671936759, 0.8913043478260869, 0.8942687747035574, 0.900197628458498, 0.908102766798419, 0.9179841897233202, 0.9268774703557312, 0.9278656126482213, 0.9337944664031621, 0.9426877470355731, 0.9446640316205533, 0.9664031620553359, 0.9980237154150198, 1.0], \"xaxis\": \"x2\", \"y\": [0.0, 0.07088607594936709, 0.1189873417721519, 0.1468354430379747, 0.1620253164556962, 0.17468354430379746, 0.189873417721519, 0.20759493670886076, 0.22531645569620254, 0.2430379746835443, 0.2607594936708861, 0.2607594936708861, 0.26582278481012656, 0.2708860759493671, 0.27341772151898736, 0.2810126582278481, 0.28607594936708863, 0.2911392405063291, 0.2911392405063291, 0.30632911392405066, 0.31139240506329113, 0.32151898734177214, 0.3341772151898734, 0.3367088607594937, 0.3367088607594937, 0.3569620253164557, 0.3594936708860759, 0.369620253164557, 0.3822784810126582, 0.389873417721519, 0.3924050632911392, 0.4, 0.4050632911392405, 0.40759493670886077, 0.41265822784810124, 0.4177215189873418, 0.4253164556962025, 0.43037974683544306, 0.43544303797468353, 0.44050632911392407, 0.44556962025316454, 0.4506329113924051, 0.4582278481012658, 0.46329113924050636, 0.46329113924050636, 0.46582278481012657, 0.4759493670886076, 0.4860759493670886, 0.48860759493670886, 0.4936708860759494, 0.4962025316455696, 0.5063291139240507, 0.5063291139240507, 0.5088607594936709, 0.5113924050632911, 0.5139240506329114, 0.5443037974683544, 0.5468354430379747, 0.5468354430379747, 0.5544303797468354, 0.5620253164556962, 0.5645569620253165, 0.5772151898734177, 0.579746835443038, 0.5822784810126582, 0.5873417721518988, 0.5873417721518988, 0.5924050632911393, 0.5949367088607594, 0.5974683544303797, 0.6050632911392405, 0.610126582278481, 0.610126582278481, 0.610126582278481, 0.6126582278481013, 0.6177215189873417, 0.6227848101265823, 0.6253164556962025, 0.6253164556962025, 0.6278481012658228, 0.6329113924050633, 0.6354430379746835, 0.6354430379746835, 0.640506329113924, 0.640506329113924, 0.6430379746835443, 0.6481012658227848, 0.6481012658227848, 0.6531645569620254, 0.6531645569620254, 0.6556962025316456, 0.6582278481012658, 0.660759493670886, 0.6632911392405063, 0.6632911392405063, 0.6632911392405063, 0.6658227848101266, 0.6658227848101266, 0.6708860759493671, 0.6708860759493671, 0.6734177215189874, 0.6734177215189874, 0.6734177215189874, 0.6759493670886076, 0.6759493670886076, 0.6759493670886076, 0.6784810126582278, 0.6835443037974683, 0.6835443037974683, 0.6835443037974683, 0.6835443037974683, 0.6835443037974683, 0.6886075949367089, 0.6911392405063291, 0.6936708860759494, 0.6936708860759494, 0.6936708860759494, 0.6962025316455697, 0.6987341772151898, 0.6987341772151898, 0.7012658227848101, 0.7063291139240506, 0.7063291139240506, 0.7620253164556962, 0.7645569620253164, 0.7721518987341772, 0.7721518987341772, 0.7772151898734178, 0.779746835443038, 0.7822784810126582, 0.7822784810126582, 0.7822784810126582, 0.7848101265822784, 0.7974683544303798, 0.8025316455696202, 0.8075949367088607, 0.8075949367088607, 0.8126582278481013, 0.8126582278481013, 0.8151898734177215, 0.8177215189873418, 0.8177215189873418, 0.8177215189873418, 0.8202531645569621, 0.8202531645569621, 0.8253164556962025, 0.8253164556962025, 0.8253164556962025, 0.8253164556962025, 0.8253164556962025, 0.8253164556962025, 0.8253164556962025, 0.8278481012658228, 0.8278481012658228, 0.8278481012658228, 0.830379746835443, 0.830379746835443, 0.830379746835443, 0.8329113924050633, 0.8329113924050633, 0.8354430379746836, 0.8405063291139241, 0.8405063291139241, 0.8430379746835444, 0.8430379746835444, 0.8455696202531645, 0.8481012658227848, 0.8481012658227848, 0.8481012658227848, 0.8481012658227848, 0.8481012658227848, 0.8481012658227848, 0.8481012658227848, 0.850632911392405, 0.8531645569620253, 0.8531645569620253, 0.8531645569620253, 0.8531645569620253, 0.8531645569620253, 0.8556962025316456, 0.8556962025316456, 0.8582278481012658, 0.8632911392405064, 0.8632911392405064, 0.8632911392405064, 0.8632911392405064, 0.8658227848101265, 0.8658227848101265, 0.8683544303797468, 0.8708860759493671, 0.8734177215189873, 0.8734177215189873, 0.8734177215189873, 0.8734177215189873, 0.8759493670886076, 0.8759493670886076, 0.8784810126582279, 0.8784810126582279, 0.8810126582278481, 0.8835443037974684, 0.8835443037974684, 0.8886075949367088, 0.8886075949367088, 0.8886075949367088, 0.8911392405063291, 0.8911392405063291, 0.8936708860759494, 0.8936708860759494, 0.8987341772151899, 0.8987341772151899, 0.8987341772151899, 0.9012658227848102, 0.9012658227848102, 0.9012658227848102, 0.9037974683544304, 0.9037974683544304, 0.9088607594936708, 0.9113924050632911, 0.9189873417721519, 0.9189873417721519, 0.9215189873417722, 0.9215189873417722, 0.9215189873417722, 0.9215189873417722, 0.9215189873417722, 0.9215189873417722, 0.9215189873417722, 0.9215189873417722, 0.9215189873417722, 0.9215189873417722, 0.9215189873417722, 0.9240506329113924, 0.9265822784810127, 0.9265822784810127, 0.9291139240506329, 0.9291139240506329, 0.9291139240506329, 0.9291139240506329, 0.9316455696202531, 0.9341772151898734, 0.9341772151898734, 0.9367088607594937, 0.9367088607594937, 0.9417721518987342, 0.9417721518987342, 0.9417721518987342, 0.9417721518987342, 0.9468354430379747, 0.9493670886075949, 0.9493670886075949, 0.9493670886075949, 0.9518987341772152, 0.9518987341772152, 0.9518987341772152, 0.9518987341772152, 0.9518987341772152, 0.9518987341772152, 0.9518987341772152, 0.9518987341772152, 0.9544303797468354, 0.9544303797468354, 0.9569620253164557, 0.9569620253164557, 0.9569620253164557, 0.9569620253164557, 0.959493670886076, 0.959493670886076, 0.959493670886076, 0.959493670886076, 0.959493670886076, 0.959493670886076, 0.9620253164556962, 0.9620253164556962, 0.9620253164556962, 0.9620253164556962, 0.9620253164556962, 0.9620253164556962, 0.9645569620253165, 0.9645569620253165, 0.9645569620253165, 0.9645569620253165, 0.9645569620253165, 0.9645569620253165, 0.9645569620253165, 0.9645569620253165, 0.9670886075949368, 0.9670886075949368, 0.9670886075949368, 0.9670886075949368, 0.9670886075949368, 0.9670886075949368, 0.9670886075949368, 0.9670886075949368, 0.9670886075949368, 0.9670886075949368, 0.9670886075949368, 0.9670886075949368, 0.9670886075949368, 0.9696202531645569, 0.9696202531645569, 0.9696202531645569, 0.9696202531645569, 0.9696202531645569, 0.9721518987341772, 0.9721518987341772, 0.9721518987341772, 0.9721518987341772, 0.9721518987341772, 0.9721518987341772, 0.9721518987341772, 0.9721518987341772, 0.9746835443037974, 0.9746835443037974, 0.9746835443037974, 0.9746835443037974, 0.9746835443037974, 0.9746835443037974, 0.9746835443037974, 0.9746835443037974, 0.9746835443037974, 0.9746835443037974, 0.9746835443037974, 0.9746835443037974, 0.9772151898734177, 0.9822784810126582, 0.9822784810126582, 0.9822784810126582, 0.9848101265822785, 0.9848101265822785, 0.9848101265822785, 0.9848101265822785, 0.9848101265822785, 0.9848101265822785, 0.9848101265822785, 0.9848101265822785, 0.9848101265822785, 0.9848101265822785, 0.9848101265822785, 0.9873417721518988, 0.9873417721518988, 0.9873417721518988, 0.9873417721518988, 0.9873417721518988, 0.9873417721518988, 0.9873417721518988, 0.9873417721518988, 0.9873417721518988, 0.9873417721518988, 0.9873417721518988, 0.9898734177215189, 0.9898734177215189, 0.9898734177215189, 0.9898734177215189, 0.9898734177215189, 0.9898734177215189, 0.9898734177215189, 0.9898734177215189, 0.9898734177215189, 0.9898734177215189, 0.9898734177215189, 0.9898734177215189, 0.9898734177215189, 0.9898734177215189, 0.9898734177215189, 0.9898734177215189, 0.9898734177215189, 0.9898734177215189, 0.9898734177215189, 0.9898734177215189, 0.9924050632911392, 0.9924050632911392, 0.9924050632911392, 0.9924050632911392, 0.9924050632911392, 0.9949367088607595, 0.9949367088607595, 0.9949367088607595, 0.9949367088607595, 0.9949367088607595, 0.9974683544303797, 0.9974683544303797, 1.0, 1.0, 1.0, 1.0, 1.0, 1.0, 1.0, 1.0, 1.0, 1.0], \"yaxis\": \"y2\"}, {\"line\": {\"color\": \"rgb(205, 12, 24)\", \"dash\": \"dot\", \"width\": 2}, \"type\": \"scatter\", \"x\": [0, 1], \"xaxis\": \"x2\", \"y\": [0, 1], \"yaxis\": \"y2\"}],                        {\"annotations\": [{\"font\": {\"size\": 16}, \"showarrow\": false, \"text\": \"ROC\", \"x\": 0.775, \"xanchor\": \"center\", \"xref\": \"paper\", \"y\": 1.0, \"yanchor\": \"bottom\", \"yref\": \"paper\"}], \"template\": {\"data\": {\"bar\": [{\"error_x\": {\"color\": \"#2a3f5f\"}, \"error_y\": {\"color\": \"#2a3f5f\"}, \"marker\": {\"line\": {\"color\": \"#E5ECF6\", \"width\": 0.5}}, \"type\": \"bar\"}], \"barpolar\": [{\"marker\": {\"line\": {\"color\": \"#E5ECF6\", \"width\": 0.5}}, \"type\": \"barpolar\"}], \"carpet\": [{\"aaxis\": {\"endlinecolor\": \"#2a3f5f\", \"gridcolor\": \"white\", \"linecolor\": \"white\", \"minorgridcolor\": \"white\", \"startlinecolor\": \"#2a3f5f\"}, \"baxis\": {\"endlinecolor\": \"#2a3f5f\", \"gridcolor\": \"white\", \"linecolor\": \"white\", \"minorgridcolor\": \"white\", \"startlinecolor\": \"#2a3f5f\"}, \"type\": \"carpet\"}], \"choropleth\": [{\"colorbar\": {\"outlinewidth\": 0, \"ticks\": \"\"}, \"type\": \"choropleth\"}], \"contour\": [{\"colorbar\": {\"outlinewidth\": 0, \"ticks\": \"\"}, \"colorscale\": [[0.0, \"#0d0887\"], [0.1111111111111111, \"#46039f\"], [0.2222222222222222, \"#7201a8\"], [0.3333333333333333, \"#9c179e\"], [0.4444444444444444, \"#bd3786\"], [0.5555555555555556, \"#d8576b\"], [0.6666666666666666, \"#ed7953\"], [0.7777777777777778, \"#fb9f3a\"], [0.8888888888888888, \"#fdca26\"], [1.0, \"#f0f921\"]], \"type\": \"contour\"}], \"contourcarpet\": [{\"colorbar\": {\"outlinewidth\": 0, \"ticks\": \"\"}, \"type\": \"contourcarpet\"}], \"heatmap\": [{\"colorbar\": {\"outlinewidth\": 0, \"ticks\": \"\"}, \"colorscale\": [[0.0, \"#0d0887\"], [0.1111111111111111, \"#46039f\"], [0.2222222222222222, \"#7201a8\"], [0.3333333333333333, \"#9c179e\"], [0.4444444444444444, \"#bd3786\"], [0.5555555555555556, \"#d8576b\"], [0.6666666666666666, \"#ed7953\"], [0.7777777777777778, \"#fb9f3a\"], [0.8888888888888888, \"#fdca26\"], [1.0, \"#f0f921\"]], \"type\": \"heatmap\"}], \"heatmapgl\": [{\"colorbar\": {\"outlinewidth\": 0, \"ticks\": \"\"}, \"colorscale\": [[0.0, \"#0d0887\"], [0.1111111111111111, \"#46039f\"], [0.2222222222222222, \"#7201a8\"], [0.3333333333333333, \"#9c179e\"], [0.4444444444444444, \"#bd3786\"], [0.5555555555555556, \"#d8576b\"], [0.6666666666666666, \"#ed7953\"], [0.7777777777777778, \"#fb9f3a\"], [0.8888888888888888, \"#fdca26\"], [1.0, \"#f0f921\"]], \"type\": \"heatmapgl\"}], \"histogram\": [{\"marker\": {\"colorbar\": {\"outlinewidth\": 0, \"ticks\": \"\"}}, \"type\": \"histogram\"}], \"histogram2d\": [{\"colorbar\": {\"outlinewidth\": 0, \"ticks\": \"\"}, \"colorscale\": [[0.0, \"#0d0887\"], [0.1111111111111111, \"#46039f\"], [0.2222222222222222, \"#7201a8\"], [0.3333333333333333, \"#9c179e\"], [0.4444444444444444, \"#bd3786\"], [0.5555555555555556, \"#d8576b\"], [0.6666666666666666, \"#ed7953\"], [0.7777777777777778, \"#fb9f3a\"], [0.8888888888888888, \"#fdca26\"], [1.0, \"#f0f921\"]], \"type\": \"histogram2d\"}], \"histogram2dcontour\": [{\"colorbar\": {\"outlinewidth\": 0, \"ticks\": \"\"}, \"colorscale\": [[0.0, \"#0d0887\"], [0.1111111111111111, \"#46039f\"], [0.2222222222222222, \"#7201a8\"], [0.3333333333333333, \"#9c179e\"], [0.4444444444444444, \"#bd3786\"], [0.5555555555555556, \"#d8576b\"], [0.6666666666666666, \"#ed7953\"], [0.7777777777777778, \"#fb9f3a\"], [0.8888888888888888, \"#fdca26\"], [1.0, \"#f0f921\"]], \"type\": \"histogram2dcontour\"}], \"mesh3d\": [{\"colorbar\": {\"outlinewidth\": 0, \"ticks\": \"\"}, \"type\": \"mesh3d\"}], \"parcoords\": [{\"line\": {\"colorbar\": {\"outlinewidth\": 0, \"ticks\": \"\"}}, \"type\": \"parcoords\"}], \"pie\": [{\"automargin\": true, \"type\": \"pie\"}], \"scatter\": [{\"marker\": {\"colorbar\": {\"outlinewidth\": 0, \"ticks\": \"\"}}, \"type\": \"scatter\"}], \"scatter3d\": [{\"line\": {\"colorbar\": {\"outlinewidth\": 0, \"ticks\": \"\"}}, \"marker\": {\"colorbar\": {\"outlinewidth\": 0, \"ticks\": \"\"}}, \"type\": \"scatter3d\"}], \"scattercarpet\": [{\"marker\": {\"colorbar\": {\"outlinewidth\": 0, \"ticks\": \"\"}}, \"type\": \"scattercarpet\"}], \"scattergeo\": [{\"marker\": {\"colorbar\": {\"outlinewidth\": 0, \"ticks\": \"\"}}, \"type\": \"scattergeo\"}], \"scattergl\": [{\"marker\": {\"colorbar\": {\"outlinewidth\": 0, \"ticks\": \"\"}}, \"type\": \"scattergl\"}], \"scattermapbox\": [{\"marker\": {\"colorbar\": {\"outlinewidth\": 0, \"ticks\": \"\"}}, \"type\": \"scattermapbox\"}], \"scatterpolar\": [{\"marker\": {\"colorbar\": {\"outlinewidth\": 0, \"ticks\": \"\"}}, \"type\": \"scatterpolar\"}], \"scatterpolargl\": [{\"marker\": {\"colorbar\": {\"outlinewidth\": 0, \"ticks\": \"\"}}, \"type\": \"scatterpolargl\"}], \"scatterternary\": [{\"marker\": {\"colorbar\": {\"outlinewidth\": 0, \"ticks\": \"\"}}, \"type\": \"scatterternary\"}], \"surface\": [{\"colorbar\": {\"outlinewidth\": 0, \"ticks\": \"\"}, \"colorscale\": [[0.0, \"#0d0887\"], [0.1111111111111111, \"#46039f\"], [0.2222222222222222, \"#7201a8\"], [0.3333333333333333, \"#9c179e\"], [0.4444444444444444, \"#bd3786\"], [0.5555555555555556, \"#d8576b\"], [0.6666666666666666, \"#ed7953\"], [0.7777777777777778, \"#fb9f3a\"], [0.8888888888888888, \"#fdca26\"], [1.0, \"#f0f921\"]], \"type\": \"surface\"}], \"table\": [{\"cells\": {\"fill\": {\"color\": \"#EBF0F8\"}, \"line\": {\"color\": \"white\"}}, \"header\": {\"fill\": {\"color\": \"#C8D4E3\"}, \"line\": {\"color\": \"white\"}}, \"type\": \"table\"}]}, \"layout\": {\"annotationdefaults\": {\"arrowcolor\": \"#2a3f5f\", \"arrowhead\": 0, \"arrowwidth\": 1}, \"coloraxis\": {\"colorbar\": {\"outlinewidth\": 0, \"ticks\": \"\"}}, \"colorscale\": {\"diverging\": [[0, \"#8e0152\"], [0.1, \"#c51b7d\"], [0.2, \"#de77ae\"], [0.3, \"#f1b6da\"], [0.4, \"#fde0ef\"], [0.5, \"#f7f7f7\"], [0.6, \"#e6f5d0\"], [0.7, \"#b8e186\"], [0.8, \"#7fbc41\"], [0.9, \"#4d9221\"], [1, \"#276419\"]], \"sequential\": [[0.0, \"#0d0887\"], [0.1111111111111111, \"#46039f\"], [0.2222222222222222, \"#7201a8\"], [0.3333333333333333, \"#9c179e\"], [0.4444444444444444, \"#bd3786\"], [0.5555555555555556, \"#d8576b\"], [0.6666666666666666, \"#ed7953\"], [0.7777777777777778, \"#fb9f3a\"], [0.8888888888888888, \"#fdca26\"], [1.0, \"#f0f921\"]], \"sequentialminus\": [[0.0, \"#0d0887\"], [0.1111111111111111, \"#46039f\"], [0.2222222222222222, \"#7201a8\"], [0.3333333333333333, \"#9c179e\"], [0.4444444444444444, \"#bd3786\"], [0.5555555555555556, \"#d8576b\"], [0.6666666666666666, \"#ed7953\"], [0.7777777777777778, \"#fb9f3a\"], [0.8888888888888888, \"#fdca26\"], [1.0, \"#f0f921\"]]}, \"colorway\": [\"#636efa\", \"#EF553B\", \"#00cc96\", \"#ab63fa\", \"#FFA15A\", \"#19d3f3\", \"#FF6692\", \"#B6E880\", \"#FF97FF\", \"#FECB52\"], \"font\": {\"color\": \"#2a3f5f\"}, \"geo\": {\"bgcolor\": \"white\", \"lakecolor\": \"white\", \"landcolor\": \"#E5ECF6\", \"showlakes\": true, \"showland\": true, \"subunitcolor\": \"white\"}, \"hoverlabel\": {\"align\": \"left\"}, \"hovermode\": \"closest\", \"mapbox\": {\"style\": \"light\"}, \"paper_bgcolor\": \"white\", \"plot_bgcolor\": \"#E5ECF6\", \"polar\": {\"angularaxis\": {\"gridcolor\": \"white\", \"linecolor\": \"white\", \"ticks\": \"\"}, \"bgcolor\": \"#E5ECF6\", \"radialaxis\": {\"gridcolor\": \"white\", \"linecolor\": \"white\", \"ticks\": \"\"}}, \"scene\": {\"xaxis\": {\"backgroundcolor\": \"#E5ECF6\", \"gridcolor\": \"white\", \"gridwidth\": 2, \"linecolor\": \"white\", \"showbackground\": true, \"ticks\": \"\", \"zerolinecolor\": \"white\"}, \"yaxis\": {\"backgroundcolor\": \"#E5ECF6\", \"gridcolor\": \"white\", \"gridwidth\": 2, \"linecolor\": \"white\", \"showbackground\": true, \"ticks\": \"\", \"zerolinecolor\": \"white\"}, \"zaxis\": {\"backgroundcolor\": \"#E5ECF6\", \"gridcolor\": \"white\", \"gridwidth\": 2, \"linecolor\": \"white\", \"showbackground\": true, \"ticks\": \"\", \"zerolinecolor\": \"white\"}}, \"shapedefaults\": {\"line\": {\"color\": \"#2a3f5f\"}}, \"ternary\": {\"aaxis\": {\"gridcolor\": \"white\", \"linecolor\": \"white\", \"ticks\": \"\"}, \"baxis\": {\"gridcolor\": \"white\", \"linecolor\": \"white\", \"ticks\": \"\"}, \"bgcolor\": \"#E5ECF6\", \"caxis\": {\"gridcolor\": \"white\", \"linecolor\": \"white\", \"ticks\": \"\"}}, \"title\": {\"x\": 0.05}, \"xaxis\": {\"automargin\": true, \"gridcolor\": \"white\", \"linecolor\": \"white\", \"ticks\": \"\", \"title\": {\"standoff\": 15}, \"zerolinecolor\": \"white\", \"zerolinewidth\": 2}, \"yaxis\": {\"automargin\": true, \"gridcolor\": \"white\", \"linecolor\": \"white\", \"ticks\": \"\", \"title\": {\"standoff\": 15}, \"zerolinecolor\": \"white\", \"zerolinewidth\": 2}}}, \"xaxis\": {\"anchor\": \"y\", \"domain\": [0.0, 0.45]}, \"xaxis2\": {\"anchor\": \"y2\", \"domain\": [0.55, 1.0]}, \"xaxis3\": {\"anchor\": \"y3\", \"domain\": [0.0, 1.0]}, \"yaxis\": {\"anchor\": \"x\", \"domain\": [0.625, 1.0]}, \"yaxis2\": {\"anchor\": \"x2\", \"domain\": [0.625, 1.0]}, \"yaxis3\": {\"anchor\": \"x3\", \"domain\": [0.0, 0.375]}},                        {\"responsive\": true}                    ).then(function(){\n",
       "                            \n",
       "var gd = document.getElementById('9522f60e-e8e7-4784-8367-a2e2a4ea7033');\n",
       "var x = new MutationObserver(function (mutations, observer) {{\n",
       "        var display = window.getComputedStyle(gd).display;\n",
       "        if (!display || display === 'none') {{\n",
       "            console.log([gd, 'removed!']);\n",
       "            Plotly.purge(gd);\n",
       "            observer.disconnect();\n",
       "        }}\n",
       "}});\n",
       "\n",
       "// Listen for the removal of the full notebook cells\n",
       "var notebookContainer = gd.closest('#notebook-container');\n",
       "if (notebookContainer) {{\n",
       "    x.observe(notebookContainer, {childList: true});\n",
       "}}\n",
       "\n",
       "// Listen for the clearing of the current output cell\n",
       "var outputEl = gd.closest('.output');\n",
       "if (outputEl) {{\n",
       "    x.observe(outputEl, {childList: true});\n",
       "}}\n",
       "\n",
       "                        })                };                });            </script>        </div>"
      ]
     },
     "metadata": {},
     "output_type": "display_data"
    }
   ],
   "source": [
    "import plotly.tools as tls\n",
    "import plotly as py\n",
    "\n",
    "fig = tls.make_subplots(rows=2, cols=2, specs=[[{}, {}], [{'colspan': 2}, None]],\n",
    "                            subplot_titles=('',\n",
    "                                            'ROC',\n",
    "                                            ''))\n",
    "\n",
    "fig.append_trace(trace2,1,2)\n",
    "fig.append_trace(trace3,1,2)\n",
    "\n",
    "py.offline.iplot(fig)\n"
   ]
  },
  {
   "cell_type": "code",
   "execution_count": 968,
   "metadata": {},
   "outputs": [
    {
     "data": {
      "text/plain": [
       "0.7974413646055437"
      ]
     },
     "execution_count": 968,
     "metadata": {},
     "output_type": "execute_result"
    }
   ],
   "source": [
    "acc_sequential = accuracy_score(y_test, predictions.round())\n",
    "\n",
    "acc_sequential"
   ]
  },
  {
   "cell_type": "code",
   "execution_count": 969,
   "metadata": {},
   "outputs": [
    {
     "data": {
      "image/png": "[encoded data removed]",
      "text/plain": [
       "<Figure size 432x288 with 2 Axes>"
      ]
     },
     "metadata": {
      "needs_background": "light"
     },
     "output_type": "display_data"
    }
   ],
   "source": [
    "pl = confusion_matrix(y_test,predictions.round())\n",
    "\n",
    "labels = ['Churn', 'Remain']\n",
    "\n",
    "\n",
    "fig = plt.figure()\n",
    "ax = fig.add_subplot(111)\n",
    "cax = ax.matshow(pl)\n",
    "plt.title('Confusion matrix of the classifier')\n",
    "fig.colorbar(cax)\n",
    "ax.set_xticklabels([''] + labels)\n",
    "ax.set_yticklabels([''] + labels)\n",
    "plt.xlabel('Predicted')\n",
    "plt.ylabel('True')\n",
    "plt.show()"
   ]
  },
  {
   "cell_type": "code",
   "execution_count": 970,
   "metadata": {},
   "outputs": [
    {
     "data": {
      "text/plain": [
       "array([[893, 119],\n",
       "       [166, 229]], dtype=int64)"
      ]
     },
     "execution_count": 970,
     "metadata": {},
     "output_type": "execute_result"
    }
   ],
   "source": [
    "pl"
   ]
  },
  {
   "cell_type": "markdown",
   "metadata": {},
   "source": [
    "## Conclusions"
   ]
  },
  {
   "cell_type": "markdown",
   "metadata": {},
   "source": [
    "We have created 4 classification models and will compare the results. First, we look at the table of ROC-AUC scores and accuracy scores to see which are the best at predicting the churn of customers."
   ]
  },
  {
   "cell_type": "code",
   "execution_count": 971,
   "metadata": {},
   "outputs": [
    {
     "data": {
      "text/html": [
       "<div>\n",
       "<style scoped>\n",
       "    .dataframe tbody tr th:only-of-type {\n",
       "        vertical-align: middle;\n",
       "    }\n",
       "\n",
       "    .dataframe tbody tr th {\n",
       "        vertical-align: top;\n",
       "    }\n",
       "\n",
       "    .dataframe thead th {\n",
       "        text-align: right;\n",
       "    }\n",
       "</style>\n",
       "<table border=\"1\" class=\"dataframe\">\n",
       "  <thead>\n",
       "    <tr style=\"text-align: right;\">\n",
       "      <th></th>\n",
       "      <th>Model</th>\n",
       "      <th>ROC_AUC_Score</th>\n",
       "      <th>Accuracy_Score</th>\n",
       "    </tr>\n",
       "  </thead>\n",
       "  <tbody>\n",
       "    <tr>\n",
       "      <th>0</th>\n",
       "      <td>K Means</td>\n",
       "      <td>0.694280</td>\n",
       "      <td>0.788913</td>\n",
       "    </tr>\n",
       "    <tr>\n",
       "      <th>1</th>\n",
       "      <td>Ridge</td>\n",
       "      <td>0.689927</td>\n",
       "      <td>0.788202</td>\n",
       "    </tr>\n",
       "    <tr>\n",
       "      <th>2</th>\n",
       "      <td>SVC</td>\n",
       "      <td>0.699744</td>\n",
       "      <td>0.786780</td>\n",
       "    </tr>\n",
       "    <tr>\n",
       "      <th>3</th>\n",
       "      <td>Sequential NN</td>\n",
       "      <td>0.836342</td>\n",
       "      <td>0.797441</td>\n",
       "    </tr>\n",
       "  </tbody>\n",
       "</table>\n",
       "</div>"
      ],
      "text/plain": [
       "           Model  ROC_AUC_Score  Accuracy_Score\n",
       "0        K Means       0.694280        0.788913\n",
       "1          Ridge       0.689927        0.788202\n",
       "2            SVC       0.699744        0.786780\n",
       "3  Sequential NN       0.836342        0.797441"
      ]
     },
     "execution_count": 971,
     "metadata": {},
     "output_type": "execute_result"
    }
   ],
   "source": [
    "scores = pd.DataFrame([['K Means', auc_kmeans, acc_kmeans], ['Ridge', auc_ridge, acc_ridge],\n",
    "              ['SVC', auc_svc, acc_svc],['Sequential NN', seq_roc_auc, acc_sequential]],\n",
    "                      columns=['Model', 'ROC_AUC_Score', 'Accuracy_Score']\n",
    "            )\n",
    "scores"
   ]
  },
  {
   "cell_type": "markdown",
   "metadata": {},
   "source": [
    "We see in our table of scoring that the Sequential NN has the best ROC_AUC score, but is not necessarily the most accurate. Of the models that are not neural networks, it appears that the KMeans and SVC models work identically well, while the Ridge model is slightly less accurate and has a lower ROC_AUC_Score. We conclude that we should use the Sequential NN or the KMeans models for our final assessments."
   ]
  },
  {
   "cell_type": "code",
   "execution_count": null,
   "metadata": {},
   "outputs": [],
   "source": []
  },
  {
   "cell_type": "code",
   "execution_count": 972,
   "metadata": {},
   "outputs": [
    {
     "name": "stdout",
     "output_type": "stream",
     "text": [
      "KNeighborsClassifier(n_neighbors=41): 0.729663253265227\n",
      "RidgeClassifier(alpha=0.1): 0.8040386977886979\n",
      "SVC(C=1): 0.7342149715504978\n"
     ]
    }
   ],
   "source": [
    "from sklearn.model_selection import cross_val_score, cross_validate\n",
    "\n",
    "models = [knn, ridge, svc]\n",
    "\n",
    "for m in models:\n",
    "    cv_res = cross_val_score(m, X, y, scoring='accuracy', cv = 10)\n",
    "    print(str(m) + ': '+ str(cv_res.mean()))"
   ]
  },
  {
   "cell_type": "code",
   "execution_count": 973,
   "metadata": {},
   "outputs": [
    {
     "name": "stdout",
     "output_type": "stream",
     "text": [
      "KNeighborsClassifier(n_neighbors=41): 0.678946 (0.377039)\n",
      "RidgeClassifier(alpha=0.1): 0.727661 (0.243176)\n",
      "SVC(C=1): 0.734424 (0.415297)\n"
     ]
    },
    {
     "data": {
      "image/png": "[encoded data removed]",
      "text/plain": [
       "<Figure size 432x288 with 1 Axes>"
      ]
     },
     "metadata": {
      "needs_background": "light"
     },
     "output_type": "display_data"
    }
   ],
   "source": [
    "from sklearn import model_selection\n",
    "results = []\n",
    "names = ['KMeans', 'Ridge', 'SVC']\n",
    "\n",
    "for m in models:\n",
    "    kfold = model_selection.KFold(n_splits=10)\n",
    "    cv_results = model_selection.cross_val_score(m, X, y, cv=kfold, scoring='accuracy')\n",
    "    results.append(cv_results)\n",
    "    msg = \"%s: %f (%f)\" % (str(m), cv_results.mean(), cv_results.std())\n",
    "    print(msg)\n",
    "# boxplot algorithm comparison\n",
    "fig = plt.figure()\n",
    "fig.suptitle('Algorithm Comparison')\n",
    "ax = fig.add_subplot(111)\n",
    "plt.boxplot(results)\n",
    "ax.set_xticklabels(names)\n",
    "plt.show()"
   ]
  },
  {
   "cell_type": "code",
   "execution_count": 974,
   "metadata": {},
   "outputs": [
    {
     "data": {
      "text/plain": [
       "array([-0.19616205, -0.18123667, -0.20981508, -0.19345661, -0.19772404])"
      ]
     },
     "execution_count": 974,
     "metadata": {},
     "output_type": "execute_result"
    }
   ],
   "source": [
    "cv_results = cross_validate(ridge, X, y, scoring='neg_mean_absolute_error', cv=5, n_jobs=-1)\n",
    "cv_results['test_score']"
   ]
  },
  {
   "cell_type": "code",
   "execution_count": 975,
   "metadata": {},
   "outputs": [
    {
     "data": {
      "text/plain": [
       "array([-0.26581379, -0.26581379, -0.26600284, -0.26600284, -0.26529161])"
      ]
     },
     "execution_count": 975,
     "metadata": {},
     "output_type": "execute_result"
    }
   ],
   "source": [
    "cv_results = cross_validate(svc, X, y, scoring='neg_mean_absolute_error', cv=5, n_jobs=-1)\n",
    "cv_results['test_score']"
   ]
  },
  {
   "cell_type": "code",
   "execution_count": 976,
   "metadata": {},
   "outputs": [
    {
     "data": {
      "text/plain": [
       "array([-0.26297086, -0.27789623, -0.26315789, -0.27382646, -0.26742532])"
      ]
     },
     "execution_count": 976,
     "metadata": {},
     "output_type": "execute_result"
    }
   ],
   "source": [
    "cv_results = cross_validate(knn, X, y, scoring='neg_mean_absolute_error', cv=5, n_jobs=-1)\n",
    "cv_results['test_score']"
   ]
  },
  {
   "cell_type": "code",
   "execution_count": null,
   "metadata": {},
   "outputs": [],
   "source": []
  },
  {
   "cell_type": "code",
   "execution_count": 978,
   "metadata": {},
   "outputs": [],
   "source": [
    "from keras import backend as K\n",
    "\n",
    "def recall_m(y_true, y_pred):\n",
    "    true_positives = K.sum(K.round(K.clip(y_true * y_pred, 0, 1)))\n",
    "    possible_positives = K.sum(K.round(K.clip(y_true, 0, 1)))\n",
    "    recall = true_positives / (possible_positives + K.epsilon())\n",
    "    return recall\n",
    "\n",
    "def precision_m(y_true, y_pred):\n",
    "    true_positives = K.sum(K.round(K.clip(y_true * y_pred, 0, 1)))\n",
    "    predicted_positives = K.sum(K.round(K.clip(y_pred, 0, 1)))\n",
    "    precision = true_positives / (predicted_positives + K.epsilon())\n",
    "    return precision\n",
    "\n",
    "def f1_m(y_true, y_pred):\n",
    "    precision = precision_m(y_true, y_pred)\n",
    "    recall = recall_m(y_true, y_pred)\n",
    "    return 2*((precision*recall)/(precision+recall+K.epsilon()))"
   ]
  },
  {
   "cell_type": "code",
   "execution_count": 981,
   "metadata": {},
   "outputs": [],
   "source": [
    "seq.compile(optimizer='adam', loss='binary_crossentropy', metrics=['acc',f1_m,precision_m, recall_m])\n",
    "\n",
    "history = seq.fit(X_train, y_train, validation_split=0.3, epochs=10, verbose=0)\n",
    "\n",
    "loss, accuracy, f1_score, precision, recall = seq.evaluate(X_test, y_test, verbose=0)"
   ]
  },
  {
   "cell_type": "code",
   "execution_count": 982,
   "metadata": {},
   "outputs": [
    {
     "name": "stdout",
     "output_type": "stream",
     "text": [
      "0.43749088048934937 0.7924662232398987 0.5550104379653931 0.6847838759422302 0.49886101484298706\n"
     ]
    }
   ],
   "source": [
    "print(loss, accuracy, f1_score, precision, recall)"
   ]
  },
  {
   "cell_type": "code",
   "execution_count": 983,
   "metadata": {},
   "outputs": [],
   "source": [
    "# Save the best model in best_model\n",
    "best_model = knn"
   ]
  },
  {
   "cell_type": "markdown",
   "metadata": {},
   "source": [
    "## Model evaluation"
   ]
  },
  {
   "cell_type": "code",
   "execution_count": 737,
   "metadata": {},
   "outputs": [],
   "source": [
    "prediction_list = ridge.predict(X)"
   ]
  },
  {
   "cell_type": "code",
   "execution_count": 744,
   "metadata": {},
   "outputs": [],
   "source": [
    "df_data = X.copy()\n",
    "df_data['Prediction'] = prediction_list\n",
    "df_data['Churn Value'] = y"
   ]
  },
  {
   "cell_type": "code",
   "execution_count": 745,
   "metadata": {},
   "outputs": [],
   "source": [
    "df_data['Count'] = 1"
   ]
  },
  {
   "cell_type": "code",
   "execution_count": 746,
   "metadata": {},
   "outputs": [
    {
     "data": {
      "text/html": [
       "<div>\n",
       "<style scoped>\n",
       "    .dataframe tbody tr th:only-of-type {\n",
       "        vertical-align: middle;\n",
       "    }\n",
       "\n",
       "    .dataframe tbody tr th {\n",
       "        vertical-align: top;\n",
       "    }\n",
       "\n",
       "    .dataframe thead th {\n",
       "        text-align: right;\n",
       "    }\n",
       "</style>\n",
       "<table border=\"1\" class=\"dataframe\">\n",
       "  <thead>\n",
       "    <tr style=\"text-align: right;\">\n",
       "      <th></th>\n",
       "      <th>Zip Code</th>\n",
       "      <th>Latitude</th>\n",
       "      <th>Longitude</th>\n",
       "      <th>Gender</th>\n",
       "      <th>Senior Citizen</th>\n",
       "      <th>Partner</th>\n",
       "      <th>Dependents</th>\n",
       "      <th>Tenure Months</th>\n",
       "      <th>Phone Service</th>\n",
       "      <th>Multiple Lines</th>\n",
       "      <th>...</th>\n",
       "      <th>Contract_Month-to-month</th>\n",
       "      <th>Contract_One year</th>\n",
       "      <th>Contract_Two year</th>\n",
       "      <th>Payment Method_Bank transfer (automatic)</th>\n",
       "      <th>Payment Method_Credit card (automatic)</th>\n",
       "      <th>Payment Method_Electronic check</th>\n",
       "      <th>Payment Method_Mailed check</th>\n",
       "      <th>Prediction</th>\n",
       "      <th>Churn Value</th>\n",
       "      <th>Count</th>\n",
       "    </tr>\n",
       "    <tr>\n",
       "      <th>CustomerID</th>\n",
       "      <th></th>\n",
       "      <th></th>\n",
       "      <th></th>\n",
       "      <th></th>\n",
       "      <th></th>\n",
       "      <th></th>\n",
       "      <th></th>\n",
       "      <th></th>\n",
       "      <th></th>\n",
       "      <th></th>\n",
       "      <th></th>\n",
       "      <th></th>\n",
       "      <th></th>\n",
       "      <th></th>\n",
       "      <th></th>\n",
       "      <th></th>\n",
       "      <th></th>\n",
       "      <th></th>\n",
       "      <th></th>\n",
       "      <th></th>\n",
       "      <th></th>\n",
       "    </tr>\n",
       "  </thead>\n",
       "  <tbody>\n",
       "    <tr>\n",
       "      <th>3668-QPYBK</th>\n",
       "      <td>90003</td>\n",
       "      <td>33.964131</td>\n",
       "      <td>-118.272783</td>\n",
       "      <td>0</td>\n",
       "      <td>0</td>\n",
       "      <td>0</td>\n",
       "      <td>0</td>\n",
       "      <td>2</td>\n",
       "      <td>1</td>\n",
       "      <td>0</td>\n",
       "      <td>...</td>\n",
       "      <td>1</td>\n",
       "      <td>0</td>\n",
       "      <td>0</td>\n",
       "      <td>0</td>\n",
       "      <td>0</td>\n",
       "      <td>0</td>\n",
       "      <td>1</td>\n",
       "      <td>1</td>\n",
       "      <td>1</td>\n",
       "      <td>1</td>\n",
       "    </tr>\n",
       "    <tr>\n",
       "      <th>9237-HQITU</th>\n",
       "      <td>90005</td>\n",
       "      <td>34.059281</td>\n",
       "      <td>-118.307420</td>\n",
       "      <td>1</td>\n",
       "      <td>0</td>\n",
       "      <td>0</td>\n",
       "      <td>1</td>\n",
       "      <td>2</td>\n",
       "      <td>1</td>\n",
       "      <td>0</td>\n",
       "      <td>...</td>\n",
       "      <td>1</td>\n",
       "      <td>0</td>\n",
       "      <td>0</td>\n",
       "      <td>0</td>\n",
       "      <td>0</td>\n",
       "      <td>1</td>\n",
       "      <td>0</td>\n",
       "      <td>1</td>\n",
       "      <td>1</td>\n",
       "      <td>1</td>\n",
       "    </tr>\n",
       "    <tr>\n",
       "      <th>9305-CDSKC</th>\n",
       "      <td>90006</td>\n",
       "      <td>34.048013</td>\n",
       "      <td>-118.293953</td>\n",
       "      <td>1</td>\n",
       "      <td>0</td>\n",
       "      <td>0</td>\n",
       "      <td>1</td>\n",
       "      <td>8</td>\n",
       "      <td>1</td>\n",
       "      <td>1</td>\n",
       "      <td>...</td>\n",
       "      <td>1</td>\n",
       "      <td>0</td>\n",
       "      <td>0</td>\n",
       "      <td>0</td>\n",
       "      <td>0</td>\n",
       "      <td>1</td>\n",
       "      <td>0</td>\n",
       "      <td>1</td>\n",
       "      <td>1</td>\n",
       "      <td>1</td>\n",
       "    </tr>\n",
       "    <tr>\n",
       "      <th>7892-POOKP</th>\n",
       "      <td>90010</td>\n",
       "      <td>34.062125</td>\n",
       "      <td>-118.315709</td>\n",
       "      <td>1</td>\n",
       "      <td>0</td>\n",
       "      <td>1</td>\n",
       "      <td>1</td>\n",
       "      <td>28</td>\n",
       "      <td>1</td>\n",
       "      <td>1</td>\n",
       "      <td>...</td>\n",
       "      <td>1</td>\n",
       "      <td>0</td>\n",
       "      <td>0</td>\n",
       "      <td>0</td>\n",
       "      <td>0</td>\n",
       "      <td>1</td>\n",
       "      <td>0</td>\n",
       "      <td>1</td>\n",
       "      <td>1</td>\n",
       "      <td>1</td>\n",
       "    </tr>\n",
       "    <tr>\n",
       "      <th>0280-XJGEX</th>\n",
       "      <td>90015</td>\n",
       "      <td>34.039224</td>\n",
       "      <td>-118.266293</td>\n",
       "      <td>0</td>\n",
       "      <td>0</td>\n",
       "      <td>0</td>\n",
       "      <td>1</td>\n",
       "      <td>49</td>\n",
       "      <td>1</td>\n",
       "      <td>1</td>\n",
       "      <td>...</td>\n",
       "      <td>1</td>\n",
       "      <td>0</td>\n",
       "      <td>0</td>\n",
       "      <td>1</td>\n",
       "      <td>0</td>\n",
       "      <td>0</td>\n",
       "      <td>0</td>\n",
       "      <td>0</td>\n",
       "      <td>1</td>\n",
       "      <td>1</td>\n",
       "    </tr>\n",
       "  </tbody>\n",
       "</table>\n",
       "<p>5 rows × 33 columns</p>\n",
       "</div>"
      ],
      "text/plain": [
       "            Zip Code   Latitude   Longitude  Gender  Senior Citizen  Partner  \\\n",
       "CustomerID                                                                     \n",
       "3668-QPYBK     90003  33.964131 -118.272783       0               0        0   \n",
       "9237-HQITU     90005  34.059281 -118.307420       1               0        0   \n",
       "9305-CDSKC     90006  34.048013 -118.293953       1               0        0   \n",
       "7892-POOKP     90010  34.062125 -118.315709       1               0        1   \n",
       "0280-XJGEX     90015  34.039224 -118.266293       0               0        0   \n",
       "\n",
       "            Dependents  Tenure Months  Phone Service  Multiple Lines  ...  \\\n",
       "CustomerID                                                            ...   \n",
       "3668-QPYBK           0              2              1               0  ...   \n",
       "9237-HQITU           1              2              1               0  ...   \n",
       "9305-CDSKC           1              8              1               1  ...   \n",
       "7892-POOKP           1             28              1               1  ...   \n",
       "0280-XJGEX           1             49              1               1  ...   \n",
       "\n",
       "            Contract_Month-to-month  Contract_One year  Contract_Two year  \\\n",
       "CustomerID                                                                  \n",
       "3668-QPYBK                        1                  0                  0   \n",
       "9237-HQITU                        1                  0                  0   \n",
       "9305-CDSKC                        1                  0                  0   \n",
       "7892-POOKP                        1                  0                  0   \n",
       "0280-XJGEX                        1                  0                  0   \n",
       "\n",
       "            Payment Method_Bank transfer (automatic)  \\\n",
       "CustomerID                                             \n",
       "3668-QPYBK                                         0   \n",
       "9237-HQITU                                         0   \n",
       "9305-CDSKC                                         0   \n",
       "7892-POOKP                                         0   \n",
       "0280-XJGEX                                         1   \n",
       "\n",
       "            Payment Method_Credit card (automatic)  \\\n",
       "CustomerID                                           \n",
       "3668-QPYBK                                       0   \n",
       "9237-HQITU                                       0   \n",
       "9305-CDSKC                                       0   \n",
       "7892-POOKP                                       0   \n",
       "0280-XJGEX                                       0   \n",
       "\n",
       "            Payment Method_Electronic check  Payment Method_Mailed check  \\\n",
       "CustomerID                                                                 \n",
       "3668-QPYBK                                0                            1   \n",
       "9237-HQITU                                1                            0   \n",
       "9305-CDSKC                                1                            0   \n",
       "7892-POOKP                                1                            0   \n",
       "0280-XJGEX                                0                            0   \n",
       "\n",
       "            Prediction  Churn Value  Count  \n",
       "CustomerID                                  \n",
       "3668-QPYBK           1            1      1  \n",
       "9237-HQITU           1            1      1  \n",
       "9305-CDSKC           1            1      1  \n",
       "7892-POOKP           1            1      1  \n",
       "0280-XJGEX           0            1      1  \n",
       "\n",
       "[5 rows x 33 columns]"
      ]
     },
     "execution_count": 746,
     "metadata": {},
     "output_type": "execute_result"
    }
   ],
   "source": [
    "df_data.head()"
   ]
  },
  {
   "cell_type": "code",
   "execution_count": 747,
   "metadata": {},
   "outputs": [
    {
     "name": "stdout",
     "output_type": "stream",
     "text": [
      "<class 'pandas.core.frame.DataFrame'>\n",
      "Index: 3999 entries, 0280-XJGEX to 4801-JZAZL\n",
      "Data columns (total 33 columns):\n",
      " #   Column                                    Non-Null Count  Dtype  \n",
      "---  ------                                    --------------  -----  \n",
      " 0   Zip Code                                  3999 non-null   int64  \n",
      " 1   Latitude                                  3999 non-null   float64\n",
      " 2   Longitude                                 3999 non-null   float64\n",
      " 3   Gender                                    3999 non-null   int64  \n",
      " 4   Senior Citizen                            3999 non-null   int64  \n",
      " 5   Partner                                   3999 non-null   int64  \n",
      " 6   Dependents                                3999 non-null   int64  \n",
      " 7   Tenure Months                             3999 non-null   int64  \n",
      " 8   Phone Service                             3999 non-null   int64  \n",
      " 9   Multiple Lines                            3999 non-null   int64  \n",
      " 10  Online Security                           3999 non-null   int64  \n",
      " 11  Online Backup                             3999 non-null   int64  \n",
      " 12  Device Protection                         3999 non-null   int64  \n",
      " 13  Tech Support                              3999 non-null   int64  \n",
      " 14  Streaming TV                              3999 non-null   int64  \n",
      " 15  Streaming Movies                          3999 non-null   int64  \n",
      " 16  Paperless Billing                         3999 non-null   int64  \n",
      " 17  Monthly Charges                           3999 non-null   float64\n",
      " 18  Total Charges                             3999 non-null   float64\n",
      " 19  CLTV                                      3999 non-null   int64  \n",
      " 20  Internet Service_DSL                      3999 non-null   int64  \n",
      " 21  Internet Service_Fiber optic              3999 non-null   int64  \n",
      " 22  Internet Service_No                       3999 non-null   int64  \n",
      " 23  Contract_Month-to-month                   3999 non-null   int64  \n",
      " 24  Contract_One year                         3999 non-null   int64  \n",
      " 25  Contract_Two year                         3999 non-null   int64  \n",
      " 26  Payment Method_Bank transfer (automatic)  3999 non-null   int64  \n",
      " 27  Payment Method_Credit card (automatic)    3999 non-null   int64  \n",
      " 28  Payment Method_Electronic check           3999 non-null   int64  \n",
      " 29  Payment Method_Mailed check               3999 non-null   int64  \n",
      " 30  Prediction                                3999 non-null   int64  \n",
      " 31  Churn Value                               3999 non-null   int64  \n",
      " 32  Count                                     3999 non-null   int64  \n",
      "dtypes: float64(4), int64(29)\n",
      "memory usage: 1.0+ MB\n"
     ]
    }
   ],
   "source": [
    "false_data = df_data[df_data['Churn Value'] != df_data['Prediction']]\n",
    "false_data.info()"
   ]
  },
  {
   "cell_type": "code",
   "execution_count": 749,
   "metadata": {},
   "outputs": [
    {
     "data": {
      "text/html": [
       "<div>\n",
       "<style scoped>\n",
       "    .dataframe tbody tr th:only-of-type {\n",
       "        vertical-align: middle;\n",
       "    }\n",
       "\n",
       "    .dataframe tbody tr th {\n",
       "        vertical-align: top;\n",
       "    }\n",
       "\n",
       "    .dataframe thead th {\n",
       "        text-align: right;\n",
       "    }\n",
       "</style>\n",
       "<table border=\"1\" class=\"dataframe\">\n",
       "  <thead>\n",
       "    <tr style=\"text-align: right;\">\n",
       "      <th></th>\n",
       "      <th>Zip Code</th>\n",
       "      <th>Latitude</th>\n",
       "      <th>Longitude</th>\n",
       "      <th>Gender</th>\n",
       "      <th>Senior Citizen</th>\n",
       "      <th>Partner</th>\n",
       "      <th>Dependents</th>\n",
       "      <th>Tenure Months</th>\n",
       "      <th>Phone Service</th>\n",
       "      <th>Multiple Lines</th>\n",
       "      <th>...</th>\n",
       "      <th>Internet Service_No</th>\n",
       "      <th>Contract_Month-to-month</th>\n",
       "      <th>Contract_One year</th>\n",
       "      <th>Contract_Two year</th>\n",
       "      <th>Payment Method_Bank transfer (automatic)</th>\n",
       "      <th>Payment Method_Credit card (automatic)</th>\n",
       "      <th>Payment Method_Electronic check</th>\n",
       "      <th>Payment Method_Mailed check</th>\n",
       "      <th>Churn Value</th>\n",
       "      <th>Count</th>\n",
       "    </tr>\n",
       "    <tr>\n",
       "      <th>Prediction</th>\n",
       "      <th></th>\n",
       "      <th></th>\n",
       "      <th></th>\n",
       "      <th></th>\n",
       "      <th></th>\n",
       "      <th></th>\n",
       "      <th></th>\n",
       "      <th></th>\n",
       "      <th></th>\n",
       "      <th></th>\n",
       "      <th></th>\n",
       "      <th></th>\n",
       "      <th></th>\n",
       "      <th></th>\n",
       "      <th></th>\n",
       "      <th></th>\n",
       "      <th></th>\n",
       "      <th></th>\n",
       "      <th></th>\n",
       "      <th></th>\n",
       "      <th></th>\n",
       "    </tr>\n",
       "  </thead>\n",
       "  <tbody>\n",
       "    <tr>\n",
       "      <th>0</th>\n",
       "      <td>243</td>\n",
       "      <td>243</td>\n",
       "      <td>243</td>\n",
       "      <td>243</td>\n",
       "      <td>243</td>\n",
       "      <td>243</td>\n",
       "      <td>243</td>\n",
       "      <td>243</td>\n",
       "      <td>243</td>\n",
       "      <td>243</td>\n",
       "      <td>...</td>\n",
       "      <td>243</td>\n",
       "      <td>243</td>\n",
       "      <td>243</td>\n",
       "      <td>243</td>\n",
       "      <td>243</td>\n",
       "      <td>243</td>\n",
       "      <td>243</td>\n",
       "      <td>243</td>\n",
       "      <td>243</td>\n",
       "      <td>243</td>\n",
       "    </tr>\n",
       "    <tr>\n",
       "      <th>1</th>\n",
       "      <td>3756</td>\n",
       "      <td>3756</td>\n",
       "      <td>3756</td>\n",
       "      <td>3756</td>\n",
       "      <td>3756</td>\n",
       "      <td>3756</td>\n",
       "      <td>3756</td>\n",
       "      <td>3756</td>\n",
       "      <td>3756</td>\n",
       "      <td>3756</td>\n",
       "      <td>...</td>\n",
       "      <td>3756</td>\n",
       "      <td>3756</td>\n",
       "      <td>3756</td>\n",
       "      <td>3756</td>\n",
       "      <td>3756</td>\n",
       "      <td>3756</td>\n",
       "      <td>3756</td>\n",
       "      <td>3756</td>\n",
       "      <td>3756</td>\n",
       "      <td>3756</td>\n",
       "    </tr>\n",
       "  </tbody>\n",
       "</table>\n",
       "<p>2 rows × 32 columns</p>\n",
       "</div>"
      ],
      "text/plain": [
       "            Zip Code  Latitude  Longitude  Gender  Senior Citizen  Partner  \\\n",
       "Prediction                                                                   \n",
       "0                243       243        243     243             243      243   \n",
       "1               3756      3756       3756    3756            3756     3756   \n",
       "\n",
       "            Dependents  Tenure Months  Phone Service  Multiple Lines  ...  \\\n",
       "Prediction                                                            ...   \n",
       "0                  243            243            243             243  ...   \n",
       "1                 3756           3756           3756            3756  ...   \n",
       "\n",
       "            Internet Service_No  Contract_Month-to-month  Contract_One year  \\\n",
       "Prediction                                                                    \n",
       "0                           243                      243                243   \n",
       "1                          3756                     3756               3756   \n",
       "\n",
       "            Contract_Two year  Payment Method_Bank transfer (automatic)  \\\n",
       "Prediction                                                                \n",
       "0                         243                                       243   \n",
       "1                        3756                                      3756   \n",
       "\n",
       "            Payment Method_Credit card (automatic)  \\\n",
       "Prediction                                           \n",
       "0                                              243   \n",
       "1                                             3756   \n",
       "\n",
       "            Payment Method_Electronic check  Payment Method_Mailed check  \\\n",
       "Prediction                                                                 \n",
       "0                                       243                          243   \n",
       "1                                      3756                         3756   \n",
       "\n",
       "            Churn Value  Count  \n",
       "Prediction                      \n",
       "0                   243    243  \n",
       "1                  3756   3756  \n",
       "\n",
       "[2 rows x 32 columns]"
      ]
     },
     "execution_count": 749,
     "metadata": {},
     "output_type": "execute_result"
    }
   ],
   "source": [
    "false_data.groupby('Prediction').count()"
   ]
  },
  {
   "cell_type": "code",
   "execution_count": null,
   "metadata": {},
   "outputs": [],
   "source": [
    "false_zips = false_data.groupby('Zip Code')['Count'].count().sort_values(ascending=False)\n",
    "\n",
    "type(false_zips)"
   ]
  },
  {
   "cell_type": "code",
   "execution_count": null,
   "metadata": {},
   "outputs": [],
   "source": [
    "false_zips = pd.DataFrame(false_zips)\n",
    "\n",
    "false_zips.reset_index(inplace=True)"
   ]
  },
  {
   "cell_type": "code",
   "execution_count": null,
   "metadata": {},
   "outputs": [],
   "source": [
    "false_zips['Zip Code'].sort_values(ascending=False)"
   ]
  },
  {
   "cell_type": "code",
   "execution_count": null,
   "metadata": {},
   "outputs": [],
   "source": [
    "df_churn = pd.read_excel('data/Telco_customer_churn.xlsx')\n",
    "\n",
    "df_churn.head()"
   ]
  },
  {
   "cell_type": "code",
   "execution_count": null,
   "metadata": {},
   "outputs": [],
   "source": [
    "from uszipcode import SearchEngine, SimpleZipcode, Zipcode\n",
    "search = SearchEngine()"
   ]
  },
  {
   "cell_type": "code",
   "execution_count": null,
   "metadata": {},
   "outputs": [],
   "source": [
    "def zco(x):\n",
    "    if pd.isnull(x):\n",
    "        return None\n",
    "    else:\n",
    "        city = search.by_zipcode(x)\n",
    "        return city.major_city"
   ]
  },
  {
   "cell_type": "code",
   "execution_count": null,
   "metadata": {},
   "outputs": [],
   "source": [
    "false_zips['City'] = false_zips['Zip Code'].apply(zco)\n",
    "false_zips.head()"
   ]
  },
  {
   "cell_type": "code",
   "execution_count": null,
   "metadata": {},
   "outputs": [],
   "source": [
    "import folium\n",
    "import pandas as pd\n",
    "import json\n",
    "from folium import plugins"
   ]
  },
  {
   "cell_type": "code",
   "execution_count": null,
   "metadata": {},
   "outputs": [],
   "source": [
    "false_zips['Zip Code'] = false_zips['Zip Code'].astype('str')"
   ]
  },
  {
   "cell_type": "code",
   "execution_count": null,
   "metadata": {},
   "outputs": [],
   "source": [
    "false_zips.info()"
   ]
  },
  {
   "cell_type": "code",
   "execution_count": null,
   "metadata": {},
   "outputs": [],
   "source": [
    "ca_map = folium.Map(location=[38, -121.4944], zoom_start=6)\n",
    "\n",
    "ca_map.choropleth(geo_data=\"data/ca_california_zip_codes_geo.min.json\",\n",
    "             data=false_zips, # my dataset\n",
    "             columns=['Zip Code', 'Count'], # zip code is here for matching the geojson zipcode, predictions is the column that changes the color of zipcode areas\n",
    "             key_on='feature.properties.ZCTA5CE10', # this path contains zipcodes in str type, this zipcodes should match with our ZIP CODE column\n",
    "             fill_color='BuPu', fill_opacity=0.8, line_opacity=0.5,\n",
    "             legend_name='Count')"
   ]
  },
  {
   "cell_type": "code",
   "execution_count": null,
   "metadata": {},
   "outputs": [],
   "source": [
    "ca_map"
   ]
  },
  {
   "cell_type": "code",
   "execution_count": null,
   "metadata": {},
   "outputs": [],
   "source": []
  },
  {
   "cell_type": "code",
   "execution_count": null,
   "metadata": {},
   "outputs": [],
   "source": []
  },
  {
   "cell_type": "code",
   "execution_count": null,
   "metadata": {},
   "outputs": [],
   "source": []
  }
 ],
 "metadata": {
  "kernelspec": {
   "display_name": "Python 3",
   "language": "python",
   "name": "python3"
  },
  "language_info": {
   "codemirror_mode": {
    "name": "ipython",
    "version": 3
   },
   "file_extension": ".py",
   "mimetype": "text/x-python",
   "name": "python",
   "nbconvert_exporter": "python",
   "pygments_lexer": "ipython3",
   "version": "3.8.3"
  }
 },
 "nbformat": 4,
 "nbformat_minor": 4
}
