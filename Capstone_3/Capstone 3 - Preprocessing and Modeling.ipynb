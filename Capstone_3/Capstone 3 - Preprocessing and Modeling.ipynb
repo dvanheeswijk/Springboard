{
 "cells": [
  {
   "cell_type": "markdown",
   "metadata": {},
   "source": [
    "# Capstone 3 - Customer Churn Prediction for Telco\n",
    "\n",
    "In our previous [Notebook](https://github.com/dvanheeswijk/Springboard/blob/master/Capstone_3/Capstone%203%20-%20EDA.ipynb), we explored our data set to find any possible leads to areas to focus on for our modeling. We found that bigger cities had larger churn volumes, while a few cities also had much higher percentages of churn than most others, specifically smaller cities with a handful of customers. We also saw that Fiber Optics customers were almost twice as likely to churn as DSL customers or customers with no internet service. Lastly, we saw that the primary reasons for leaving were basically either competitive offers from other companies or poor service attitude when dealing with troubleshooting issues. \n",
    "\n",
    "We will now explore *clean_data.csv*, our preprocessed data set and create training and testing data sets in order to evaluate models.\n",
    "\n",
    "We start with importing the data and necessary libraries."
   ]
  },
  {
   "cell_type": "code",
   "execution_count": 131,
   "metadata": {},
   "outputs": [
    {
     "name": "stderr",
     "output_type": "stream",
     "text": [
      "C:\\Users\\david\\anaconda3\\lib\\site-packages\\sklearn\\utils\\deprecation.py:143: FutureWarning: The sklearn.metrics.scorer module is  deprecated in version 0.22 and will be removed in version 0.24. The corresponding classes / functions should instead be imported from sklearn.metrics. Anything that cannot be imported from sklearn.metrics is now part of the private API.\n",
      "  warnings.warn(message, FutureWarning)\n"
     ]
    }
   ],
   "source": [
    "import pandas as pd\n",
    "import numpy as np\n",
    "import matplotlib.pyplot as plt\n",
    "%matplotlib inline\n",
    "\n",
    "import seaborn as sns\n",
    "\n",
    "from sklearn.model_selection import train_test_split, RandomizedSearchCV, GridSearchCV\n",
    "from sklearn.pipeline import Pipeline\n",
    "from sklearn.neighbors import KNeighborsClassifier\n",
    "from sklearn.linear_model import RidgeClassifier\n",
    "# from sklearn.neural_network import MLPClassifier\n",
    "from sklearn.svm import SVC\n",
    "from sklearn.ensemble import GradientBoostingClassifier, RandomForestClassifier\n",
    "from sklearn.preprocessing import StandardScaler\n",
    "from sklearn.metrics import accuracy_score, roc_auc_score,roc_curve,scorer"
   ]
  },
  {
   "cell_type": "code",
   "execution_count": 90,
   "metadata": {},
   "outputs": [
    {
     "data": {
      "text/html": [
       "<div>\n",
       "<style scoped>\n",
       "    .dataframe tbody tr th:only-of-type {\n",
       "        vertical-align: middle;\n",
       "    }\n",
       "\n",
       "    .dataframe tbody tr th {\n",
       "        vertical-align: top;\n",
       "    }\n",
       "\n",
       "    .dataframe thead th {\n",
       "        text-align: right;\n",
       "    }\n",
       "</style>\n",
       "<table border=\"1\" class=\"dataframe\">\n",
       "  <thead>\n",
       "    <tr style=\"text-align: right;\">\n",
       "      <th></th>\n",
       "      <th>CustomerID</th>\n",
       "      <th>Zip Code</th>\n",
       "      <th>Latitude</th>\n",
       "      <th>Longitude</th>\n",
       "      <th>Gender</th>\n",
       "      <th>Senior Citizen</th>\n",
       "      <th>Partner</th>\n",
       "      <th>Dependents</th>\n",
       "      <th>Tenure Months</th>\n",
       "      <th>Phone Service</th>\n",
       "      <th>...</th>\n",
       "      <th>Internet Service_DSL</th>\n",
       "      <th>Internet Service_Fiber optic</th>\n",
       "      <th>Internet Service_No</th>\n",
       "      <th>Contract_Month-to-month</th>\n",
       "      <th>Contract_One year</th>\n",
       "      <th>Contract_Two year</th>\n",
       "      <th>Payment Method_Bank transfer (automatic)</th>\n",
       "      <th>Payment Method_Credit card (automatic)</th>\n",
       "      <th>Payment Method_Electronic check</th>\n",
       "      <th>Payment Method_Mailed check</th>\n",
       "    </tr>\n",
       "  </thead>\n",
       "  <tbody>\n",
       "    <tr>\n",
       "      <th>0</th>\n",
       "      <td>3668-QPYBK</td>\n",
       "      <td>90003</td>\n",
       "      <td>33.964131</td>\n",
       "      <td>-118.272783</td>\n",
       "      <td>0</td>\n",
       "      <td>0</td>\n",
       "      <td>0</td>\n",
       "      <td>0</td>\n",
       "      <td>2</td>\n",
       "      <td>1</td>\n",
       "      <td>...</td>\n",
       "      <td>1</td>\n",
       "      <td>0</td>\n",
       "      <td>0</td>\n",
       "      <td>1</td>\n",
       "      <td>0</td>\n",
       "      <td>0</td>\n",
       "      <td>0</td>\n",
       "      <td>0</td>\n",
       "      <td>0</td>\n",
       "      <td>1</td>\n",
       "    </tr>\n",
       "    <tr>\n",
       "      <th>1</th>\n",
       "      <td>9237-HQITU</td>\n",
       "      <td>90005</td>\n",
       "      <td>34.059281</td>\n",
       "      <td>-118.307420</td>\n",
       "      <td>1</td>\n",
       "      <td>0</td>\n",
       "      <td>0</td>\n",
       "      <td>1</td>\n",
       "      <td>2</td>\n",
       "      <td>1</td>\n",
       "      <td>...</td>\n",
       "      <td>0</td>\n",
       "      <td>1</td>\n",
       "      <td>0</td>\n",
       "      <td>1</td>\n",
       "      <td>0</td>\n",
       "      <td>0</td>\n",
       "      <td>0</td>\n",
       "      <td>0</td>\n",
       "      <td>1</td>\n",
       "      <td>0</td>\n",
       "    </tr>\n",
       "    <tr>\n",
       "      <th>2</th>\n",
       "      <td>9305-CDSKC</td>\n",
       "      <td>90006</td>\n",
       "      <td>34.048013</td>\n",
       "      <td>-118.293953</td>\n",
       "      <td>1</td>\n",
       "      <td>0</td>\n",
       "      <td>0</td>\n",
       "      <td>1</td>\n",
       "      <td>8</td>\n",
       "      <td>1</td>\n",
       "      <td>...</td>\n",
       "      <td>0</td>\n",
       "      <td>1</td>\n",
       "      <td>0</td>\n",
       "      <td>1</td>\n",
       "      <td>0</td>\n",
       "      <td>0</td>\n",
       "      <td>0</td>\n",
       "      <td>0</td>\n",
       "      <td>1</td>\n",
       "      <td>0</td>\n",
       "    </tr>\n",
       "    <tr>\n",
       "      <th>3</th>\n",
       "      <td>7892-POOKP</td>\n",
       "      <td>90010</td>\n",
       "      <td>34.062125</td>\n",
       "      <td>-118.315709</td>\n",
       "      <td>1</td>\n",
       "      <td>0</td>\n",
       "      <td>1</td>\n",
       "      <td>1</td>\n",
       "      <td>28</td>\n",
       "      <td>1</td>\n",
       "      <td>...</td>\n",
       "      <td>0</td>\n",
       "      <td>1</td>\n",
       "      <td>0</td>\n",
       "      <td>1</td>\n",
       "      <td>0</td>\n",
       "      <td>0</td>\n",
       "      <td>0</td>\n",
       "      <td>0</td>\n",
       "      <td>1</td>\n",
       "      <td>0</td>\n",
       "    </tr>\n",
       "    <tr>\n",
       "      <th>4</th>\n",
       "      <td>0280-XJGEX</td>\n",
       "      <td>90015</td>\n",
       "      <td>34.039224</td>\n",
       "      <td>-118.266293</td>\n",
       "      <td>0</td>\n",
       "      <td>0</td>\n",
       "      <td>0</td>\n",
       "      <td>1</td>\n",
       "      <td>49</td>\n",
       "      <td>1</td>\n",
       "      <td>...</td>\n",
       "      <td>0</td>\n",
       "      <td>1</td>\n",
       "      <td>0</td>\n",
       "      <td>1</td>\n",
       "      <td>0</td>\n",
       "      <td>0</td>\n",
       "      <td>1</td>\n",
       "      <td>0</td>\n",
       "      <td>0</td>\n",
       "      <td>0</td>\n",
       "    </tr>\n",
       "  </tbody>\n",
       "</table>\n",
       "<p>5 rows × 32 columns</p>\n",
       "</div>"
      ],
      "text/plain": [
       "   CustomerID  Zip Code   Latitude   Longitude  Gender  Senior Citizen  \\\n",
       "0  3668-QPYBK     90003  33.964131 -118.272783       0               0   \n",
       "1  9237-HQITU     90005  34.059281 -118.307420       1               0   \n",
       "2  9305-CDSKC     90006  34.048013 -118.293953       1               0   \n",
       "3  7892-POOKP     90010  34.062125 -118.315709       1               0   \n",
       "4  0280-XJGEX     90015  34.039224 -118.266293       0               0   \n",
       "\n",
       "   Partner  Dependents  Tenure Months  Phone Service  ...  \\\n",
       "0        0           0              2              1  ...   \n",
       "1        0           1              2              1  ...   \n",
       "2        0           1              8              1  ...   \n",
       "3        1           1             28              1  ...   \n",
       "4        0           1             49              1  ...   \n",
       "\n",
       "   Internet Service_DSL  Internet Service_Fiber optic  Internet Service_No  \\\n",
       "0                     1                             0                    0   \n",
       "1                     0                             1                    0   \n",
       "2                     0                             1                    0   \n",
       "3                     0                             1                    0   \n",
       "4                     0                             1                    0   \n",
       "\n",
       "   Contract_Month-to-month  Contract_One year  Contract_Two year  \\\n",
       "0                        1                  0                  0   \n",
       "1                        1                  0                  0   \n",
       "2                        1                  0                  0   \n",
       "3                        1                  0                  0   \n",
       "4                        1                  0                  0   \n",
       "\n",
       "   Payment Method_Bank transfer (automatic)  \\\n",
       "0                                         0   \n",
       "1                                         0   \n",
       "2                                         0   \n",
       "3                                         0   \n",
       "4                                         1   \n",
       "\n",
       "   Payment Method_Credit card (automatic)  Payment Method_Electronic check  \\\n",
       "0                                       0                                0   \n",
       "1                                       0                                1   \n",
       "2                                       0                                1   \n",
       "3                                       0                                1   \n",
       "4                                       0                                0   \n",
       "\n",
       "   Payment Method_Mailed check  \n",
       "0                            1  \n",
       "1                            0  \n",
       "2                            0  \n",
       "3                            0  \n",
       "4                            0  \n",
       "\n",
       "[5 rows x 32 columns]"
      ]
     },
     "execution_count": 90,
     "metadata": {},
     "output_type": "execute_result"
    }
   ],
   "source": [
    "data = pd.read_csv('data/clean_data.csv')\n",
    "\n",
    "data.head()"
   ]
  },
  {
   "cell_type": "code",
   "execution_count": 91,
   "metadata": {},
   "outputs": [
    {
     "name": "stdout",
     "output_type": "stream",
     "text": [
      "<class 'pandas.core.frame.DataFrame'>\n",
      "RangeIndex: 7032 entries, 0 to 7031\n",
      "Data columns (total 32 columns):\n",
      " #   Column                                    Non-Null Count  Dtype  \n",
      "---  ------                                    --------------  -----  \n",
      " 0   CustomerID                                7032 non-null   object \n",
      " 1   Zip Code                                  7032 non-null   int64  \n",
      " 2   Latitude                                  7032 non-null   float64\n",
      " 3   Longitude                                 7032 non-null   float64\n",
      " 4   Gender                                    7032 non-null   int64  \n",
      " 5   Senior Citizen                            7032 non-null   int64  \n",
      " 6   Partner                                   7032 non-null   int64  \n",
      " 7   Dependents                                7032 non-null   int64  \n",
      " 8   Tenure Months                             7032 non-null   int64  \n",
      " 9   Phone Service                             7032 non-null   int64  \n",
      " 10  Multiple Lines                            7032 non-null   int64  \n",
      " 11  Online Security                           7032 non-null   int64  \n",
      " 12  Online Backup                             7032 non-null   int64  \n",
      " 13  Device Protection                         7032 non-null   int64  \n",
      " 14  Tech Support                              7032 non-null   int64  \n",
      " 15  Streaming TV                              7032 non-null   int64  \n",
      " 16  Streaming Movies                          7032 non-null   int64  \n",
      " 17  Paperless Billing                         7032 non-null   int64  \n",
      " 18  Monthly Charges                           7032 non-null   float64\n",
      " 19  Total Charges                             7032 non-null   float64\n",
      " 20  Churn Value                               7032 non-null   int64  \n",
      " 21  CLTV                                      7032 non-null   int64  \n",
      " 22  Internet Service_DSL                      7032 non-null   int64  \n",
      " 23  Internet Service_Fiber optic              7032 non-null   int64  \n",
      " 24  Internet Service_No                       7032 non-null   int64  \n",
      " 25  Contract_Month-to-month                   7032 non-null   int64  \n",
      " 26  Contract_One year                         7032 non-null   int64  \n",
      " 27  Contract_Two year                         7032 non-null   int64  \n",
      " 28  Payment Method_Bank transfer (automatic)  7032 non-null   int64  \n",
      " 29  Payment Method_Credit card (automatic)    7032 non-null   int64  \n",
      " 30  Payment Method_Electronic check           7032 non-null   int64  \n",
      " 31  Payment Method_Mailed check               7032 non-null   int64  \n",
      "dtypes: float64(4), int64(27), object(1)\n",
      "memory usage: 1.7+ MB\n"
     ]
    }
   ],
   "source": [
    "data.info()"
   ]
  },
  {
   "cell_type": "code",
   "execution_count": 92,
   "metadata": {},
   "outputs": [
    {
     "data": {
      "text/plain": [
       "True"
      ]
     },
     "execution_count": 92,
     "metadata": {},
     "output_type": "execute_result"
    }
   ],
   "source": [
    "data['CustomerID'].is_unique"
   ]
  },
  {
   "cell_type": "code",
   "execution_count": 93,
   "metadata": {},
   "outputs": [
    {
     "name": "stdout",
     "output_type": "stream",
     "text": [
      "<class 'pandas.core.frame.DataFrame'>\n",
      "Index: 7032 entries, 3668-QPYBK to 3186-AJIEK\n",
      "Data columns (total 31 columns):\n",
      " #   Column                                    Non-Null Count  Dtype  \n",
      "---  ------                                    --------------  -----  \n",
      " 0   Zip Code                                  7032 non-null   int64  \n",
      " 1   Latitude                                  7032 non-null   float64\n",
      " 2   Longitude                                 7032 non-null   float64\n",
      " 3   Gender                                    7032 non-null   int64  \n",
      " 4   Senior Citizen                            7032 non-null   int64  \n",
      " 5   Partner                                   7032 non-null   int64  \n",
      " 6   Dependents                                7032 non-null   int64  \n",
      " 7   Tenure Months                             7032 non-null   int64  \n",
      " 8   Phone Service                             7032 non-null   int64  \n",
      " 9   Multiple Lines                            7032 non-null   int64  \n",
      " 10  Online Security                           7032 non-null   int64  \n",
      " 11  Online Backup                             7032 non-null   int64  \n",
      " 12  Device Protection                         7032 non-null   int64  \n",
      " 13  Tech Support                              7032 non-null   int64  \n",
      " 14  Streaming TV                              7032 non-null   int64  \n",
      " 15  Streaming Movies                          7032 non-null   int64  \n",
      " 16  Paperless Billing                         7032 non-null   int64  \n",
      " 17  Monthly Charges                           7032 non-null   float64\n",
      " 18  Total Charges                             7032 non-null   float64\n",
      " 19  Churn Value                               7032 non-null   int64  \n",
      " 20  CLTV                                      7032 non-null   int64  \n",
      " 21  Internet Service_DSL                      7032 non-null   int64  \n",
      " 22  Internet Service_Fiber optic              7032 non-null   int64  \n",
      " 23  Internet Service_No                       7032 non-null   int64  \n",
      " 24  Contract_Month-to-month                   7032 non-null   int64  \n",
      " 25  Contract_One year                         7032 non-null   int64  \n",
      " 26  Contract_Two year                         7032 non-null   int64  \n",
      " 27  Payment Method_Bank transfer (automatic)  7032 non-null   int64  \n",
      " 28  Payment Method_Credit card (automatic)    7032 non-null   int64  \n",
      " 29  Payment Method_Electronic check           7032 non-null   int64  \n",
      " 30  Payment Method_Mailed check               7032 non-null   int64  \n",
      "dtypes: float64(4), int64(27)\n",
      "memory usage: 1.7+ MB\n"
     ]
    }
   ],
   "source": [
    "data.set_index('CustomerID', inplace=True)\n",
    "\n",
    "data.info()"
   ]
  },
  {
   "cell_type": "markdown",
   "metadata": {},
   "source": [
    "We see now that we have the data in complete numeric format, meaning that we are ready to begin training the data."
   ]
  },
  {
   "cell_type": "markdown",
   "metadata": {},
   "source": [
    "### Training the data"
   ]
  },
  {
   "cell_type": "code",
   "execution_count": 94,
   "metadata": {},
   "outputs": [],
   "source": [
    "# Splitting the data between our dependent and independent variables\n",
    "X = data.drop(columns='Churn Value')\n",
    "y = data['Churn Value']\n",
    "\n",
    "scaler = StandardScaler()\n",
    "\n",
    "X_scaled = scaler.fit_transform(X)\n",
    "\n",
    "X_train, X_test, y_train, y_test = train_test_split(X_scaled, y, test_size=.2, random_state=42)"
   ]
  },
  {
   "cell_type": "code",
   "execution_count": 95,
   "metadata": {},
   "outputs": [
    {
     "name": "stdout",
     "output_type": "stream",
     "text": [
      "(5625, 30) (1407, 30)\n"
     ]
    }
   ],
   "source": [
    "print(X_train.shape, X_test.shape)"
   ]
  },
  {
   "cell_type": "code",
   "execution_count": 96,
   "metadata": {},
   "outputs": [
    {
     "name": "stdout",
     "output_type": "stream",
     "text": [
      "(5625,) (1407,)\n"
     ]
    }
   ],
   "source": [
    "print(y_train.shape, y_test.shape)"
   ]
  },
  {
   "cell_type": "markdown",
   "metadata": {},
   "source": [
    "### Creating the models"
   ]
  },
  {
   "cell_type": "markdown",
   "metadata": {},
   "source": [
    "#### K Means Classifier"
   ]
  },
  {
   "cell_type": "code",
   "execution_count": 97,
   "metadata": {},
   "outputs": [
    {
     "data": {
      "text/plain": [
       "{'n_neighbors': 38}"
      ]
     },
     "execution_count": 97,
     "metadata": {},
     "output_type": "execute_result"
    }
   ],
   "source": [
    "param_grid = {'n_neighbors':np.arange(1,50)}\n",
    "\n",
    "knn = KNeighborsClassifier()\n",
    "\n",
    "clf = RandomizedSearchCV(knn, param_grid, random_state=0)\n",
    "search = clf.fit(X_train, y_train)\n",
    "search.best_params_"
   ]
  },
  {
   "cell_type": "code",
   "execution_count": 98,
   "metadata": {},
   "outputs": [
    {
     "data": {
      "text/plain": [
       "KNeighborsClassifier(n_neighbors=38)"
      ]
     },
     "execution_count": 98,
     "metadata": {},
     "output_type": "execute_result"
    }
   ],
   "source": [
    "knn = KNeighborsClassifier(n_neighbors=38)\n",
    "\n",
    "knn.fit(X_train, y_train)"
   ]
  },
  {
   "cell_type": "code",
   "execution_count": 99,
   "metadata": {},
   "outputs": [],
   "source": [
    "from sklearn.metrics import confusion_matrix\n",
    "y_pred = knn.predict(X_test)\n",
    "pl = confusion_matrix(y_test,y_pred)"
   ]
  },
  {
   "cell_type": "code",
   "execution_count": 100,
   "metadata": {},
   "outputs": [
    {
     "data": {
      "image/png": "[encoded data removed]",
      "text/plain": [
       "<Figure size 432x288 with 2 Axes>"
      ]
     },
     "metadata": {
      "needs_background": "light"
     },
     "output_type": "display_data"
    }
   ],
   "source": [
    "# plot_confusion_matrix(knn, X_test, y_test, cmap=plt.cm.Blues)\n",
    "# plt.title('Confusion Matrix')\n",
    "# plot_confusion_matrix(knn, X_test, y_test, cmap=plt.cm.Blues, normalize='true')\n",
    "# plt.title('Normalized Matrix')\n",
    "labels = ['Churn', 'Remain']\n",
    "\n",
    "\n",
    "fig = plt.figure()\n",
    "ax = fig.add_subplot(111)\n",
    "cax = ax.matshow(pl)\n",
    "plt.title('Confusion matrix of the classifier')\n",
    "fig.colorbar(cax)\n",
    "ax.set_xticklabels([''] + labels)\n",
    "ax.set_yticklabels([''] + labels)\n",
    "plt.xlabel('Predicted')\n",
    "plt.ylabel('True')\n",
    "plt.show()"
   ]
  },
  {
   "cell_type": "code",
   "execution_count": 101,
   "metadata": {},
   "outputs": [
    {
     "name": "stdout",
     "output_type": "stream",
     "text": [
      "[[888 124]\n",
      " [158 237]]\n"
     ]
    }
   ],
   "source": [
    "print(pl)"
   ]
  },
  {
   "cell_type": "code",
   "execution_count": 102,
   "metadata": {},
   "outputs": [
    {
     "name": "stdout",
     "output_type": "stream",
     "text": [
      "0.7387351778656127 0.7995735607675906\n"
     ]
    }
   ],
   "source": [
    "auc_kmeans = roc_auc_score(y_test, y_pred)\n",
    "acc_kmeans = accuracy_score(y_test,y_pred)\n",
    "print(auc_kmeans, acc_kmeans)"
   ]
  },
  {
   "cell_type": "markdown",
   "metadata": {},
   "source": [
    "As we can see, this model is alright, but we can likely do better with a different model. "
   ]
  },
  {
   "cell_type": "markdown",
   "metadata": {},
   "source": [
    "#### Ridge Classifier"
   ]
  },
  {
   "cell_type": "code",
   "execution_count": 103,
   "metadata": {},
   "outputs": [
    {
     "data": {
      "text/plain": [
       "{'alpha': 0.7}"
      ]
     },
     "execution_count": 103,
     "metadata": {},
     "output_type": "execute_result"
    }
   ],
   "source": [
    "from sklearn.model_selection import RepeatedStratifiedKFold\n",
    "\n",
    "ridge = RidgeClassifier()\n",
    "\n",
    "alphas = [0.1, 0.2, 0.3, 0.4, 0.5, 0.6, 0.7, 0.8, 0.9, 1.0]\n",
    "\n",
    "param_grid = dict(alpha=alphas)\n",
    "\n",
    "cv = RepeatedStratifiedKFold(n_splits=10, n_repeats=3, random_state=1)\n",
    "\n",
    "grid = GridSearchCV(ridge, param_grid, n_jobs=-1, cv=cv, scoring='accuracy',error_score=0)\n",
    "\n",
    "search = grid.fit(X_train, y_train)\n",
    "\n",
    "search.best_params_"
   ]
  },
  {
   "cell_type": "code",
   "execution_count": 104,
   "metadata": {},
   "outputs": [
    {
     "data": {
      "text/plain": [
       "RidgeClassifier(alpha=0.7)"
      ]
     },
     "execution_count": 104,
     "metadata": {},
     "output_type": "execute_result"
    }
   ],
   "source": [
    "ridge = RidgeClassifier(alpha=0.7)\n",
    "\n",
    "ridge.fit(X_train, y_train)"
   ]
  },
  {
   "cell_type": "code",
   "execution_count": 105,
   "metadata": {},
   "outputs": [
    {
     "data": {
      "image/png": "[encoded data removed]",
      "text/plain": [
       "<Figure size 432x288 with 2 Axes>"
      ]
     },
     "metadata": {
      "needs_background": "light"
     },
     "output_type": "display_data"
    }
   ],
   "source": [
    "y_pred = ridge.predict(X_test)\n",
    "\n",
    "pl = confusion_matrix(y_test,y_pred)\n",
    "\n",
    "labels = ['Churn', 'Remain']\n",
    "\n",
    "\n",
    "fig = plt.figure()\n",
    "ax = fig.add_subplot(111)\n",
    "cax = ax.matshow(pl)\n",
    "plt.title('Confusion matrix of the classifier')\n",
    "fig.colorbar(cax)\n",
    "ax.set_xticklabels([''] + labels)\n",
    "ax.set_yticklabels([''] + labels)\n",
    "plt.xlabel('Predicted')\n",
    "plt.ylabel('True')\n",
    "plt.show()"
   ]
  },
  {
   "cell_type": "code",
   "execution_count": 106,
   "metadata": {},
   "outputs": [
    {
     "name": "stdout",
     "output_type": "stream",
     "text": [
      "0.7295066793415721 0.8073916133617626\n"
     ]
    }
   ],
   "source": [
    "auc_ridge = roc_auc_score(y_test, y_pred)\n",
    "acc_ridge = accuracy_score(y_test,y_pred)\n",
    "print(auc_ridge, acc_ridge)"
   ]
  },
  {
   "cell_type": "markdown",
   "metadata": {},
   "source": [
    "#### SVC"
   ]
  },
  {
   "cell_type": "code",
   "execution_count": 107,
   "metadata": {},
   "outputs": [
    {
     "name": "stdout",
     "output_type": "stream",
     "text": [
      "{'C': 0.1, 'gamma': 'scale', 'kernel': 'sigmoid'}\n"
     ]
    }
   ],
   "source": [
    "svc = SVC()\n",
    "\n",
    "kernel = ['poly', 'rbf', 'sigmoid']\n",
    "C = [50, 10, 1.0, 0.1, 0.01]\n",
    "gamma = ['scale']\n",
    "# define grid search\n",
    "grid = dict(kernel=kernel,C=C,gamma=gamma)\n",
    "cv = RepeatedStratifiedKFold(n_splits=10, n_repeats=3, random_state=1)\n",
    "grid_search = GridSearchCV(estimator=svc, param_grid=grid, n_jobs=-1, cv=cv, scoring='accuracy',error_score=0)\n",
    "grid_result = grid_search.fit(X_train, y_train)\n",
    "\n",
    "print(grid_result.best_params_)"
   ]
  },
  {
   "cell_type": "code",
   "execution_count": 108,
   "metadata": {},
   "outputs": [
    {
     "data": {
      "text/plain": [
       "SVC(C=0.1, kernel='sigmoid')"
      ]
     },
     "execution_count": 108,
     "metadata": {},
     "output_type": "execute_result"
    }
   ],
   "source": [
    "svc = SVC(C=0.1, gamma='scale', kernel='sigmoid')\n",
    "\n",
    "svc.fit(X_train, y_train)"
   ]
  },
  {
   "cell_type": "code",
   "execution_count": 109,
   "metadata": {},
   "outputs": [
    {
     "data": {
      "image/png": "[encoded data removed]",
      "text/plain": [
       "<Figure size 432x288 with 2 Axes>"
      ]
     },
     "metadata": {
      "needs_background": "light"
     },
     "output_type": "display_data"
    }
   ],
   "source": [
    "y_pred = svc.predict(X_test)\n",
    "\n",
    "pl = confusion_matrix(y_test,y_pred)\n",
    "\n",
    "labels = ['Churn', 'Remain']\n",
    "\n",
    "\n",
    "fig = plt.figure()\n",
    "ax = fig.add_subplot(111)\n",
    "cax = ax.matshow(pl)\n",
    "plt.title('Confusion matrix of the classifier')\n",
    "fig.colorbar(cax)\n",
    "ax.set_xticklabels([''] + labels)\n",
    "ax.set_yticklabels([''] + labels)\n",
    "plt.xlabel('Predicted')\n",
    "plt.ylabel('True')\n",
    "plt.show()"
   ]
  },
  {
   "cell_type": "code",
   "execution_count": 110,
   "metadata": {},
   "outputs": [
    {
     "name": "stdout",
     "output_type": "stream",
     "text": [
      "0.7313891529494171 0.8045486851457001\n"
     ]
    }
   ],
   "source": [
    "auc_svc = roc_auc_score(y_test, y_pred)\n",
    "acc_svc = accuracy_score(y_test,y_pred)\n",
    "print(auc_svc, acc_svc)"
   ]
  },
  {
   "cell_type": "markdown",
   "metadata": {},
   "source": [
    "## Deep learning modeling using Keras"
   ]
  },
  {
   "cell_type": "code",
   "execution_count": 150,
   "metadata": {},
   "outputs": [],
   "source": [
    "from keras.layers import Dense\n",
    "from keras.models import Sequential\n",
    "from IPython.display import SVG\n",
    "from keras.optimizers import Adam\n",
    "from keras import regularizers\n",
    "from keras.utils.vis_utils import model_to_dot\n",
    "from keras import losses\n",
    "#import pydot\n",
    "from keras.utils.vis_utils import plot_model"
   ]
  },
  {
   "cell_type": "code",
   "execution_count": 169,
   "metadata": {},
   "outputs": [
    {
     "name": "stdout",
     "output_type": "stream",
     "text": [
      "Model: \"sequential_4\"\n",
      "_________________________________________________________________\n",
      "Layer (type)                 Output Shape              Param #   \n",
      "=================================================================\n",
      "dense_20 (Dense)             (None, 64)                1984      \n",
      "_________________________________________________________________\n",
      "dense_21 (Dense)             (None, 32)                2080      \n",
      "_________________________________________________________________\n",
      "dense_22 (Dense)             (None, 16)                528       \n",
      "_________________________________________________________________\n",
      "dense_23 (Dense)             (None, 8)                 136       \n",
      "_________________________________________________________________\n",
      "dense_24 (Dense)             (None, 1)                 9         \n",
      "=================================================================\n",
      "Total params: 4,737\n",
      "Trainable params: 4,737\n",
      "Non-trainable params: 0\n",
      "_________________________________________________________________\n"
     ]
    },
    {
     "data": {
      "image/svg+xml": [
       "<svg xmlns=\"http://www.w3.org/2000/svg\" xmlns:xlink=\"http://www.w3.org/1999/xlink\" width=\"241pt\" height=\"547pt\" viewBox=\"0.00 0.00 181.00 410.00\">\n",
       "<g id=\"graph0\" class=\"graph\" transform=\"scale(1.33333 1.33333) rotate(0) translate(4 406)\">\n",
       "<title>G</title>\n",
       "<polygon fill=\"white\" stroke=\"none\" points=\"-4,4 -4,-406 177,-406 177,4 -4,4\"/>\n",
       "<!-- 2058717382784 -->\n",
       "<g id=\"node1\" class=\"node\"><title>2058717382784</title>\n",
       "<polygon fill=\"none\" stroke=\"black\" points=\"0,-365.5 0,-401.5 173,-401.5 173,-365.5 0,-365.5\"/>\n",
       "<text text-anchor=\"middle\" x=\"86.5\" y=\"-379.8\" font-family=\"Times New Roman,serif\" font-size=\"14.00\">dense_20_input: InputLayer</text>\n",
       "</g>\n",
       "<!-- 2057335548272 -->\n",
       "<g id=\"node2\" class=\"node\"><title>2057335548272</title>\n",
       "<polygon fill=\"none\" stroke=\"black\" points=\"31,-292.5 31,-328.5 142,-328.5 142,-292.5 31,-292.5\"/>\n",
       "<text text-anchor=\"middle\" x=\"86.5\" y=\"-306.8\" font-family=\"Times New Roman,serif\" font-size=\"14.00\">dense_20: Dense</text>\n",
       "</g>\n",
       "<!-- 2058717382784&#45;&gt;2057335548272 -->\n",
       "<g id=\"edge1\" class=\"edge\"><title>2058717382784-&gt;2057335548272</title>\n",
       "<path fill=\"none\" stroke=\"black\" d=\"M86.5,-365.313C86.5,-357.289 86.5,-347.547 86.5,-338.569\"/>\n",
       "<polygon fill=\"black\" stroke=\"black\" points=\"90.0001,-338.529 86.5,-328.529 83.0001,-338.529 90.0001,-338.529\"/>\n",
       "</g>\n",
       "<!-- 2058717474288 -->\n",
       "<g id=\"node3\" class=\"node\"><title>2058717474288</title>\n",
       "<polygon fill=\"none\" stroke=\"black\" points=\"31,-219.5 31,-255.5 142,-255.5 142,-219.5 31,-219.5\"/>\n",
       "<text text-anchor=\"middle\" x=\"86.5\" y=\"-233.8\" font-family=\"Times New Roman,serif\" font-size=\"14.00\">dense_21: Dense</text>\n",
       "</g>\n",
       "<!-- 2057335548272&#45;&gt;2058717474288 -->\n",
       "<g id=\"edge2\" class=\"edge\"><title>2057335548272-&gt;2058717474288</title>\n",
       "<path fill=\"none\" stroke=\"black\" d=\"M86.5,-292.313C86.5,-284.289 86.5,-274.547 86.5,-265.569\"/>\n",
       "<polygon fill=\"black\" stroke=\"black\" points=\"90.0001,-265.529 86.5,-255.529 83.0001,-265.529 90.0001,-265.529\"/>\n",
       "</g>\n",
       "<!-- 2058717173120 -->\n",
       "<g id=\"node4\" class=\"node\"><title>2058717173120</title>\n",
       "<polygon fill=\"none\" stroke=\"black\" points=\"31,-146.5 31,-182.5 142,-182.5 142,-146.5 31,-146.5\"/>\n",
       "<text text-anchor=\"middle\" x=\"86.5\" y=\"-160.8\" font-family=\"Times New Roman,serif\" font-size=\"14.00\">dense_22: Dense</text>\n",
       "</g>\n",
       "<!-- 2058717474288&#45;&gt;2058717173120 -->\n",
       "<g id=\"edge3\" class=\"edge\"><title>2058717474288-&gt;2058717173120</title>\n",
       "<path fill=\"none\" stroke=\"black\" d=\"M86.5,-219.313C86.5,-211.289 86.5,-201.547 86.5,-192.569\"/>\n",
       "<polygon fill=\"black\" stroke=\"black\" points=\"90.0001,-192.529 86.5,-182.529 83.0001,-192.529 90.0001,-192.529\"/>\n",
       "</g>\n",
       "<!-- 2058717351648 -->\n",
       "<g id=\"node5\" class=\"node\"><title>2058717351648</title>\n",
       "<polygon fill=\"none\" stroke=\"black\" points=\"31,-73.5 31,-109.5 142,-109.5 142,-73.5 31,-73.5\"/>\n",
       "<text text-anchor=\"middle\" x=\"86.5\" y=\"-87.8\" font-family=\"Times New Roman,serif\" font-size=\"14.00\">dense_23: Dense</text>\n",
       "</g>\n",
       "<!-- 2058717173120&#45;&gt;2058717351648 -->\n",
       "<g id=\"edge4\" class=\"edge\"><title>2058717173120-&gt;2058717351648</title>\n",
       "<path fill=\"none\" stroke=\"black\" d=\"M86.5,-146.313C86.5,-138.289 86.5,-128.547 86.5,-119.569\"/>\n",
       "<polygon fill=\"black\" stroke=\"black\" points=\"90.0001,-119.529 86.5,-109.529 83.0001,-119.529 90.0001,-119.529\"/>\n",
       "</g>\n",
       "<!-- 2058717350016 -->\n",
       "<g id=\"node6\" class=\"node\"><title>2058717350016</title>\n",
       "<polygon fill=\"none\" stroke=\"black\" points=\"31,-0.5 31,-36.5 142,-36.5 142,-0.5 31,-0.5\"/>\n",
       "<text text-anchor=\"middle\" x=\"86.5\" y=\"-14.8\" font-family=\"Times New Roman,serif\" font-size=\"14.00\">dense_24: Dense</text>\n",
       "</g>\n",
       "<!-- 2058717351648&#45;&gt;2058717350016 -->\n",
       "<g id=\"edge5\" class=\"edge\"><title>2058717351648-&gt;2058717350016</title>\n",
       "<path fill=\"none\" stroke=\"black\" d=\"M86.5,-73.3129C86.5,-65.2895 86.5,-55.5475 86.5,-46.5691\"/>\n",
       "<polygon fill=\"black\" stroke=\"black\" points=\"90.0001,-46.5288 86.5,-36.5288 83.0001,-46.5289 90.0001,-46.5288\"/>\n",
       "</g>\n",
       "</g>\n",
       "</svg>"
      ],
      "text/plain": [
       "<IPython.core.display.SVG object>"
      ]
     },
     "execution_count": 169,
     "metadata": {},
     "output_type": "execute_result"
    }
   ],
   "source": [
    "n_cols=X_train.shape[1]\n",
    "model = Sequential()\n",
    "model.add(Dense(64, input_shape=(n_cols,), activation='relu'))\n",
    "model.add(Dense(32, activation='relu'))\n",
    "model.add(Dense(16, activation='relu'))\n",
    "model.add(Dense(8, activation='relu'))\n",
    "model.add(Dense(1, activation='sigmoid'))\n",
    "\n",
    "model.compile(loss='binary_crossentropy', optimizer='adam')\n",
    "model.summary()\n",
    "\n",
    "#plot the a graph\n",
    "SVG(model_to_dot(model).create(prog='dot', format='svg'))"
   ]
  },
  {
   "cell_type": "code",
   "execution_count": 170,
   "metadata": {},
   "outputs": [
    {
     "name": "stdout",
     "output_type": "stream",
     "text": [
      "176/176 [==============================] - 0s 2ms/step - loss: 0.4453\n",
      "Area under curve :  0.8553409716315605 \n",
      "\n"
     ]
    }
   ],
   "source": [
    "model.fit(X_train, y_train)\n",
    "predictions   = model.predict(X_test)\n",
    "probabilities = model.predict_proba(X_test)\n",
    "\n",
    "model_roc_auc = roc_auc_score(y_test,predictions) \n",
    "print (\"Area under curve : \",model_roc_auc,\"\\n\")\n",
    "fpr,tpr,thresholds = roc_curve(y_test,probabilities)"
   ]
  },
  {
   "cell_type": "code",
   "execution_count": 171,
   "metadata": {},
   "outputs": [],
   "source": [
    "import plotly.graph_objects as go\n",
    "#plot roc curve\n",
    "trace2 = go.Scatter(x = fpr,y = tpr,\n",
    "                        name = \"Roc : \" + str(model_roc_auc),\n",
    "                        line = dict(color = ('rgb(22, 96, 167)'),width = 2))\n",
    "trace3 = go.Scatter(x = [0,1],y=[0,1],\n",
    "                        line = dict(color = ('rgb(205, 12, 24)'),width = 2,\n",
    "                        dash = 'dot'))\n"
   ]
  },
  {
   "cell_type": "code",
   "execution_count": 172,
   "metadata": {},
   "outputs": [
    {
     "data": {
      "application/vnd.plotly.v1+json": {
       "config": {
        "linkText": "Export to plot.ly",
        "plotlyServerURL": "https://plot.ly",
        "showLink": false
       },
       "data": [
        {
         "line": {
          "color": "rgb(22, 96, 167)",
          "width": 2
         },
         "name": "Roc : 0.8553409716315605",
         "type": "scatter",
         "x": [
          0,
          0,
          0,
          0.0009881422924901185,
          0.0009881422924901185,
          0.001976284584980237,
          0.001976284584980237,
          0.0029644268774703555,
          0.0029644268774703555,
          0.003952569169960474,
          0.003952569169960474,
          0.004940711462450593,
          0.004940711462450593,
          0.00691699604743083,
          0.00691699604743083,
          0.007905138339920948,
          0.007905138339920948,
          0.008893280632411068,
          0.008893280632411068,
          0.010869565217391304,
          0.010869565217391304,
          0.011857707509881422,
          0.011857707509881422,
          0.012845849802371542,
          0.012845849802371542,
          0.01383399209486166,
          0.01383399209486166,
          0.014822134387351778,
          0.014822134387351778,
          0.016798418972332016,
          0.016798418972332016,
          0.017786561264822136,
          0.017786561264822136,
          0.018774703557312252,
          0.018774703557312252,
          0.019762845849802372,
          0.019762845849802372,
          0.025691699604743084,
          0.025691699604743084,
          0.02865612648221344,
          0.02865612648221344,
          0.030632411067193676,
          0.030632411067193676,
          0.03162055335968379,
          0.03162055335968379,
          0.03260869565217391,
          0.03260869565217391,
          0.03359683794466403,
          0.03359683794466403,
          0.03557312252964427,
          0.03557312252964427,
          0.036561264822134384,
          0.036561264822134384,
          0.037549407114624504,
          0.037549407114624504,
          0.038537549407114624,
          0.038537549407114624,
          0.039525691699604744,
          0.039525691699604744,
          0.040513833992094864,
          0.040513833992094864,
          0.041501976284584984,
          0.041501976284584984,
          0.043478260869565216,
          0.043478260869565216,
          0.045454545454545456,
          0.045454545454545456,
          0.046442687747035576,
          0.046442687747035576,
          0.04743083003952569,
          0.04743083003952569,
          0.05039525691699605,
          0.05039525691699605,
          0.05138339920948617,
          0.05138339920948617,
          0.05237154150197629,
          0.05237154150197629,
          0.0533596837944664,
          0.0533596837944664,
          0.05434782608695652,
          0.05434782608695652,
          0.05533596837944664,
          0.05533596837944664,
          0.05928853754940711,
          0.05928853754940711,
          0.06027667984189723,
          0.06027667984189723,
          0.06126482213438735,
          0.06126482213438735,
          0.06225296442687747,
          0.06225296442687747,
          0.06719367588932806,
          0.06719367588932806,
          0.06818181818181818,
          0.06818181818181818,
          0.0691699604743083,
          0.0691699604743083,
          0.07015810276679842,
          0.07015810276679842,
          0.07114624505928854,
          0.07114624505928854,
          0.07213438735177866,
          0.07213438735177866,
          0.07509881422924901,
          0.07509881422924901,
          0.07707509881422925,
          0.07707509881422925,
          0.0800395256916996,
          0.0800395256916996,
          0.08102766798418973,
          0.08102766798418973,
          0.08201581027667984,
          0.08201581027667984,
          0.08300395256916997,
          0.08300395256916997,
          0.08399209486166008,
          0.08399209486166008,
          0.08695652173913043,
          0.08695652173913043,
          0.08794466403162056,
          0.08794466403162056,
          0.08893280632411067,
          0.08893280632411067,
          0.08992094861660078,
          0.08992094861660078,
          0.09090909090909091,
          0.09090909090909091,
          0.09288537549407115,
          0.09288537549407115,
          0.09387351778656126,
          0.09387351778656126,
          0.09486166007905138,
          0.09486166007905138,
          0.0958498023715415,
          0.0958498023715415,
          0.10770750988142293,
          0.10770750988142293,
          0.10869565217391304,
          0.10869565217391304,
          0.10968379446640317,
          0.10968379446640317,
          0.11264822134387352,
          0.11264822134387352,
          0.11363636363636363,
          0.11363636363636363,
          0.11462450592885376,
          0.11462450592885376,
          0.11857707509881422,
          0.11857707509881422,
          0.12055335968379446,
          0.12055335968379446,
          0.12648221343873517,
          0.12648221343873517,
          0.12845849802371542,
          0.12845849802371542,
          0.12944664031620554,
          0.12944664031620554,
          0.13438735177865613,
          0.13438735177865613,
          0.13537549407114624,
          0.13537549407114624,
          0.1383399209486166,
          0.1383399209486166,
          0.14031620553359683,
          0.14031620553359683,
          0.14130434782608695,
          0.14130434782608695,
          0.14723320158102768,
          0.14723320158102768,
          0.1482213438735178,
          0.1482213438735178,
          0.15612648221343872,
          0.15612648221343872,
          0.15711462450592886,
          0.15711462450592886,
          0.16106719367588934,
          0.16106719367588934,
          0.16897233201581027,
          0.16897233201581027,
          0.16996047430830039,
          0.16996047430830039,
          0.17490118577075098,
          0.17490118577075098,
          0.17588932806324112,
          0.17588932806324112,
          0.17885375494071146,
          0.17885375494071146,
          0.18379446640316205,
          0.18379446640316205,
          0.18675889328063242,
          0.18675889328063242,
          0.18972332015810275,
          0.18972332015810275,
          0.19960474308300397,
          0.19960474308300397,
          0.2015810276679842,
          0.2015810276679842,
          0.2025691699604743,
          0.2025691699604743,
          0.20652173913043478,
          0.20652173913043478,
          0.2075098814229249,
          0.2075098814229249,
          0.208498023715415,
          0.208498023715415,
          0.2124505928853755,
          0.2124505928853755,
          0.21442687747035574,
          0.21442687747035574,
          0.21640316205533597,
          0.21640316205533597,
          0.21739130434782608,
          0.21739130434782608,
          0.21936758893280633,
          0.21936758893280633,
          0.22332015810276679,
          0.22332015810276679,
          0.22430830039525693,
          0.22430830039525693,
          0.22924901185770752,
          0.22924901185770752,
          0.23221343873517786,
          0.23221343873517786,
          0.2341897233201581,
          0.2341897233201581,
          0.24308300395256918,
          0.24308300395256918,
          0.24802371541501977,
          0.24802371541501977,
          0.2519762845849802,
          0.2519762845849802,
          0.25296442687747034,
          0.25296442687747034,
          0.25395256916996045,
          0.25395256916996045,
          0.25592885375494073,
          0.25592885375494073,
          0.2608695652173913,
          0.2608695652173913,
          0.2618577075098814,
          0.2618577075098814,
          0.2648221343873518,
          0.2648221343873518,
          0.26877470355731226,
          0.26877470355731226,
          0.2717391304347826,
          0.2717391304347826,
          0.2737154150197628,
          0.2737154150197628,
          0.274703557312253,
          0.274703557312253,
          0.2766798418972332,
          0.2766798418972332,
          0.27964426877470355,
          0.27964426877470355,
          0.2875494071146245,
          0.2875494071146245,
          0.30237154150197626,
          0.30237154150197626,
          0.3073122529644269,
          0.3073122529644269,
          0.3092885375494071,
          0.3092885375494071,
          0.3102766798418972,
          0.3102766798418972,
          0.3221343873517787,
          0.3221343873517787,
          0.3290513833992095,
          0.3290513833992095,
          0.3349802371541502,
          0.3349802371541502,
          0.3409090909090909,
          0.3409090909090909,
          0.3438735177865613,
          0.3438735177865613,
          0.3458498023715415,
          0.3458498023715415,
          0.35079051383399207,
          0.35079051383399207,
          0.3577075098814229,
          0.3577075098814229,
          0.358695652173913,
          0.358695652173913,
          0.36462450592885376,
          0.36462450592885376,
          0.36561264822134387,
          0.36561264822134387,
          0.366600790513834,
          0.366600790513834,
          0.3675889328063241,
          0.3675889328063241,
          0.37450592885375494,
          0.37450592885375494,
          0.3784584980237154,
          0.3784584980237154,
          0.38438735177865613,
          0.38438735177865613,
          0.38636363636363635,
          0.38636363636363635,
          0.391304347826087,
          0.391304347826087,
          0.39723320158102765,
          0.39723320158102765,
          0.39822134387351776,
          0.39822134387351776,
          0.39920948616600793,
          0.39920948616600793,
          0.40217391304347827,
          0.40217391304347827,
          0.4041501976284585,
          0.4041501976284585,
          0.40711462450592883,
          0.40711462450592883,
          0.4150197628458498,
          0.4150197628458498,
          0.4426877470355731,
          0.4426877470355731,
          0.45553359683794464,
          0.45553359683794464,
          0.47134387351778656,
          0.47134387351778656,
          0.4743083003952569,
          0.4743083003952569,
          0.4772727272727273,
          0.4772727272727273,
          0.4901185770750988,
          0.4901185770750988,
          0.4980237154150198,
          0.4980237154150198,
          0.5049407114624506,
          0.5049407114624506,
          0.5138339920948617,
          0.5138339920948617,
          0.5345849802371542,
          0.5345849802371542,
          0.5612648221343873,
          0.5612648221343873,
          0.5632411067193676,
          0.5632411067193676,
          0.5800395256916996,
          0.5800395256916996,
          0.58399209486166,
          0.58399209486166,
          0.5869565217391305,
          0.5869565217391305,
          0.5958498023715415,
          0.5958498023715415,
          0.5968379446640316,
          0.5968379446640316,
          0.6057312252964426,
          0.6057312252964426,
          0.6452569169960475,
          0.6452569169960475,
          0.7341897233201581,
          0.7341897233201581,
          0.782608695652174,
          0.782608695652174,
          0.7845849802371542,
          0.7845849802371542,
          0.8656126482213439,
          0.8656126482213439,
          0.8675889328063241,
          0.8675889328063241,
          0.8873517786561265,
          0.8893280632411067,
          0.9446640316205533,
          0.9446640316205533,
          1
         ],
         "xaxis": "x2",
         "y": [
          0,
          0.002531645569620253,
          0.027848101265822784,
          0.027848101265822784,
          0.04050632911392405,
          0.04050632911392405,
          0.04556962025316456,
          0.04556962025316456,
          0.08860759493670886,
          0.08860759493670886,
          0.09367088607594937,
          0.09367088607594937,
          0.1341772151898734,
          0.1341772151898734,
          0.15949367088607594,
          0.15949367088607594,
          0.1620253164556962,
          0.1620253164556962,
          0.17721518987341772,
          0.17721518987341772,
          0.18227848101265823,
          0.18227848101265823,
          0.19746835443037974,
          0.19746835443037974,
          0.21772151898734177,
          0.21772151898734177,
          0.23544303797468355,
          0.23544303797468355,
          0.2379746835443038,
          0.2379746835443038,
          0.2430379746835443,
          0.2430379746835443,
          0.25569620253164554,
          0.25569620253164554,
          0.26582278481012656,
          0.26582278481012656,
          0.2759493670886076,
          0.2759493670886076,
          0.28860759493670884,
          0.28860759493670884,
          0.2936708860759494,
          0.2936708860759494,
          0.29620253164556964,
          0.29620253164556964,
          0.29873417721518986,
          0.29873417721518986,
          0.3012658227848101,
          0.3012658227848101,
          0.3037974683544304,
          0.3037974683544304,
          0.30632911392405066,
          0.30632911392405066,
          0.31139240506329113,
          0.31139240506329113,
          0.31645569620253167,
          0.31645569620253167,
          0.3189873417721519,
          0.3189873417721519,
          0.32151898734177214,
          0.32151898734177214,
          0.33164556962025316,
          0.33164556962025316,
          0.3367088607594937,
          0.3367088607594937,
          0.34177215189873417,
          0.34177215189873417,
          0.34430379746835443,
          0.34430379746835443,
          0.3468354430379747,
          0.3468354430379747,
          0.3620253164556962,
          0.3620253164556962,
          0.3670886075949367,
          0.3670886075949367,
          0.37721518987341773,
          0.37721518987341773,
          0.3924050632911392,
          0.3924050632911392,
          0.39746835443037976,
          0.39746835443037976,
          0.40759493670886077,
          0.40759493670886077,
          0.42025316455696204,
          0.42025316455696204,
          0.42278481012658226,
          0.42278481012658226,
          0.4278481012658228,
          0.4278481012658228,
          0.43037974683544306,
          0.43037974683544306,
          0.44050632911392407,
          0.44050632911392407,
          0.4481012658227848,
          0.4481012658227848,
          0.4506329113924051,
          0.4506329113924051,
          0.4607594936708861,
          0.4607594936708861,
          0.46582278481012657,
          0.46582278481012657,
          0.47848101265822784,
          0.47848101265822784,
          0.4835443037974684,
          0.4835443037974684,
          0.4860759493670886,
          0.4860759493670886,
          0.4936708860759494,
          0.4936708860759494,
          0.5012658227848101,
          0.5012658227848101,
          0.5037974683544304,
          0.5037974683544304,
          0.5164556962025316,
          0.5164556962025316,
          0.5240506329113924,
          0.5240506329113924,
          0.529113924050633,
          0.529113924050633,
          0.5367088607594936,
          0.5367088607594936,
          0.5392405063291139,
          0.5392405063291139,
          0.5417721518987342,
          0.5417721518987342,
          0.5443037974683544,
          0.5443037974683544,
          0.5544303797468354,
          0.5544303797468354,
          0.5594936708860759,
          0.5594936708860759,
          0.5620253164556962,
          0.5620253164556962,
          0.5645569620253165,
          0.5645569620253165,
          0.579746835443038,
          0.579746835443038,
          0.5822784810126582,
          0.5822784810126582,
          0.5873417721518988,
          0.5873417721518988,
          0.589873417721519,
          0.589873417721519,
          0.5974683544303797,
          0.5974683544303797,
          0.6,
          0.6,
          0.6050632911392405,
          0.6050632911392405,
          0.6151898734177215,
          0.6151898734177215,
          0.6177215189873417,
          0.6177215189873417,
          0.620253164556962,
          0.620253164556962,
          0.6227848101265823,
          0.6227848101265823,
          0.6278481012658228,
          0.6278481012658228,
          0.6303797468354431,
          0.6303797468354431,
          0.6354430379746835,
          0.6354430379746835,
          0.6430379746835443,
          0.6430379746835443,
          0.6455696202531646,
          0.6455696202531646,
          0.6506329113924051,
          0.6506329113924051,
          0.6556962025316456,
          0.6556962025316456,
          0.6658227848101266,
          0.6658227848101266,
          0.6683544303797468,
          0.6683544303797468,
          0.6734177215189874,
          0.6734177215189874,
          0.6810126582278481,
          0.6810126582278481,
          0.6911392405063291,
          0.6911392405063291,
          0.6936708860759494,
          0.6936708860759494,
          0.6987341772151898,
          0.6987341772151898,
          0.7012658227848101,
          0.7012658227848101,
          0.7063291139240506,
          0.7063291139240506,
          0.7088607594936709,
          0.7088607594936709,
          0.7113924050632912,
          0.7113924050632912,
          0.7139240506329114,
          0.7139240506329114,
          0.7189873417721518,
          0.7189873417721518,
          0.7215189873417721,
          0.7215189873417721,
          0.7240506329113924,
          0.7240506329113924,
          0.7265822784810126,
          0.7265822784810126,
          0.7341772151898734,
          0.7341772151898734,
          0.7367088607594937,
          0.7367088607594937,
          0.7417721518987341,
          0.7417721518987341,
          0.7443037974683544,
          0.7443037974683544,
          0.7468354430379747,
          0.7468354430379747,
          0.7518987341772152,
          0.7518987341772152,
          0.7544303797468355,
          0.7544303797468355,
          0.7569620253164557,
          0.7569620253164557,
          0.759493670886076,
          0.759493670886076,
          0.7620253164556962,
          0.7620253164556962,
          0.7645569620253164,
          0.7645569620253164,
          0.7670886075949367,
          0.7670886075949367,
          0.769620253164557,
          0.769620253164557,
          0.7746835443037975,
          0.7746835443037975,
          0.7822784810126582,
          0.7822784810126582,
          0.7873417721518987,
          0.7873417721518987,
          0.789873417721519,
          0.789873417721519,
          0.7924050632911392,
          0.7924050632911392,
          0.7974683544303798,
          0.7974683544303798,
          0.8025316455696202,
          0.8025316455696202,
          0.8050632911392405,
          0.8050632911392405,
          0.8075949367088607,
          0.8075949367088607,
          0.8126582278481013,
          0.8126582278481013,
          0.8151898734177215,
          0.8151898734177215,
          0.8177215189873418,
          0.8177215189873418,
          0.8202531645569621,
          0.8202531645569621,
          0.8227848101265823,
          0.8227848101265823,
          0.830379746835443,
          0.830379746835443,
          0.8329113924050633,
          0.8329113924050633,
          0.8379746835443038,
          0.8379746835443038,
          0.8481012658227848,
          0.8481012658227848,
          0.850632911392405,
          0.850632911392405,
          0.8531645569620253,
          0.8531645569620253,
          0.8556962025316456,
          0.8556962025316456,
          0.8607594936708861,
          0.8607594936708861,
          0.8632911392405064,
          0.8632911392405064,
          0.8734177215189873,
          0.8734177215189873,
          0.8759493670886076,
          0.8759493670886076,
          0.8784810126582279,
          0.8784810126582279,
          0.8860759493670886,
          0.8860759493670886,
          0.8911392405063291,
          0.8911392405063291,
          0.8962025316455696,
          0.8962025316455696,
          0.8987341772151899,
          0.8987341772151899,
          0.9012658227848102,
          0.9012658227848102,
          0.9037974683544304,
          0.9037974683544304,
          0.9063291139240506,
          0.9063291139240506,
          0.9088607594936708,
          0.9088607594936708,
          0.9113924050632911,
          0.9113924050632911,
          0.9139240506329114,
          0.9139240506329114,
          0.9189873417721519,
          0.9189873417721519,
          0.9215189873417722,
          0.9215189873417722,
          0.9240506329113924,
          0.9240506329113924,
          0.9265822784810127,
          0.9265822784810127,
          0.9291139240506329,
          0.9291139240506329,
          0.9316455696202531,
          0.9316455696202531,
          0.9341772151898734,
          0.9341772151898734,
          0.9367088607594937,
          0.9367088607594937,
          0.9392405063291139,
          0.9392405063291139,
          0.9417721518987342,
          0.9417721518987342,
          0.9443037974683545,
          0.9443037974683545,
          0.9468354430379747,
          0.9468354430379747,
          0.9493670886075949,
          0.9493670886075949,
          0.9518987341772152,
          0.9518987341772152,
          0.9544303797468354,
          0.9544303797468354,
          0.9569620253164557,
          0.9569620253164557,
          0.959493670886076,
          0.959493670886076,
          0.9620253164556962,
          0.9620253164556962,
          0.9645569620253165,
          0.9645569620253165,
          0.9670886075949368,
          0.9670886075949368,
          0.9696202531645569,
          0.9696202531645569,
          0.9721518987341772,
          0.9721518987341772,
          0.9746835443037974,
          0.9746835443037974,
          0.9772151898734177,
          0.9772151898734177,
          0.979746835443038,
          0.979746835443038,
          0.9822784810126582,
          0.9822784810126582,
          0.9848101265822785,
          0.9848101265822785,
          0.9873417721518988,
          0.9873417721518988,
          0.9898734177215189,
          0.9898734177215189,
          0.9924050632911392,
          0.9924050632911392,
          0.9949367088607595,
          0.9949367088607595,
          0.9974683544303797,
          0.9974683544303797,
          0.9974683544303797,
          0.9974683544303797,
          1,
          1
         ],
         "yaxis": "y2"
        },
        {
         "line": {
          "color": "rgb(205, 12, 24)",
          "dash": "dot",
          "width": 2
         },
         "type": "scatter",
         "x": [
          0,
          1
         ],
         "xaxis": "x2",
         "y": [
          0,
          1
         ],
         "yaxis": "y2"
        }
       ],
       "layout": {
        "annotations": [
         {
          "font": {
           "size": 16
          },
          "showarrow": false,
          "text": "ROC",
          "x": 0.775,
          "xanchor": "center",
          "xref": "paper",
          "y": 1,
          "yanchor": "bottom",
          "yref": "paper"
         }
        ],
        "template": {
         "data": {
          "bar": [
           {
            "error_x": {
             "color": "#2a3f5f"
            },
            "error_y": {
             "color": "#2a3f5f"
            },
            "marker": {
             "line": {
              "color": "#E5ECF6",
              "width": 0.5
             }
            },
            "type": "bar"
           }
          ],
          "barpolar": [
           {
            "marker": {
             "line": {
              "color": "#E5ECF6",
              "width": 0.5
             }
            },
            "type": "barpolar"
           }
          ],
          "carpet": [
           {
            "aaxis": {
             "endlinecolor": "#2a3f5f",
             "gridcolor": "white",
             "linecolor": "white",
             "minorgridcolor": "white",
             "startlinecolor": "#2a3f5f"
            },
            "baxis": {
             "endlinecolor": "#2a3f5f",
             "gridcolor": "white",
             "linecolor": "white",
             "minorgridcolor": "white",
             "startlinecolor": "#2a3f5f"
            },
            "type": "carpet"
           }
          ],
          "choropleth": [
           {
            "colorbar": {
             "outlinewidth": 0,
             "ticks": ""
            },
            "type": "choropleth"
           }
          ],
          "contour": [
           {
            "colorbar": {
             "outlinewidth": 0,
             "ticks": ""
            },
            "colorscale": [
             [
              0,
              "#0d0887"
             ],
             [
              0.1111111111111111,
              "#46039f"
             ],
             [
              0.2222222222222222,
              "#7201a8"
             ],
             [
              0.3333333333333333,
              "#9c179e"
             ],
             [
              0.4444444444444444,
              "#bd3786"
             ],
             [
              0.5555555555555556,
              "#d8576b"
             ],
             [
              0.6666666666666666,
              "#ed7953"
             ],
             [
              0.7777777777777778,
              "#fb9f3a"
             ],
             [
              0.8888888888888888,
              "#fdca26"
             ],
             [
              1,
              "#f0f921"
             ]
            ],
            "type": "contour"
           }
          ],
          "contourcarpet": [
           {
            "colorbar": {
             "outlinewidth": 0,
             "ticks": ""
            },
            "type": "contourcarpet"
           }
          ],
          "heatmap": [
           {
            "colorbar": {
             "outlinewidth": 0,
             "ticks": ""
            },
            "colorscale": [
             [
              0,
              "#0d0887"
             ],
             [
              0.1111111111111111,
              "#46039f"
             ],
             [
              0.2222222222222222,
              "#7201a8"
             ],
             [
              0.3333333333333333,
              "#9c179e"
             ],
             [
              0.4444444444444444,
              "#bd3786"
             ],
             [
              0.5555555555555556,
              "#d8576b"
             ],
             [
              0.6666666666666666,
              "#ed7953"
             ],
             [
              0.7777777777777778,
              "#fb9f3a"
             ],
             [
              0.8888888888888888,
              "#fdca26"
             ],
             [
              1,
              "#f0f921"
             ]
            ],
            "type": "heatmap"
           }
          ],
          "heatmapgl": [
           {
            "colorbar": {
             "outlinewidth": 0,
             "ticks": ""
            },
            "colorscale": [
             [
              0,
              "#0d0887"
             ],
             [
              0.1111111111111111,
              "#46039f"
             ],
             [
              0.2222222222222222,
              "#7201a8"
             ],
             [
              0.3333333333333333,
              "#9c179e"
             ],
             [
              0.4444444444444444,
              "#bd3786"
             ],
             [
              0.5555555555555556,
              "#d8576b"
             ],
             [
              0.6666666666666666,
              "#ed7953"
             ],
             [
              0.7777777777777778,
              "#fb9f3a"
             ],
             [
              0.8888888888888888,
              "#fdca26"
             ],
             [
              1,
              "#f0f921"
             ]
            ],
            "type": "heatmapgl"
           }
          ],
          "histogram": [
           {
            "marker": {
             "colorbar": {
              "outlinewidth": 0,
              "ticks": ""
             }
            },
            "type": "histogram"
           }
          ],
          "histogram2d": [
           {
            "colorbar": {
             "outlinewidth": 0,
             "ticks": ""
            },
            "colorscale": [
             [
              0,
              "#0d0887"
             ],
             [
              0.1111111111111111,
              "#46039f"
             ],
             [
              0.2222222222222222,
              "#7201a8"
             ],
             [
              0.3333333333333333,
              "#9c179e"
             ],
             [
              0.4444444444444444,
              "#bd3786"
             ],
             [
              0.5555555555555556,
              "#d8576b"
             ],
             [
              0.6666666666666666,
              "#ed7953"
             ],
             [
              0.7777777777777778,
              "#fb9f3a"
             ],
             [
              0.8888888888888888,
              "#fdca26"
             ],
             [
              1,
              "#f0f921"
             ]
            ],
            "type": "histogram2d"
           }
          ],
          "histogram2dcontour": [
           {
            "colorbar": {
             "outlinewidth": 0,
             "ticks": ""
            },
            "colorscale": [
             [
              0,
              "#0d0887"
             ],
             [
              0.1111111111111111,
              "#46039f"
             ],
             [
              0.2222222222222222,
              "#7201a8"
             ],
             [
              0.3333333333333333,
              "#9c179e"
             ],
             [
              0.4444444444444444,
              "#bd3786"
             ],
             [
              0.5555555555555556,
              "#d8576b"
             ],
             [
              0.6666666666666666,
              "#ed7953"
             ],
             [
              0.7777777777777778,
              "#fb9f3a"
             ],
             [
              0.8888888888888888,
              "#fdca26"
             ],
             [
              1,
              "#f0f921"
             ]
            ],
            "type": "histogram2dcontour"
           }
          ],
          "mesh3d": [
           {
            "colorbar": {
             "outlinewidth": 0,
             "ticks": ""
            },
            "type": "mesh3d"
           }
          ],
          "parcoords": [
           {
            "line": {
             "colorbar": {
              "outlinewidth": 0,
              "ticks": ""
             }
            },
            "type": "parcoords"
           }
          ],
          "pie": [
           {
            "automargin": true,
            "type": "pie"
           }
          ],
          "scatter": [
           {
            "marker": {
             "colorbar": {
              "outlinewidth": 0,
              "ticks": ""
             }
            },
            "type": "scatter"
           }
          ],
          "scatter3d": [
           {
            "line": {
             "colorbar": {
              "outlinewidth": 0,
              "ticks": ""
             }
            },
            "marker": {
             "colorbar": {
              "outlinewidth": 0,
              "ticks": ""
             }
            },
            "type": "scatter3d"
           }
          ],
          "scattercarpet": [
           {
            "marker": {
             "colorbar": {
              "outlinewidth": 0,
              "ticks": ""
             }
            },
            "type": "scattercarpet"
           }
          ],
          "scattergeo": [
           {
            "marker": {
             "colorbar": {
              "outlinewidth": 0,
              "ticks": ""
             }
            },
            "type": "scattergeo"
           }
          ],
          "scattergl": [
           {
            "marker": {
             "colorbar": {
              "outlinewidth": 0,
              "ticks": ""
             }
            },
            "type": "scattergl"
           }
          ],
          "scattermapbox": [
           {
            "marker": {
             "colorbar": {
              "outlinewidth": 0,
              "ticks": ""
             }
            },
            "type": "scattermapbox"
           }
          ],
          "scatterpolar": [
           {
            "marker": {
             "colorbar": {
              "outlinewidth": 0,
              "ticks": ""
             }
            },
            "type": "scatterpolar"
           }
          ],
          "scatterpolargl": [
           {
            "marker": {
             "colorbar": {
              "outlinewidth": 0,
              "ticks": ""
             }
            },
            "type": "scatterpolargl"
           }
          ],
          "scatterternary": [
           {
            "marker": {
             "colorbar": {
              "outlinewidth": 0,
              "ticks": ""
             }
            },
            "type": "scatterternary"
           }
          ],
          "surface": [
           {
            "colorbar": {
             "outlinewidth": 0,
             "ticks": ""
            },
            "colorscale": [
             [
              0,
              "#0d0887"
             ],
             [
              0.1111111111111111,
              "#46039f"
             ],
             [
              0.2222222222222222,
              "#7201a8"
             ],
             [
              0.3333333333333333,
              "#9c179e"
             ],
             [
              0.4444444444444444,
              "#bd3786"
             ],
             [
              0.5555555555555556,
              "#d8576b"
             ],
             [
              0.6666666666666666,
              "#ed7953"
             ],
             [
              0.7777777777777778,
              "#fb9f3a"
             ],
             [
              0.8888888888888888,
              "#fdca26"
             ],
             [
              1,
              "#f0f921"
             ]
            ],
            "type": "surface"
           }
          ],
          "table": [
           {
            "cells": {
             "fill": {
              "color": "#EBF0F8"
             },
             "line": {
              "color": "white"
             }
            },
            "header": {
             "fill": {
              "color": "#C8D4E3"
             },
             "line": {
              "color": "white"
             }
            },
            "type": "table"
           }
          ]
         },
         "layout": {
          "annotationdefaults": {
           "arrowcolor": "#2a3f5f",
           "arrowhead": 0,
           "arrowwidth": 1
          },
          "coloraxis": {
           "colorbar": {
            "outlinewidth": 0,
            "ticks": ""
           }
          },
          "colorscale": {
           "diverging": [
            [
             0,
             "#8e0152"
            ],
            [
             0.1,
             "#c51b7d"
            ],
            [
             0.2,
             "#de77ae"
            ],
            [
             0.3,
             "#f1b6da"
            ],
            [
             0.4,
             "#fde0ef"
            ],
            [
             0.5,
             "#f7f7f7"
            ],
            [
             0.6,
             "#e6f5d0"
            ],
            [
             0.7,
             "#b8e186"
            ],
            [
             0.8,
             "#7fbc41"
            ],
            [
             0.9,
             "#4d9221"
            ],
            [
             1,
             "#276419"
            ]
           ],
           "sequential": [
            [
             0,
             "#0d0887"
            ],
            [
             0.1111111111111111,
             "#46039f"
            ],
            [
             0.2222222222222222,
             "#7201a8"
            ],
            [
             0.3333333333333333,
             "#9c179e"
            ],
            [
             0.4444444444444444,
             "#bd3786"
            ],
            [
             0.5555555555555556,
             "#d8576b"
            ],
            [
             0.6666666666666666,
             "#ed7953"
            ],
            [
             0.7777777777777778,
             "#fb9f3a"
            ],
            [
             0.8888888888888888,
             "#fdca26"
            ],
            [
             1,
             "#f0f921"
            ]
           ],
           "sequentialminus": [
            [
             0,
             "#0d0887"
            ],
            [
             0.1111111111111111,
             "#46039f"
            ],
            [
             0.2222222222222222,
             "#7201a8"
            ],
            [
             0.3333333333333333,
             "#9c179e"
            ],
            [
             0.4444444444444444,
             "#bd3786"
            ],
            [
             0.5555555555555556,
             "#d8576b"
            ],
            [
             0.6666666666666666,
             "#ed7953"
            ],
            [
             0.7777777777777778,
             "#fb9f3a"
            ],
            [
             0.8888888888888888,
             "#fdca26"
            ],
            [
             1,
             "#f0f921"
            ]
           ]
          },
          "colorway": [
           "#636efa",
           "#EF553B",
           "#00cc96",
           "#ab63fa",
           "#FFA15A",
           "#19d3f3",
           "#FF6692",
           "#B6E880",
           "#FF97FF",
           "#FECB52"
          ],
          "font": {
           "color": "#2a3f5f"
          },
          "geo": {
           "bgcolor": "white",
           "lakecolor": "white",
           "landcolor": "#E5ECF6",
           "showlakes": true,
           "showland": true,
           "subunitcolor": "white"
          },
          "hoverlabel": {
           "align": "left"
          },
          "hovermode": "closest",
          "mapbox": {
           "style": "light"
          },
          "paper_bgcolor": "white",
          "plot_bgcolor": "#E5ECF6",
          "polar": {
           "angularaxis": {
            "gridcolor": "white",
            "linecolor": "white",
            "ticks": ""
           },
           "bgcolor": "#E5ECF6",
           "radialaxis": {
            "gridcolor": "white",
            "linecolor": "white",
            "ticks": ""
           }
          },
          "scene": {
           "xaxis": {
            "backgroundcolor": "#E5ECF6",
            "gridcolor": "white",
            "gridwidth": 2,
            "linecolor": "white",
            "showbackground": true,
            "ticks": "",
            "zerolinecolor": "white"
           },
           "yaxis": {
            "backgroundcolor": "#E5ECF6",
            "gridcolor": "white",
            "gridwidth": 2,
            "linecolor": "white",
            "showbackground": true,
            "ticks": "",
            "zerolinecolor": "white"
           },
           "zaxis": {
            "backgroundcolor": "#E5ECF6",
            "gridcolor": "white",
            "gridwidth": 2,
            "linecolor": "white",
            "showbackground": true,
            "ticks": "",
            "zerolinecolor": "white"
           }
          },
          "shapedefaults": {
           "line": {
            "color": "#2a3f5f"
           }
          },
          "ternary": {
           "aaxis": {
            "gridcolor": "white",
            "linecolor": "white",
            "ticks": ""
           },
           "baxis": {
            "gridcolor": "white",
            "linecolor": "white",
            "ticks": ""
           },
           "bgcolor": "#E5ECF6",
           "caxis": {
            "gridcolor": "white",
            "linecolor": "white",
            "ticks": ""
           }
          },
          "title": {
           "x": 0.05
          },
          "xaxis": {
           "automargin": true,
           "gridcolor": "white",
           "linecolor": "white",
           "ticks": "",
           "title": {
            "standoff": 15
           },
           "zerolinecolor": "white",
           "zerolinewidth": 2
          },
          "yaxis": {
           "automargin": true,
           "gridcolor": "white",
           "linecolor": "white",
           "ticks": "",
           "title": {
            "standoff": 15
           },
           "zerolinecolor": "white",
           "zerolinewidth": 2
          }
         }
        },
        "xaxis": {
         "anchor": "y",
         "domain": [
          0,
          0.45
         ]
        },
        "xaxis2": {
         "anchor": "y2",
         "domain": [
          0.55,
          1
         ]
        },
        "xaxis3": {
         "anchor": "y3",
         "domain": [
          0,
          1
         ]
        },
        "yaxis": {
         "anchor": "x",
         "domain": [
          0.625,
          1
         ]
        },
        "yaxis2": {
         "anchor": "x2",
         "domain": [
          0.625,
          1
         ]
        },
        "yaxis3": {
         "anchor": "x3",
         "domain": [
          0,
          0.375
         ]
        }
       }
      },
      "text/html": [
       "<div>                            <div id=\"6339bb8c-8b9a-4d30-ab7b-e9f2b0954b6e\" class=\"plotly-graph-div\" style=\"height:525px; width:100%;\"></div>            <script type=\"text/javascript\">                require([\"plotly\"], function(Plotly) {                    window.PLOTLYENV=window.PLOTLYENV || {};                                    if (document.getElementById(\"6339bb8c-8b9a-4d30-ab7b-e9f2b0954b6e\")) {                    Plotly.newPlot(                        \"6339bb8c-8b9a-4d30-ab7b-e9f2b0954b6e\",                        [{\"line\": {\"color\": \"rgb(22, 96, 167)\", \"width\": 2}, \"name\": \"Roc : 0.8553409716315605\", \"type\": \"scatter\", \"x\": [0.0, 0.0, 0.0, 0.0009881422924901185, 0.0009881422924901185, 0.001976284584980237, 0.001976284584980237, 0.0029644268774703555, 0.0029644268774703555, 0.003952569169960474, 0.003952569169960474, 0.004940711462450593, 0.004940711462450593, 0.00691699604743083, 0.00691699604743083, 0.007905138339920948, 0.007905138339920948, 0.008893280632411068, 0.008893280632411068, 0.010869565217391304, 0.010869565217391304, 0.011857707509881422, 0.011857707509881422, 0.012845849802371542, 0.012845849802371542, 0.01383399209486166, 0.01383399209486166, 0.014822134387351778, 0.014822134387351778, 0.016798418972332016, 0.016798418972332016, 0.017786561264822136, 0.017786561264822136, 0.018774703557312252, 0.018774703557312252, 0.019762845849802372, 0.019762845849802372, 0.025691699604743084, 0.025691699604743084, 0.02865612648221344, 0.02865612648221344, 0.030632411067193676, 0.030632411067193676, 0.03162055335968379, 0.03162055335968379, 0.03260869565217391, 0.03260869565217391, 0.03359683794466403, 0.03359683794466403, 0.03557312252964427, 0.03557312252964427, 0.036561264822134384, 0.036561264822134384, 0.037549407114624504, 0.037549407114624504, 0.038537549407114624, 0.038537549407114624, 0.039525691699604744, 0.039525691699604744, 0.040513833992094864, 0.040513833992094864, 0.041501976284584984, 0.041501976284584984, 0.043478260869565216, 0.043478260869565216, 0.045454545454545456, 0.045454545454545456, 0.046442687747035576, 0.046442687747035576, 0.04743083003952569, 0.04743083003952569, 0.05039525691699605, 0.05039525691699605, 0.05138339920948617, 0.05138339920948617, 0.05237154150197629, 0.05237154150197629, 0.0533596837944664, 0.0533596837944664, 0.05434782608695652, 0.05434782608695652, 0.05533596837944664, 0.05533596837944664, 0.05928853754940711, 0.05928853754940711, 0.06027667984189723, 0.06027667984189723, 0.06126482213438735, 0.06126482213438735, 0.06225296442687747, 0.06225296442687747, 0.06719367588932806, 0.06719367588932806, 0.06818181818181818, 0.06818181818181818, 0.0691699604743083, 0.0691699604743083, 0.07015810276679842, 0.07015810276679842, 0.07114624505928854, 0.07114624505928854, 0.07213438735177866, 0.07213438735177866, 0.07509881422924901, 0.07509881422924901, 0.07707509881422925, 0.07707509881422925, 0.0800395256916996, 0.0800395256916996, 0.08102766798418973, 0.08102766798418973, 0.08201581027667984, 0.08201581027667984, 0.08300395256916997, 0.08300395256916997, 0.08399209486166008, 0.08399209486166008, 0.08695652173913043, 0.08695652173913043, 0.08794466403162056, 0.08794466403162056, 0.08893280632411067, 0.08893280632411067, 0.08992094861660078, 0.08992094861660078, 0.09090909090909091, 0.09090909090909091, 0.09288537549407115, 0.09288537549407115, 0.09387351778656126, 0.09387351778656126, 0.09486166007905138, 0.09486166007905138, 0.0958498023715415, 0.0958498023715415, 0.10770750988142293, 0.10770750988142293, 0.10869565217391304, 0.10869565217391304, 0.10968379446640317, 0.10968379446640317, 0.11264822134387352, 0.11264822134387352, 0.11363636363636363, 0.11363636363636363, 0.11462450592885376, 0.11462450592885376, 0.11857707509881422, 0.11857707509881422, 0.12055335968379446, 0.12055335968379446, 0.12648221343873517, 0.12648221343873517, 0.12845849802371542, 0.12845849802371542, 0.12944664031620554, 0.12944664031620554, 0.13438735177865613, 0.13438735177865613, 0.13537549407114624, 0.13537549407114624, 0.1383399209486166, 0.1383399209486166, 0.14031620553359683, 0.14031620553359683, 0.14130434782608695, 0.14130434782608695, 0.14723320158102768, 0.14723320158102768, 0.1482213438735178, 0.1482213438735178, 0.15612648221343872, 0.15612648221343872, 0.15711462450592886, 0.15711462450592886, 0.16106719367588934, 0.16106719367588934, 0.16897233201581027, 0.16897233201581027, 0.16996047430830039, 0.16996047430830039, 0.17490118577075098, 0.17490118577075098, 0.17588932806324112, 0.17588932806324112, 0.17885375494071146, 0.17885375494071146, 0.18379446640316205, 0.18379446640316205, 0.18675889328063242, 0.18675889328063242, 0.18972332015810275, 0.18972332015810275, 0.19960474308300397, 0.19960474308300397, 0.2015810276679842, 0.2015810276679842, 0.2025691699604743, 0.2025691699604743, 0.20652173913043478, 0.20652173913043478, 0.2075098814229249, 0.2075098814229249, 0.208498023715415, 0.208498023715415, 0.2124505928853755, 0.2124505928853755, 0.21442687747035574, 0.21442687747035574, 0.21640316205533597, 0.21640316205533597, 0.21739130434782608, 0.21739130434782608, 0.21936758893280633, 0.21936758893280633, 0.22332015810276679, 0.22332015810276679, 0.22430830039525693, 0.22430830039525693, 0.22924901185770752, 0.22924901185770752, 0.23221343873517786, 0.23221343873517786, 0.2341897233201581, 0.2341897233201581, 0.24308300395256918, 0.24308300395256918, 0.24802371541501977, 0.24802371541501977, 0.2519762845849802, 0.2519762845849802, 0.25296442687747034, 0.25296442687747034, 0.25395256916996045, 0.25395256916996045, 0.25592885375494073, 0.25592885375494073, 0.2608695652173913, 0.2608695652173913, 0.2618577075098814, 0.2618577075098814, 0.2648221343873518, 0.2648221343873518, 0.26877470355731226, 0.26877470355731226, 0.2717391304347826, 0.2717391304347826, 0.2737154150197628, 0.2737154150197628, 0.274703557312253, 0.274703557312253, 0.2766798418972332, 0.2766798418972332, 0.27964426877470355, 0.27964426877470355, 0.2875494071146245, 0.2875494071146245, 0.30237154150197626, 0.30237154150197626, 0.3073122529644269, 0.3073122529644269, 0.3092885375494071, 0.3092885375494071, 0.3102766798418972, 0.3102766798418972, 0.3221343873517787, 0.3221343873517787, 0.3290513833992095, 0.3290513833992095, 0.3349802371541502, 0.3349802371541502, 0.3409090909090909, 0.3409090909090909, 0.3438735177865613, 0.3438735177865613, 0.3458498023715415, 0.3458498023715415, 0.35079051383399207, 0.35079051383399207, 0.3577075098814229, 0.3577075098814229, 0.358695652173913, 0.358695652173913, 0.36462450592885376, 0.36462450592885376, 0.36561264822134387, 0.36561264822134387, 0.366600790513834, 0.366600790513834, 0.3675889328063241, 0.3675889328063241, 0.37450592885375494, 0.37450592885375494, 0.3784584980237154, 0.3784584980237154, 0.38438735177865613, 0.38438735177865613, 0.38636363636363635, 0.38636363636363635, 0.391304347826087, 0.391304347826087, 0.39723320158102765, 0.39723320158102765, 0.39822134387351776, 0.39822134387351776, 0.39920948616600793, 0.39920948616600793, 0.40217391304347827, 0.40217391304347827, 0.4041501976284585, 0.4041501976284585, 0.40711462450592883, 0.40711462450592883, 0.4150197628458498, 0.4150197628458498, 0.4426877470355731, 0.4426877470355731, 0.45553359683794464, 0.45553359683794464, 0.47134387351778656, 0.47134387351778656, 0.4743083003952569, 0.4743083003952569, 0.4772727272727273, 0.4772727272727273, 0.4901185770750988, 0.4901185770750988, 0.4980237154150198, 0.4980237154150198, 0.5049407114624506, 0.5049407114624506, 0.5138339920948617, 0.5138339920948617, 0.5345849802371542, 0.5345849802371542, 0.5612648221343873, 0.5612648221343873, 0.5632411067193676, 0.5632411067193676, 0.5800395256916996, 0.5800395256916996, 0.58399209486166, 0.58399209486166, 0.5869565217391305, 0.5869565217391305, 0.5958498023715415, 0.5958498023715415, 0.5968379446640316, 0.5968379446640316, 0.6057312252964426, 0.6057312252964426, 0.6452569169960475, 0.6452569169960475, 0.7341897233201581, 0.7341897233201581, 0.782608695652174, 0.782608695652174, 0.7845849802371542, 0.7845849802371542, 0.8656126482213439, 0.8656126482213439, 0.8675889328063241, 0.8675889328063241, 0.8873517786561265, 0.8893280632411067, 0.9446640316205533, 0.9446640316205533, 1.0], \"xaxis\": \"x2\", \"y\": [0.0, 0.002531645569620253, 0.027848101265822784, 0.027848101265822784, 0.04050632911392405, 0.04050632911392405, 0.04556962025316456, 0.04556962025316456, 0.08860759493670886, 0.08860759493670886, 0.09367088607594937, 0.09367088607594937, 0.1341772151898734, 0.1341772151898734, 0.15949367088607594, 0.15949367088607594, 0.1620253164556962, 0.1620253164556962, 0.17721518987341772, 0.17721518987341772, 0.18227848101265823, 0.18227848101265823, 0.19746835443037974, 0.19746835443037974, 0.21772151898734177, 0.21772151898734177, 0.23544303797468355, 0.23544303797468355, 0.2379746835443038, 0.2379746835443038, 0.2430379746835443, 0.2430379746835443, 0.25569620253164554, 0.25569620253164554, 0.26582278481012656, 0.26582278481012656, 0.2759493670886076, 0.2759493670886076, 0.28860759493670884, 0.28860759493670884, 0.2936708860759494, 0.2936708860759494, 0.29620253164556964, 0.29620253164556964, 0.29873417721518986, 0.29873417721518986, 0.3012658227848101, 0.3012658227848101, 0.3037974683544304, 0.3037974683544304, 0.30632911392405066, 0.30632911392405066, 0.31139240506329113, 0.31139240506329113, 0.31645569620253167, 0.31645569620253167, 0.3189873417721519, 0.3189873417721519, 0.32151898734177214, 0.32151898734177214, 0.33164556962025316, 0.33164556962025316, 0.3367088607594937, 0.3367088607594937, 0.34177215189873417, 0.34177215189873417, 0.34430379746835443, 0.34430379746835443, 0.3468354430379747, 0.3468354430379747, 0.3620253164556962, 0.3620253164556962, 0.3670886075949367, 0.3670886075949367, 0.37721518987341773, 0.37721518987341773, 0.3924050632911392, 0.3924050632911392, 0.39746835443037976, 0.39746835443037976, 0.40759493670886077, 0.40759493670886077, 0.42025316455696204, 0.42025316455696204, 0.42278481012658226, 0.42278481012658226, 0.4278481012658228, 0.4278481012658228, 0.43037974683544306, 0.43037974683544306, 0.44050632911392407, 0.44050632911392407, 0.4481012658227848, 0.4481012658227848, 0.4506329113924051, 0.4506329113924051, 0.4607594936708861, 0.4607594936708861, 0.46582278481012657, 0.46582278481012657, 0.47848101265822784, 0.47848101265822784, 0.4835443037974684, 0.4835443037974684, 0.4860759493670886, 0.4860759493670886, 0.4936708860759494, 0.4936708860759494, 0.5012658227848101, 0.5012658227848101, 0.5037974683544304, 0.5037974683544304, 0.5164556962025316, 0.5164556962025316, 0.5240506329113924, 0.5240506329113924, 0.529113924050633, 0.529113924050633, 0.5367088607594936, 0.5367088607594936, 0.5392405063291139, 0.5392405063291139, 0.5417721518987342, 0.5417721518987342, 0.5443037974683544, 0.5443037974683544, 0.5544303797468354, 0.5544303797468354, 0.5594936708860759, 0.5594936708860759, 0.5620253164556962, 0.5620253164556962, 0.5645569620253165, 0.5645569620253165, 0.579746835443038, 0.579746835443038, 0.5822784810126582, 0.5822784810126582, 0.5873417721518988, 0.5873417721518988, 0.589873417721519, 0.589873417721519, 0.5974683544303797, 0.5974683544303797, 0.6, 0.6, 0.6050632911392405, 0.6050632911392405, 0.6151898734177215, 0.6151898734177215, 0.6177215189873417, 0.6177215189873417, 0.620253164556962, 0.620253164556962, 0.6227848101265823, 0.6227848101265823, 0.6278481012658228, 0.6278481012658228, 0.6303797468354431, 0.6303797468354431, 0.6354430379746835, 0.6354430379746835, 0.6430379746835443, 0.6430379746835443, 0.6455696202531646, 0.6455696202531646, 0.6506329113924051, 0.6506329113924051, 0.6556962025316456, 0.6556962025316456, 0.6658227848101266, 0.6658227848101266, 0.6683544303797468, 0.6683544303797468, 0.6734177215189874, 0.6734177215189874, 0.6810126582278481, 0.6810126582278481, 0.6911392405063291, 0.6911392405063291, 0.6936708860759494, 0.6936708860759494, 0.6987341772151898, 0.6987341772151898, 0.7012658227848101, 0.7012658227848101, 0.7063291139240506, 0.7063291139240506, 0.7088607594936709, 0.7088607594936709, 0.7113924050632912, 0.7113924050632912, 0.7139240506329114, 0.7139240506329114, 0.7189873417721518, 0.7189873417721518, 0.7215189873417721, 0.7215189873417721, 0.7240506329113924, 0.7240506329113924, 0.7265822784810126, 0.7265822784810126, 0.7341772151898734, 0.7341772151898734, 0.7367088607594937, 0.7367088607594937, 0.7417721518987341, 0.7417721518987341, 0.7443037974683544, 0.7443037974683544, 0.7468354430379747, 0.7468354430379747, 0.7518987341772152, 0.7518987341772152, 0.7544303797468355, 0.7544303797468355, 0.7569620253164557, 0.7569620253164557, 0.759493670886076, 0.759493670886076, 0.7620253164556962, 0.7620253164556962, 0.7645569620253164, 0.7645569620253164, 0.7670886075949367, 0.7670886075949367, 0.769620253164557, 0.769620253164557, 0.7746835443037975, 0.7746835443037975, 0.7822784810126582, 0.7822784810126582, 0.7873417721518987, 0.7873417721518987, 0.789873417721519, 0.789873417721519, 0.7924050632911392, 0.7924050632911392, 0.7974683544303798, 0.7974683544303798, 0.8025316455696202, 0.8025316455696202, 0.8050632911392405, 0.8050632911392405, 0.8075949367088607, 0.8075949367088607, 0.8126582278481013, 0.8126582278481013, 0.8151898734177215, 0.8151898734177215, 0.8177215189873418, 0.8177215189873418, 0.8202531645569621, 0.8202531645569621, 0.8227848101265823, 0.8227848101265823, 0.830379746835443, 0.830379746835443, 0.8329113924050633, 0.8329113924050633, 0.8379746835443038, 0.8379746835443038, 0.8481012658227848, 0.8481012658227848, 0.850632911392405, 0.850632911392405, 0.8531645569620253, 0.8531645569620253, 0.8556962025316456, 0.8556962025316456, 0.8607594936708861, 0.8607594936708861, 0.8632911392405064, 0.8632911392405064, 0.8734177215189873, 0.8734177215189873, 0.8759493670886076, 0.8759493670886076, 0.8784810126582279, 0.8784810126582279, 0.8860759493670886, 0.8860759493670886, 0.8911392405063291, 0.8911392405063291, 0.8962025316455696, 0.8962025316455696, 0.8987341772151899, 0.8987341772151899, 0.9012658227848102, 0.9012658227848102, 0.9037974683544304, 0.9037974683544304, 0.9063291139240506, 0.9063291139240506, 0.9088607594936708, 0.9088607594936708, 0.9113924050632911, 0.9113924050632911, 0.9139240506329114, 0.9139240506329114, 0.9189873417721519, 0.9189873417721519, 0.9215189873417722, 0.9215189873417722, 0.9240506329113924, 0.9240506329113924, 0.9265822784810127, 0.9265822784810127, 0.9291139240506329, 0.9291139240506329, 0.9316455696202531, 0.9316455696202531, 0.9341772151898734, 0.9341772151898734, 0.9367088607594937, 0.9367088607594937, 0.9392405063291139, 0.9392405063291139, 0.9417721518987342, 0.9417721518987342, 0.9443037974683545, 0.9443037974683545, 0.9468354430379747, 0.9468354430379747, 0.9493670886075949, 0.9493670886075949, 0.9518987341772152, 0.9518987341772152, 0.9544303797468354, 0.9544303797468354, 0.9569620253164557, 0.9569620253164557, 0.959493670886076, 0.959493670886076, 0.9620253164556962, 0.9620253164556962, 0.9645569620253165, 0.9645569620253165, 0.9670886075949368, 0.9670886075949368, 0.9696202531645569, 0.9696202531645569, 0.9721518987341772, 0.9721518987341772, 0.9746835443037974, 0.9746835443037974, 0.9772151898734177, 0.9772151898734177, 0.979746835443038, 0.979746835443038, 0.9822784810126582, 0.9822784810126582, 0.9848101265822785, 0.9848101265822785, 0.9873417721518988, 0.9873417721518988, 0.9898734177215189, 0.9898734177215189, 0.9924050632911392, 0.9924050632911392, 0.9949367088607595, 0.9949367088607595, 0.9974683544303797, 0.9974683544303797, 0.9974683544303797, 0.9974683544303797, 1.0, 1.0], \"yaxis\": \"y2\"}, {\"line\": {\"color\": \"rgb(205, 12, 24)\", \"dash\": \"dot\", \"width\": 2}, \"type\": \"scatter\", \"x\": [0, 1], \"xaxis\": \"x2\", \"y\": [0, 1], \"yaxis\": \"y2\"}],                        {\"annotations\": [{\"font\": {\"size\": 16}, \"showarrow\": false, \"text\": \"ROC\", \"x\": 0.775, \"xanchor\": \"center\", \"xref\": \"paper\", \"y\": 1.0, \"yanchor\": \"bottom\", \"yref\": \"paper\"}], \"template\": {\"data\": {\"bar\": [{\"error_x\": {\"color\": \"#2a3f5f\"}, \"error_y\": {\"color\": \"#2a3f5f\"}, \"marker\": {\"line\": {\"color\": \"#E5ECF6\", \"width\": 0.5}}, \"type\": \"bar\"}], \"barpolar\": [{\"marker\": {\"line\": {\"color\": \"#E5ECF6\", \"width\": 0.5}}, \"type\": \"barpolar\"}], \"carpet\": [{\"aaxis\": {\"endlinecolor\": \"#2a3f5f\", \"gridcolor\": \"white\", \"linecolor\": \"white\", \"minorgridcolor\": \"white\", \"startlinecolor\": \"#2a3f5f\"}, \"baxis\": {\"endlinecolor\": \"#2a3f5f\", \"gridcolor\": \"white\", \"linecolor\": \"white\", \"minorgridcolor\": \"white\", \"startlinecolor\": \"#2a3f5f\"}, \"type\": \"carpet\"}], \"choropleth\": [{\"colorbar\": {\"outlinewidth\": 0, \"ticks\": \"\"}, \"type\": \"choropleth\"}], \"contour\": [{\"colorbar\": {\"outlinewidth\": 0, \"ticks\": \"\"}, \"colorscale\": [[0.0, \"#0d0887\"], [0.1111111111111111, \"#46039f\"], [0.2222222222222222, \"#7201a8\"], [0.3333333333333333, \"#9c179e\"], [0.4444444444444444, \"#bd3786\"], [0.5555555555555556, \"#d8576b\"], [0.6666666666666666, \"#ed7953\"], [0.7777777777777778, \"#fb9f3a\"], [0.8888888888888888, \"#fdca26\"], [1.0, \"#f0f921\"]], \"type\": \"contour\"}], \"contourcarpet\": [{\"colorbar\": {\"outlinewidth\": 0, \"ticks\": \"\"}, \"type\": \"contourcarpet\"}], \"heatmap\": [{\"colorbar\": {\"outlinewidth\": 0, \"ticks\": \"\"}, \"colorscale\": [[0.0, \"#0d0887\"], [0.1111111111111111, \"#46039f\"], [0.2222222222222222, \"#7201a8\"], [0.3333333333333333, \"#9c179e\"], [0.4444444444444444, \"#bd3786\"], [0.5555555555555556, \"#d8576b\"], [0.6666666666666666, \"#ed7953\"], [0.7777777777777778, \"#fb9f3a\"], [0.8888888888888888, \"#fdca26\"], [1.0, \"#f0f921\"]], \"type\": \"heatmap\"}], \"heatmapgl\": [{\"colorbar\": {\"outlinewidth\": 0, \"ticks\": \"\"}, \"colorscale\": [[0.0, \"#0d0887\"], [0.1111111111111111, \"#46039f\"], [0.2222222222222222, \"#7201a8\"], [0.3333333333333333, \"#9c179e\"], [0.4444444444444444, \"#bd3786\"], [0.5555555555555556, \"#d8576b\"], [0.6666666666666666, \"#ed7953\"], [0.7777777777777778, \"#fb9f3a\"], [0.8888888888888888, \"#fdca26\"], [1.0, \"#f0f921\"]], \"type\": \"heatmapgl\"}], \"histogram\": [{\"marker\": {\"colorbar\": {\"outlinewidth\": 0, \"ticks\": \"\"}}, \"type\": \"histogram\"}], \"histogram2d\": [{\"colorbar\": {\"outlinewidth\": 0, \"ticks\": \"\"}, \"colorscale\": [[0.0, \"#0d0887\"], [0.1111111111111111, \"#46039f\"], [0.2222222222222222, \"#7201a8\"], [0.3333333333333333, \"#9c179e\"], [0.4444444444444444, \"#bd3786\"], [0.5555555555555556, \"#d8576b\"], [0.6666666666666666, \"#ed7953\"], [0.7777777777777778, \"#fb9f3a\"], [0.8888888888888888, \"#fdca26\"], [1.0, \"#f0f921\"]], \"type\": \"histogram2d\"}], \"histogram2dcontour\": [{\"colorbar\": {\"outlinewidth\": 0, \"ticks\": \"\"}, \"colorscale\": [[0.0, \"#0d0887\"], [0.1111111111111111, \"#46039f\"], [0.2222222222222222, \"#7201a8\"], [0.3333333333333333, \"#9c179e\"], [0.4444444444444444, \"#bd3786\"], [0.5555555555555556, \"#d8576b\"], [0.6666666666666666, \"#ed7953\"], [0.7777777777777778, \"#fb9f3a\"], [0.8888888888888888, \"#fdca26\"], [1.0, \"#f0f921\"]], \"type\": \"histogram2dcontour\"}], \"mesh3d\": [{\"colorbar\": {\"outlinewidth\": 0, \"ticks\": \"\"}, \"type\": \"mesh3d\"}], \"parcoords\": [{\"line\": {\"colorbar\": {\"outlinewidth\": 0, \"ticks\": \"\"}}, \"type\": \"parcoords\"}], \"pie\": [{\"automargin\": true, \"type\": \"pie\"}], \"scatter\": [{\"marker\": {\"colorbar\": {\"outlinewidth\": 0, \"ticks\": \"\"}}, \"type\": \"scatter\"}], \"scatter3d\": [{\"line\": {\"colorbar\": {\"outlinewidth\": 0, \"ticks\": \"\"}}, \"marker\": {\"colorbar\": {\"outlinewidth\": 0, \"ticks\": \"\"}}, \"type\": \"scatter3d\"}], \"scattercarpet\": [{\"marker\": {\"colorbar\": {\"outlinewidth\": 0, \"ticks\": \"\"}}, \"type\": \"scattercarpet\"}], \"scattergeo\": [{\"marker\": {\"colorbar\": {\"outlinewidth\": 0, \"ticks\": \"\"}}, \"type\": \"scattergeo\"}], \"scattergl\": [{\"marker\": {\"colorbar\": {\"outlinewidth\": 0, \"ticks\": \"\"}}, \"type\": \"scattergl\"}], \"scattermapbox\": [{\"marker\": {\"colorbar\": {\"outlinewidth\": 0, \"ticks\": \"\"}}, \"type\": \"scattermapbox\"}], \"scatterpolar\": [{\"marker\": {\"colorbar\": {\"outlinewidth\": 0, \"ticks\": \"\"}}, \"type\": \"scatterpolar\"}], \"scatterpolargl\": [{\"marker\": {\"colorbar\": {\"outlinewidth\": 0, \"ticks\": \"\"}}, \"type\": \"scatterpolargl\"}], \"scatterternary\": [{\"marker\": {\"colorbar\": {\"outlinewidth\": 0, \"ticks\": \"\"}}, \"type\": \"scatterternary\"}], \"surface\": [{\"colorbar\": {\"outlinewidth\": 0, \"ticks\": \"\"}, \"colorscale\": [[0.0, \"#0d0887\"], [0.1111111111111111, \"#46039f\"], [0.2222222222222222, \"#7201a8\"], [0.3333333333333333, \"#9c179e\"], [0.4444444444444444, \"#bd3786\"], [0.5555555555555556, \"#d8576b\"], [0.6666666666666666, \"#ed7953\"], [0.7777777777777778, \"#fb9f3a\"], [0.8888888888888888, \"#fdca26\"], [1.0, \"#f0f921\"]], \"type\": \"surface\"}], \"table\": [{\"cells\": {\"fill\": {\"color\": \"#EBF0F8\"}, \"line\": {\"color\": \"white\"}}, \"header\": {\"fill\": {\"color\": \"#C8D4E3\"}, \"line\": {\"color\": \"white\"}}, \"type\": \"table\"}]}, \"layout\": {\"annotationdefaults\": {\"arrowcolor\": \"#2a3f5f\", \"arrowhead\": 0, \"arrowwidth\": 1}, \"coloraxis\": {\"colorbar\": {\"outlinewidth\": 0, \"ticks\": \"\"}}, \"colorscale\": {\"diverging\": [[0, \"#8e0152\"], [0.1, \"#c51b7d\"], [0.2, \"#de77ae\"], [0.3, \"#f1b6da\"], [0.4, \"#fde0ef\"], [0.5, \"#f7f7f7\"], [0.6, \"#e6f5d0\"], [0.7, \"#b8e186\"], [0.8, \"#7fbc41\"], [0.9, \"#4d9221\"], [1, \"#276419\"]], \"sequential\": [[0.0, \"#0d0887\"], [0.1111111111111111, \"#46039f\"], [0.2222222222222222, \"#7201a8\"], [0.3333333333333333, \"#9c179e\"], [0.4444444444444444, \"#bd3786\"], [0.5555555555555556, \"#d8576b\"], [0.6666666666666666, \"#ed7953\"], [0.7777777777777778, \"#fb9f3a\"], [0.8888888888888888, \"#fdca26\"], [1.0, \"#f0f921\"]], \"sequentialminus\": [[0.0, \"#0d0887\"], [0.1111111111111111, \"#46039f\"], [0.2222222222222222, \"#7201a8\"], [0.3333333333333333, \"#9c179e\"], [0.4444444444444444, \"#bd3786\"], [0.5555555555555556, \"#d8576b\"], [0.6666666666666666, \"#ed7953\"], [0.7777777777777778, \"#fb9f3a\"], [0.8888888888888888, \"#fdca26\"], [1.0, \"#f0f921\"]]}, \"colorway\": [\"#636efa\", \"#EF553B\", \"#00cc96\", \"#ab63fa\", \"#FFA15A\", \"#19d3f3\", \"#FF6692\", \"#B6E880\", \"#FF97FF\", \"#FECB52\"], \"font\": {\"color\": \"#2a3f5f\"}, \"geo\": {\"bgcolor\": \"white\", \"lakecolor\": \"white\", \"landcolor\": \"#E5ECF6\", \"showlakes\": true, \"showland\": true, \"subunitcolor\": \"white\"}, \"hoverlabel\": {\"align\": \"left\"}, \"hovermode\": \"closest\", \"mapbox\": {\"style\": \"light\"}, \"paper_bgcolor\": \"white\", \"plot_bgcolor\": \"#E5ECF6\", \"polar\": {\"angularaxis\": {\"gridcolor\": \"white\", \"linecolor\": \"white\", \"ticks\": \"\"}, \"bgcolor\": \"#E5ECF6\", \"radialaxis\": {\"gridcolor\": \"white\", \"linecolor\": \"white\", \"ticks\": \"\"}}, \"scene\": {\"xaxis\": {\"backgroundcolor\": \"#E5ECF6\", \"gridcolor\": \"white\", \"gridwidth\": 2, \"linecolor\": \"white\", \"showbackground\": true, \"ticks\": \"\", \"zerolinecolor\": \"white\"}, \"yaxis\": {\"backgroundcolor\": \"#E5ECF6\", \"gridcolor\": \"white\", \"gridwidth\": 2, \"linecolor\": \"white\", \"showbackground\": true, \"ticks\": \"\", \"zerolinecolor\": \"white\"}, \"zaxis\": {\"backgroundcolor\": \"#E5ECF6\", \"gridcolor\": \"white\", \"gridwidth\": 2, \"linecolor\": \"white\", \"showbackground\": true, \"ticks\": \"\", \"zerolinecolor\": \"white\"}}, \"shapedefaults\": {\"line\": {\"color\": \"#2a3f5f\"}}, \"ternary\": {\"aaxis\": {\"gridcolor\": \"white\", \"linecolor\": \"white\", \"ticks\": \"\"}, \"baxis\": {\"gridcolor\": \"white\", \"linecolor\": \"white\", \"ticks\": \"\"}, \"bgcolor\": \"#E5ECF6\", \"caxis\": {\"gridcolor\": \"white\", \"linecolor\": \"white\", \"ticks\": \"\"}}, \"title\": {\"x\": 0.05}, \"xaxis\": {\"automargin\": true, \"gridcolor\": \"white\", \"linecolor\": \"white\", \"ticks\": \"\", \"title\": {\"standoff\": 15}, \"zerolinecolor\": \"white\", \"zerolinewidth\": 2}, \"yaxis\": {\"automargin\": true, \"gridcolor\": \"white\", \"linecolor\": \"white\", \"ticks\": \"\", \"title\": {\"standoff\": 15}, \"zerolinecolor\": \"white\", \"zerolinewidth\": 2}}}, \"xaxis\": {\"anchor\": \"y\", \"domain\": [0.0, 0.45]}, \"xaxis2\": {\"anchor\": \"y2\", \"domain\": [0.55, 1.0]}, \"xaxis3\": {\"anchor\": \"y3\", \"domain\": [0.0, 1.0]}, \"yaxis\": {\"anchor\": \"x\", \"domain\": [0.625, 1.0]}, \"yaxis2\": {\"anchor\": \"x2\", \"domain\": [0.625, 1.0]}, \"yaxis3\": {\"anchor\": \"x3\", \"domain\": [0.0, 0.375]}},                        {\"responsive\": true}                    ).then(function(){\n",
       "                            \n",
       "var gd = document.getElementById('6339bb8c-8b9a-4d30-ab7b-e9f2b0954b6e');\n",
       "var x = new MutationObserver(function (mutations, observer) {{\n",
       "        var display = window.getComputedStyle(gd).display;\n",
       "        if (!display || display === 'none') {{\n",
       "            console.log([gd, 'removed!']);\n",
       "            Plotly.purge(gd);\n",
       "            observer.disconnect();\n",
       "        }}\n",
       "}});\n",
       "\n",
       "// Listen for the removal of the full notebook cells\n",
       "var notebookContainer = gd.closest('#notebook-container');\n",
       "if (notebookContainer) {{\n",
       "    x.observe(notebookContainer, {childList: true});\n",
       "}}\n",
       "\n",
       "// Listen for the clearing of the current output cell\n",
       "var outputEl = gd.closest('.output');\n",
       "if (outputEl) {{\n",
       "    x.observe(outputEl, {childList: true});\n",
       "}}\n",
       "\n",
       "                        })                };                });            </script>        </div>"
      ]
     },
     "metadata": {},
     "output_type": "display_data"
    }
   ],
   "source": [
    "import plotly.tools as tls\n",
    "import plotly as py\n",
    "\n",
    "fig = tls.make_subplots(rows=2, cols=2, specs=[[{}, {}], [{'colspan': 2}, None]],\n",
    "                            subplot_titles=('',\n",
    "                                            'ROC',\n",
    "                                            ''))\n",
    "    \n",
    "   \n",
    "fig.append_trace(trace2,1,2)\n",
    "fig.append_trace(trace3,1,2)\n",
    "\n",
    "py.offline.iplot(fig)"
   ]
  },
  {
   "cell_type": "code",
   "execution_count": 173,
   "metadata": {},
   "outputs": [
    {
     "data": {
      "text/plain": [
       "0.8088130774697939"
      ]
     },
     "execution_count": 173,
     "metadata": {},
     "output_type": "execute_result"
    }
   ],
   "source": [
    "acc_sequential = accuracy_score(y_test, predictions.round())\n",
    "\n",
    "acc_sequential"
   ]
  },
  {
   "cell_type": "code",
   "execution_count": 174,
   "metadata": {},
   "outputs": [
    {
     "data": {
      "image/png": "[encoded data removed]",
      "text/plain": [
       "<Figure size 432x288 with 2 Axes>"
      ]
     },
     "metadata": {
      "needs_background": "light"
     },
     "output_type": "display_data"
    }
   ],
   "source": [
    "pl = confusion_matrix(y_test,predictions.round())\n",
    "\n",
    "labels = ['Churn', 'Remain']\n",
    "\n",
    "\n",
    "fig = plt.figure()\n",
    "ax = fig.add_subplot(111)\n",
    "cax = ax.matshow(pl)\n",
    "plt.title('Confusion matrix of the classifier')\n",
    "fig.colorbar(cax)\n",
    "ax.set_xticklabels([''] + labels)\n",
    "ax.set_yticklabels([''] + labels)\n",
    "plt.xlabel('Predicted')\n",
    "plt.ylabel('True')\n",
    "plt.show()"
   ]
  },
  {
   "cell_type": "code",
   "execution_count": 175,
   "metadata": {},
   "outputs": [
    {
     "data": {
      "text/plain": [
       "array([[919,  93],\n",
       "       [176, 219]], dtype=int64)"
      ]
     },
     "execution_count": 175,
     "metadata": {},
     "output_type": "execute_result"
    }
   ],
   "source": [
    "pl"
   ]
  },
  {
   "cell_type": "markdown",
   "metadata": {},
   "source": [
    "## Conclusions"
   ]
  },
  {
   "cell_type": "markdown",
   "metadata": {},
   "source": [
    "We have created 4 classification models and will compare the results. First, we look at the table of ROC-AUC scores and accuracy scores to see which are the best at predicting the churn of customers."
   ]
  },
  {
   "cell_type": "code",
   "execution_count": 178,
   "metadata": {},
   "outputs": [
    {
     "data": {
      "text/html": [
       "<div>\n",
       "<style scoped>\n",
       "    .dataframe tbody tr th:only-of-type {\n",
       "        vertical-align: middle;\n",
       "    }\n",
       "\n",
       "    .dataframe tbody tr th {\n",
       "        vertical-align: top;\n",
       "    }\n",
       "\n",
       "    .dataframe thead th {\n",
       "        text-align: right;\n",
       "    }\n",
       "</style>\n",
       "<table border=\"1\" class=\"dataframe\">\n",
       "  <thead>\n",
       "    <tr style=\"text-align: right;\">\n",
       "      <th></th>\n",
       "      <th>Model</th>\n",
       "      <th>ROC_AUC_Score</th>\n",
       "      <th>Accuracy_Score</th>\n",
       "    </tr>\n",
       "  </thead>\n",
       "  <tbody>\n",
       "    <tr>\n",
       "      <th>0</th>\n",
       "      <td>K Means</td>\n",
       "      <td>0.738735</td>\n",
       "      <td>0.799574</td>\n",
       "    </tr>\n",
       "    <tr>\n",
       "      <th>1</th>\n",
       "      <td>Ridge</td>\n",
       "      <td>0.729507</td>\n",
       "      <td>0.807392</td>\n",
       "    </tr>\n",
       "    <tr>\n",
       "      <th>2</th>\n",
       "      <td>SVC</td>\n",
       "      <td>0.731389</td>\n",
       "      <td>0.804549</td>\n",
       "    </tr>\n",
       "    <tr>\n",
       "      <th>3</th>\n",
       "      <td>Sequential NN</td>\n",
       "      <td>0.855341</td>\n",
       "      <td>0.808813</td>\n",
       "    </tr>\n",
       "  </tbody>\n",
       "</table>\n",
       "</div>"
      ],
      "text/plain": [
       "           Model  ROC_AUC_Score  Accuracy_Score\n",
       "0        K Means       0.738735        0.799574\n",
       "1          Ridge       0.729507        0.807392\n",
       "2            SVC       0.731389        0.804549\n",
       "3  Sequential NN       0.855341        0.808813"
      ]
     },
     "execution_count": 178,
     "metadata": {},
     "output_type": "execute_result"
    }
   ],
   "source": [
    "scores = pd.DataFrame([['K Means', auc_kmeans, acc_kmeans], ['Ridge', auc_ridge, acc_ridge],\n",
    "              ['SVC', auc_svc, acc_svc],['Sequential NN', model_roc_auc, acc_sequential]],\n",
    "                      columns=['Model', 'ROC_AUC_Score', 'Accuracy_Score']\n",
    "            )\n",
    "scores"
   ]
  },
  {
   "cell_type": "markdown",
   "metadata": {},
   "source": [
    "We see in our table of scoring that the Sequential NN is the most accurate and has the best ROC_AUC score. Of the models that are not neural networks, it appears that they are all very similar, with the Ridge Classifier being the most accurate and K Means Classifier having the best ROC_AUC score. We will need to explore further how each model makes recommendations to distinguish which is the overall best."
   ]
  },
  {
   "cell_type": "code",
   "execution_count": null,
   "metadata": {},
   "outputs": [],
   "source": []
  }
 ],
 "metadata": {
  "kernelspec": {
   "display_name": "Python 3",
   "language": "python",
   "name": "python3"
  },
  "language_info": {
   "codemirror_mode": {
    "name": "ipython",
    "version": 3
   },
   "file_extension": ".py",
   "mimetype": "text/x-python",
   "name": "python",
   "nbconvert_exporter": "python",
   "pygments_lexer": "ipython3",
   "version": "3.8.3"
  }
 },
 "nbformat": 4,
 "nbformat_minor": 4
}
