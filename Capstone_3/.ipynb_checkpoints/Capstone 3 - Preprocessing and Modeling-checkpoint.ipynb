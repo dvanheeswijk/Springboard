{
 "cells": [
  {
   "cell_type": "markdown",
   "metadata": {},
   "source": [
    "# Capstone 3 - Customer Churn Prediction for Telco\n",
    "\n",
    "In our previous [Notebook](https://github.com/dvanheeswijk/Springboard/blob/master/Capstone_3/Capstone%203%20-%20EDA.ipynb), we explored our data set to find any possible leads to areas to focus on for our modeling. We found that bigger cities had larger churn volumes, while a few cities also had much higher percentages of churn than most others, specifically smaller cities with a handful of customers. We also saw that Fiber Optics customers were almost twice as likely to churn as DSL customers or customers with no internet service. Lastly, we saw that the primary reasons for leaving were basically either competitive offers from other companies or poor service attitude when dealing with troubleshooting issues. \n",
    "\n",
    "We will now explore *clean_data.csv*, our preprocessed data set and create training and testing data sets in order to evaluate models.\n",
    "\n",
    "We start with importing the data and necessary libraries."
   ]
  },
  {
   "cell_type": "code",
   "execution_count": 204,
   "metadata": {},
   "outputs": [],
   "source": [
    "import pandas as pd\n",
    "import numpy as np\n",
    "import matplotlib.pyplot as plt\n",
    "%matplotlib inline\n",
    "\n",
    "import seaborn as sns\n",
    "\n",
    "from sklearn.model_selection import train_test_split, RandomizedSearchCV, GridSearchCV\n",
    "from sklearn.pipeline import Pipeline\n",
    "from sklearn.neighbors import KNeighborsClassifier\n",
    "from sklearn.linear_model import RidgeClassifier\n",
    "# from sklearn.neural_network import MLPClassifier\n",
    "from sklearn.svm import SVC\n",
    "from sklearn.ensemble import GradientBoostingClassifier, RandomForestClassifier\n",
    "from sklearn.preprocessing import StandardScaler\n",
    "from sklearn.metrics import accuracy_score, roc_auc_score,roc_curve,scorer"
   ]
  },
  {
   "cell_type": "code",
   "execution_count": 205,
   "metadata": {},
   "outputs": [
    {
     "data": {
      "text/html": [
       "<div>\n",
       "<style scoped>\n",
       "    .dataframe tbody tr th:only-of-type {\n",
       "        vertical-align: middle;\n",
       "    }\n",
       "\n",
       "    .dataframe tbody tr th {\n",
       "        vertical-align: top;\n",
       "    }\n",
       "\n",
       "    .dataframe thead th {\n",
       "        text-align: right;\n",
       "    }\n",
       "</style>\n",
       "<table border=\"1\" class=\"dataframe\">\n",
       "  <thead>\n",
       "    <tr style=\"text-align: right;\">\n",
       "      <th></th>\n",
       "      <th>CustomerID</th>\n",
       "      <th>Zip Code</th>\n",
       "      <th>Latitude</th>\n",
       "      <th>Longitude</th>\n",
       "      <th>Gender</th>\n",
       "      <th>Senior Citizen</th>\n",
       "      <th>Partner</th>\n",
       "      <th>Dependents</th>\n",
       "      <th>Tenure Months</th>\n",
       "      <th>Phone Service</th>\n",
       "      <th>...</th>\n",
       "      <th>Internet Service_DSL</th>\n",
       "      <th>Internet Service_Fiber optic</th>\n",
       "      <th>Internet Service_No</th>\n",
       "      <th>Contract_Month-to-month</th>\n",
       "      <th>Contract_One year</th>\n",
       "      <th>Contract_Two year</th>\n",
       "      <th>Payment Method_Bank transfer (automatic)</th>\n",
       "      <th>Payment Method_Credit card (automatic)</th>\n",
       "      <th>Payment Method_Electronic check</th>\n",
       "      <th>Payment Method_Mailed check</th>\n",
       "    </tr>\n",
       "  </thead>\n",
       "  <tbody>\n",
       "    <tr>\n",
       "      <th>0</th>\n",
       "      <td>3668-QPYBK</td>\n",
       "      <td>90003</td>\n",
       "      <td>33.964131</td>\n",
       "      <td>-118.272783</td>\n",
       "      <td>0</td>\n",
       "      <td>0</td>\n",
       "      <td>0</td>\n",
       "      <td>0</td>\n",
       "      <td>2</td>\n",
       "      <td>1</td>\n",
       "      <td>...</td>\n",
       "      <td>1</td>\n",
       "      <td>0</td>\n",
       "      <td>0</td>\n",
       "      <td>1</td>\n",
       "      <td>0</td>\n",
       "      <td>0</td>\n",
       "      <td>0</td>\n",
       "      <td>0</td>\n",
       "      <td>0</td>\n",
       "      <td>1</td>\n",
       "    </tr>\n",
       "    <tr>\n",
       "      <th>1</th>\n",
       "      <td>9237-HQITU</td>\n",
       "      <td>90005</td>\n",
       "      <td>34.059281</td>\n",
       "      <td>-118.307420</td>\n",
       "      <td>1</td>\n",
       "      <td>0</td>\n",
       "      <td>0</td>\n",
       "      <td>1</td>\n",
       "      <td>2</td>\n",
       "      <td>1</td>\n",
       "      <td>...</td>\n",
       "      <td>0</td>\n",
       "      <td>1</td>\n",
       "      <td>0</td>\n",
       "      <td>1</td>\n",
       "      <td>0</td>\n",
       "      <td>0</td>\n",
       "      <td>0</td>\n",
       "      <td>0</td>\n",
       "      <td>1</td>\n",
       "      <td>0</td>\n",
       "    </tr>\n",
       "    <tr>\n",
       "      <th>2</th>\n",
       "      <td>9305-CDSKC</td>\n",
       "      <td>90006</td>\n",
       "      <td>34.048013</td>\n",
       "      <td>-118.293953</td>\n",
       "      <td>1</td>\n",
       "      <td>0</td>\n",
       "      <td>0</td>\n",
       "      <td>1</td>\n",
       "      <td>8</td>\n",
       "      <td>1</td>\n",
       "      <td>...</td>\n",
       "      <td>0</td>\n",
       "      <td>1</td>\n",
       "      <td>0</td>\n",
       "      <td>1</td>\n",
       "      <td>0</td>\n",
       "      <td>0</td>\n",
       "      <td>0</td>\n",
       "      <td>0</td>\n",
       "      <td>1</td>\n",
       "      <td>0</td>\n",
       "    </tr>\n",
       "    <tr>\n",
       "      <th>3</th>\n",
       "      <td>7892-POOKP</td>\n",
       "      <td>90010</td>\n",
       "      <td>34.062125</td>\n",
       "      <td>-118.315709</td>\n",
       "      <td>1</td>\n",
       "      <td>0</td>\n",
       "      <td>1</td>\n",
       "      <td>1</td>\n",
       "      <td>28</td>\n",
       "      <td>1</td>\n",
       "      <td>...</td>\n",
       "      <td>0</td>\n",
       "      <td>1</td>\n",
       "      <td>0</td>\n",
       "      <td>1</td>\n",
       "      <td>0</td>\n",
       "      <td>0</td>\n",
       "      <td>0</td>\n",
       "      <td>0</td>\n",
       "      <td>1</td>\n",
       "      <td>0</td>\n",
       "    </tr>\n",
       "    <tr>\n",
       "      <th>4</th>\n",
       "      <td>0280-XJGEX</td>\n",
       "      <td>90015</td>\n",
       "      <td>34.039224</td>\n",
       "      <td>-118.266293</td>\n",
       "      <td>0</td>\n",
       "      <td>0</td>\n",
       "      <td>0</td>\n",
       "      <td>1</td>\n",
       "      <td>49</td>\n",
       "      <td>1</td>\n",
       "      <td>...</td>\n",
       "      <td>0</td>\n",
       "      <td>1</td>\n",
       "      <td>0</td>\n",
       "      <td>1</td>\n",
       "      <td>0</td>\n",
       "      <td>0</td>\n",
       "      <td>1</td>\n",
       "      <td>0</td>\n",
       "      <td>0</td>\n",
       "      <td>0</td>\n",
       "    </tr>\n",
       "  </tbody>\n",
       "</table>\n",
       "<p>5 rows × 32 columns</p>\n",
       "</div>"
      ],
      "text/plain": [
       "   CustomerID  Zip Code   Latitude   Longitude  Gender  Senior Citizen  \\\n",
       "0  3668-QPYBK     90003  33.964131 -118.272783       0               0   \n",
       "1  9237-HQITU     90005  34.059281 -118.307420       1               0   \n",
       "2  9305-CDSKC     90006  34.048013 -118.293953       1               0   \n",
       "3  7892-POOKP     90010  34.062125 -118.315709       1               0   \n",
       "4  0280-XJGEX     90015  34.039224 -118.266293       0               0   \n",
       "\n",
       "   Partner  Dependents  Tenure Months  Phone Service  ...  \\\n",
       "0        0           0              2              1  ...   \n",
       "1        0           1              2              1  ...   \n",
       "2        0           1              8              1  ...   \n",
       "3        1           1             28              1  ...   \n",
       "4        0           1             49              1  ...   \n",
       "\n",
       "   Internet Service_DSL  Internet Service_Fiber optic  Internet Service_No  \\\n",
       "0                     1                             0                    0   \n",
       "1                     0                             1                    0   \n",
       "2                     0                             1                    0   \n",
       "3                     0                             1                    0   \n",
       "4                     0                             1                    0   \n",
       "\n",
       "   Contract_Month-to-month  Contract_One year  Contract_Two year  \\\n",
       "0                        1                  0                  0   \n",
       "1                        1                  0                  0   \n",
       "2                        1                  0                  0   \n",
       "3                        1                  0                  0   \n",
       "4                        1                  0                  0   \n",
       "\n",
       "   Payment Method_Bank transfer (automatic)  \\\n",
       "0                                         0   \n",
       "1                                         0   \n",
       "2                                         0   \n",
       "3                                         0   \n",
       "4                                         1   \n",
       "\n",
       "   Payment Method_Credit card (automatic)  Payment Method_Electronic check  \\\n",
       "0                                       0                                0   \n",
       "1                                       0                                1   \n",
       "2                                       0                                1   \n",
       "3                                       0                                1   \n",
       "4                                       0                                0   \n",
       "\n",
       "   Payment Method_Mailed check  \n",
       "0                            1  \n",
       "1                            0  \n",
       "2                            0  \n",
       "3                            0  \n",
       "4                            0  \n",
       "\n",
       "[5 rows x 32 columns]"
      ]
     },
     "execution_count": 205,
     "metadata": {},
     "output_type": "execute_result"
    }
   ],
   "source": [
    "data = pd.read_csv('data/clean_data.csv')\n",
    "\n",
    "data.head()"
   ]
  },
  {
   "cell_type": "code",
   "execution_count": 206,
   "metadata": {},
   "outputs": [
    {
     "name": "stdout",
     "output_type": "stream",
     "text": [
      "<class 'pandas.core.frame.DataFrame'>\n",
      "RangeIndex: 7032 entries, 0 to 7031\n",
      "Data columns (total 32 columns):\n",
      " #   Column                                    Non-Null Count  Dtype  \n",
      "---  ------                                    --------------  -----  \n",
      " 0   CustomerID                                7032 non-null   object \n",
      " 1   Zip Code                                  7032 non-null   int64  \n",
      " 2   Latitude                                  7032 non-null   float64\n",
      " 3   Longitude                                 7032 non-null   float64\n",
      " 4   Gender                                    7032 non-null   int64  \n",
      " 5   Senior Citizen                            7032 non-null   int64  \n",
      " 6   Partner                                   7032 non-null   int64  \n",
      " 7   Dependents                                7032 non-null   int64  \n",
      " 8   Tenure Months                             7032 non-null   int64  \n",
      " 9   Phone Service                             7032 non-null   int64  \n",
      " 10  Multiple Lines                            7032 non-null   int64  \n",
      " 11  Online Security                           7032 non-null   int64  \n",
      " 12  Online Backup                             7032 non-null   int64  \n",
      " 13  Device Protection                         7032 non-null   int64  \n",
      " 14  Tech Support                              7032 non-null   int64  \n",
      " 15  Streaming TV                              7032 non-null   int64  \n",
      " 16  Streaming Movies                          7032 non-null   int64  \n",
      " 17  Paperless Billing                         7032 non-null   int64  \n",
      " 18  Monthly Charges                           7032 non-null   float64\n",
      " 19  Total Charges                             7032 non-null   float64\n",
      " 20  Churn Value                               7032 non-null   int64  \n",
      " 21  CLTV                                      7032 non-null   int64  \n",
      " 22  Internet Service_DSL                      7032 non-null   int64  \n",
      " 23  Internet Service_Fiber optic              7032 non-null   int64  \n",
      " 24  Internet Service_No                       7032 non-null   int64  \n",
      " 25  Contract_Month-to-month                   7032 non-null   int64  \n",
      " 26  Contract_One year                         7032 non-null   int64  \n",
      " 27  Contract_Two year                         7032 non-null   int64  \n",
      " 28  Payment Method_Bank transfer (automatic)  7032 non-null   int64  \n",
      " 29  Payment Method_Credit card (automatic)    7032 non-null   int64  \n",
      " 30  Payment Method_Electronic check           7032 non-null   int64  \n",
      " 31  Payment Method_Mailed check               7032 non-null   int64  \n",
      "dtypes: float64(4), int64(27), object(1)\n",
      "memory usage: 1.7+ MB\n"
     ]
    }
   ],
   "source": [
    "data.info()"
   ]
  },
  {
   "cell_type": "code",
   "execution_count": 207,
   "metadata": {},
   "outputs": [
    {
     "data": {
      "text/plain": [
       "True"
      ]
     },
     "execution_count": 207,
     "metadata": {},
     "output_type": "execute_result"
    }
   ],
   "source": [
    "data['CustomerID'].is_unique"
   ]
  },
  {
   "cell_type": "code",
   "execution_count": 208,
   "metadata": {},
   "outputs": [
    {
     "name": "stdout",
     "output_type": "stream",
     "text": [
      "<class 'pandas.core.frame.DataFrame'>\n",
      "Index: 7032 entries, 3668-QPYBK to 3186-AJIEK\n",
      "Data columns (total 31 columns):\n",
      " #   Column                                    Non-Null Count  Dtype  \n",
      "---  ------                                    --------------  -----  \n",
      " 0   Zip Code                                  7032 non-null   int64  \n",
      " 1   Latitude                                  7032 non-null   float64\n",
      " 2   Longitude                                 7032 non-null   float64\n",
      " 3   Gender                                    7032 non-null   int64  \n",
      " 4   Senior Citizen                            7032 non-null   int64  \n",
      " 5   Partner                                   7032 non-null   int64  \n",
      " 6   Dependents                                7032 non-null   int64  \n",
      " 7   Tenure Months                             7032 non-null   int64  \n",
      " 8   Phone Service                             7032 non-null   int64  \n",
      " 9   Multiple Lines                            7032 non-null   int64  \n",
      " 10  Online Security                           7032 non-null   int64  \n",
      " 11  Online Backup                             7032 non-null   int64  \n",
      " 12  Device Protection                         7032 non-null   int64  \n",
      " 13  Tech Support                              7032 non-null   int64  \n",
      " 14  Streaming TV                              7032 non-null   int64  \n",
      " 15  Streaming Movies                          7032 non-null   int64  \n",
      " 16  Paperless Billing                         7032 non-null   int64  \n",
      " 17  Monthly Charges                           7032 non-null   float64\n",
      " 18  Total Charges                             7032 non-null   float64\n",
      " 19  Churn Value                               7032 non-null   int64  \n",
      " 20  CLTV                                      7032 non-null   int64  \n",
      " 21  Internet Service_DSL                      7032 non-null   int64  \n",
      " 22  Internet Service_Fiber optic              7032 non-null   int64  \n",
      " 23  Internet Service_No                       7032 non-null   int64  \n",
      " 24  Contract_Month-to-month                   7032 non-null   int64  \n",
      " 25  Contract_One year                         7032 non-null   int64  \n",
      " 26  Contract_Two year                         7032 non-null   int64  \n",
      " 27  Payment Method_Bank transfer (automatic)  7032 non-null   int64  \n",
      " 28  Payment Method_Credit card (automatic)    7032 non-null   int64  \n",
      " 29  Payment Method_Electronic check           7032 non-null   int64  \n",
      " 30  Payment Method_Mailed check               7032 non-null   int64  \n",
      "dtypes: float64(4), int64(27)\n",
      "memory usage: 1.7+ MB\n"
     ]
    }
   ],
   "source": [
    "data.set_index('CustomerID', inplace=True)\n",
    "\n",
    "data.info()"
   ]
  },
  {
   "cell_type": "markdown",
   "metadata": {},
   "source": [
    "We see now that we have the data in complete numeric format, meaning that we are ready to begin training the data."
   ]
  },
  {
   "cell_type": "markdown",
   "metadata": {},
   "source": [
    "### Training the data"
   ]
  },
  {
   "cell_type": "code",
   "execution_count": 209,
   "metadata": {},
   "outputs": [],
   "source": [
    "# Splitting the data between our dependent and independent variables\n",
    "X = data.drop(columns='Churn Value')\n",
    "y = data['Churn Value']\n",
    "\n",
    "scaler = StandardScaler()\n",
    "\n",
    "X_scaled = scaler.fit_transform(X)\n",
    "\n",
    "X_train, X_test, y_train, y_test = train_test_split(X_scaled, y, test_size=.2, random_state=42)"
   ]
  },
  {
   "cell_type": "code",
   "execution_count": 210,
   "metadata": {},
   "outputs": [
    {
     "name": "stdout",
     "output_type": "stream",
     "text": [
      "(5625, 30) (1407, 30)\n"
     ]
    }
   ],
   "source": [
    "print(X_train.shape, X_test.shape)"
   ]
  },
  {
   "cell_type": "code",
   "execution_count": 211,
   "metadata": {},
   "outputs": [
    {
     "name": "stdout",
     "output_type": "stream",
     "text": [
      "(5625,) (1407,)\n"
     ]
    }
   ],
   "source": [
    "print(y_train.shape, y_test.shape)"
   ]
  },
  {
   "cell_type": "markdown",
   "metadata": {},
   "source": [
    "### Creating the models"
   ]
  },
  {
   "cell_type": "markdown",
   "metadata": {},
   "source": [
    "#### K Means Classifier"
   ]
  },
  {
   "cell_type": "code",
   "execution_count": 212,
   "metadata": {},
   "outputs": [
    {
     "data": {
      "text/plain": [
       "{'n_neighbors': 38}"
      ]
     },
     "execution_count": 212,
     "metadata": {},
     "output_type": "execute_result"
    }
   ],
   "source": [
    "param_grid = {'n_neighbors':np.arange(1,50)}\n",
    "\n",
    "knn = KNeighborsClassifier()\n",
    "\n",
    "clf = RandomizedSearchCV(knn, param_grid, random_state=0)\n",
    "search = clf.fit(X_train, y_train)\n",
    "search.best_params_"
   ]
  },
  {
   "cell_type": "code",
   "execution_count": 213,
   "metadata": {},
   "outputs": [
    {
     "data": {
      "text/plain": [
       "KNeighborsClassifier(n_neighbors=38)"
      ]
     },
     "execution_count": 213,
     "metadata": {},
     "output_type": "execute_result"
    }
   ],
   "source": [
    "knn = KNeighborsClassifier(n_neighbors=38)\n",
    "\n",
    "knn.fit(X_train, y_train)"
   ]
  },
  {
   "cell_type": "code",
   "execution_count": 214,
   "metadata": {},
   "outputs": [],
   "source": [
    "from sklearn.metrics import confusion_matrix\n",
    "y_pred = knn.predict(X_test)\n",
    "pl = confusion_matrix(y_test,y_pred)"
   ]
  },
  {
   "cell_type": "code",
   "execution_count": 215,
   "metadata": {},
   "outputs": [
    {
     "data": {
      "image/png": "[encoded data removed]",
      "text/plain": [
       "<Figure size 432x288 with 2 Axes>"
      ]
     },
     "metadata": {
      "needs_background": "light"
     },
     "output_type": "display_data"
    }
   ],
   "source": [
    "# plot_confusion_matrix(knn, X_test, y_test, cmap=plt.cm.Blues)\n",
    "# plt.title('Confusion Matrix')\n",
    "# plot_confusion_matrix(knn, X_test, y_test, cmap=plt.cm.Blues, normalize='true')\n",
    "# plt.title('Normalized Matrix')\n",
    "labels = ['Churn', 'Remain']\n",
    "\n",
    "\n",
    "fig = plt.figure()\n",
    "ax = fig.add_subplot(111)\n",
    "cax = ax.matshow(pl)\n",
    "plt.title('Confusion matrix of the classifier')\n",
    "fig.colorbar(cax)\n",
    "ax.set_xticklabels([''] + labels)\n",
    "ax.set_yticklabels([''] + labels)\n",
    "plt.xlabel('Predicted')\n",
    "plt.ylabel('True')\n",
    "plt.show()"
   ]
  },
  {
   "cell_type": "code",
   "execution_count": 216,
   "metadata": {},
   "outputs": [
    {
     "name": "stdout",
     "output_type": "stream",
     "text": [
      "[[888 124]\n",
      " [158 237]]\n"
     ]
    }
   ],
   "source": [
    "print(pl)"
   ]
  },
  {
   "cell_type": "code",
   "execution_count": 217,
   "metadata": {},
   "outputs": [
    {
     "name": "stdout",
     "output_type": "stream",
     "text": [
      "0.7387351778656127 0.7995735607675906\n"
     ]
    }
   ],
   "source": [
    "auc_kmeans = roc_auc_score(y_test, y_pred)\n",
    "acc_kmeans = accuracy_score(y_test,y_pred)\n",
    "print(auc_kmeans, acc_kmeans)"
   ]
  },
  {
   "cell_type": "markdown",
   "metadata": {},
   "source": [
    "As we can see, this model is alright, but we can likely do better with a different model. "
   ]
  },
  {
   "cell_type": "markdown",
   "metadata": {},
   "source": [
    "#### Ridge Classifier"
   ]
  },
  {
   "cell_type": "code",
   "execution_count": 218,
   "metadata": {},
   "outputs": [
    {
     "data": {
      "text/plain": [
       "{'alpha': 0.7}"
      ]
     },
     "execution_count": 218,
     "metadata": {},
     "output_type": "execute_result"
    }
   ],
   "source": [
    "from sklearn.model_selection import RepeatedStratifiedKFold\n",
    "\n",
    "ridge = RidgeClassifier()\n",
    "\n",
    "alphas = [0.1, 0.2, 0.3, 0.4, 0.5, 0.6, 0.7, 0.8, 0.9, 1.0]\n",
    "\n",
    "param_grid = dict(alpha=alphas)\n",
    "\n",
    "cv = RepeatedStratifiedKFold(n_splits=10, n_repeats=3, random_state=1)\n",
    "\n",
    "grid = GridSearchCV(ridge, param_grid, n_jobs=-1, cv=cv, scoring='accuracy',error_score=0)\n",
    "\n",
    "search = grid.fit(X_train, y_train)\n",
    "\n",
    "search.best_params_"
   ]
  },
  {
   "cell_type": "code",
   "execution_count": 219,
   "metadata": {},
   "outputs": [
    {
     "data": {
      "text/plain": [
       "RidgeClassifier(alpha=0.7)"
      ]
     },
     "execution_count": 219,
     "metadata": {},
     "output_type": "execute_result"
    }
   ],
   "source": [
    "ridge = RidgeClassifier(alpha=0.7)\n",
    "\n",
    "ridge.fit(X_train, y_train)"
   ]
  },
  {
   "cell_type": "code",
   "execution_count": 220,
   "metadata": {},
   "outputs": [
    {
     "data": {
      "image/png": "[encoded data removed]",
      "text/plain": [
       "<Figure size 432x288 with 2 Axes>"
      ]
     },
     "metadata": {
      "needs_background": "light"
     },
     "output_type": "display_data"
    }
   ],
   "source": [
    "y_pred = ridge.predict(X_test)\n",
    "\n",
    "pl = confusion_matrix(y_test,y_pred)\n",
    "\n",
    "labels = ['Churn', 'Remain']\n",
    "\n",
    "\n",
    "fig = plt.figure()\n",
    "ax = fig.add_subplot(111)\n",
    "cax = ax.matshow(pl)\n",
    "plt.title('Confusion matrix of the classifier')\n",
    "fig.colorbar(cax)\n",
    "ax.set_xticklabels([''] + labels)\n",
    "ax.set_yticklabels([''] + labels)\n",
    "plt.xlabel('Predicted')\n",
    "plt.ylabel('True')\n",
    "plt.show()"
   ]
  },
  {
   "cell_type": "code",
   "execution_count": 221,
   "metadata": {},
   "outputs": [
    {
     "name": "stdout",
     "output_type": "stream",
     "text": [
      "0.7295066793415721 0.8073916133617626\n"
     ]
    }
   ],
   "source": [
    "auc_ridge = roc_auc_score(y_test, y_pred)\n",
    "acc_ridge = accuracy_score(y_test,y_pred)\n",
    "print(auc_ridge, acc_ridge)"
   ]
  },
  {
   "cell_type": "markdown",
   "metadata": {},
   "source": [
    "#### SVC"
   ]
  },
  {
   "cell_type": "code",
   "execution_count": 222,
   "metadata": {},
   "outputs": [
    {
     "name": "stdout",
     "output_type": "stream",
     "text": [
      "{'C': 0.1, 'gamma': 'scale', 'kernel': 'sigmoid'}\n"
     ]
    }
   ],
   "source": [
    "svc = SVC()\n",
    "\n",
    "kernel = ['poly', 'rbf', 'sigmoid']\n",
    "C = [50, 10, 1.0, 0.1, 0.01]\n",
    "gamma = ['scale']\n",
    "# define grid search\n",
    "grid = dict(kernel=kernel,C=C,gamma=gamma)\n",
    "cv = RepeatedStratifiedKFold(n_splits=10, n_repeats=3, random_state=1)\n",
    "grid_search = GridSearchCV(estimator=svc, param_grid=grid, n_jobs=-1, cv=cv, scoring='accuracy',error_score=0)\n",
    "grid_result = grid_search.fit(X_train, y_train)\n",
    "\n",
    "print(grid_result.best_params_)"
   ]
  },
  {
   "cell_type": "code",
   "execution_count": 223,
   "metadata": {},
   "outputs": [
    {
     "data": {
      "text/plain": [
       "SVC(C=0.1, kernel='sigmoid')"
      ]
     },
     "execution_count": 223,
     "metadata": {},
     "output_type": "execute_result"
    }
   ],
   "source": [
    "svc = SVC(C=0.1, gamma='scale', kernel='sigmoid')\n",
    "\n",
    "svc.fit(X_train, y_train)"
   ]
  },
  {
   "cell_type": "code",
   "execution_count": 224,
   "metadata": {},
   "outputs": [
    {
     "data": {
      "image/png": "[encoded data removed]",
      "text/plain": [
       "<Figure size 432x288 with 2 Axes>"
      ]
     },
     "metadata": {
      "needs_background": "light"
     },
     "output_type": "display_data"
    }
   ],
   "source": [
    "y_pred = svc.predict(X_test)\n",
    "\n",
    "pl = confusion_matrix(y_test,y_pred)\n",
    "\n",
    "labels = ['Churn', 'Remain']\n",
    "\n",
    "\n",
    "fig = plt.figure()\n",
    "ax = fig.add_subplot(111)\n",
    "cax = ax.matshow(pl)\n",
    "plt.title('Confusion matrix of the classifier')\n",
    "fig.colorbar(cax)\n",
    "ax.set_xticklabels([''] + labels)\n",
    "ax.set_yticklabels([''] + labels)\n",
    "plt.xlabel('Predicted')\n",
    "plt.ylabel('True')\n",
    "plt.show()"
   ]
  },
  {
   "cell_type": "code",
   "execution_count": 225,
   "metadata": {},
   "outputs": [
    {
     "name": "stdout",
     "output_type": "stream",
     "text": [
      "0.7313891529494171 0.8045486851457001\n"
     ]
    }
   ],
   "source": [
    "auc_svc = roc_auc_score(y_test, y_pred)\n",
    "acc_svc = accuracy_score(y_test,y_pred)\n",
    "print(auc_svc, acc_svc)"
   ]
  },
  {
   "cell_type": "markdown",
   "metadata": {},
   "source": [
    "## Deep learning modeling using Keras"
   ]
  },
  {
   "cell_type": "code",
   "execution_count": 226,
   "metadata": {},
   "outputs": [],
   "source": [
    "from keras.layers import Dense\n",
    "from keras.models import Sequential\n",
    "from IPython.display import SVG\n",
    "from keras.optimizers import Adam\n",
    "from keras import regularizers\n",
    "from keras.utils.vis_utils import model_to_dot\n",
    "from keras import losses\n",
    "#import pydot\n",
    "from keras.utils.vis_utils import plot_model"
   ]
  },
  {
   "cell_type": "code",
   "execution_count": 276,
   "metadata": {},
   "outputs": [
    {
     "name": "stdout",
     "output_type": "stream",
     "text": [
      "Model: \"sequential_14\"\n",
      "_________________________________________________________________\n",
      "Layer (type)                 Output Shape              Param #   \n",
      "=================================================================\n",
      "dense_58 (Dense)             (None, 64)                1984      \n",
      "_________________________________________________________________\n",
      "dense_59 (Dense)             (None, 32)                2080      \n",
      "_________________________________________________________________\n",
      "dense_60 (Dense)             (None, 16)                528       \n",
      "_________________________________________________________________\n",
      "dense_61 (Dense)             (None, 8)                 136       \n",
      "_________________________________________________________________\n",
      "dense_62 (Dense)             (None, 1)                 9         \n",
      "=================================================================\n",
      "Total params: 4,737\n",
      "Trainable params: 4,737\n",
      "Non-trainable params: 0\n",
      "_________________________________________________________________\n"
     ]
    },
    {
     "data": {
      "image/svg+xml": [
       "<svg xmlns=\"http://www.w3.org/2000/svg\" xmlns:xlink=\"http://www.w3.org/1999/xlink\" width=\"241pt\" height=\"547pt\" viewBox=\"0.00 0.00 181.00 410.00\">\n",
       "<g id=\"graph0\" class=\"graph\" transform=\"scale(1.33333 1.33333) rotate(0) translate(4 406)\">\n",
       "<title>G</title>\n",
       "<polygon fill=\"white\" stroke=\"none\" points=\"-4,4 -4,-406 177,-406 177,4 -4,4\"/>\n",
       "<!-- 2058732119472 -->\n",
       "<g id=\"node1\" class=\"node\"><title>2058732119472</title>\n",
       "<polygon fill=\"none\" stroke=\"black\" points=\"0,-365.5 0,-401.5 173,-401.5 173,-365.5 0,-365.5\"/>\n",
       "<text text-anchor=\"middle\" x=\"86.5\" y=\"-379.8\" font-family=\"Times New Roman,serif\" font-size=\"14.00\">dense_58_input: InputLayer</text>\n",
       "</g>\n",
       "<!-- 2058705813120 -->\n",
       "<g id=\"node2\" class=\"node\"><title>2058705813120</title>\n",
       "<polygon fill=\"none\" stroke=\"black\" points=\"31,-292.5 31,-328.5 142,-328.5 142,-292.5 31,-292.5\"/>\n",
       "<text text-anchor=\"middle\" x=\"86.5\" y=\"-306.8\" font-family=\"Times New Roman,serif\" font-size=\"14.00\">dense_58: Dense</text>\n",
       "</g>\n",
       "<!-- 2058732119472&#45;&gt;2058705813120 -->\n",
       "<g id=\"edge1\" class=\"edge\"><title>2058732119472-&gt;2058705813120</title>\n",
       "<path fill=\"none\" stroke=\"black\" d=\"M86.5,-365.313C86.5,-357.289 86.5,-347.547 86.5,-338.569\"/>\n",
       "<polygon fill=\"black\" stroke=\"black\" points=\"90.0001,-338.529 86.5,-328.529 83.0001,-338.529 90.0001,-338.529\"/>\n",
       "</g>\n",
       "<!-- 2058674223760 -->\n",
       "<g id=\"node3\" class=\"node\"><title>2058674223760</title>\n",
       "<polygon fill=\"none\" stroke=\"black\" points=\"31,-219.5 31,-255.5 142,-255.5 142,-219.5 31,-219.5\"/>\n",
       "<text text-anchor=\"middle\" x=\"86.5\" y=\"-233.8\" font-family=\"Times New Roman,serif\" font-size=\"14.00\">dense_59: Dense</text>\n",
       "</g>\n",
       "<!-- 2058705813120&#45;&gt;2058674223760 -->\n",
       "<g id=\"edge2\" class=\"edge\"><title>2058705813120-&gt;2058674223760</title>\n",
       "<path fill=\"none\" stroke=\"black\" d=\"M86.5,-292.313C86.5,-284.289 86.5,-274.547 86.5,-265.569\"/>\n",
       "<polygon fill=\"black\" stroke=\"black\" points=\"90.0001,-265.529 86.5,-255.529 83.0001,-265.529 90.0001,-265.529\"/>\n",
       "</g>\n",
       "<!-- 2058732118560 -->\n",
       "<g id=\"node4\" class=\"node\"><title>2058732118560</title>\n",
       "<polygon fill=\"none\" stroke=\"black\" points=\"31,-146.5 31,-182.5 142,-182.5 142,-146.5 31,-146.5\"/>\n",
       "<text text-anchor=\"middle\" x=\"86.5\" y=\"-160.8\" font-family=\"Times New Roman,serif\" font-size=\"14.00\">dense_60: Dense</text>\n",
       "</g>\n",
       "<!-- 2058674223760&#45;&gt;2058732118560 -->\n",
       "<g id=\"edge3\" class=\"edge\"><title>2058674223760-&gt;2058732118560</title>\n",
       "<path fill=\"none\" stroke=\"black\" d=\"M86.5,-219.313C86.5,-211.289 86.5,-201.547 86.5,-192.569\"/>\n",
       "<polygon fill=\"black\" stroke=\"black\" points=\"90.0001,-192.529 86.5,-182.529 83.0001,-192.529 90.0001,-192.529\"/>\n",
       "</g>\n",
       "<!-- 2058733342288 -->\n",
       "<g id=\"node5\" class=\"node\"><title>2058733342288</title>\n",
       "<polygon fill=\"none\" stroke=\"black\" points=\"31,-73.5 31,-109.5 142,-109.5 142,-73.5 31,-73.5\"/>\n",
       "<text text-anchor=\"middle\" x=\"86.5\" y=\"-87.8\" font-family=\"Times New Roman,serif\" font-size=\"14.00\">dense_61: Dense</text>\n",
       "</g>\n",
       "<!-- 2058732118560&#45;&gt;2058733342288 -->\n",
       "<g id=\"edge4\" class=\"edge\"><title>2058732118560-&gt;2058733342288</title>\n",
       "<path fill=\"none\" stroke=\"black\" d=\"M86.5,-146.313C86.5,-138.289 86.5,-128.547 86.5,-119.569\"/>\n",
       "<polygon fill=\"black\" stroke=\"black\" points=\"90.0001,-119.529 86.5,-109.529 83.0001,-119.529 90.0001,-119.529\"/>\n",
       "</g>\n",
       "<!-- 2058733448832 -->\n",
       "<g id=\"node6\" class=\"node\"><title>2058733448832</title>\n",
       "<polygon fill=\"none\" stroke=\"black\" points=\"31,-0.5 31,-36.5 142,-36.5 142,-0.5 31,-0.5\"/>\n",
       "<text text-anchor=\"middle\" x=\"86.5\" y=\"-14.8\" font-family=\"Times New Roman,serif\" font-size=\"14.00\">dense_62: Dense</text>\n",
       "</g>\n",
       "<!-- 2058733342288&#45;&gt;2058733448832 -->\n",
       "<g id=\"edge5\" class=\"edge\"><title>2058733342288-&gt;2058733448832</title>\n",
       "<path fill=\"none\" stroke=\"black\" d=\"M86.5,-73.3129C86.5,-65.2895 86.5,-55.5475 86.5,-46.5691\"/>\n",
       "<polygon fill=\"black\" stroke=\"black\" points=\"90.0001,-46.5288 86.5,-36.5288 83.0001,-46.5289 90.0001,-46.5288\"/>\n",
       "</g>\n",
       "</g>\n",
       "</svg>"
      ],
      "text/plain": [
       "<IPython.core.display.SVG object>"
      ]
     },
     "execution_count": 276,
     "metadata": {},
     "output_type": "execute_result"
    }
   ],
   "source": [
    "n_cols=X_train.shape[1]\n",
    "model = Sequential()\n",
    "model.add(Dense(64, input_shape=(n_cols,), activation='relu'))\n",
    "model.add(Dense(32, activation='relu'))\n",
    "model.add(Dense(16, activation='relu'))\n",
    "model.add(Dense(8, activation='relu'))\n",
    "model.add(Dense(1, activation='sigmoid'))\n",
    "\n",
    "model.compile(loss='binary_crossentropy', optimizer='adam')\n",
    "model.summary()\n",
    "\n",
    "#plot the a graph\n",
    "SVG(model_to_dot(model).create(prog='dot', format='svg'))"
   ]
  },
  {
   "cell_type": "code",
   "execution_count": 277,
   "metadata": {},
   "outputs": [
    {
     "name": "stdout",
     "output_type": "stream",
     "text": [
      "176/176 [==============================] - 0s 2ms/step - loss: 0.4634\n",
      "Area under curve :  0.8514209236003403 \n",
      "\n"
     ]
    }
   ],
   "source": [
    "model.fit(X_train, y_train)\n",
    "predictions   = model.predict(X_test)\n",
    "probabilities = model.predict_proba(X_test)\n",
    "\n",
    "model_roc_auc = roc_auc_score(y_test,predictions) \n",
    "print (\"Area under curve : \",model_roc_auc,\"\\n\")\n",
    "fpr,tpr,thresholds = roc_curve(y_test,probabilities)"
   ]
  },
  {
   "cell_type": "code",
   "execution_count": 278,
   "metadata": {},
   "outputs": [],
   "source": [
    "import plotly.graph_objects as go\n",
    "#plot roc curve\n",
    "trace2 = go.Scatter(x = fpr,y = tpr,\n",
    "                        name = \"Roc : \" + str(model_roc_auc),\n",
    "                        line = dict(color = ('rgb(22, 96, 167)'),width = 2))\n",
    "trace3 = go.Scatter(x = [0,1],y=[0,1],\n",
    "                        line = dict(color = ('rgb(205, 12, 24)'),width = 2,\n",
    "                        dash = 'dot'))\n"
   ]
  },
  {
   "cell_type": "code",
   "execution_count": 279,
   "metadata": {},
   "outputs": [
    {
     "data": {
      "application/vnd.plotly.v1+json": {
       "config": {
        "linkText": "Export to plot.ly",
        "plotlyServerURL": "https://plot.ly",
        "showLink": false
       },
       "data": [
        {
         "line": {
          "color": "rgb(22, 96, 167)",
          "width": 2
         },
         "name": "Roc : 0.8514209236003403",
         "type": "scatter",
         "x": [
          0,
          0,
          0.0009881422924901185,
          0.0009881422924901185,
          0.0029644268774703555,
          0.0029644268774703555,
          0.003952569169960474,
          0.003952569169960474,
          0.004940711462450593,
          0.004940711462450593,
          0.005928853754940711,
          0.005928853754940711,
          0.00691699604743083,
          0.00691699604743083,
          0.007905138339920948,
          0.007905138339920948,
          0.008893280632411068,
          0.008893280632411068,
          0.009881422924901186,
          0.009881422924901186,
          0.010869565217391304,
          0.010869565217391304,
          0.012845849802371542,
          0.012845849802371542,
          0.01383399209486166,
          0.01383399209486166,
          0.014822134387351778,
          0.014822134387351778,
          0.015810276679841896,
          0.015810276679841896,
          0.016798418972332016,
          0.016798418972332016,
          0.017786561264822136,
          0.017786561264822136,
          0.018774703557312252,
          0.018774703557312252,
          0.020750988142292492,
          0.020750988142292492,
          0.021739130434782608,
          0.021739130434782608,
          0.022727272727272728,
          0.022727272727272728,
          0.023715415019762844,
          0.023715415019762844,
          0.024703557312252964,
          0.024703557312252964,
          0.0266798418972332,
          0.0266798418972332,
          0.02865612648221344,
          0.02865612648221344,
          0.03260869565217391,
          0.03260869565217391,
          0.03359683794466403,
          0.03359683794466403,
          0.03557312252964427,
          0.03557312252964427,
          0.036561264822134384,
          0.036561264822134384,
          0.038537549407114624,
          0.038537549407114624,
          0.040513833992094864,
          0.040513833992094864,
          0.041501976284584984,
          0.041501976284584984,
          0.042490118577075096,
          0.042490118577075096,
          0.043478260869565216,
          0.043478260869565216,
          0.044466403162055336,
          0.044466403162055336,
          0.045454545454545456,
          0.045454545454545456,
          0.04743083003952569,
          0.04743083003952569,
          0.04841897233201581,
          0.04841897233201581,
          0.04940711462450593,
          0.04940711462450593,
          0.05237154150197629,
          0.05237154150197629,
          0.0533596837944664,
          0.0533596837944664,
          0.05533596837944664,
          0.05533596837944664,
          0.05632411067193676,
          0.05632411067193676,
          0.05731225296442688,
          0.05731225296442688,
          0.06027667984189723,
          0.06027667984189723,
          0.06126482213438735,
          0.06126482213438735,
          0.06324110671936758,
          0.06324110671936758,
          0.06422924901185771,
          0.06422924901185771,
          0.06818181818181818,
          0.06818181818181818,
          0.07312252964426877,
          0.07312252964426877,
          0.0741106719367589,
          0.0741106719367589,
          0.07509881422924901,
          0.07509881422924901,
          0.07806324110671936,
          0.07806324110671936,
          0.0800395256916996,
          0.0800395256916996,
          0.08102766798418973,
          0.08102766798418973,
          0.08596837944664032,
          0.08596837944664032,
          0.08695652173913043,
          0.08695652173913043,
          0.08893280632411067,
          0.08893280632411067,
          0.08992094861660078,
          0.08992094861660078,
          0.09189723320158102,
          0.09189723320158102,
          0.09288537549407115,
          0.09288537549407115,
          0.09486166007905138,
          0.09486166007905138,
          0.09782608695652174,
          0.09782608695652174,
          0.09881422924901186,
          0.09881422924901186,
          0.10375494071146245,
          0.10375494071146245,
          0.10770750988142293,
          0.10770750988142293,
          0.10869565217391304,
          0.10869565217391304,
          0.11166007905138339,
          0.11166007905138339,
          0.11264822134387352,
          0.11264822134387352,
          0.11561264822134387,
          0.11561264822134387,
          0.12055335968379446,
          0.12055335968379446,
          0.12450592885375494,
          0.12450592885375494,
          0.12549407114624506,
          0.12549407114624506,
          0.12648221343873517,
          0.12648221343873517,
          0.1274703557312253,
          0.1274703557312253,
          0.1324110671936759,
          0.1324110671936759,
          0.13339920948616601,
          0.13339920948616601,
          0.13438735177865613,
          0.13438735177865613,
          0.13932806324110672,
          0.13932806324110672,
          0.14130434782608695,
          0.14130434782608695,
          0.1422924901185771,
          0.1422924901185771,
          0.14525691699604742,
          0.14525691699604742,
          0.14624505928853754,
          0.14624505928853754,
          0.14723320158102768,
          0.14723320158102768,
          0.15019762845849802,
          0.15019762845849802,
          0.15217391304347827,
          0.15217391304347827,
          0.1541501976284585,
          0.1541501976284585,
          0.1551383399209486,
          0.1551383399209486,
          0.15612648221343872,
          0.15612648221343872,
          0.15810276679841898,
          0.15810276679841898,
          0.16403162055335968,
          0.16403162055335968,
          0.16600790513833993,
          0.16600790513833993,
          0.16798418972332016,
          0.16798418972332016,
          0.17094861660079053,
          0.17094861660079053,
          0.17193675889328064,
          0.17193675889328064,
          0.17292490118577075,
          0.17292490118577075,
          0.17490118577075098,
          0.17490118577075098,
          0.17687747035573123,
          0.17687747035573123,
          0.17786561264822134,
          0.17786561264822134,
          0.18280632411067194,
          0.18280632411067194,
          0.18379446640316205,
          0.18379446640316205,
          0.18478260869565216,
          0.18478260869565216,
          0.18675889328063242,
          0.18675889328063242,
          0.18774703557312253,
          0.18774703557312253,
          0.18972332015810275,
          0.18972332015810275,
          0.19466403162055335,
          0.19466403162055335,
          0.1976284584980237,
          0.1976284584980237,
          0.19960474308300397,
          0.19960474308300397,
          0.21442687747035574,
          0.21442687747035574,
          0.21541501976284586,
          0.21541501976284586,
          0.21739130434782608,
          0.21739130434782608,
          0.21936758893280633,
          0.21936758893280633,
          0.22430830039525693,
          0.22430830039525693,
          0.22628458498023715,
          0.22628458498023715,
          0.22826086956521738,
          0.22826086956521738,
          0.23122529644268774,
          0.23122529644268774,
          0.23616600790513834,
          0.23616600790513834,
          0.2391304347826087,
          0.2391304347826087,
          0.24011857707509882,
          0.24011857707509882,
          0.24209486166007904,
          0.24209486166007904,
          0.25395256916996045,
          0.25395256916996045,
          0.25889328063241107,
          0.25889328063241107,
          0.2598814229249012,
          0.2598814229249012,
          0.2618577075098814,
          0.2618577075098814,
          0.2628458498023715,
          0.2628458498023715,
          0.2727272727272727,
          0.2727272727272727,
          0.2756916996047431,
          0.2756916996047431,
          0.2865612648221344,
          0.2865612648221344,
          0.2885375494071146,
          0.2885375494071146,
          0.28952569169960474,
          0.28952569169960474,
          0.29051383399209485,
          0.29051383399209485,
          0.2924901185770751,
          0.2924901185770751,
          0.29347826086956524,
          0.29347826086956524,
          0.30138339920948615,
          0.30138339920948615,
          0.3092885375494071,
          0.3092885375494071,
          0.3142292490118577,
          0.3142292490118577,
          0.31521739130434784,
          0.31521739130434784,
          0.31719367588932806,
          0.31719367588932806,
          0.3201581027667984,
          0.3201581027667984,
          0.3231225296442688,
          0.3231225296442688,
          0.32707509881422925,
          0.32707509881422925,
          0.3310276679841897,
          0.3310276679841897,
          0.33201581027667987,
          0.33201581027667987,
          0.3349802371541502,
          0.3349802371541502,
          0.3359683794466403,
          0.3359683794466403,
          0.3448616600790514,
          0.3448616600790514,
          0.34782608695652173,
          0.34782608695652173,
          0.3567193675889328,
          0.3567193675889328,
          0.35968379446640314,
          0.35968379446640314,
          0.3606719367588933,
          0.3606719367588933,
          0.36264822134387353,
          0.36264822134387353,
          0.36462450592885376,
          0.36462450592885376,
          0.3804347826086957,
          0.3804347826086957,
          0.3814229249011858,
          0.3814229249011858,
          0.3883399209486166,
          0.3883399209486166,
          0.41798418972332013,
          0.41798418972332013,
          0.4209486166007905,
          0.4209486166007905,
          0.4268774703557312,
          0.4268774703557312,
          0.4278656126482213,
          0.4278656126482213,
          0.4298418972332016,
          0.4298418972332016,
          0.43478260869565216,
          0.43478260869565216,
          0.43873517786561267,
          0.43873517786561267,
          0.4575098814229249,
          0.4575098814229249,
          0.47134387351778656,
          0.47134387351778656,
          0.4782608695652174,
          0.4782608695652174,
          0.48023715415019763,
          0.48023715415019763,
          0.4901185770750988,
          0.4901185770750988,
          0.49308300395256915,
          0.49308300395256915,
          0.4950592885375494,
          0.4950592885375494,
          0.5029644268774703,
          0.5029644268774703,
          0.5069169960474308,
          0.5069169960474308,
          0.5177865612648221,
          0.5177865612648221,
          0.5187747035573123,
          0.5187747035573123,
          0.5523715415019763,
          0.5523715415019763,
          0.5533596837944664,
          0.5533596837944664,
          0.5652173913043478,
          0.5652173913043478,
          0.5681818181818182,
          0.5681818181818182,
          0.5701581027667985,
          0.5701581027667985,
          0.5790513833992095,
          0.5790513833992095,
          0.5849802371541502,
          0.5849802371541502,
          0.5968379446640316,
          0.5968379446640316,
          0.6027667984189723,
          0.6027667984189723,
          0.724308300395257,
          0.724308300395257,
          0.7262845849802372,
          0.7262845849802372,
          0.808300395256917,
          0.808300395256917,
          0.8517786561264822,
          0.8517786561264822,
          0.8863636363636364,
          0.8863636363636364,
          0.9051383399209486,
          0.9051383399209486,
          1
         ],
         "xaxis": "x2",
         "y": [
          0,
          0.002531645569620253,
          0.002531645569620253,
          0.0379746835443038,
          0.0379746835443038,
          0.05063291139240506,
          0.05063291139240506,
          0.06835443037974684,
          0.06835443037974684,
          0.11139240506329114,
          0.11139240506329114,
          0.11645569620253164,
          0.11645569620253164,
          0.1240506329113924,
          0.1240506329113924,
          0.1291139240506329,
          0.1291139240506329,
          0.13670886075949368,
          0.13670886075949368,
          0.14430379746835442,
          0.14430379746835442,
          0.1518987341772152,
          0.1518987341772152,
          0.1670886075949367,
          0.1670886075949367,
          0.17721518987341772,
          0.17721518987341772,
          0.21265822784810126,
          0.21265822784810126,
          0.21518987341772153,
          0.21518987341772153,
          0.21772151898734177,
          0.21772151898734177,
          0.22025316455696203,
          0.22025316455696203,
          0.23037974683544304,
          0.23037974683544304,
          0.24050632911392406,
          0.24050632911392406,
          0.2430379746835443,
          0.2430379746835443,
          0.24556962025316456,
          0.24556962025316456,
          0.2683544303797468,
          0.2683544303797468,
          0.28354430379746837,
          0.28354430379746837,
          0.29620253164556964,
          0.29620253164556964,
          0.29873417721518986,
          0.29873417721518986,
          0.3012658227848101,
          0.3012658227848101,
          0.3139240506329114,
          0.3139240506329114,
          0.32151898734177214,
          0.32151898734177214,
          0.3265822784810127,
          0.3265822784810127,
          0.3291139240506329,
          0.3291139240506329,
          0.3341772151898734,
          0.3341772151898734,
          0.3392405063291139,
          0.3392405063291139,
          0.3493670886075949,
          0.3493670886075949,
          0.3518987341772152,
          0.3518987341772152,
          0.37468354430379747,
          0.37468354430379747,
          0.37721518987341773,
          0.37721518987341773,
          0.389873417721519,
          0.389873417721519,
          0.3949367088607595,
          0.3949367088607595,
          0.40253164556962023,
          0.40253164556962023,
          0.42278481012658226,
          0.42278481012658226,
          0.4253164556962025,
          0.4253164556962025,
          0.43291139240506327,
          0.43291139240506327,
          0.44050632911392407,
          0.44050632911392407,
          0.44556962025316454,
          0.44556962025316454,
          0.4531645569620253,
          0.4531645569620253,
          0.45569620253164556,
          0.45569620253164556,
          0.46582278481012657,
          0.46582278481012657,
          0.4708860759493671,
          0.4708860759493671,
          0.47848101265822784,
          0.47848101265822784,
          0.4810126582278481,
          0.4810126582278481,
          0.48860759493670886,
          0.48860759493670886,
          0.4936708860759494,
          0.4936708860759494,
          0.4962025316455696,
          0.4962025316455696,
          0.49873417721518987,
          0.49873417721518987,
          0.5088607594936709,
          0.5088607594936709,
          0.5139240506329114,
          0.5139240506329114,
          0.5164556962025316,
          0.5164556962025316,
          0.5189873417721519,
          0.5189873417721519,
          0.5215189873417722,
          0.5215189873417722,
          0.5240506329113924,
          0.5240506329113924,
          0.5265822784810127,
          0.5265822784810127,
          0.5316455696202531,
          0.5316455696202531,
          0.549367088607595,
          0.549367088607595,
          0.5518987341772152,
          0.5518987341772152,
          0.5569620253164557,
          0.5569620253164557,
          0.5670886075949367,
          0.5670886075949367,
          0.569620253164557,
          0.569620253164557,
          0.5772151898734177,
          0.5772151898734177,
          0.579746835443038,
          0.579746835443038,
          0.5873417721518988,
          0.5873417721518988,
          0.5949367088607594,
          0.5949367088607594,
          0.5974683544303797,
          0.5974683544303797,
          0.6,
          0.6,
          0.6050632911392405,
          0.6050632911392405,
          0.6075949367088608,
          0.6075949367088608,
          0.6151898734177215,
          0.6151898734177215,
          0.6177215189873417,
          0.6177215189873417,
          0.6227848101265823,
          0.6227848101265823,
          0.6253164556962025,
          0.6253164556962025,
          0.6278481012658228,
          0.6278481012658228,
          0.6303797468354431,
          0.6303797468354431,
          0.6354430379746835,
          0.6354430379746835,
          0.640506329113924,
          0.640506329113924,
          0.6430379746835443,
          0.6430379746835443,
          0.6455696202531646,
          0.6455696202531646,
          0.6481012658227848,
          0.6481012658227848,
          0.6506329113924051,
          0.6506329113924051,
          0.6531645569620254,
          0.6531645569620254,
          0.6658227848101266,
          0.6658227848101266,
          0.6708860759493671,
          0.6708860759493671,
          0.6759493670886076,
          0.6759493670886076,
          0.6784810126582278,
          0.6784810126582278,
          0.6835443037974683,
          0.6835443037974683,
          0.6860759493670886,
          0.6860759493670886,
          0.6886075949367089,
          0.6886075949367089,
          0.6911392405063291,
          0.6911392405063291,
          0.6962025316455697,
          0.6962025316455697,
          0.7088607594936709,
          0.7088607594936709,
          0.7113924050632912,
          0.7113924050632912,
          0.7139240506329114,
          0.7139240506329114,
          0.7189873417721518,
          0.7189873417721518,
          0.7215189873417721,
          0.7215189873417721,
          0.7265822784810126,
          0.7265822784810126,
          0.7316455696202532,
          0.7316455696202532,
          0.7341772151898734,
          0.7341772151898734,
          0.7367088607594937,
          0.7367088607594937,
          0.739240506329114,
          0.739240506329114,
          0.7443037974683544,
          0.7443037974683544,
          0.7468354430379747,
          0.7468354430379747,
          0.7493670886075949,
          0.7493670886075949,
          0.7518987341772152,
          0.7518987341772152,
          0.7544303797468355,
          0.7544303797468355,
          0.7569620253164557,
          0.7569620253164557,
          0.7620253164556962,
          0.7620253164556962,
          0.7645569620253164,
          0.7645569620253164,
          0.7670886075949367,
          0.7670886075949367,
          0.7721518987341772,
          0.7721518987341772,
          0.7746835443037975,
          0.7746835443037975,
          0.7772151898734178,
          0.7772151898734178,
          0.7848101265822784,
          0.7848101265822784,
          0.7873417721518987,
          0.7873417721518987,
          0.7949367088607595,
          0.7949367088607595,
          0.7974683544303798,
          0.7974683544303798,
          0.8,
          0.8,
          0.8025316455696202,
          0.8025316455696202,
          0.8050632911392405,
          0.8050632911392405,
          0.8075949367088607,
          0.8075949367088607,
          0.810126582278481,
          0.810126582278481,
          0.8126582278481013,
          0.8126582278481013,
          0.8151898734177215,
          0.8151898734177215,
          0.8202531645569621,
          0.8202531645569621,
          0.8227848101265823,
          0.8227848101265823,
          0.830379746835443,
          0.830379746835443,
          0.8329113924050633,
          0.8329113924050633,
          0.8354430379746836,
          0.8354430379746836,
          0.8379746835443038,
          0.8379746835443038,
          0.8405063291139241,
          0.8405063291139241,
          0.8430379746835444,
          0.8430379746835444,
          0.8455696202531645,
          0.8455696202531645,
          0.8481012658227848,
          0.8481012658227848,
          0.850632911392405,
          0.850632911392405,
          0.8531645569620253,
          0.8531645569620253,
          0.8556962025316456,
          0.8556962025316456,
          0.8582278481012658,
          0.8582278481012658,
          0.8632911392405064,
          0.8632911392405064,
          0.8658227848101265,
          0.8658227848101265,
          0.8683544303797468,
          0.8683544303797468,
          0.8708860759493671,
          0.8708860759493671,
          0.8734177215189873,
          0.8734177215189873,
          0.8810126582278481,
          0.8810126582278481,
          0.8835443037974684,
          0.8835443037974684,
          0.8860759493670886,
          0.8860759493670886,
          0.8886075949367088,
          0.8886075949367088,
          0.8911392405063291,
          0.8911392405063291,
          0.8987341772151899,
          0.8987341772151899,
          0.9012658227848102,
          0.9012658227848102,
          0.9037974683544304,
          0.9037974683544304,
          0.9063291139240506,
          0.9063291139240506,
          0.9113924050632911,
          0.9113924050632911,
          0.9139240506329114,
          0.9139240506329114,
          0.9164556962025316,
          0.9164556962025316,
          0.9189873417721519,
          0.9189873417721519,
          0.9240506329113924,
          0.9240506329113924,
          0.9265822784810127,
          0.9265822784810127,
          0.9341772151898734,
          0.9341772151898734,
          0.9367088607594937,
          0.9367088607594937,
          0.9417721518987342,
          0.9417721518987342,
          0.9443037974683545,
          0.9443037974683545,
          0.9468354430379747,
          0.9468354430379747,
          0.9518987341772152,
          0.9518987341772152,
          0.9544303797468354,
          0.9544303797468354,
          0.9569620253164557,
          0.9569620253164557,
          0.959493670886076,
          0.959493670886076,
          0.9620253164556962,
          0.9620253164556962,
          0.9670886075949368,
          0.9670886075949368,
          0.9696202531645569,
          0.9696202531645569,
          0.9721518987341772,
          0.9721518987341772,
          0.9746835443037974,
          0.9746835443037974,
          0.9772151898734177,
          0.9772151898734177,
          0.979746835443038,
          0.979746835443038,
          0.9822784810126582,
          0.9822784810126582,
          0.9848101265822785,
          0.9848101265822785,
          0.9873417721518988,
          0.9873417721518988,
          0.9898734177215189,
          0.9898734177215189,
          0.9924050632911392,
          0.9924050632911392,
          0.9949367088607595,
          0.9949367088607595,
          0.9974683544303797,
          0.9974683544303797,
          1,
          1
         ],
         "yaxis": "y2"
        },
        {
         "line": {
          "color": "rgb(205, 12, 24)",
          "dash": "dot",
          "width": 2
         },
         "type": "scatter",
         "x": [
          0,
          1
         ],
         "xaxis": "x2",
         "y": [
          0,
          1
         ],
         "yaxis": "y2"
        }
       ],
       "layout": {
        "annotations": [
         {
          "font": {
           "size": 16
          },
          "showarrow": false,
          "text": "ROC",
          "x": 0.775,
          "xanchor": "center",
          "xref": "paper",
          "y": 1,
          "yanchor": "bottom",
          "yref": "paper"
         }
        ],
        "template": {
         "data": {
          "bar": [
           {
            "error_x": {
             "color": "#2a3f5f"
            },
            "error_y": {
             "color": "#2a3f5f"
            },
            "marker": {
             "line": {
              "color": "#E5ECF6",
              "width": 0.5
             }
            },
            "type": "bar"
           }
          ],
          "barpolar": [
           {
            "marker": {
             "line": {
              "color": "#E5ECF6",
              "width": 0.5
             }
            },
            "type": "barpolar"
           }
          ],
          "carpet": [
           {
            "aaxis": {
             "endlinecolor": "#2a3f5f",
             "gridcolor": "white",
             "linecolor": "white",
             "minorgridcolor": "white",
             "startlinecolor": "#2a3f5f"
            },
            "baxis": {
             "endlinecolor": "#2a3f5f",
             "gridcolor": "white",
             "linecolor": "white",
             "minorgridcolor": "white",
             "startlinecolor": "#2a3f5f"
            },
            "type": "carpet"
           }
          ],
          "choropleth": [
           {
            "colorbar": {
             "outlinewidth": 0,
             "ticks": ""
            },
            "type": "choropleth"
           }
          ],
          "contour": [
           {
            "colorbar": {
             "outlinewidth": 0,
             "ticks": ""
            },
            "colorscale": [
             [
              0,
              "#0d0887"
             ],
             [
              0.1111111111111111,
              "#46039f"
             ],
             [
              0.2222222222222222,
              "#7201a8"
             ],
             [
              0.3333333333333333,
              "#9c179e"
             ],
             [
              0.4444444444444444,
              "#bd3786"
             ],
             [
              0.5555555555555556,
              "#d8576b"
             ],
             [
              0.6666666666666666,
              "#ed7953"
             ],
             [
              0.7777777777777778,
              "#fb9f3a"
             ],
             [
              0.8888888888888888,
              "#fdca26"
             ],
             [
              1,
              "#f0f921"
             ]
            ],
            "type": "contour"
           }
          ],
          "contourcarpet": [
           {
            "colorbar": {
             "outlinewidth": 0,
             "ticks": ""
            },
            "type": "contourcarpet"
           }
          ],
          "heatmap": [
           {
            "colorbar": {
             "outlinewidth": 0,
             "ticks": ""
            },
            "colorscale": [
             [
              0,
              "#0d0887"
             ],
             [
              0.1111111111111111,
              "#46039f"
             ],
             [
              0.2222222222222222,
              "#7201a8"
             ],
             [
              0.3333333333333333,
              "#9c179e"
             ],
             [
              0.4444444444444444,
              "#bd3786"
             ],
             [
              0.5555555555555556,
              "#d8576b"
             ],
             [
              0.6666666666666666,
              "#ed7953"
             ],
             [
              0.7777777777777778,
              "#fb9f3a"
             ],
             [
              0.8888888888888888,
              "#fdca26"
             ],
             [
              1,
              "#f0f921"
             ]
            ],
            "type": "heatmap"
           }
          ],
          "heatmapgl": [
           {
            "colorbar": {
             "outlinewidth": 0,
             "ticks": ""
            },
            "colorscale": [
             [
              0,
              "#0d0887"
             ],
             [
              0.1111111111111111,
              "#46039f"
             ],
             [
              0.2222222222222222,
              "#7201a8"
             ],
             [
              0.3333333333333333,
              "#9c179e"
             ],
             [
              0.4444444444444444,
              "#bd3786"
             ],
             [
              0.5555555555555556,
              "#d8576b"
             ],
             [
              0.6666666666666666,
              "#ed7953"
             ],
             [
              0.7777777777777778,
              "#fb9f3a"
             ],
             [
              0.8888888888888888,
              "#fdca26"
             ],
             [
              1,
              "#f0f921"
             ]
            ],
            "type": "heatmapgl"
           }
          ],
          "histogram": [
           {
            "marker": {
             "colorbar": {
              "outlinewidth": 0,
              "ticks": ""
             }
            },
            "type": "histogram"
           }
          ],
          "histogram2d": [
           {
            "colorbar": {
             "outlinewidth": 0,
             "ticks": ""
            },
            "colorscale": [
             [
              0,
              "#0d0887"
             ],
             [
              0.1111111111111111,
              "#46039f"
             ],
             [
              0.2222222222222222,
              "#7201a8"
             ],
             [
              0.3333333333333333,
              "#9c179e"
             ],
             [
              0.4444444444444444,
              "#bd3786"
             ],
             [
              0.5555555555555556,
              "#d8576b"
             ],
             [
              0.6666666666666666,
              "#ed7953"
             ],
             [
              0.7777777777777778,
              "#fb9f3a"
             ],
             [
              0.8888888888888888,
              "#fdca26"
             ],
             [
              1,
              "#f0f921"
             ]
            ],
            "type": "histogram2d"
           }
          ],
          "histogram2dcontour": [
           {
            "colorbar": {
             "outlinewidth": 0,
             "ticks": ""
            },
            "colorscale": [
             [
              0,
              "#0d0887"
             ],
             [
              0.1111111111111111,
              "#46039f"
             ],
             [
              0.2222222222222222,
              "#7201a8"
             ],
             [
              0.3333333333333333,
              "#9c179e"
             ],
             [
              0.4444444444444444,
              "#bd3786"
             ],
             [
              0.5555555555555556,
              "#d8576b"
             ],
             [
              0.6666666666666666,
              "#ed7953"
             ],
             [
              0.7777777777777778,
              "#fb9f3a"
             ],
             [
              0.8888888888888888,
              "#fdca26"
             ],
             [
              1,
              "#f0f921"
             ]
            ],
            "type": "histogram2dcontour"
           }
          ],
          "mesh3d": [
           {
            "colorbar": {
             "outlinewidth": 0,
             "ticks": ""
            },
            "type": "mesh3d"
           }
          ],
          "parcoords": [
           {
            "line": {
             "colorbar": {
              "outlinewidth": 0,
              "ticks": ""
             }
            },
            "type": "parcoords"
           }
          ],
          "pie": [
           {
            "automargin": true,
            "type": "pie"
           }
          ],
          "scatter": [
           {
            "marker": {
             "colorbar": {
              "outlinewidth": 0,
              "ticks": ""
             }
            },
            "type": "scatter"
           }
          ],
          "scatter3d": [
           {
            "line": {
             "colorbar": {
              "outlinewidth": 0,
              "ticks": ""
             }
            },
            "marker": {
             "colorbar": {
              "outlinewidth": 0,
              "ticks": ""
             }
            },
            "type": "scatter3d"
           }
          ],
          "scattercarpet": [
           {
            "marker": {
             "colorbar": {
              "outlinewidth": 0,
              "ticks": ""
             }
            },
            "type": "scattercarpet"
           }
          ],
          "scattergeo": [
           {
            "marker": {
             "colorbar": {
              "outlinewidth": 0,
              "ticks": ""
             }
            },
            "type": "scattergeo"
           }
          ],
          "scattergl": [
           {
            "marker": {
             "colorbar": {
              "outlinewidth": 0,
              "ticks": ""
             }
            },
            "type": "scattergl"
           }
          ],
          "scattermapbox": [
           {
            "marker": {
             "colorbar": {
              "outlinewidth": 0,
              "ticks": ""
             }
            },
            "type": "scattermapbox"
           }
          ],
          "scatterpolar": [
           {
            "marker": {
             "colorbar": {
              "outlinewidth": 0,
              "ticks": ""
             }
            },
            "type": "scatterpolar"
           }
          ],
          "scatterpolargl": [
           {
            "marker": {
             "colorbar": {
              "outlinewidth": 0,
              "ticks": ""
             }
            },
            "type": "scatterpolargl"
           }
          ],
          "scatterternary": [
           {
            "marker": {
             "colorbar": {
              "outlinewidth": 0,
              "ticks": ""
             }
            },
            "type": "scatterternary"
           }
          ],
          "surface": [
           {
            "colorbar": {
             "outlinewidth": 0,
             "ticks": ""
            },
            "colorscale": [
             [
              0,
              "#0d0887"
             ],
             [
              0.1111111111111111,
              "#46039f"
             ],
             [
              0.2222222222222222,
              "#7201a8"
             ],
             [
              0.3333333333333333,
              "#9c179e"
             ],
             [
              0.4444444444444444,
              "#bd3786"
             ],
             [
              0.5555555555555556,
              "#d8576b"
             ],
             [
              0.6666666666666666,
              "#ed7953"
             ],
             [
              0.7777777777777778,
              "#fb9f3a"
             ],
             [
              0.8888888888888888,
              "#fdca26"
             ],
             [
              1,
              "#f0f921"
             ]
            ],
            "type": "surface"
           }
          ],
          "table": [
           {
            "cells": {
             "fill": {
              "color": "#EBF0F8"
             },
             "line": {
              "color": "white"
             }
            },
            "header": {
             "fill": {
              "color": "#C8D4E3"
             },
             "line": {
              "color": "white"
             }
            },
            "type": "table"
           }
          ]
         },
         "layout": {
          "annotationdefaults": {
           "arrowcolor": "#2a3f5f",
           "arrowhead": 0,
           "arrowwidth": 1
          },
          "coloraxis": {
           "colorbar": {
            "outlinewidth": 0,
            "ticks": ""
           }
          },
          "colorscale": {
           "diverging": [
            [
             0,
             "#8e0152"
            ],
            [
             0.1,
             "#c51b7d"
            ],
            [
             0.2,
             "#de77ae"
            ],
            [
             0.3,
             "#f1b6da"
            ],
            [
             0.4,
             "#fde0ef"
            ],
            [
             0.5,
             "#f7f7f7"
            ],
            [
             0.6,
             "#e6f5d0"
            ],
            [
             0.7,
             "#b8e186"
            ],
            [
             0.8,
             "#7fbc41"
            ],
            [
             0.9,
             "#4d9221"
            ],
            [
             1,
             "#276419"
            ]
           ],
           "sequential": [
            [
             0,
             "#0d0887"
            ],
            [
             0.1111111111111111,
             "#46039f"
            ],
            [
             0.2222222222222222,
             "#7201a8"
            ],
            [
             0.3333333333333333,
             "#9c179e"
            ],
            [
             0.4444444444444444,
             "#bd3786"
            ],
            [
             0.5555555555555556,
             "#d8576b"
            ],
            [
             0.6666666666666666,
             "#ed7953"
            ],
            [
             0.7777777777777778,
             "#fb9f3a"
            ],
            [
             0.8888888888888888,
             "#fdca26"
            ],
            [
             1,
             "#f0f921"
            ]
           ],
           "sequentialminus": [
            [
             0,
             "#0d0887"
            ],
            [
             0.1111111111111111,
             "#46039f"
            ],
            [
             0.2222222222222222,
             "#7201a8"
            ],
            [
             0.3333333333333333,
             "#9c179e"
            ],
            [
             0.4444444444444444,
             "#bd3786"
            ],
            [
             0.5555555555555556,
             "#d8576b"
            ],
            [
             0.6666666666666666,
             "#ed7953"
            ],
            [
             0.7777777777777778,
             "#fb9f3a"
            ],
            [
             0.8888888888888888,
             "#fdca26"
            ],
            [
             1,
             "#f0f921"
            ]
           ]
          },
          "colorway": [
           "#636efa",
           "#EF553B",
           "#00cc96",
           "#ab63fa",
           "#FFA15A",
           "#19d3f3",
           "#FF6692",
           "#B6E880",
           "#FF97FF",
           "#FECB52"
          ],
          "font": {
           "color": "#2a3f5f"
          },
          "geo": {
           "bgcolor": "white",
           "lakecolor": "white",
           "landcolor": "#E5ECF6",
           "showlakes": true,
           "showland": true,
           "subunitcolor": "white"
          },
          "hoverlabel": {
           "align": "left"
          },
          "hovermode": "closest",
          "mapbox": {
           "style": "light"
          },
          "paper_bgcolor": "white",
          "plot_bgcolor": "#E5ECF6",
          "polar": {
           "angularaxis": {
            "gridcolor": "white",
            "linecolor": "white",
            "ticks": ""
           },
           "bgcolor": "#E5ECF6",
           "radialaxis": {
            "gridcolor": "white",
            "linecolor": "white",
            "ticks": ""
           }
          },
          "scene": {
           "xaxis": {
            "backgroundcolor": "#E5ECF6",
            "gridcolor": "white",
            "gridwidth": 2,
            "linecolor": "white",
            "showbackground": true,
            "ticks": "",
            "zerolinecolor": "white"
           },
           "yaxis": {
            "backgroundcolor": "#E5ECF6",
            "gridcolor": "white",
            "gridwidth": 2,
            "linecolor": "white",
            "showbackground": true,
            "ticks": "",
            "zerolinecolor": "white"
           },
           "zaxis": {
            "backgroundcolor": "#E5ECF6",
            "gridcolor": "white",
            "gridwidth": 2,
            "linecolor": "white",
            "showbackground": true,
            "ticks": "",
            "zerolinecolor": "white"
           }
          },
          "shapedefaults": {
           "line": {
            "color": "#2a3f5f"
           }
          },
          "ternary": {
           "aaxis": {
            "gridcolor": "white",
            "linecolor": "white",
            "ticks": ""
           },
           "baxis": {
            "gridcolor": "white",
            "linecolor": "white",
            "ticks": ""
           },
           "bgcolor": "#E5ECF6",
           "caxis": {
            "gridcolor": "white",
            "linecolor": "white",
            "ticks": ""
           }
          },
          "title": {
           "x": 0.05
          },
          "xaxis": {
           "automargin": true,
           "gridcolor": "white",
           "linecolor": "white",
           "ticks": "",
           "title": {
            "standoff": 15
           },
           "zerolinecolor": "white",
           "zerolinewidth": 2
          },
          "yaxis": {
           "automargin": true,
           "gridcolor": "white",
           "linecolor": "white",
           "ticks": "",
           "title": {
            "standoff": 15
           },
           "zerolinecolor": "white",
           "zerolinewidth": 2
          }
         }
        },
        "xaxis": {
         "anchor": "y",
         "domain": [
          0,
          0.45
         ]
        },
        "xaxis2": {
         "anchor": "y2",
         "domain": [
          0.55,
          1
         ]
        },
        "xaxis3": {
         "anchor": "y3",
         "domain": [
          0,
          1
         ]
        },
        "yaxis": {
         "anchor": "x",
         "domain": [
          0.625,
          1
         ]
        },
        "yaxis2": {
         "anchor": "x2",
         "domain": [
          0.625,
          1
         ]
        },
        "yaxis3": {
         "anchor": "x3",
         "domain": [
          0,
          0.375
         ]
        }
       }
      },
      "text/html": [
       "<div>                            <div id=\"39fd6e58-4acc-4a3c-b6bf-4371551bdbca\" class=\"plotly-graph-div\" style=\"height:525px; width:100%;\"></div>            <script type=\"text/javascript\">                require([\"plotly\"], function(Plotly) {                    window.PLOTLYENV=window.PLOTLYENV || {};                                    if (document.getElementById(\"39fd6e58-4acc-4a3c-b6bf-4371551bdbca\")) {                    Plotly.newPlot(                        \"39fd6e58-4acc-4a3c-b6bf-4371551bdbca\",                        [{\"line\": {\"color\": \"rgb(22, 96, 167)\", \"width\": 2}, \"name\": \"Roc : 0.8514209236003403\", \"type\": \"scatter\", \"x\": [0.0, 0.0, 0.0009881422924901185, 0.0009881422924901185, 0.0029644268774703555, 0.0029644268774703555, 0.003952569169960474, 0.003952569169960474, 0.004940711462450593, 0.004940711462450593, 0.005928853754940711, 0.005928853754940711, 0.00691699604743083, 0.00691699604743083, 0.007905138339920948, 0.007905138339920948, 0.008893280632411068, 0.008893280632411068, 0.009881422924901186, 0.009881422924901186, 0.010869565217391304, 0.010869565217391304, 0.012845849802371542, 0.012845849802371542, 0.01383399209486166, 0.01383399209486166, 0.014822134387351778, 0.014822134387351778, 0.015810276679841896, 0.015810276679841896, 0.016798418972332016, 0.016798418972332016, 0.017786561264822136, 0.017786561264822136, 0.018774703557312252, 0.018774703557312252, 0.020750988142292492, 0.020750988142292492, 0.021739130434782608, 0.021739130434782608, 0.022727272727272728, 0.022727272727272728, 0.023715415019762844, 0.023715415019762844, 0.024703557312252964, 0.024703557312252964, 0.0266798418972332, 0.0266798418972332, 0.02865612648221344, 0.02865612648221344, 0.03260869565217391, 0.03260869565217391, 0.03359683794466403, 0.03359683794466403, 0.03557312252964427, 0.03557312252964427, 0.036561264822134384, 0.036561264822134384, 0.038537549407114624, 0.038537549407114624, 0.040513833992094864, 0.040513833992094864, 0.041501976284584984, 0.041501976284584984, 0.042490118577075096, 0.042490118577075096, 0.043478260869565216, 0.043478260869565216, 0.044466403162055336, 0.044466403162055336, 0.045454545454545456, 0.045454545454545456, 0.04743083003952569, 0.04743083003952569, 0.04841897233201581, 0.04841897233201581, 0.04940711462450593, 0.04940711462450593, 0.05237154150197629, 0.05237154150197629, 0.0533596837944664, 0.0533596837944664, 0.05533596837944664, 0.05533596837944664, 0.05632411067193676, 0.05632411067193676, 0.05731225296442688, 0.05731225296442688, 0.06027667984189723, 0.06027667984189723, 0.06126482213438735, 0.06126482213438735, 0.06324110671936758, 0.06324110671936758, 0.06422924901185771, 0.06422924901185771, 0.06818181818181818, 0.06818181818181818, 0.07312252964426877, 0.07312252964426877, 0.0741106719367589, 0.0741106719367589, 0.07509881422924901, 0.07509881422924901, 0.07806324110671936, 0.07806324110671936, 0.0800395256916996, 0.0800395256916996, 0.08102766798418973, 0.08102766798418973, 0.08596837944664032, 0.08596837944664032, 0.08695652173913043, 0.08695652173913043, 0.08893280632411067, 0.08893280632411067, 0.08992094861660078, 0.08992094861660078, 0.09189723320158102, 0.09189723320158102, 0.09288537549407115, 0.09288537549407115, 0.09486166007905138, 0.09486166007905138, 0.09782608695652174, 0.09782608695652174, 0.09881422924901186, 0.09881422924901186, 0.10375494071146245, 0.10375494071146245, 0.10770750988142293, 0.10770750988142293, 0.10869565217391304, 0.10869565217391304, 0.11166007905138339, 0.11166007905138339, 0.11264822134387352, 0.11264822134387352, 0.11561264822134387, 0.11561264822134387, 0.12055335968379446, 0.12055335968379446, 0.12450592885375494, 0.12450592885375494, 0.12549407114624506, 0.12549407114624506, 0.12648221343873517, 0.12648221343873517, 0.1274703557312253, 0.1274703557312253, 0.1324110671936759, 0.1324110671936759, 0.13339920948616601, 0.13339920948616601, 0.13438735177865613, 0.13438735177865613, 0.13932806324110672, 0.13932806324110672, 0.14130434782608695, 0.14130434782608695, 0.1422924901185771, 0.1422924901185771, 0.14525691699604742, 0.14525691699604742, 0.14624505928853754, 0.14624505928853754, 0.14723320158102768, 0.14723320158102768, 0.15019762845849802, 0.15019762845849802, 0.15217391304347827, 0.15217391304347827, 0.1541501976284585, 0.1541501976284585, 0.1551383399209486, 0.1551383399209486, 0.15612648221343872, 0.15612648221343872, 0.15810276679841898, 0.15810276679841898, 0.16403162055335968, 0.16403162055335968, 0.16600790513833993, 0.16600790513833993, 0.16798418972332016, 0.16798418972332016, 0.17094861660079053, 0.17094861660079053, 0.17193675889328064, 0.17193675889328064, 0.17292490118577075, 0.17292490118577075, 0.17490118577075098, 0.17490118577075098, 0.17687747035573123, 0.17687747035573123, 0.17786561264822134, 0.17786561264822134, 0.18280632411067194, 0.18280632411067194, 0.18379446640316205, 0.18379446640316205, 0.18478260869565216, 0.18478260869565216, 0.18675889328063242, 0.18675889328063242, 0.18774703557312253, 0.18774703557312253, 0.18972332015810275, 0.18972332015810275, 0.19466403162055335, 0.19466403162055335, 0.1976284584980237, 0.1976284584980237, 0.19960474308300397, 0.19960474308300397, 0.21442687747035574, 0.21442687747035574, 0.21541501976284586, 0.21541501976284586, 0.21739130434782608, 0.21739130434782608, 0.21936758893280633, 0.21936758893280633, 0.22430830039525693, 0.22430830039525693, 0.22628458498023715, 0.22628458498023715, 0.22826086956521738, 0.22826086956521738, 0.23122529644268774, 0.23122529644268774, 0.23616600790513834, 0.23616600790513834, 0.2391304347826087, 0.2391304347826087, 0.24011857707509882, 0.24011857707509882, 0.24209486166007904, 0.24209486166007904, 0.25395256916996045, 0.25395256916996045, 0.25889328063241107, 0.25889328063241107, 0.2598814229249012, 0.2598814229249012, 0.2618577075098814, 0.2618577075098814, 0.2628458498023715, 0.2628458498023715, 0.2727272727272727, 0.2727272727272727, 0.2756916996047431, 0.2756916996047431, 0.2865612648221344, 0.2865612648221344, 0.2885375494071146, 0.2885375494071146, 0.28952569169960474, 0.28952569169960474, 0.29051383399209485, 0.29051383399209485, 0.2924901185770751, 0.2924901185770751, 0.29347826086956524, 0.29347826086956524, 0.30138339920948615, 0.30138339920948615, 0.3092885375494071, 0.3092885375494071, 0.3142292490118577, 0.3142292490118577, 0.31521739130434784, 0.31521739130434784, 0.31719367588932806, 0.31719367588932806, 0.3201581027667984, 0.3201581027667984, 0.3231225296442688, 0.3231225296442688, 0.32707509881422925, 0.32707509881422925, 0.3310276679841897, 0.3310276679841897, 0.33201581027667987, 0.33201581027667987, 0.3349802371541502, 0.3349802371541502, 0.3359683794466403, 0.3359683794466403, 0.3448616600790514, 0.3448616600790514, 0.34782608695652173, 0.34782608695652173, 0.3567193675889328, 0.3567193675889328, 0.35968379446640314, 0.35968379446640314, 0.3606719367588933, 0.3606719367588933, 0.36264822134387353, 0.36264822134387353, 0.36462450592885376, 0.36462450592885376, 0.3804347826086957, 0.3804347826086957, 0.3814229249011858, 0.3814229249011858, 0.3883399209486166, 0.3883399209486166, 0.41798418972332013, 0.41798418972332013, 0.4209486166007905, 0.4209486166007905, 0.4268774703557312, 0.4268774703557312, 0.4278656126482213, 0.4278656126482213, 0.4298418972332016, 0.4298418972332016, 0.43478260869565216, 0.43478260869565216, 0.43873517786561267, 0.43873517786561267, 0.4575098814229249, 0.4575098814229249, 0.47134387351778656, 0.47134387351778656, 0.4782608695652174, 0.4782608695652174, 0.48023715415019763, 0.48023715415019763, 0.4901185770750988, 0.4901185770750988, 0.49308300395256915, 0.49308300395256915, 0.4950592885375494, 0.4950592885375494, 0.5029644268774703, 0.5029644268774703, 0.5069169960474308, 0.5069169960474308, 0.5177865612648221, 0.5177865612648221, 0.5187747035573123, 0.5187747035573123, 0.5523715415019763, 0.5523715415019763, 0.5533596837944664, 0.5533596837944664, 0.5652173913043478, 0.5652173913043478, 0.5681818181818182, 0.5681818181818182, 0.5701581027667985, 0.5701581027667985, 0.5790513833992095, 0.5790513833992095, 0.5849802371541502, 0.5849802371541502, 0.5968379446640316, 0.5968379446640316, 0.6027667984189723, 0.6027667984189723, 0.724308300395257, 0.724308300395257, 0.7262845849802372, 0.7262845849802372, 0.808300395256917, 0.808300395256917, 0.8517786561264822, 0.8517786561264822, 0.8863636363636364, 0.8863636363636364, 0.9051383399209486, 0.9051383399209486, 1.0], \"xaxis\": \"x2\", \"y\": [0.0, 0.002531645569620253, 0.002531645569620253, 0.0379746835443038, 0.0379746835443038, 0.05063291139240506, 0.05063291139240506, 0.06835443037974684, 0.06835443037974684, 0.11139240506329114, 0.11139240506329114, 0.11645569620253164, 0.11645569620253164, 0.1240506329113924, 0.1240506329113924, 0.1291139240506329, 0.1291139240506329, 0.13670886075949368, 0.13670886075949368, 0.14430379746835442, 0.14430379746835442, 0.1518987341772152, 0.1518987341772152, 0.1670886075949367, 0.1670886075949367, 0.17721518987341772, 0.17721518987341772, 0.21265822784810126, 0.21265822784810126, 0.21518987341772153, 0.21518987341772153, 0.21772151898734177, 0.21772151898734177, 0.22025316455696203, 0.22025316455696203, 0.23037974683544304, 0.23037974683544304, 0.24050632911392406, 0.24050632911392406, 0.2430379746835443, 0.2430379746835443, 0.24556962025316456, 0.24556962025316456, 0.2683544303797468, 0.2683544303797468, 0.28354430379746837, 0.28354430379746837, 0.29620253164556964, 0.29620253164556964, 0.29873417721518986, 0.29873417721518986, 0.3012658227848101, 0.3012658227848101, 0.3139240506329114, 0.3139240506329114, 0.32151898734177214, 0.32151898734177214, 0.3265822784810127, 0.3265822784810127, 0.3291139240506329, 0.3291139240506329, 0.3341772151898734, 0.3341772151898734, 0.3392405063291139, 0.3392405063291139, 0.3493670886075949, 0.3493670886075949, 0.3518987341772152, 0.3518987341772152, 0.37468354430379747, 0.37468354430379747, 0.37721518987341773, 0.37721518987341773, 0.389873417721519, 0.389873417721519, 0.3949367088607595, 0.3949367088607595, 0.40253164556962023, 0.40253164556962023, 0.42278481012658226, 0.42278481012658226, 0.4253164556962025, 0.4253164556962025, 0.43291139240506327, 0.43291139240506327, 0.44050632911392407, 0.44050632911392407, 0.44556962025316454, 0.44556962025316454, 0.4531645569620253, 0.4531645569620253, 0.45569620253164556, 0.45569620253164556, 0.46582278481012657, 0.46582278481012657, 0.4708860759493671, 0.4708860759493671, 0.47848101265822784, 0.47848101265822784, 0.4810126582278481, 0.4810126582278481, 0.48860759493670886, 0.48860759493670886, 0.4936708860759494, 0.4936708860759494, 0.4962025316455696, 0.4962025316455696, 0.49873417721518987, 0.49873417721518987, 0.5088607594936709, 0.5088607594936709, 0.5139240506329114, 0.5139240506329114, 0.5164556962025316, 0.5164556962025316, 0.5189873417721519, 0.5189873417721519, 0.5215189873417722, 0.5215189873417722, 0.5240506329113924, 0.5240506329113924, 0.5265822784810127, 0.5265822784810127, 0.5316455696202531, 0.5316455696202531, 0.549367088607595, 0.549367088607595, 0.5518987341772152, 0.5518987341772152, 0.5569620253164557, 0.5569620253164557, 0.5670886075949367, 0.5670886075949367, 0.569620253164557, 0.569620253164557, 0.5772151898734177, 0.5772151898734177, 0.579746835443038, 0.579746835443038, 0.5873417721518988, 0.5873417721518988, 0.5949367088607594, 0.5949367088607594, 0.5974683544303797, 0.5974683544303797, 0.6, 0.6, 0.6050632911392405, 0.6050632911392405, 0.6075949367088608, 0.6075949367088608, 0.6151898734177215, 0.6151898734177215, 0.6177215189873417, 0.6177215189873417, 0.6227848101265823, 0.6227848101265823, 0.6253164556962025, 0.6253164556962025, 0.6278481012658228, 0.6278481012658228, 0.6303797468354431, 0.6303797468354431, 0.6354430379746835, 0.6354430379746835, 0.640506329113924, 0.640506329113924, 0.6430379746835443, 0.6430379746835443, 0.6455696202531646, 0.6455696202531646, 0.6481012658227848, 0.6481012658227848, 0.6506329113924051, 0.6506329113924051, 0.6531645569620254, 0.6531645569620254, 0.6658227848101266, 0.6658227848101266, 0.6708860759493671, 0.6708860759493671, 0.6759493670886076, 0.6759493670886076, 0.6784810126582278, 0.6784810126582278, 0.6835443037974683, 0.6835443037974683, 0.6860759493670886, 0.6860759493670886, 0.6886075949367089, 0.6886075949367089, 0.6911392405063291, 0.6911392405063291, 0.6962025316455697, 0.6962025316455697, 0.7088607594936709, 0.7088607594936709, 0.7113924050632912, 0.7113924050632912, 0.7139240506329114, 0.7139240506329114, 0.7189873417721518, 0.7189873417721518, 0.7215189873417721, 0.7215189873417721, 0.7265822784810126, 0.7265822784810126, 0.7316455696202532, 0.7316455696202532, 0.7341772151898734, 0.7341772151898734, 0.7367088607594937, 0.7367088607594937, 0.739240506329114, 0.739240506329114, 0.7443037974683544, 0.7443037974683544, 0.7468354430379747, 0.7468354430379747, 0.7493670886075949, 0.7493670886075949, 0.7518987341772152, 0.7518987341772152, 0.7544303797468355, 0.7544303797468355, 0.7569620253164557, 0.7569620253164557, 0.7620253164556962, 0.7620253164556962, 0.7645569620253164, 0.7645569620253164, 0.7670886075949367, 0.7670886075949367, 0.7721518987341772, 0.7721518987341772, 0.7746835443037975, 0.7746835443037975, 0.7772151898734178, 0.7772151898734178, 0.7848101265822784, 0.7848101265822784, 0.7873417721518987, 0.7873417721518987, 0.7949367088607595, 0.7949367088607595, 0.7974683544303798, 0.7974683544303798, 0.8, 0.8, 0.8025316455696202, 0.8025316455696202, 0.8050632911392405, 0.8050632911392405, 0.8075949367088607, 0.8075949367088607, 0.810126582278481, 0.810126582278481, 0.8126582278481013, 0.8126582278481013, 0.8151898734177215, 0.8151898734177215, 0.8202531645569621, 0.8202531645569621, 0.8227848101265823, 0.8227848101265823, 0.830379746835443, 0.830379746835443, 0.8329113924050633, 0.8329113924050633, 0.8354430379746836, 0.8354430379746836, 0.8379746835443038, 0.8379746835443038, 0.8405063291139241, 0.8405063291139241, 0.8430379746835444, 0.8430379746835444, 0.8455696202531645, 0.8455696202531645, 0.8481012658227848, 0.8481012658227848, 0.850632911392405, 0.850632911392405, 0.8531645569620253, 0.8531645569620253, 0.8556962025316456, 0.8556962025316456, 0.8582278481012658, 0.8582278481012658, 0.8632911392405064, 0.8632911392405064, 0.8658227848101265, 0.8658227848101265, 0.8683544303797468, 0.8683544303797468, 0.8708860759493671, 0.8708860759493671, 0.8734177215189873, 0.8734177215189873, 0.8810126582278481, 0.8810126582278481, 0.8835443037974684, 0.8835443037974684, 0.8860759493670886, 0.8860759493670886, 0.8886075949367088, 0.8886075949367088, 0.8911392405063291, 0.8911392405063291, 0.8987341772151899, 0.8987341772151899, 0.9012658227848102, 0.9012658227848102, 0.9037974683544304, 0.9037974683544304, 0.9063291139240506, 0.9063291139240506, 0.9113924050632911, 0.9113924050632911, 0.9139240506329114, 0.9139240506329114, 0.9164556962025316, 0.9164556962025316, 0.9189873417721519, 0.9189873417721519, 0.9240506329113924, 0.9240506329113924, 0.9265822784810127, 0.9265822784810127, 0.9341772151898734, 0.9341772151898734, 0.9367088607594937, 0.9367088607594937, 0.9417721518987342, 0.9417721518987342, 0.9443037974683545, 0.9443037974683545, 0.9468354430379747, 0.9468354430379747, 0.9518987341772152, 0.9518987341772152, 0.9544303797468354, 0.9544303797468354, 0.9569620253164557, 0.9569620253164557, 0.959493670886076, 0.959493670886076, 0.9620253164556962, 0.9620253164556962, 0.9670886075949368, 0.9670886075949368, 0.9696202531645569, 0.9696202531645569, 0.9721518987341772, 0.9721518987341772, 0.9746835443037974, 0.9746835443037974, 0.9772151898734177, 0.9772151898734177, 0.979746835443038, 0.979746835443038, 0.9822784810126582, 0.9822784810126582, 0.9848101265822785, 0.9848101265822785, 0.9873417721518988, 0.9873417721518988, 0.9898734177215189, 0.9898734177215189, 0.9924050632911392, 0.9924050632911392, 0.9949367088607595, 0.9949367088607595, 0.9974683544303797, 0.9974683544303797, 1.0, 1.0], \"yaxis\": \"y2\"}, {\"line\": {\"color\": \"rgb(205, 12, 24)\", \"dash\": \"dot\", \"width\": 2}, \"type\": \"scatter\", \"x\": [0, 1], \"xaxis\": \"x2\", \"y\": [0, 1], \"yaxis\": \"y2\"}],                        {\"annotations\": [{\"font\": {\"size\": 16}, \"showarrow\": false, \"text\": \"ROC\", \"x\": 0.775, \"xanchor\": \"center\", \"xref\": \"paper\", \"y\": 1.0, \"yanchor\": \"bottom\", \"yref\": \"paper\"}], \"template\": {\"data\": {\"bar\": [{\"error_x\": {\"color\": \"#2a3f5f\"}, \"error_y\": {\"color\": \"#2a3f5f\"}, \"marker\": {\"line\": {\"color\": \"#E5ECF6\", \"width\": 0.5}}, \"type\": \"bar\"}], \"barpolar\": [{\"marker\": {\"line\": {\"color\": \"#E5ECF6\", \"width\": 0.5}}, \"type\": \"barpolar\"}], \"carpet\": [{\"aaxis\": {\"endlinecolor\": \"#2a3f5f\", \"gridcolor\": \"white\", \"linecolor\": \"white\", \"minorgridcolor\": \"white\", \"startlinecolor\": \"#2a3f5f\"}, \"baxis\": {\"endlinecolor\": \"#2a3f5f\", \"gridcolor\": \"white\", \"linecolor\": \"white\", \"minorgridcolor\": \"white\", \"startlinecolor\": \"#2a3f5f\"}, \"type\": \"carpet\"}], \"choropleth\": [{\"colorbar\": {\"outlinewidth\": 0, \"ticks\": \"\"}, \"type\": \"choropleth\"}], \"contour\": [{\"colorbar\": {\"outlinewidth\": 0, \"ticks\": \"\"}, \"colorscale\": [[0.0, \"#0d0887\"], [0.1111111111111111, \"#46039f\"], [0.2222222222222222, \"#7201a8\"], [0.3333333333333333, \"#9c179e\"], [0.4444444444444444, \"#bd3786\"], [0.5555555555555556, \"#d8576b\"], [0.6666666666666666, \"#ed7953\"], [0.7777777777777778, \"#fb9f3a\"], [0.8888888888888888, \"#fdca26\"], [1.0, \"#f0f921\"]], \"type\": \"contour\"}], \"contourcarpet\": [{\"colorbar\": {\"outlinewidth\": 0, \"ticks\": \"\"}, \"type\": \"contourcarpet\"}], \"heatmap\": [{\"colorbar\": {\"outlinewidth\": 0, \"ticks\": \"\"}, \"colorscale\": [[0.0, \"#0d0887\"], [0.1111111111111111, \"#46039f\"], [0.2222222222222222, \"#7201a8\"], [0.3333333333333333, \"#9c179e\"], [0.4444444444444444, \"#bd3786\"], [0.5555555555555556, \"#d8576b\"], [0.6666666666666666, \"#ed7953\"], [0.7777777777777778, \"#fb9f3a\"], [0.8888888888888888, \"#fdca26\"], [1.0, \"#f0f921\"]], \"type\": \"heatmap\"}], \"heatmapgl\": [{\"colorbar\": {\"outlinewidth\": 0, \"ticks\": \"\"}, \"colorscale\": [[0.0, \"#0d0887\"], [0.1111111111111111, \"#46039f\"], [0.2222222222222222, \"#7201a8\"], [0.3333333333333333, \"#9c179e\"], [0.4444444444444444, \"#bd3786\"], [0.5555555555555556, \"#d8576b\"], [0.6666666666666666, \"#ed7953\"], [0.7777777777777778, \"#fb9f3a\"], [0.8888888888888888, \"#fdca26\"], [1.0, \"#f0f921\"]], \"type\": \"heatmapgl\"}], \"histogram\": [{\"marker\": {\"colorbar\": {\"outlinewidth\": 0, \"ticks\": \"\"}}, \"type\": \"histogram\"}], \"histogram2d\": [{\"colorbar\": {\"outlinewidth\": 0, \"ticks\": \"\"}, \"colorscale\": [[0.0, \"#0d0887\"], [0.1111111111111111, \"#46039f\"], [0.2222222222222222, \"#7201a8\"], [0.3333333333333333, \"#9c179e\"], [0.4444444444444444, \"#bd3786\"], [0.5555555555555556, \"#d8576b\"], [0.6666666666666666, \"#ed7953\"], [0.7777777777777778, \"#fb9f3a\"], [0.8888888888888888, \"#fdca26\"], [1.0, \"#f0f921\"]], \"type\": \"histogram2d\"}], \"histogram2dcontour\": [{\"colorbar\": {\"outlinewidth\": 0, \"ticks\": \"\"}, \"colorscale\": [[0.0, \"#0d0887\"], [0.1111111111111111, \"#46039f\"], [0.2222222222222222, \"#7201a8\"], [0.3333333333333333, \"#9c179e\"], [0.4444444444444444, \"#bd3786\"], [0.5555555555555556, \"#d8576b\"], [0.6666666666666666, \"#ed7953\"], [0.7777777777777778, \"#fb9f3a\"], [0.8888888888888888, \"#fdca26\"], [1.0, \"#f0f921\"]], \"type\": \"histogram2dcontour\"}], \"mesh3d\": [{\"colorbar\": {\"outlinewidth\": 0, \"ticks\": \"\"}, \"type\": \"mesh3d\"}], \"parcoords\": [{\"line\": {\"colorbar\": {\"outlinewidth\": 0, \"ticks\": \"\"}}, \"type\": \"parcoords\"}], \"pie\": [{\"automargin\": true, \"type\": \"pie\"}], \"scatter\": [{\"marker\": {\"colorbar\": {\"outlinewidth\": 0, \"ticks\": \"\"}}, \"type\": \"scatter\"}], \"scatter3d\": [{\"line\": {\"colorbar\": {\"outlinewidth\": 0, \"ticks\": \"\"}}, \"marker\": {\"colorbar\": {\"outlinewidth\": 0, \"ticks\": \"\"}}, \"type\": \"scatter3d\"}], \"scattercarpet\": [{\"marker\": {\"colorbar\": {\"outlinewidth\": 0, \"ticks\": \"\"}}, \"type\": \"scattercarpet\"}], \"scattergeo\": [{\"marker\": {\"colorbar\": {\"outlinewidth\": 0, \"ticks\": \"\"}}, \"type\": \"scattergeo\"}], \"scattergl\": [{\"marker\": {\"colorbar\": {\"outlinewidth\": 0, \"ticks\": \"\"}}, \"type\": \"scattergl\"}], \"scattermapbox\": [{\"marker\": {\"colorbar\": {\"outlinewidth\": 0, \"ticks\": \"\"}}, \"type\": \"scattermapbox\"}], \"scatterpolar\": [{\"marker\": {\"colorbar\": {\"outlinewidth\": 0, \"ticks\": \"\"}}, \"type\": \"scatterpolar\"}], \"scatterpolargl\": [{\"marker\": {\"colorbar\": {\"outlinewidth\": 0, \"ticks\": \"\"}}, \"type\": \"scatterpolargl\"}], \"scatterternary\": [{\"marker\": {\"colorbar\": {\"outlinewidth\": 0, \"ticks\": \"\"}}, \"type\": \"scatterternary\"}], \"surface\": [{\"colorbar\": {\"outlinewidth\": 0, \"ticks\": \"\"}, \"colorscale\": [[0.0, \"#0d0887\"], [0.1111111111111111, \"#46039f\"], [0.2222222222222222, \"#7201a8\"], [0.3333333333333333, \"#9c179e\"], [0.4444444444444444, \"#bd3786\"], [0.5555555555555556, \"#d8576b\"], [0.6666666666666666, \"#ed7953\"], [0.7777777777777778, \"#fb9f3a\"], [0.8888888888888888, \"#fdca26\"], [1.0, \"#f0f921\"]], \"type\": \"surface\"}], \"table\": [{\"cells\": {\"fill\": {\"color\": \"#EBF0F8\"}, \"line\": {\"color\": \"white\"}}, \"header\": {\"fill\": {\"color\": \"#C8D4E3\"}, \"line\": {\"color\": \"white\"}}, \"type\": \"table\"}]}, \"layout\": {\"annotationdefaults\": {\"arrowcolor\": \"#2a3f5f\", \"arrowhead\": 0, \"arrowwidth\": 1}, \"coloraxis\": {\"colorbar\": {\"outlinewidth\": 0, \"ticks\": \"\"}}, \"colorscale\": {\"diverging\": [[0, \"#8e0152\"], [0.1, \"#c51b7d\"], [0.2, \"#de77ae\"], [0.3, \"#f1b6da\"], [0.4, \"#fde0ef\"], [0.5, \"#f7f7f7\"], [0.6, \"#e6f5d0\"], [0.7, \"#b8e186\"], [0.8, \"#7fbc41\"], [0.9, \"#4d9221\"], [1, \"#276419\"]], \"sequential\": [[0.0, \"#0d0887\"], [0.1111111111111111, \"#46039f\"], [0.2222222222222222, \"#7201a8\"], [0.3333333333333333, \"#9c179e\"], [0.4444444444444444, \"#bd3786\"], [0.5555555555555556, \"#d8576b\"], [0.6666666666666666, \"#ed7953\"], [0.7777777777777778, \"#fb9f3a\"], [0.8888888888888888, \"#fdca26\"], [1.0, \"#f0f921\"]], \"sequentialminus\": [[0.0, \"#0d0887\"], [0.1111111111111111, \"#46039f\"], [0.2222222222222222, \"#7201a8\"], [0.3333333333333333, \"#9c179e\"], [0.4444444444444444, \"#bd3786\"], [0.5555555555555556, \"#d8576b\"], [0.6666666666666666, \"#ed7953\"], [0.7777777777777778, \"#fb9f3a\"], [0.8888888888888888, \"#fdca26\"], [1.0, \"#f0f921\"]]}, \"colorway\": [\"#636efa\", \"#EF553B\", \"#00cc96\", \"#ab63fa\", \"#FFA15A\", \"#19d3f3\", \"#FF6692\", \"#B6E880\", \"#FF97FF\", \"#FECB52\"], \"font\": {\"color\": \"#2a3f5f\"}, \"geo\": {\"bgcolor\": \"white\", \"lakecolor\": \"white\", \"landcolor\": \"#E5ECF6\", \"showlakes\": true, \"showland\": true, \"subunitcolor\": \"white\"}, \"hoverlabel\": {\"align\": \"left\"}, \"hovermode\": \"closest\", \"mapbox\": {\"style\": \"light\"}, \"paper_bgcolor\": \"white\", \"plot_bgcolor\": \"#E5ECF6\", \"polar\": {\"angularaxis\": {\"gridcolor\": \"white\", \"linecolor\": \"white\", \"ticks\": \"\"}, \"bgcolor\": \"#E5ECF6\", \"radialaxis\": {\"gridcolor\": \"white\", \"linecolor\": \"white\", \"ticks\": \"\"}}, \"scene\": {\"xaxis\": {\"backgroundcolor\": \"#E5ECF6\", \"gridcolor\": \"white\", \"gridwidth\": 2, \"linecolor\": \"white\", \"showbackground\": true, \"ticks\": \"\", \"zerolinecolor\": \"white\"}, \"yaxis\": {\"backgroundcolor\": \"#E5ECF6\", \"gridcolor\": \"white\", \"gridwidth\": 2, \"linecolor\": \"white\", \"showbackground\": true, \"ticks\": \"\", \"zerolinecolor\": \"white\"}, \"zaxis\": {\"backgroundcolor\": \"#E5ECF6\", \"gridcolor\": \"white\", \"gridwidth\": 2, \"linecolor\": \"white\", \"showbackground\": true, \"ticks\": \"\", \"zerolinecolor\": \"white\"}}, \"shapedefaults\": {\"line\": {\"color\": \"#2a3f5f\"}}, \"ternary\": {\"aaxis\": {\"gridcolor\": \"white\", \"linecolor\": \"white\", \"ticks\": \"\"}, \"baxis\": {\"gridcolor\": \"white\", \"linecolor\": \"white\", \"ticks\": \"\"}, \"bgcolor\": \"#E5ECF6\", \"caxis\": {\"gridcolor\": \"white\", \"linecolor\": \"white\", \"ticks\": \"\"}}, \"title\": {\"x\": 0.05}, \"xaxis\": {\"automargin\": true, \"gridcolor\": \"white\", \"linecolor\": \"white\", \"ticks\": \"\", \"title\": {\"standoff\": 15}, \"zerolinecolor\": \"white\", \"zerolinewidth\": 2}, \"yaxis\": {\"automargin\": true, \"gridcolor\": \"white\", \"linecolor\": \"white\", \"ticks\": \"\", \"title\": {\"standoff\": 15}, \"zerolinecolor\": \"white\", \"zerolinewidth\": 2}}}, \"xaxis\": {\"anchor\": \"y\", \"domain\": [0.0, 0.45]}, \"xaxis2\": {\"anchor\": \"y2\", \"domain\": [0.55, 1.0]}, \"xaxis3\": {\"anchor\": \"y3\", \"domain\": [0.0, 1.0]}, \"yaxis\": {\"anchor\": \"x\", \"domain\": [0.625, 1.0]}, \"yaxis2\": {\"anchor\": \"x2\", \"domain\": [0.625, 1.0]}, \"yaxis3\": {\"anchor\": \"x3\", \"domain\": [0.0, 0.375]}},                        {\"responsive\": true}                    ).then(function(){\n",
       "                            \n",
       "var gd = document.getElementById('39fd6e58-4acc-4a3c-b6bf-4371551bdbca');\n",
       "var x = new MutationObserver(function (mutations, observer) {{\n",
       "        var display = window.getComputedStyle(gd).display;\n",
       "        if (!display || display === 'none') {{\n",
       "            console.log([gd, 'removed!']);\n",
       "            Plotly.purge(gd);\n",
       "            observer.disconnect();\n",
       "        }}\n",
       "}});\n",
       "\n",
       "// Listen for the removal of the full notebook cells\n",
       "var notebookContainer = gd.closest('#notebook-container');\n",
       "if (notebookContainer) {{\n",
       "    x.observe(notebookContainer, {childList: true});\n",
       "}}\n",
       "\n",
       "// Listen for the clearing of the current output cell\n",
       "var outputEl = gd.closest('.output');\n",
       "if (outputEl) {{\n",
       "    x.observe(outputEl, {childList: true});\n",
       "}}\n",
       "\n",
       "                        })                };                });            </script>        </div>"
      ]
     },
     "metadata": {},
     "output_type": "display_data"
    }
   ],
   "source": [
    "import plotly.tools as tls\n",
    "import plotly as py\n",
    "\n",
    "fig = tls.make_subplots(rows=2, cols=2, specs=[[{}, {}], [{'colspan': 2}, None]],\n",
    "                            subplot_titles=('',\n",
    "                                            'ROC',\n",
    "                                            ''))\n",
    "    \n",
    "   \n",
    "fig.append_trace(trace2,1,2)\n",
    "fig.append_trace(trace3,1,2)\n",
    "\n",
    "py.offline.iplot(fig)"
   ]
  },
  {
   "cell_type": "code",
   "execution_count": 280,
   "metadata": {},
   "outputs": [
    {
     "data": {
      "text/plain": [
       "0.798862828713575"
      ]
     },
     "execution_count": 280,
     "metadata": {},
     "output_type": "execute_result"
    }
   ],
   "source": [
    "acc_sequential = accuracy_score(y_test, predictions.round())\n",
    "\n",
    "acc_sequential"
   ]
  },
  {
   "cell_type": "code",
   "execution_count": 281,
   "metadata": {},
   "outputs": [
    {
     "data": {
      "image/png": "[encoded data removed]",
      "text/plain": [
       "<Figure size 432x288 with 2 Axes>"
      ]
     },
     "metadata": {
      "needs_background": "light"
     },
     "output_type": "display_data"
    }
   ],
   "source": [
    "pl = confusion_matrix(y_test,predictions.round())\n",
    "\n",
    "labels = ['Churn', 'Remain']\n",
    "\n",
    "\n",
    "fig = plt.figure()\n",
    "ax = fig.add_subplot(111)\n",
    "cax = ax.matshow(pl)\n",
    "plt.title('Confusion matrix of the classifier')\n",
    "fig.colorbar(cax)\n",
    "ax.set_xticklabels([''] + labels)\n",
    "ax.set_yticklabels([''] + labels)\n",
    "plt.xlabel('Predicted')\n",
    "plt.ylabel('True')\n",
    "plt.show()"
   ]
  },
  {
   "cell_type": "code",
   "execution_count": 282,
   "metadata": {},
   "outputs": [
    {
     "data": {
      "text/plain": [
       "array([[913,  99],\n",
       "       [184, 211]], dtype=int64)"
      ]
     },
     "execution_count": 282,
     "metadata": {},
     "output_type": "execute_result"
    }
   ],
   "source": [
    "pl"
   ]
  },
  {
   "cell_type": "markdown",
   "metadata": {},
   "source": [
    "## Conclusions"
   ]
  },
  {
   "cell_type": "markdown",
   "metadata": {},
   "source": [
    "We have created 4 classification models and will compare the results. First, we look at the table of ROC-AUC scores and accuracy scores to see which are the best at predicting the churn of customers."
   ]
  },
  {
   "cell_type": "code",
   "execution_count": 295,
   "metadata": {},
   "outputs": [
    {
     "data": {
      "text/html": [
       "<div>\n",
       "<style scoped>\n",
       "    .dataframe tbody tr th:only-of-type {\n",
       "        vertical-align: middle;\n",
       "    }\n",
       "\n",
       "    .dataframe tbody tr th {\n",
       "        vertical-align: top;\n",
       "    }\n",
       "\n",
       "    .dataframe thead th {\n",
       "        text-align: right;\n",
       "    }\n",
       "</style>\n",
       "<table border=\"1\" class=\"dataframe\">\n",
       "  <thead>\n",
       "    <tr style=\"text-align: right;\">\n",
       "      <th></th>\n",
       "      <th>Model</th>\n",
       "      <th>ROC_AUC_Score</th>\n",
       "      <th>Accuracy_Score</th>\n",
       "    </tr>\n",
       "  </thead>\n",
       "  <tbody>\n",
       "    <tr>\n",
       "      <th>0</th>\n",
       "      <td>K Means</td>\n",
       "      <td>0.738735</td>\n",
       "      <td>0.799574</td>\n",
       "    </tr>\n",
       "    <tr>\n",
       "      <th>1</th>\n",
       "      <td>Ridge</td>\n",
       "      <td>0.729507</td>\n",
       "      <td>0.807392</td>\n",
       "    </tr>\n",
       "    <tr>\n",
       "      <th>2</th>\n",
       "      <td>SVC</td>\n",
       "      <td>0.731389</td>\n",
       "      <td>0.804549</td>\n",
       "    </tr>\n",
       "    <tr>\n",
       "      <th>3</th>\n",
       "      <td>Sequential NN</td>\n",
       "      <td>0.851421</td>\n",
       "      <td>0.798863</td>\n",
       "    </tr>\n",
       "  </tbody>\n",
       "</table>\n",
       "</div>"
      ],
      "text/plain": [
       "           Model  ROC_AUC_Score  Accuracy_Score\n",
       "0        K Means       0.738735        0.799574\n",
       "1          Ridge       0.729507        0.807392\n",
       "2            SVC       0.731389        0.804549\n",
       "3  Sequential NN       0.851421        0.798863"
      ]
     },
     "execution_count": 295,
     "metadata": {},
     "output_type": "execute_result"
    }
   ],
   "source": [
    "scores = pd.DataFrame([['K Means', auc_kmeans, acc_kmeans], ['Ridge', auc_ridge, acc_ridge],\n",
    "              ['SVC', auc_svc, acc_svc],['Sequential NN', model_roc_auc, acc_sequential]],\n",
    "                      columns=['Model', 'ROC_AUC_Score', 'Accuracy_Score']\n",
    "            )\n",
    "scores"
   ]
  },
  {
   "cell_type": "markdown",
   "metadata": {},
   "source": [
    "We see in our table of scoring that the Sequential NN is the most accurate and has the best ROC_AUC score. Of the models that are not neural networks, it appears that they are all very similar, with the Ridge Classifier being the most accurate and K Means Classifier having the best ROC_AUC score. Because we value the accuracy most, we conclude that the Ridge model is the best of them all. We will confirm this with cross validation."
   ]
  },
  {
   "cell_type": "code",
   "execution_count": 293,
   "metadata": {},
   "outputs": [],
   "source": [
    "sequential = model"
   ]
  },
  {
   "cell_type": "code",
   "execution_count": 292,
   "metadata": {},
   "outputs": [
    {
     "name": "stdout",
     "output_type": "stream",
     "text": [
      "KNeighborsClassifier(n_neighbors=38): 0.7320812588904694\n",
      "RidgeClassifier(alpha=0.7): 0.8037542027673605\n",
      "SVC(C=0.1, kernel='sigmoid'): 0.7342149715504978\n"
     ]
    }
   ],
   "source": [
    "from sklearn.model_selection import cross_val_score, cross_validate\n",
    "\n",
    "models = [knn, ridge, svc]\n",
    "\n",
    "for m in models:\n",
    "    cv_res = cross_val_score(m, X, y, scoring='accuracy', cv = 10)\n",
    "    print(str(m) + ': '+ str(cv_res.mean()))"
   ]
  },
  {
   "cell_type": "code",
   "execution_count": 294,
   "metadata": {},
   "outputs": [
    {
     "data": {
      "text/plain": [
       "array([-0.19616205, -0.18123667, -0.20910384, -0.19345661, -0.19772404])"
      ]
     },
     "execution_count": 294,
     "metadata": {},
     "output_type": "execute_result"
    }
   ],
   "source": [
    "cv_results = cross_validate(ridge, X, y, scoring='neg_mean_absolute_error', cv=5, n_jobs=-1)\n",
    "cv_results['test_score']"
   ]
  },
  {
   "cell_type": "code",
   "execution_count": null,
   "metadata": {},
   "outputs": [],
   "source": []
  },
  {
   "cell_type": "code",
   "execution_count": 266,
   "metadata": {},
   "outputs": [],
   "source": [
    "from keras import backend as K\n",
    "\n",
    "def recall_m(y_true, y_pred):\n",
    "    true_positives = K.sum(K.round(K.clip(y_true * y_pred, 0, 1)))\n",
    "    possible_positives = K.sum(K.round(K.clip(y_true, 0, 1)))\n",
    "    recall = true_positives / (possible_positives + K.epsilon())\n",
    "    return recall\n",
    "\n",
    "def precision_m(y_true, y_pred):\n",
    "    true_positives = K.sum(K.round(K.clip(y_true * y_pred, 0, 1)))\n",
    "    predicted_positives = K.sum(K.round(K.clip(y_pred, 0, 1)))\n",
    "    precision = true_positives / (predicted_positives + K.epsilon())\n",
    "    return precision\n",
    "\n",
    "def f1_m(y_true, y_pred):\n",
    "    precision = precision_m(y_true, y_pred)\n",
    "    recall = recall_m(y_true, y_pred)\n",
    "    return 2*((precision*recall)/(precision+recall+K.epsilon()))"
   ]
  },
  {
   "cell_type": "code",
   "execution_count": 296,
   "metadata": {},
   "outputs": [],
   "source": [
    "model.compile(optimizer='adam', loss='binary_crossentropy', metrics=['acc',f1_m,precision_m, recall_m])\n",
    "\n",
    "history = model.fit(X_train, y_train, validation_split=0.3, epochs=10, verbose=0)\n",
    "\n",
    "loss, accuracy, f1_score, precision, recall = model.evaluate(X_test, y_test, verbose=0)"
   ]
  },
  {
   "cell_type": "code",
   "execution_count": 297,
   "metadata": {},
   "outputs": [
    {
     "name": "stdout",
     "output_type": "stream",
     "text": [
      "0.49528267979621887 0.7746979594230652 0.569744884967804 0.610079824924469 0.5656195878982544\n"
     ]
    }
   ],
   "source": [
    "print(loss, accuracy, f1_score, precision, recall)"
   ]
  },
  {
   "cell_type": "code",
   "execution_count": 300,
   "metadata": {},
   "outputs": [],
   "source": [
    "# Save the best model in best_model\n",
    "best_model = ridge"
   ]
  },
  {
   "cell_type": "code",
   "execution_count": null,
   "metadata": {},
   "outputs": [],
   "source": []
  },
  {
   "cell_type": "code",
   "execution_count": null,
   "metadata": {},
   "outputs": [],
   "source": []
  }
 ],
 "metadata": {
  "kernelspec": {
   "display_name": "Python 3",
   "language": "python",
   "name": "python3"
  },
  "language_info": {
   "codemirror_mode": {
    "name": "ipython",
    "version": 3
   },
   "file_extension": ".py",
   "mimetype": "text/x-python",
   "name": "python",
   "nbconvert_exporter": "python",
   "pygments_lexer": "ipython3",
   "version": "3.8.3"
  }
 },
 "nbformat": 4,
 "nbformat_minor": 4
}
