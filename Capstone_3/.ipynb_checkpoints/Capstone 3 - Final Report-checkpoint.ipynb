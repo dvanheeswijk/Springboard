{
 "cells": [
  {
   "cell_type": "markdown",
   "metadata": {},
   "source": [
    "# Capstone 3 - Customer Churn Prediction for Telco\n",
    "\n",
    "Customers at Telco are very important. Anytime a customer decides to leave, it is vital to understand the reason for why they left. Some customer churn is inevitable: a customer moves away from the area, for example. For any other churn, we need to be able to identify why it happens, and look to create solutions to avoid this in the future. Without customers, our company doesn't exist. \n",
    "\n",
    "### Data\n",
    "\n",
    "We analysed data from the [Telco Data Set](https://community.ibm.com/community/user/businessanalytics/blogs/steven-macko/2019/07/11/telco-customer-churn-1113), where we analyzed data from Q3 of our customers, including demographics, location, and billing/services information. Within the data sets listed, which included:\n",
    "\n",
    "* TELCO customer demographics\n",
    "* TELCO customer location\n",
    "* TELCO customer services\n",
    "* TELCO customer population\n",
    "* TELCO customer status\n",
    "\n",
    "Each of these data sets provided a few different pieces of information, all attached to the individual customer ID, which we combined and cleaned, creating a file *Telco customer churn*, while also creating *clean_data* for our machine learning models.\n",
    "\n",
    "### Goals for project:\n",
    "\n",
    "* **Identify any specific reasons or areas to look at for customer churn**\n",
    "* **Create a machine learning model that can accurately predict the likelihood of a customer's possibility for leaving.**"
   ]
  },
  {
   "cell_type": "markdown",
   "metadata": {},
   "source": [
    "### Data Cleaning\n",
    "\n",
    "As shown above, we took data for each customer and combined into one data set. The columns that we decided to work with were found as follows:\n",
    "\n",
    "* Demographics\n",
    "    * Marriage Status\n",
    "    * Number of Dependents\n",
    "    * Is the customer a senior citizen\n",
    "* Location\n",
    "    * Zip Code\n",
    "    * Longitude/Latitude\n",
    "* Services\n",
    "    * Phone services\n",
    "    * Internet services\n",
    "    * Tenure in months with Telco\n",
    "    * Other services\n",
    "    * Streaming\n",
    "    * Billing info\n",
    "* Status\n",
    "    * **Churn Value(what we are trying to predict)**\n"
   ]
  },
  {
   "cell_type": "markdown",
   "metadata": {},
   "source": [
    "### Exploring the Data\n",
    "\n",
    "After cleaning the data and organizing it as shown above, we dived in to see if we could find any possible explanations for customers leaving. From this, we were able to identify a few trends that give us areas to improve our services. Overall, our customers left generally due to:\n",
    "\n",
    "* **Competitor Offers**\n",
    "* **Attitude of customer service**\n",
    "\n",
    "This is displayed below in the analysis of churn reasons given by our customers that left:\n",
    "\n",
    "<img src='images/total_churn_reasons.png'>"
   ]
  },
  {
   "cell_type": "markdown",
   "metadata": {},
   "source": [
    "Of the two main reason for customers leaving, attitude of support or service is a fix that is within the control internally of our company. I will leave judgement of how to fix this with the directors that lead these departments. One observation I would make that is worth noting, however, is that customers with no tech support within their services tended to churn much more often than those with the service. It could be benefitial to consider ways to make the service more available to help retain customers. We will see this supported in the graphics below:\n",
    "\n",
    "<img src='images/services.png'>"
   ]
  },
  {
   "cell_type": "markdown",
   "metadata": {},
   "source": [
    "As we analyse the customers with a lack of services including Tech Support, Online Security, and Online Backup, we see that these customers are more likely to leave. This churn could be a result of an offer for a similar product with these things included at a lower price.\n",
    "\n",
    "One area I'd like to highlight is the internet services. We see that customers with **Fiber Optics tended to churn at nearly double the rate of those without the service**. This could lead to our other major churn reason: *Competitor Offers*\n",
    "\n",
    "If we do some additional research, we would likely find that areas that were offered Fiber Optics deals by competitors correspond to the customers that left. This leads to our next way of analysing the data available, based on location of customers. Before we look at the graphs, we should note that there are many small areas that had high churn rates, but relatively low customer totals. Most customers that left were from larger areas where we had more customers overall. We see, however, that a few regions have higher percentages of customer churn.\n",
    "\n",
    "<img src='images/City_Churn_total.png'>\n",
    "\n",
    "<img src='images/Cities_Churn_perc.png'>"
   ]
  },
  {
   "cell_type": "markdown",
   "metadata": {},
   "source": [
    "We see that Los Angeles has the majority of our customers that left, but only the 9th highest percentage of customers that left. It seems that customers in Santa Rosa and Modesto are leaving at much higher rates overall than other areas, both of which saw over 40% customer turnover. This is in comparison to Los Angeles and San Diego, the two cities with the most total customer churn, that saw roughly 30% customer turnover. It would be worth looking into whether there are competitors in these cities that are adding to the turnover rates."
   ]
  },
  {
   "cell_type": "markdown",
   "metadata": {},
   "source": [
    "### Feature Importance\n",
    "\n",
    "We are now nearly ready to create our train and test split. Before we do this, though, our first major observation is that we have a very small dataset to work with (at just 7032 total entries). This means that we have to consider using fewer features as a result.\n",
    "\n",
    "We decided to use 5 features after tweaking different total features to use. We used SelectKBest from sklearn's feature selection library, with the parameter set to k=5. The result were the following features chose:\n",
    "* Tenure Months\n",
    "* Internet Service_Fiber optic\t\n",
    "* Contract_Month-to-month\t\n",
    "* Contract_Two year\t\n",
    "* Payment Method_Electronic check\n",
    "\n",
    "The features that correspond to the contract type and tenure in months makes sense in regards to whether a customer may leave or not. If a customer is on a month to month contract, they likely will be less inclined to stay if a better offer comes around. When it comes to tenure, customers likely feel more loyal to the company the longer they are with the company.\n",
    "\n",
    "As for Fiber Optic services, we saw above that customers with fiber optics were likely to churn at nearly 40%, wheras all other customers in regards to their internet services were likely to churn a rate of less than 20%. We, therefore, would expect this feature to be a part of our models."
   ]
  },
  {
   "cell_type": "markdown",
   "metadata": {},
   "source": [
    "### Modeling\n",
    "\n",
    "We decided to look at 4 models and compare the results that came from each:\n",
    "\n",
    "* K Means Classifier\n",
    "* Ridge Classifier\n",
    "* Support Vector Classifier\n",
    "* *Sequential Neural Network*\n",
    "\n",
    "The first three are all simple models, and produced acceptable results afer some hyperparameter tuning and feature selection. In order to lower the dimensionality of our training and testing data sets, we chose the 5 best features using the SelectKBest module from sklearn. \n",
    "\n",
    "These features were:\n",
    "\n",
    "* Tenure Months\n",
    "* Internet Service_Fiber optic\n",
    "* Contract_Month-to-month\n",
    "* Contract_Two year\n",
    "* Payment Method_Electronic check\n",
    "\n",
    "Each of these features were used to create a training and testing data set. Because our initial dataset was so small (only 7032 total entries), we used a 80/20 train-test split. To show the over all model effectiveness, we decided to use the metric True Positive Rate. By maximizing true positive rate, we can find the vast majority of customers that are likely to leave and take proactive decisions as a result to decrease the customers that end up actually leaving. Below are the models results for this metric:\n",
    "\n",
    "| **Model** | **True Positive Rate** |\n",
    "|:---------- | :------------------- |\n",
    "|K Means | 0.910079 |\n",
    "|**Ridge** | **0.914032** |\n",
    "|SVC | 0.898221 |\n",
    "|Sequential NN | 0.907115 |"
   ]
  },
  {
   "cell_type": "markdown",
   "metadata": {},
   "source": [
    "We see that, of the 4 models we created, that the Ridge Model is clearly the best in regards to the metrics we chose. This means that our Ridge model should do the best job of predicting which customers will churn and should have the least number of customers that will slip through the cracks."
   ]
  },
  {
   "cell_type": "markdown",
   "metadata": {},
   "source": [
    "Lastly, the model was optimized using a Grid Search over the alpha values, which ultimately produced the model:\n",
    "* RidgeClassifier(alpha=0.1)"
   ]
  },
  {
   "cell_type": "markdown",
   "metadata": {},
   "source": [
    "When we compare this to a Dummy Classifier from sklearn, we get a True Positive Rate given as:\n",
    "\n",
    "* Dummy TPR: 0.7480237154150198\n",
    "* Ridge TPR: 0.9140316205533597\n",
    "\n",
    "Clearly the Ridge Model is significantly better than an arbitrary classifier. \n",
    "\n",
    "Now, suppose that we decided to label a Customer as going to churn based on basic, business decision making, rather than using the model itself. Below we show the effectiveness of such an approach in comparison to the model itself."
   ]
  },
  {
   "cell_type": "markdown",
   "metadata": {},
   "source": [
    "##### Business Test 1: Assume all customers that have been with the company for 16 months or less will churn.\n",
    "\n",
    "The first dummy business test will be to check if we assume any customers with 16 months or less tenure will churn. This is based on an analysis of the overall data set, with customers 16 months or less churning at a rate of 30% or higher. If we simply assume that \"new\" customers will churn, we get our first business test."
   ]
  },
  {
   "cell_type": "markdown",
   "metadata": {},
   "source": [
    "##### Business Test 2: Assume all customers that are on month to month contracts are going to churn.\n",
    "\n",
    "We see from a quick analysis of the customer data set that customers with month to month contracts do churn much more often that those with longer contracts."
   ]
  },
  {
   "cell_type": "markdown",
   "metadata": {},
   "source": [
    "##### Business Test 3: Assume all customers that are on month to month contracts **AND** have fiber optics internet services.\n",
    "\n",
    "While the first two business rules are more simplistic, we would also like to test our model against a slightly more advanced business metric. If we assume any customers with month to month contracts and fiber optics internet services are going to churn, we assume that we will get a better metric for predicting customer churn, based on our exploratory data analysis.\n",
    "\n",
    "The results were all tallied and then compared to our model based on *True Positive Rate*. Here, we see that our model outperforms these simpler ways to predict by a very large percentage.\n",
    "\n",
    "|Model/Business Criteria | True Positive Rate |\n",
    "|:---------------------- | :------------------ |\n",
    "|Ridge\t| 0.914032 |\n",
    "|Rule 1\t| 0.762846 |\n",
    "|Rule 2\t| 0.571146 |\n",
    "|Rule 3 | 0.794466 |"
   ]
  },
  {
   "cell_type": "markdown",
   "metadata": {},
   "source": [
    "### Recommendations\n",
    "\n",
    "We find that our model has a true positive rate of 91.4%, which is better than any prediction we can make with just simple business observations. We do see that customers that have fiber optics and month to month contracts are very likely to churn, as well as customers with a tenure of 16 months or less. However, our model shows that their are underlying relationships among these features that are not simply picked up through choosing only a couple feature to focus on. Based on our features and the observations above, I recommend the following steps to help decrease customer churn."
   ]
  },
  {
   "cell_type": "markdown",
   "metadata": {},
   "source": [
    "**Recommendation 1:** *Customers with Fiber Optics should be given incentive to sign longer term contracts and be given more \"perks\" to try to avoid them leaving to competitors.*\n",
    "\n",
    "It is clear that the competition is taking customers away in this realm at a very high rate, so it is important that we counter this by taking preemptive measures. By making customers sign longer contracts, they will be less likely to leave. Similarly, more perks or services could keep the customers we already have, since there will be less need to move from one company to another."
   ]
  },
  {
   "cell_type": "markdown",
   "metadata": {},
   "source": [
    "**Recommendation 2:** *Customers should be offered Technical support services as part of their plans more regularly.*\n",
    "\n",
    "While the model doesn't explicitly look at the effects of technical support, it is clear, based on the reasons given for customers leaving, that technical support is an issue for many. We saw in our exploration of the data that the customers that did not have Online Backup, Online Protection, or other technical support services were significantly more likely to churn. The solution could be as simple as automatically making these services available to customers, through a longer contract for equal or very slight difference in price. While it may not be feasible to give these away to every customer, it is clear that, without these services, our customers tend to become frustrated with our support service, particularly when the must call in for customer support. "
   ]
  },
  {
   "cell_type": "markdown",
   "metadata": {},
   "source": [
    "### Future Improvements\n",
    "\n",
    "We were able to create a model that produced a true positive rate of over 90%. While these metrics are sufficient for success, our data set is notably small, with only 7200 total entries to work with. This meant that we were only able to use 5 features, as choosing more features would likely make the model not feasible to application to the larger future data. Thus, we feel that we could have a better prediction model with the following:\n",
    "\n",
    "* More data entries to train the models\n",
    "* With more data, increase the number of features\n",
    "* More information in regards to what tech support the customers needed and what competitor offers are being promoted and in what areas to focus efforts to limit customer churn."
   ]
  },
  {
   "cell_type": "code",
   "execution_count": null,
   "metadata": {},
   "outputs": [],
   "source": []
  },
  {
   "cell_type": "code",
   "execution_count": null,
   "metadata": {},
   "outputs": [],
   "source": []
  }
 ],
 "metadata": {
  "kernelspec": {
   "display_name": "Python 3",
   "language": "python",
   "name": "python3"
  },
  "language_info": {
   "codemirror_mode": {
    "name": "ipython",
    "version": 3
   },
   "file_extension": ".py",
   "mimetype": "text/x-python",
   "name": "python",
   "nbconvert_exporter": "python",
   "pygments_lexer": "ipython3",
   "version": "3.8.3"
  }
 },
 "nbformat": 4,
 "nbformat_minor": 4
}
