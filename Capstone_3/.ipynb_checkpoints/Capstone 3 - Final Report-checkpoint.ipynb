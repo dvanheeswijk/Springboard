{
 "cells": [
  {
   "cell_type": "markdown",
   "metadata": {},
   "source": [
    "# Capstone 3 - Customer Churn Prediction for Telco\n",
    "\n",
    "Customers at Telco are very important. Anytime a customer decides to leave, it is vital to understand the reason for why they left. Some customer churn is inevitable: a customer moves away from the area, for example. For any other churn, we need to be able to identify why it happens, and look to create solutions to avoid this in the future. Without customers, our company doesn't exist. \n",
    "\n",
    "### Data\n",
    "\n",
    "We analysed data from the [Telco Data Set](https://community.ibm.com/community/user/businessanalytics/blogs/steven-macko/2019/07/11/telco-customer-churn-1113), where we analyzed data from Q3 of our customers, including demographics, location, and billing/services information. Within the data sets listed, which included:\n",
    "\n",
    "* TELCO customer demographics\n",
    "* TELCO customer location\n",
    "* TELCO customer services\n",
    "* TELCO customer population\n",
    "* TELCO customer status\n",
    "\n",
    "Each of these data sets provided a few different pieces of information, all attached to the individual customer ID, which we combined and cleaned, creating a file *Telco customer churn*, while also creating *clean_data* for our machine learning models.\n",
    "\n",
    "### Goals for project:\n",
    "\n",
    "* **Identify any specific reasons or areas to look at for customer churn**\n",
    "* **Create a machine learning model that can accurately predict the likelihood of a customer's possibility for leaving.**"
   ]
  },
  {
   "cell_type": "markdown",
   "metadata": {},
   "source": [
    "### Data Cleaning\n",
    "\n",
    "As shown above, we took data for each customer and combined into one data set. The columns that we decided to work with were found as follows:\n",
    "\n",
    "* Demographics\n",
    "    * Marriage Status\n",
    "    * Number of Dependents\n",
    "    * Is the customer a senior citizen\n",
    "* Location\n",
    "    * Zip Code\n",
    "    * Longitude/Latitude\n",
    "* Services\n",
    "    * Phone services\n",
    "    * Internet services\n",
    "    * Tenure in months with Telco\n",
    "    * Other services\n",
    "    * Streaming\n",
    "    * Billing info\n",
    "* Status\n",
    "    * **Churn Value(what we are trying to predict)**\n"
   ]
  },
  {
   "cell_type": "markdown",
   "metadata": {},
   "source": [
    "### Exploring the Data\n",
    "\n",
    "After cleaning the data and organizing it as shown above, we dived in to see if we could find any possible explanations for customers leaving. From this, we were able to identify a few trends that give us areas to improve our services. Overall, our customers left generally due to:\n",
    "\n",
    "* **Competitor Offers**\n",
    "* **Attitude of customer service**\n",
    "\n",
    "This is displayed below in the analysis of churn reasons given by our customers that left:\n",
    "\n",
    "<img src='images/total_churn_reasons.png'>"
   ]
  },
  {
   "cell_type": "markdown",
   "metadata": {},
   "source": [
    "Of the two main reason for customers leaving, attitude of support or service is a fix that is within the control internally of our company. I will leave judgement of how to fix this with the directors that lead these departments. One observation I would make that is worth noting, however, is that customers with no tech support within their services tended to churn much more often than those with the service. It could be benefitial to consider ways to make the service more available to help retain customers. We will see this supported in the graphics below:\n",
    "\n",
    "<img src='images/services.png'>"
   ]
  },
  {
   "cell_type": "code",
   "execution_count": null,
   "metadata": {},
   "outputs": [],
   "source": []
  }
 ],
 "metadata": {
  "kernelspec": {
   "display_name": "Python 3",
   "language": "python",
   "name": "python3"
  },
  "language_info": {
   "codemirror_mode": {
    "name": "ipython",
    "version": 3
   },
   "file_extension": ".py",
   "mimetype": "text/x-python",
   "name": "python",
   "nbconvert_exporter": "python",
   "pygments_lexer": "ipython3",
   "version": "3.8.3"
  }
 },
 "nbformat": 4,
 "nbformat_minor": 4
}
