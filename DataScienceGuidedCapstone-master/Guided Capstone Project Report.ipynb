{
 "cells": [
  {
   "cell_type": "markdown",
   "metadata": {},
   "source": [
    "# Big Mountain Recommendations Report"
   ]
  },
  {
   "cell_type": "markdown",
   "metadata": {},
   "source": [
    "Problem Statement: Identify ways to increase ticket prices and create more revenue in order to absorb the cost of $1,540,000 from running the additional ski lift to be installed. \n",
    "\n",
    "After cleaning and exploring the ski_data set, we found through our exploratory analysis that the following features had the largest effects on ticket prices:\n",
    "\n",
    "* Total number of Fast Quads\n",
    "* Vertical drop distance\n",
    "* Amount of Snow Making area covered\n",
    "* Total number of chairs and runs available\n",
    "* Longest Run distance\n",
    "* Skiable Terrain Area\n",
    "* The number of trams available\n",
    "\n",
    "Below, we see the ticket price in regards to the market share, and recognize that Big Mountain currently sits on the higher end of the spectrum with regards to overall pricing."
   ]
  },
  {
   "attachments": {},
   "cell_type": "markdown",
   "metadata": {},
   "source": [
    "![price_average_big_mountain.png](price_average_big_mountain.png)\n",
    "\n",
    "\n",
    "![price_average_big_mountain_montana.png](price_average_big_mountain_montana.png)"
   ]
  },
  {
   "cell_type": "markdown",
   "metadata": {},
   "source": [
    "Our model, however, suggests that the current value of the Big Mountain tickets should be **$95.87** with a $10.39 mean absolute error, meaning that there is a potential to increase the price from the current $81.00 per ticket."
   ]
  },
  {
   "cell_type": "markdown",
   "metadata": {},
   "source": [
    "## Recommendations\n",
    "\n",
    "The shortlist of options presented to us are as follows for action:\n",
    "1. Permanently closing down up to 10 of the least used runs. This doesn't impact any other resort statistics.\n",
    "2. **Increase the vertical drop by adding a run to a point 150 feet lower down but requiring the installation of an additional chair lift to bring skiers back up, without additional snow making coverage**\n",
    "3. Same as number 2, but adding 2 acres of snow making cover\n",
    "4. Increase the longest run by 0.2 mile to boast 3.5 miles length, requiring an additional snow making coverage of 4 acres\n"
   ]
  },
  {
   "cell_type": "markdown",
   "metadata": {},
   "source": [
    "We recommend that Big Mountain proceeds to Scenario 2, which increases the vertical drop and installs an additional chair life to bring skiers back up the mountain. This is supported by the model that we selected, a Random Forest Regression model that uses 69 of the features in the data set. The results of adding this new information gave us:\n",
    "\n",
    "**Support to increase ticket price by $\\$$1.99 and increase overall revenue by $\\$$3,474,638.**\n",
    "\n",
    "Our secondary recommendation would be to explore the cost benefits of Scenario 1, which includes closing down up to 10 runs. Below, we can see that there is no significant decrease in ticket value if just 1 run is closed, and the difference between 3 runs and 5 runs closed is insignificant. Without information in regards to the cost reduction, we were unable to conclude if closing any runs would be worth the loss in revenue."
   ]
  },
  {
   "attachments": {},
   "cell_type": "markdown",
   "metadata": {},
   "source": [
    "![run_closure_vs_revenue.png](run_closure_vs_revenue.png)"
   ]
  },
  {
   "cell_type": "markdown",
   "metadata": {},
   "source": [
    "Lastly, we may be able to create a more accurate model if we were able to access information in regards to average visitor totals per resort and the costs for all aspects of running the resort. With this information, we can more accurately predict the effect on revenue and the ticket price that would be supported based on each recommendation."
   ]
  },
  {
   "cell_type": "code",
   "execution_count": null,
   "metadata": {},
   "outputs": [],
   "source": []
  }
 ],
 "metadata": {
  "kernelspec": {
   "display_name": "Python 3",
   "language": "python",
   "name": "python3"
  },
  "language_info": {
   "codemirror_mode": {
    "name": "ipython",
    "version": 3
   },
   "file_extension": ".py",
   "mimetype": "text/x-python",
   "name": "python",
   "nbconvert_exporter": "python",
   "pygments_lexer": "ipython3",
   "version": "3.8.3"
  }
 },
 "nbformat": 4,
 "nbformat_minor": 4
}
