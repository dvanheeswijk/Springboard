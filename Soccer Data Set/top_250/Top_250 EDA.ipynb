{
 "cells": [
  {
   "cell_type": "code",
   "execution_count": 1,
   "metadata": {},
   "outputs": [
    {
     "name": "stderr",
     "output_type": "stream",
     "text": [
      "<frozen importlib._bootstrap>:219: RuntimeWarning: numpy.ufunc size changed, may indicate binary incompatibility. Expected 192 from C header, got 216 from PyObject\n"
     ]
    }
   ],
   "source": [
    "import pandas as pd\n",
    "import numpy as np\n",
    "import matplotlib.pyplot as plt"
   ]
  },
  {
   "cell_type": "code",
   "execution_count": 2,
   "metadata": {},
   "outputs": [
    {
     "data": {
      "text/html": [
       "<div>\n",
       "<style scoped>\n",
       "    .dataframe tbody tr th:only-of-type {\n",
       "        vertical-align: middle;\n",
       "    }\n",
       "\n",
       "    .dataframe tbody tr th {\n",
       "        vertical-align: top;\n",
       "    }\n",
       "\n",
       "    .dataframe thead th {\n",
       "        text-align: right;\n",
       "    }\n",
       "</style>\n",
       "<table border=\"1\" class=\"dataframe\">\n",
       "  <thead>\n",
       "    <tr style=\"text-align: right;\">\n",
       "      <th></th>\n",
       "      <th>Name</th>\n",
       "      <th>Position</th>\n",
       "      <th>Age</th>\n",
       "      <th>Team_from</th>\n",
       "      <th>League_from</th>\n",
       "      <th>Team_to</th>\n",
       "      <th>League_to</th>\n",
       "      <th>Season</th>\n",
       "      <th>Market_value</th>\n",
       "      <th>Transfer_fee</th>\n",
       "    </tr>\n",
       "  </thead>\n",
       "  <tbody>\n",
       "    <tr>\n",
       "      <th>0</th>\n",
       "      <td>Luís Figo</td>\n",
       "      <td>Right Winger</td>\n",
       "      <td>27</td>\n",
       "      <td>FC Barcelona</td>\n",
       "      <td>LaLiga</td>\n",
       "      <td>Real Madrid</td>\n",
       "      <td>LaLiga</td>\n",
       "      <td>2000-2001</td>\n",
       "      <td>NaN</td>\n",
       "      <td>60000000</td>\n",
       "    </tr>\n",
       "    <tr>\n",
       "      <th>1</th>\n",
       "      <td>Hernán Crespo</td>\n",
       "      <td>Centre-Forward</td>\n",
       "      <td>25</td>\n",
       "      <td>Parma</td>\n",
       "      <td>Serie A</td>\n",
       "      <td>Lazio</td>\n",
       "      <td>Serie A</td>\n",
       "      <td>2000-2001</td>\n",
       "      <td>NaN</td>\n",
       "      <td>56810000</td>\n",
       "    </tr>\n",
       "    <tr>\n",
       "      <th>2</th>\n",
       "      <td>Marc Overmars</td>\n",
       "      <td>Left Winger</td>\n",
       "      <td>27</td>\n",
       "      <td>Arsenal</td>\n",
       "      <td>Premier League</td>\n",
       "      <td>FC Barcelona</td>\n",
       "      <td>LaLiga</td>\n",
       "      <td>2000-2001</td>\n",
       "      <td>NaN</td>\n",
       "      <td>40000000</td>\n",
       "    </tr>\n",
       "    <tr>\n",
       "      <th>3</th>\n",
       "      <td>Gabriel Batistuta</td>\n",
       "      <td>Centre-Forward</td>\n",
       "      <td>31</td>\n",
       "      <td>Fiorentina</td>\n",
       "      <td>Serie A</td>\n",
       "      <td>AS Roma</td>\n",
       "      <td>Serie A</td>\n",
       "      <td>2000-2001</td>\n",
       "      <td>NaN</td>\n",
       "      <td>36150000</td>\n",
       "    </tr>\n",
       "    <tr>\n",
       "      <th>4</th>\n",
       "      <td>Nicolas Anelka</td>\n",
       "      <td>Centre-Forward</td>\n",
       "      <td>21</td>\n",
       "      <td>Real Madrid</td>\n",
       "      <td>LaLiga</td>\n",
       "      <td>Paris SG</td>\n",
       "      <td>Ligue 1</td>\n",
       "      <td>2000-2001</td>\n",
       "      <td>NaN</td>\n",
       "      <td>34500000</td>\n",
       "    </tr>\n",
       "  </tbody>\n",
       "</table>\n",
       "</div>"
      ],
      "text/plain": [
       "                Name        Position  Age     Team_from     League_from  \\\n",
       "0          Luís Figo    Right Winger   27  FC Barcelona          LaLiga   \n",
       "1      Hernán Crespo  Centre-Forward   25         Parma         Serie A   \n",
       "2      Marc Overmars     Left Winger   27       Arsenal  Premier League   \n",
       "3  Gabriel Batistuta  Centre-Forward   31    Fiorentina         Serie A   \n",
       "4     Nicolas Anelka  Centre-Forward   21   Real Madrid          LaLiga   \n",
       "\n",
       "        Team_to League_to     Season  Market_value  Transfer_fee  \n",
       "0   Real Madrid    LaLiga  2000-2001           NaN      60000000  \n",
       "1         Lazio   Serie A  2000-2001           NaN      56810000  \n",
       "2  FC Barcelona    LaLiga  2000-2001           NaN      40000000  \n",
       "3       AS Roma   Serie A  2000-2001           NaN      36150000  \n",
       "4      Paris SG   Ligue 1  2000-2001           NaN      34500000  "
      ]
     },
     "execution_count": 2,
     "metadata": {},
     "output_type": "execute_result"
    }
   ],
   "source": [
    "top_250 = pd.read_csv('top250-00-19.csv')\n",
    "top_250.head()"
   ]
  },
  {
   "cell_type": "code",
   "execution_count": 3,
   "metadata": {},
   "outputs": [
    {
     "name": "stdout",
     "output_type": "stream",
     "text": [
      "<class 'pandas.core.frame.DataFrame'>\n",
      "RangeIndex: 4700 entries, 0 to 4699\n",
      "Data columns (total 10 columns):\n",
      " #   Column        Non-Null Count  Dtype  \n",
      "---  ------        --------------  -----  \n",
      " 0   Name          4700 non-null   object \n",
      " 1   Position      4700 non-null   object \n",
      " 2   Age           4700 non-null   int64  \n",
      " 3   Team_from     4700 non-null   object \n",
      " 4   League_from   4700 non-null   object \n",
      " 5   Team_to       4700 non-null   object \n",
      " 6   League_to     4700 non-null   object \n",
      " 7   Season        4700 non-null   object \n",
      " 8   Market_value  3440 non-null   float64\n",
      " 9   Transfer_fee  4700 non-null   int64  \n",
      "dtypes: float64(1), int64(2), object(7)\n",
      "memory usage: 367.3+ KB\n"
     ]
    }
   ],
   "source": [
    "top_250.info()"
   ]
  },
  {
   "cell_type": "code",
   "execution_count": 9,
   "metadata": {},
   "outputs": [
    {
     "data": {
      "text/plain": [
       "League_from\n",
       "Rel. Ligue 1        1.600000e+07\n",
       "LaLiga              1.323890e+07\n",
       "Liga NOS            1.253753e+07\n",
       "Premier League      1.192189e+07\n",
       "Serie A             1.176741e+07\n",
       "                        ...     \n",
       " China              1.702500e+06\n",
       "1.Lig               1.700000e+06\n",
       "U19 Eredivisie      1.500000e+06\n",
       " United States      1.000000e+06\n",
       "Challenge League    8.250000e+05\n",
       "Name: Transfer_fee, Length: 118, dtype: float64"
      ]
     },
     "execution_count": 9,
     "metadata": {},
     "output_type": "execute_result"
    }
   ],
   "source": [
    "top_250.groupby('League_from')['Transfer_fee'].mean().sort_values(ascending=False)"
   ]
  },
  {
   "cell_type": "code",
   "execution_count": 10,
   "metadata": {},
   "outputs": [
    {
     "data": {
      "text/html": [
       "<div>\n",
       "<style scoped>\n",
       "    .dataframe tbody tr th:only-of-type {\n",
       "        vertical-align: middle;\n",
       "    }\n",
       "\n",
       "    .dataframe tbody tr th {\n",
       "        vertical-align: top;\n",
       "    }\n",
       "\n",
       "    .dataframe thead th {\n",
       "        text-align: right;\n",
       "    }\n",
       "</style>\n",
       "<table border=\"1\" class=\"dataframe\">\n",
       "  <thead>\n",
       "    <tr style=\"text-align: right;\">\n",
       "      <th></th>\n",
       "      <th>Name</th>\n",
       "      <th>Position</th>\n",
       "      <th>Age</th>\n",
       "      <th>Team_from</th>\n",
       "      <th>League_from</th>\n",
       "      <th>Team_to</th>\n",
       "      <th>League_to</th>\n",
       "      <th>Season</th>\n",
       "      <th>Market_value</th>\n",
       "      <th>Transfer_fee</th>\n",
       "    </tr>\n",
       "  </thead>\n",
       "  <tbody>\n",
       "    <tr>\n",
       "      <th>4014</th>\n",
       "      <td>Didier Ndong</td>\n",
       "      <td>Central Midfield</td>\n",
       "      <td>22</td>\n",
       "      <td>FC Lorient</td>\n",
       "      <td>Rel. Ligue 1</td>\n",
       "      <td>Sunderland</td>\n",
       "      <td>Premier League</td>\n",
       "      <td>2016-2017</td>\n",
       "      <td>5000000.0</td>\n",
       "      <td>20000000</td>\n",
       "    </tr>\n",
       "    <tr>\n",
       "      <th>4080</th>\n",
       "      <td>Raphaël Guerreiro</td>\n",
       "      <td>Left-Back</td>\n",
       "      <td>22</td>\n",
       "      <td>FC Lorient</td>\n",
       "      <td>Rel. Ligue 1</td>\n",
       "      <td>Bor. Dortmund</td>\n",
       "      <td>1.Bundesliga</td>\n",
       "      <td>2016-2017</td>\n",
       "      <td>9000000.0</td>\n",
       "      <td>12000000</td>\n",
       "    </tr>\n",
       "  </tbody>\n",
       "</table>\n",
       "</div>"
      ],
      "text/plain": [
       "                   Name          Position  Age   Team_from   League_from  \\\n",
       "4014       Didier Ndong  Central Midfield   22  FC Lorient  Rel. Ligue 1   \n",
       "4080  Raphaël Guerreiro         Left-Back   22  FC Lorient  Rel. Ligue 1   \n",
       "\n",
       "            Team_to       League_to     Season  Market_value  Transfer_fee  \n",
       "4014     Sunderland  Premier League  2016-2017     5000000.0      20000000  \n",
       "4080  Bor. Dortmund    1.Bundesliga  2016-2017     9000000.0      12000000  "
      ]
     },
     "execution_count": 10,
     "metadata": {},
     "output_type": "execute_result"
    }
   ],
   "source": [
    "top_250[top_250['League_from']=='Rel. Ligue 1'].head()"
   ]
  },
  {
   "cell_type": "code",
   "execution_count": 11,
   "metadata": {},
   "outputs": [
    {
     "data": {
      "text/plain": [
       "array(['LaLiga', 'Serie A', 'Premier League', 'Ligue 1', 'LaLiga2',\n",
       "       ' Brazil', ' Argentina', 'Serie B', '1.Bundesliga', 'Premier Liga',\n",
       "       'Liga NOS', ' Czech Republic', ' Serbia', 'Eredivisie', ' England',\n",
       "       ' Scotland', 'Süper Lig', 'Eliteserien', ' Croatia',\n",
       "       'Super League', ' Mexico', ' Chile', 'Ligue 2', ' Uruguay',\n",
       "       ' Bulgaria', ' Korea, South', 'Ekstraklasa', ' Sweden', ' Latvia',\n",
       "       '2.Bundesliga', 'J1 - 2nd Stage', ' Finland', ' Denmark',\n",
       "       'Jupiler Pro League', ' Saudi Arabia', ' Australia',\n",
       "       'First Division', ' Portugal', ' Slovakia', ' Romania',\n",
       "       'Vysheyshaya Liga', ' China', '1.Liga gr. 1', ' Iran',\n",
       "       'Bundesliga', ' Venezuela', 'Primera Div. Apertura',\n",
       "       'Second Division (bis 03/04)', ' France',\n",
       "       'Auf-/Abstiegsrunde NLA/NLB', 'U19 Eredivisie', '1.Lig',\n",
       "       ' United States', 'Challenge League', 'Premiership', \"Ligat ha'Al\",\n",
       "       'K League 1', 'HET Liga', 'MLS', ' Spain', ' Tunisia',\n",
       "       ' South Africa', 'Virsliga', 'Serie C - A', 'Regionalliga Nord',\n",
       "       ' Colombia', ' Russia', ' Moldova', 'Championship', 'Série A',\n",
       "       'Superligaen', 'J1 League', ' Peru', ' Paraguay', 'NB I.',\n",
       "       ' Ukraine', 'Torneo Final', 'Allsvenskan', 'SuperLiga', ' Qatar',\n",
       "       '1.HNL', 'OBOS-ligaen', '2ª B - Grupo III', 'Liga MX Clausura',\n",
       "       'Liga 1', 'League One', 'Superettan', ' Ghana', 'Serie C - B',\n",
       "       'Série B', ' Ecuador', 'J2 League', ' United Arab Emirates',\n",
       "       'Primera División', 'Primera B Nacional', 'Primavera B',\n",
       "       '2ª B - Grupo I', '3.Liga', 'Liga Águila II', 'Segunda División',\n",
       "       'Professional League', 'Stars League', 'Ligue I Pro',\n",
       "       'Championnat National', 'Korean FA Cup', 'UAE Gulf League',\n",
       "       'Torneo Inicial', 'Serie A Segunda Etapa', '1.Division',\n",
       "       'Rel. Ligue 1', 'Liga 1 - Championship group',\n",
       "       'U18 Premier League', 'Superligaen Championship round',\n",
       "       'A Grupa - Championship gr.', 'Liga MX Apertura', ' Canada',\n",
       "       'Proximus League', 'Botola Pro'], dtype=object)"
      ]
     },
     "execution_count": 11,
     "metadata": {},
     "output_type": "execute_result"
    }
   ],
   "source": [
    "top_250.League_from.unique()"
   ]
  },
  {
   "cell_type": "code",
   "execution_count": 13,
   "metadata": {},
   "outputs": [
    {
     "data": {
      "text/plain": [
       "Position\n",
       "Attacking Midfield     4185100000\n",
       "Central Midfield       4916870000\n",
       "Centre-Back            6032295000\n",
       "Centre-Forward        11680950000\n",
       "Defender                  2000000\n",
       "Defensive Midfield     3695720000\n",
       "Forward                   6600000\n",
       "Goalkeeper             1372080000\n",
       "Left Midfield           584390000\n",
       "Left Winger            3445540000\n",
       "Left-Back              1736760000\n",
       "Midfielder                1130000\n",
       "Right Midfield          466460000\n",
       "Right Winger           3638760000\n",
       "Right-Back             1494030000\n",
       "Second Striker         1142720000\n",
       "Sweeper                   2250000\n",
       "Name: Transfer_fee, dtype: int64"
      ]
     },
     "execution_count": 13,
     "metadata": {},
     "output_type": "execute_result"
    }
   ],
   "source": [
    "top_250.groupby('Position')['Transfer_fee'].sum()"
   ]
  },
  {
   "cell_type": "code",
   "execution_count": 16,
   "metadata": {},
   "outputs": [
    {
     "data": {
      "text/plain": [
       "Position\n",
       "Left Winger           1.290464e+07\n",
       "Right Winger          1.193036e+07\n",
       "Central Midfield      1.009624e+07\n",
       "Attacking Midfield    9.824178e+06\n",
       "Centre-Forward        9.590271e+06\n",
       "Defensive Midfield    8.992019e+06\n",
       "Second Striker        8.790154e+06\n",
       "Centre-Back           8.448592e+06\n",
       "Right-Back            8.254309e+06\n",
       "Left-Back             7.718933e+06\n",
       "Goalkeeper            7.622667e+06\n",
       "Right Midfield        7.404127e+06\n",
       "Left Midfield         6.717126e+06\n",
       "Sweeper               2.250000e+06\n",
       "Forward               2.200000e+06\n",
       "Defender              2.000000e+06\n",
       "Midfielder            1.130000e+06\n",
       "Name: Transfer_fee, dtype: float64"
      ]
     },
     "execution_count": 16,
     "metadata": {},
     "output_type": "execute_result"
    }
   ],
   "source": [
    "(top_250.groupby('Position')['Transfer_fee'].sum() / top_250.groupby('Position')['Transfer_fee'].count()).sort_values(ascending=False)"
   ]
  },
  {
   "cell_type": "code",
   "execution_count": null,
   "metadata": {},
   "outputs": [],
   "source": []
  }
 ],
 "metadata": {
  "kernelspec": {
   "display_name": "Python 3",
   "language": "python",
   "name": "python3"
  },
  "language_info": {
   "codemirror_mode": {
    "name": "ipython",
    "version": 3
   },
   "file_extension": ".py",
   "mimetype": "text/x-python",
   "name": "python",
   "nbconvert_exporter": "python",
   "pygments_lexer": "ipython3",
   "version": "3.8.3"
  }
 },
 "nbformat": 4,
 "nbformat_minor": 4
}
