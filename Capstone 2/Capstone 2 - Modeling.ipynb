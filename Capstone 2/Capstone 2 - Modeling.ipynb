{
 "cells": [
  {
   "cell_type": "markdown",
   "metadata": {},
   "source": [
    "# Modeling - Football Transfer Data Project\n",
    "\n",
    "In this notebook, we will tackle our training and test sets created in the [previous notebook](http://localhost:8888/notebooks/Springboard/Springboard/Capstone%202/Capstone%202%20-%20Preprocessing%20and%20Training.ipynb) and try to run through a few models in an effort to create a best model for predicting market value.\n",
    "\n",
    "We saved the split of data between training data (found in scaled_training.csv) and prediction data (found in prediciton.csv). Our training sets of data will be found in the scaled_training data set, which we will read in now, along with importing the necessary libraries."
   ]
  },
  {
   "cell_type": "code",
   "execution_count": 2,
   "metadata": {},
   "outputs": [],
   "source": [
    "import pandas as pd\n",
    "import numpy as np\n",
    "import matplotlib.pyplot as plt\n",
    "import seaborn as sns\n",
    "from sklearn.metrics import r2_score\n",
    "from sklearn import preprocessing\n",
    "\n",
    "df = pd.read_csv('scaled_training.csv')\n",
    "df.head()\n",
    "\n",
    "train_df = pd.read_csv(\"training.csv\")"
   ]
  },
  {
   "cell_type": "markdown",
   "metadata": {},
   "source": [
    "As we can see, our dataframe for testing has already been scaled in the previous notebook. We will now recreate our training and test data split, as we did before."
   ]
  },
  {
   "cell_type": "code",
   "execution_count": 3,
   "metadata": {},
   "outputs": [],
   "source": [
    "from sklearn.model_selection import train_test_split\n",
    "\n",
    "X = train_df.drop(columns=['market_value'])\n",
    "y = train_df['market_value']\n",
    "# y_dis = train_df['market_value_est']\n",
    "\n",
    "X_train, X_test, y_train, y_test = train_test_split(X, y, test_size=0.3, random_state=42)"
   ]
  },
  {
   "cell_type": "code",
   "execution_count": 4,
   "metadata": {},
   "outputs": [
    {
     "name": "stdout",
     "output_type": "stream",
     "text": [
      "(54361, 25) (23298, 25)\n",
      "(54361,) (23298,)\n"
     ]
    }
   ],
   "source": [
    "print(X_train.shape, X_test.shape)\n",
    "print(y_train.shape, y_test.shape)"
   ]
  },
  {
   "cell_type": "code",
   "execution_count": 5,
   "metadata": {},
   "outputs": [],
   "source": [
    "X_train = np.nan_to_num(X_train)\n",
    "y_train = np.nan_to_num(y_train)"
   ]
  },
  {
   "cell_type": "code",
   "execution_count": null,
   "metadata": {},
   "outputs": [],
   "source": []
  },
  {
   "cell_type": "markdown",
   "metadata": {},
   "source": [
    "### Model Selection\n",
    "\n",
    "For this notebook, we will be creating and evaluating 4 models in an effort to find the best one for predicting market value for players in European Football. We will explore the following:\n",
    "\n",
    "* Random Forest\n",
    "* Gradient Boosting\n",
    "* K Means Neighbors\n",
    "* Stochastic Gradient Descent"
   ]
  },
  {
   "cell_type": "markdown",
   "metadata": {},
   "source": [
    "#### Random Forest"
   ]
  },
  {
   "cell_type": "code",
   "execution_count": 6,
   "metadata": {},
   "outputs": [
    {
     "data": {
      "text/plain": [
       "RandomForestRegressor(max_depth=100, n_estimators=800)"
      ]
     },
     "execution_count": 6,
     "metadata": {},
     "output_type": "execute_result"
    }
   ],
   "source": [
    "from sklearn.ensemble import RandomForestRegressor\n",
    "\n",
    "# params = ['n_estimators'=800,\n",
    "#  'min_samples_split'= 2,\n",
    "#  'min_samples_leaf'= 1,\n",
    "#  'max_features'= 'auto',\n",
    "#  'max_depth'= 100,\n",
    "#  'bootstrap'= True]\n",
    "\n",
    "\n",
    "rf = RandomForestRegressor(n_estimators=800,\n",
    "                         min_samples_split= 2,\n",
    "                         min_samples_leaf= 1,\n",
    "                         max_features= 'auto',\n",
    "                         max_depth= 100,\n",
    "                         bootstrap= True)\n",
    "\n",
    "rf.fit(X_train, y_train)"
   ]
  },
  {
   "cell_type": "code",
   "execution_count": 7,
   "metadata": {},
   "outputs": [],
   "source": [
    "from sklearn import tree, metrics\n",
    "y_pred_rf = pd.Series(rf.predict(X_test))"
   ]
  },
  {
   "cell_type": "code",
   "execution_count": 8,
   "metadata": {},
   "outputs": [
    {
     "name": "stdout",
     "output_type": "stream",
     "text": [
      "0.7230886911969054\n"
     ]
    }
   ],
   "source": [
    "print(r2_score(y_pred_rf, y_test))\n",
    "\n",
    "rf_r2 = r2_score(y_pred_rf, y_test)"
   ]
  },
  {
   "cell_type": "code",
   "execution_count": null,
   "metadata": {},
   "outputs": [],
   "source": []
  },
  {
   "cell_type": "markdown",
   "metadata": {},
   "source": [
    "#### Gradient Boosting Machine"
   ]
  },
  {
   "cell_type": "code",
   "execution_count": 9,
   "metadata": {},
   "outputs": [
    {
     "data": {
      "text/plain": [
       "GradientBoostingRegressor(n_estimators=1000, random_state=1234)"
      ]
     },
     "execution_count": 9,
     "metadata": {},
     "output_type": "execute_result"
    }
   ],
   "source": [
    "from sklearn.ensemble import GradientBoostingRegressor\n",
    "\n",
    "gb = GradientBoostingRegressor(n_estimators=1000, learning_rate=0.1, random_state=1234)\n",
    "\n",
    "gb.fit(X_train, y_train)"
   ]
  },
  {
   "cell_type": "code",
   "execution_count": 10,
   "metadata": {},
   "outputs": [
    {
     "name": "stdout",
     "output_type": "stream",
     "text": [
      "0.6841349429975183\n"
     ]
    }
   ],
   "source": [
    "y_pred_gb = gb.predict(X_test)\n",
    "\n",
    "print(r2_score(y_pred_gb, y_test))\n",
    "\n",
    "gb_r2 = r2_score(y_pred_gb, y_test)"
   ]
  },
  {
   "cell_type": "code",
   "execution_count": null,
   "metadata": {},
   "outputs": [],
   "source": []
  },
  {
   "cell_type": "code",
   "execution_count": null,
   "metadata": {},
   "outputs": [],
   "source": []
  },
  {
   "cell_type": "code",
   "execution_count": null,
   "metadata": {},
   "outputs": [],
   "source": []
  },
  {
   "cell_type": "code",
   "execution_count": null,
   "metadata": {},
   "outputs": [],
   "source": []
  },
  {
   "cell_type": "markdown",
   "metadata": {},
   "source": [
    "#### K Means Neighbors"
   ]
  },
  {
   "cell_type": "code",
   "execution_count": 11,
   "metadata": {},
   "outputs": [],
   "source": [
    "from sklearn.neighbors import KNeighborsRegressor\n",
    "\n",
    "test_scores = []\n",
    "train_scores = []\n",
    "\n",
    "for i in range(1,20):\n",
    "\n",
    "    knn = KNeighborsRegressor(i)\n",
    "    knn.fit(X_train,y_train)\n",
    "    \n",
    "    train_scores.append(knn.score(X_train,y_train))\n",
    "    test_scores.append(knn.score(X_test,y_test))"
   ]
  },
  {
   "cell_type": "code",
   "execution_count": 12,
   "metadata": {},
   "outputs": [
    {
     "name": "stderr",
     "output_type": "stream",
     "text": [
      "C:\\Users\\david\\anaconda3\\lib\\site-packages\\seaborn\\_decorators.py:36: FutureWarning: Pass the following variables as keyword args: x, y. From version 0.12, the only valid positional argument will be `data`, and passing other arguments without an explicit keyword will result in an error or misinterpretation.\n",
      "  warnings.warn(\n",
      "C:\\Users\\david\\anaconda3\\lib\\site-packages\\seaborn\\_decorators.py:36: FutureWarning: Pass the following variables as keyword args: x, y. From version 0.12, the only valid positional argument will be `data`, and passing other arguments without an explicit keyword will result in an error or misinterpretation.\n",
      "  warnings.warn(\n"
     ]
    },
    {
     "data": {
      "image/png": "[encoded data removed]",
      "text/plain": [
       "<Figure size 864x360 with 1 Axes>"
      ]
     },
     "metadata": {
      "needs_background": "light"
     },
     "output_type": "display_data"
    }
   ],
   "source": [
    "plt.figure(figsize=(12,5))\n",
    "p = sns.lineplot(range(1,20),train_scores,marker='*',label='Train Score')\n",
    "p = sns.lineplot(range(1,20),test_scores,marker='o',label='Test Score')\n",
    "plt.locator_params(nbins=10)"
   ]
  },
  {
   "cell_type": "code",
   "execution_count": 13,
   "metadata": {},
   "outputs": [
    {
     "data": {
      "text/plain": [
       "KNeighborsRegressor()"
      ]
     },
     "execution_count": 13,
     "metadata": {},
     "output_type": "execute_result"
    }
   ],
   "source": [
    "best_knn = KNeighborsRegressor(5)\n",
    "\n",
    "best_knn.fit(X_train, y_train)"
   ]
  },
  {
   "cell_type": "code",
   "execution_count": 14,
   "metadata": {},
   "outputs": [
    {
     "name": "stdout",
     "output_type": "stream",
     "text": [
      "0.3945291348891786\n"
     ]
    }
   ],
   "source": [
    "y_pred_knn = best_knn.predict(X_test)\n",
    "print(r2_score(y_pred_knn, y_test))\n",
    "\n",
    "knn_r2 = r2_score(y_pred_knn, y_test)"
   ]
  },
  {
   "cell_type": "markdown",
   "metadata": {},
   "source": [
    "#### Stochastic Gradient Descent Regressor"
   ]
  },
  {
   "cell_type": "code",
   "execution_count": 15,
   "metadata": {},
   "outputs": [
    {
     "data": {
      "text/plain": [
       "SGDRegressor(loss='huber')"
      ]
     },
     "execution_count": 15,
     "metadata": {},
     "output_type": "execute_result"
    }
   ],
   "source": [
    "from sklearn.linear_model import SGDRegressor\n",
    "\n",
    "sgd = SGDRegressor(loss='huber')\n",
    "\n",
    "sgd.fit(X_train, y_train)"
   ]
  },
  {
   "cell_type": "code",
   "execution_count": 16,
   "metadata": {},
   "outputs": [
    {
     "name": "stdout",
     "output_type": "stream",
     "text": [
      "-0.05792590092569294\n"
     ]
    }
   ],
   "source": [
    "y_pred_sgd = sgd.predict(X_test)\n",
    "\n",
    "print(r2_score(y_pred_sgd, y_test))\n",
    "\n",
    "sgd_r2 = r2_score(y_pred_sgd, y_test)"
   ]
  },
  {
   "cell_type": "code",
   "execution_count": null,
   "metadata": {},
   "outputs": [],
   "source": []
  },
  {
   "cell_type": "code",
   "execution_count": 17,
   "metadata": {},
   "outputs": [],
   "source": [
    "best_model_continuos = rf"
   ]
  },
  {
   "cell_type": "markdown",
   "metadata": {},
   "source": [
    "We conclude that the Random Forest Model that we created would be the best model to move forward with in regards to predicting market values. It should be noted that the R2 scores were all low, meaning that there could be room for improvement with either more substantial data or better scaling/feature selection."
   ]
  },
  {
   "cell_type": "markdown",
   "metadata": {},
   "source": [
    "#### Model for Market Value based on range rather than exact value"
   ]
  },
  {
   "cell_type": "code",
   "execution_count": 18,
   "metadata": {},
   "outputs": [
    {
     "ename": "NameError",
     "evalue": "name 'y_dis' is not defined",
     "output_type": "error",
     "traceback": [
      "\u001b[1;31m---------------------------------------------------------------------------\u001b[0m",
      "\u001b[1;31mNameError\u001b[0m                                 Traceback (most recent call last)",
      "\u001b[1;32m<ipython-input-18-111933505cfd>\u001b[0m in \u001b[0;36m<module>\u001b[1;34m\u001b[0m\n\u001b[1;32m----> 1\u001b[1;33m \u001b[0mX_train\u001b[0m\u001b[1;33m,\u001b[0m \u001b[0mX_test\u001b[0m\u001b[1;33m,\u001b[0m \u001b[0my_train\u001b[0m\u001b[1;33m,\u001b[0m \u001b[0my_test\u001b[0m \u001b[1;33m=\u001b[0m \u001b[0mtrain_test_split\u001b[0m\u001b[1;33m(\u001b[0m\u001b[0mX\u001b[0m\u001b[1;33m,\u001b[0m \u001b[0my_dis\u001b[0m\u001b[1;33m,\u001b[0m \u001b[0mtest_size\u001b[0m\u001b[1;33m=\u001b[0m\u001b[1;36m0.3\u001b[0m\u001b[1;33m,\u001b[0m \u001b[0mrandom_state\u001b[0m\u001b[1;33m=\u001b[0m\u001b[1;36m42\u001b[0m\u001b[1;33m)\u001b[0m\u001b[1;33m\u001b[0m\u001b[1;33m\u001b[0m\u001b[0m\n\u001b[0m",
      "\u001b[1;31mNameError\u001b[0m: name 'y_dis' is not defined"
     ]
    }
   ],
   "source": [
    "X_train, X_test, y_train, y_test = train_test_split(X, y_dis, test_size=0.3, random_state=42)"
   ]
  },
  {
   "cell_type": "code",
   "execution_count": null,
   "metadata": {},
   "outputs": [],
   "source": [
    "X_train = np.nan_to_num(X_train)\n",
    "y_train = np.nan_to_num(y_train)"
   ]
  },
  {
   "cell_type": "markdown",
   "metadata": {},
   "source": [
    "Because our data is more discrete that before, we expect there to be a difference in the predictability of models as the ranges are not as precise for the y values."
   ]
  },
  {
   "cell_type": "code",
   "execution_count": null,
   "metadata": {},
   "outputs": [],
   "source": [
    "rf2 = RandomForestRegressor()\n",
    "\n",
    "rf2.fit(X_train, y_train)\n",
    "\n",
    "rf2_r2 = r2_score(rf2.predict(X_test),y_test)\n",
    "\n",
    "print(rf2_r2)"
   ]
  },
  {
   "cell_type": "markdown",
   "metadata": {},
   "source": [
    "With no parameter tuning, we already have a better R2 score for the Random Forest. I suspect that if we find the best parameters, we will have a significantly better model, as well."
   ]
  },
  {
   "cell_type": "code",
   "execution_count": null,
   "metadata": {},
   "outputs": [],
   "source": [
    "# from sklearn.model_selection import RandomizedSearchCV\n",
    "# # Number of trees in random forest\n",
    "# n_estimators = [int(x) for x in np.linspace(start = 200, stop = 2000, num = 10)]\n",
    "# # Number of features to consider at every split\n",
    "# max_features = ['auto', 'sqrt']\n",
    "# # Maximum number of levels in tree\n",
    "# max_depth = [int(x) for x in np.linspace(10, 110, num = 11)]\n",
    "# max_depth.append(None)\n",
    "# # Minimum number of samples required to split a node\n",
    "# min_samples_split = [2, 5, 10]\n",
    "# # Minimum number of samples required at each leaf node\n",
    "# min_samples_leaf = [1, 2, 4]\n",
    "# # Method of selecting samples for training each tree\n",
    "# bootstrap = [True, False]\n",
    "# # Create the random grid\n",
    "# random_grid = {'n_estimators': n_estimators,\n",
    "#                'max_features': max_features,\n",
    "#                'max_depth': max_depth,\n",
    "#                'min_samples_split': min_samples_split,\n",
    "#                'min_samples_leaf': min_samples_leaf,\n",
    "#                'bootstrap': bootstrap}\n",
    "# print(random_grid)"
   ]
  },
  {
   "cell_type": "code",
   "execution_count": null,
   "metadata": {},
   "outputs": [],
   "source": [
    "# # Use the random grid to search for best hyperparameters\n",
    "# # First create the base model to tune\n",
    "# rf_opt = RandomForestRegressor()\n",
    "# # Random search of parameters, using 3 fold cross validation, \n",
    "# # search across 100 different combinations, and use all available cores\n",
    "# rf_random = RandomizedSearchCV(estimator = rf_opt, param_distributions = random_grid, n_iter = 100, cv = 3, verbose=2, random_state=42, n_jobs = -1)\n",
    "# # Fit the random search model\n",
    "# rf_random.fit(X_train, y_train)"
   ]
  },
  {
   "cell_type": "code",
   "execution_count": null,
   "metadata": {},
   "outputs": [],
   "source": [
    "from sklearn import __version__ as sklearn_version\n",
    "from sklearn.decomposition import PCA\n",
    "from sklearn.preprocessing import scale\n",
    "from sklearn.model_selection import train_test_split, cross_validate, GridSearchCV, learning_curve\n",
    "from sklearn.preprocessing import StandardScaler, MinMaxScaler\n",
    "from sklearn.dummy import DummyRegressor\n",
    "from sklearn.linear_model import LinearRegression\n",
    "from sklearn.ensemble import RandomForestRegressor\n",
    "from sklearn.metrics import r2_score, mean_squared_error, mean_absolute_error\n",
    "from sklearn.pipeline import make_pipeline\n",
    "from sklearn.impute import SimpleImputer\n",
    "from sklearn.feature_selection import SelectKBest, f_regression\n",
    "import datetime"
   ]
  },
  {
   "cell_type": "code",
   "execution_count": null,
   "metadata": {},
   "outputs": [],
   "source": [
    "rf_random.best_params_"
   ]
  },
  {
   "cell_type": "code",
   "execution_count": null,
   "metadata": {},
   "outputs": [],
   "source": [
    "rf_best = RandomForestRegressor(n_estimators=1400,\n",
    " min_samples_split=2,\n",
    " min_samples_leaf=1,\n",
    " max_features='auto',\n",
    " max_depth=100\n",
    " ,bootstrap=True)\n",
    "\n",
    "rf_best.fit(X_train, y_train)"
   ]
  },
  {
   "cell_type": "code",
   "execution_count": null,
   "metadata": {},
   "outputs": [],
   "source": [
    "X_train = pd.DataFrame(X_train)"
   ]
  },
  {
   "cell_type": "code",
   "execution_count": null,
   "metadata": {},
   "outputs": [],
   "source": [
    "# import os\n",
    "# import pickle\n",
    "\n",
    "# best_model_disc = rf_random.best_estimator_\n",
    "# best_model_disc.version = 1.0\n",
    "# best_model_disc.pandas_version = pd.__version__\n",
    "# best_model_disc.numpy_version = np.__version__\n",
    "# best_model_disc.sklearn_version = sklearn_version\n",
    "# best_model_disc.X_columns = [col for col in X_train.columns]\n",
    "# best_model_disc.build_datetime = datetime.datetime.now()\n",
    "    \n",
    "# modelpath = '../models'\n",
    "# if not os.path.exists(modelpath):\n",
    "#     os.mkdir(modelpath)\n",
    "# disc_model_path = os.path.join(modelpath, 'disc_market_value_model.pkl')\n",
    "# if not os.path.exists(disc_model_path):\n",
    "#     with open(disc_model_path, 'wb') as f:\n",
    "#         pickle.dump(best_model_disc, f)"
   ]
  },
  {
   "cell_type": "code",
   "execution_count": null,
   "metadata": {},
   "outputs": [],
   "source": [
    "rf_disc_r2 = r2_score(rf_best.predict(X_test), y_test)"
   ]
  },
  {
   "cell_type": "code",
   "execution_count": null,
   "metadata": {},
   "outputs": [],
   "source": [
    "rf_disc_r2"
   ]
  },
  {
   "cell_type": "code",
   "execution_count": null,
   "metadata": {},
   "outputs": [],
   "source": [
    "best_model_disc = rf_best"
   ]
  },
  {
   "cell_type": "markdown",
   "metadata": {},
   "source": [
    "#### Conclusions\n",
    "\n",
    "We have below the results of the assessment of our 4 models for the continous market values: Random Forest Regressor, Gradient Boosting Regressor, K Means Neighbors Regression, and Stochastic Gradient Descent Regressor. We can see that the best model, given by the R2 score, would be the Random Forest, followed by the Gradient Boosting Regressor. The other two have much lower scores, and thus do not do a good job of predicting the market value for this data set.\n",
    "\n",
    "We also placed the random forest model based on discrete values of market value (grouped by /$500,000 intervals). As we can see, the discrete Random Forest model has a slightly lower R2 score than the continuous Random Forest model."
   ]
  },
  {
   "cell_type": "code",
   "execution_count": null,
   "metadata": {},
   "outputs": [],
   "source": [
    "r2 = [['Random Forest Continuous',rf_r2],['Random Forest Discrete', rf_disc_r2],['Gradient Boost', gb_r2], ['K Means Regressor', knn_r2], ['Stochastic Gradient', sgd_r2]]\n",
    "\n",
    "r2_df = pd.DataFrame(r2, columns=['Model', 'R2-Score'])"
   ]
  },
  {
   "cell_type": "code",
   "execution_count": null,
   "metadata": {},
   "outputs": [],
   "source": [
    "r2_df"
   ]
  },
  {
   "cell_type": "markdown",
   "metadata": {},
   "source": [
    "We will now test the model on our set of data that has null values for market value to see if either makes sense in regards to their predictions."
   ]
  },
  {
   "cell_type": "code",
   "execution_count": 19,
   "metadata": {},
   "outputs": [
    {
     "data": {
      "text/html": [
       "<div>\n",
       "<style scoped>\n",
       "    .dataframe tbody tr th:only-of-type {\n",
       "        vertical-align: middle;\n",
       "    }\n",
       "\n",
       "    .dataframe tbody tr th {\n",
       "        vertical-align: top;\n",
       "    }\n",
       "\n",
       "    .dataframe thead th {\n",
       "        text-align: right;\n",
       "    }\n",
       "</style>\n",
       "<table border=\"1\" class=\"dataframe\">\n",
       "  <thead>\n",
       "    <tr style=\"text-align: right;\">\n",
       "      <th></th>\n",
       "      <th>player_id</th>\n",
       "      <th>season</th>\n",
       "      <th>minutes_played</th>\n",
       "      <th>goal_contributions</th>\n",
       "      <th>minutes_per_appearance</th>\n",
       "      <th>height</th>\n",
       "      <th>fee</th>\n",
       "      <th>age</th>\n",
       "      <th>CB</th>\n",
       "      <th>CDM</th>\n",
       "      <th>...</th>\n",
       "      <th>RM</th>\n",
       "      <th>S</th>\n",
       "      <th>Asia</th>\n",
       "      <th>Europe</th>\n",
       "      <th>North_America</th>\n",
       "      <th>Other</th>\n",
       "      <th>South_America</th>\n",
       "      <th>Tier_2</th>\n",
       "      <th>Tier_3</th>\n",
       "      <th>Tier_4</th>\n",
       "    </tr>\n",
       "  </thead>\n",
       "  <tbody>\n",
       "    <tr>\n",
       "      <th>0</th>\n",
       "      <td>1</td>\n",
       "      <td>2007</td>\n",
       "      <td>3789</td>\n",
       "      <td>21.0</td>\n",
       "      <td>84</td>\n",
       "      <td>188.0</td>\n",
       "      <td>0.0</td>\n",
       "      <td>24</td>\n",
       "      <td>0</td>\n",
       "      <td>0</td>\n",
       "      <td>...</td>\n",
       "      <td>0</td>\n",
       "      <td>1</td>\n",
       "      <td>0</td>\n",
       "      <td>0</td>\n",
       "      <td>1</td>\n",
       "      <td>0</td>\n",
       "      <td>0</td>\n",
       "      <td>0</td>\n",
       "      <td>0</td>\n",
       "      <td>1</td>\n",
       "    </tr>\n",
       "    <tr>\n",
       "      <th>1</th>\n",
       "      <td>1</td>\n",
       "      <td>2008</td>\n",
       "      <td>3283</td>\n",
       "      <td>35.0</td>\n",
       "      <td>80</td>\n",
       "      <td>188.0</td>\n",
       "      <td>0.0</td>\n",
       "      <td>25</td>\n",
       "      <td>0</td>\n",
       "      <td>0</td>\n",
       "      <td>...</td>\n",
       "      <td>0</td>\n",
       "      <td>1</td>\n",
       "      <td>0</td>\n",
       "      <td>0</td>\n",
       "      <td>1</td>\n",
       "      <td>0</td>\n",
       "      <td>0</td>\n",
       "      <td>0</td>\n",
       "      <td>0</td>\n",
       "      <td>1</td>\n",
       "    </tr>\n",
       "    <tr>\n",
       "      <th>2</th>\n",
       "      <td>1</td>\n",
       "      <td>2009</td>\n",
       "      <td>4184</td>\n",
       "      <td>39.0</td>\n",
       "      <td>82</td>\n",
       "      <td>188.0</td>\n",
       "      <td>0.0</td>\n",
       "      <td>26</td>\n",
       "      <td>0</td>\n",
       "      <td>0</td>\n",
       "      <td>...</td>\n",
       "      <td>0</td>\n",
       "      <td>1</td>\n",
       "      <td>0</td>\n",
       "      <td>0</td>\n",
       "      <td>1</td>\n",
       "      <td>0</td>\n",
       "      <td>0</td>\n",
       "      <td>0</td>\n",
       "      <td>0</td>\n",
       "      <td>1</td>\n",
       "    </tr>\n",
       "    <tr>\n",
       "      <th>3</th>\n",
       "      <td>1</td>\n",
       "      <td>2016</td>\n",
       "      <td>543</td>\n",
       "      <td>4.0</td>\n",
       "      <td>30</td>\n",
       "      <td>188.0</td>\n",
       "      <td>0.0</td>\n",
       "      <td>33</td>\n",
       "      <td>0</td>\n",
       "      <td>0</td>\n",
       "      <td>...</td>\n",
       "      <td>0</td>\n",
       "      <td>1</td>\n",
       "      <td>0</td>\n",
       "      <td>0</td>\n",
       "      <td>1</td>\n",
       "      <td>0</td>\n",
       "      <td>0</td>\n",
       "      <td>0</td>\n",
       "      <td>0</td>\n",
       "      <td>1</td>\n",
       "    </tr>\n",
       "    <tr>\n",
       "      <th>4</th>\n",
       "      <td>1</td>\n",
       "      <td>2018</td>\n",
       "      <td>13</td>\n",
       "      <td>0.0</td>\n",
       "      <td>13</td>\n",
       "      <td>188.0</td>\n",
       "      <td>0.0</td>\n",
       "      <td>35</td>\n",
       "      <td>0</td>\n",
       "      <td>0</td>\n",
       "      <td>...</td>\n",
       "      <td>0</td>\n",
       "      <td>1</td>\n",
       "      <td>0</td>\n",
       "      <td>0</td>\n",
       "      <td>1</td>\n",
       "      <td>0</td>\n",
       "      <td>0</td>\n",
       "      <td>0</td>\n",
       "      <td>0</td>\n",
       "      <td>1</td>\n",
       "    </tr>\n",
       "  </tbody>\n",
       "</table>\n",
       "<p>5 rows × 25 columns</p>\n",
       "</div>"
      ],
      "text/plain": [
       "   player_id  season  minutes_played  goal_contributions  \\\n",
       "0          1    2007            3789                21.0   \n",
       "1          1    2008            3283                35.0   \n",
       "2          1    2009            4184                39.0   \n",
       "3          1    2016             543                 4.0   \n",
       "4          1    2018              13                 0.0   \n",
       "\n",
       "   minutes_per_appearance  height  fee  age  CB  CDM  ...  RM  S  Asia  \\\n",
       "0                      84   188.0  0.0   24   0    0  ...   0  1     0   \n",
       "1                      80   188.0  0.0   25   0    0  ...   0  1     0   \n",
       "2                      82   188.0  0.0   26   0    0  ...   0  1     0   \n",
       "3                      30   188.0  0.0   33   0    0  ...   0  1     0   \n",
       "4                      13   188.0  0.0   35   0    0  ...   0  1     0   \n",
       "\n",
       "   Europe  North_America  Other  South_America  Tier_2  Tier_3  Tier_4  \n",
       "0       0              1      0              0       0       0       1  \n",
       "1       0              1      0              0       0       0       1  \n",
       "2       0              1      0              0       0       0       1  \n",
       "3       0              1      0              0       0       0       1  \n",
       "4       0              1      0              0       0       0       1  \n",
       "\n",
       "[5 rows x 25 columns]"
      ]
     },
     "execution_count": 19,
     "metadata": {},
     "output_type": "execute_result"
    }
   ],
   "source": [
    "df_predict = pd.read_csv('prediction.csv')\n",
    "\n",
    "df_predict.drop(columns='market_value', inplace=True)\n",
    "\n",
    "df_predict.head()"
   ]
  },
  {
   "cell_type": "code",
   "execution_count": 20,
   "metadata": {},
   "outputs": [
    {
     "data": {
      "text/plain": [
       "array([1000584.,  764117.,  894835., 1634408., 1108160.])"
      ]
     },
     "execution_count": 20,
     "metadata": {},
     "output_type": "execute_result"
    }
   ],
   "source": [
    "cont_pred = np.round(best_model_continuos.predict(df_predict),0)\n",
    "\n",
    "cont_pred[:5]"
   ]
  },
  {
   "cell_type": "code",
   "execution_count": null,
   "metadata": {},
   "outputs": [],
   "source": [
    "disc_pred = np.round(best_model_disc.predict(df_predict),0)\n",
    "\n",
    "disc_pred[:5]"
   ]
  },
  {
   "cell_type": "markdown",
   "metadata": {},
   "source": [
    "We can see, just from the first 5 entries that are produced by our two models, that there are slight differences in market value prediction. It also seems that the discrete model prediction may be consistently less than the continuous version. We will now explore the set of predictions based on just 2018 and verify which of the two models has the best predictions."
   ]
  },
  {
   "cell_type": "code",
   "execution_count": 21,
   "metadata": {},
   "outputs": [
    {
     "data": {
      "text/html": [
       "<div>\n",
       "<style scoped>\n",
       "    .dataframe tbody tr th:only-of-type {\n",
       "        vertical-align: middle;\n",
       "    }\n",
       "\n",
       "    .dataframe tbody tr th {\n",
       "        vertical-align: top;\n",
       "    }\n",
       "\n",
       "    .dataframe thead th {\n",
       "        text-align: right;\n",
       "    }\n",
       "</style>\n",
       "<table border=\"1\" class=\"dataframe\">\n",
       "  <thead>\n",
       "    <tr style=\"text-align: right;\">\n",
       "      <th></th>\n",
       "      <th>player_id</th>\n",
       "      <th>season</th>\n",
       "      <th>minutes_played</th>\n",
       "      <th>goal_contributions</th>\n",
       "      <th>minutes_per_appearance</th>\n",
       "      <th>height</th>\n",
       "      <th>fee</th>\n",
       "      <th>age</th>\n",
       "      <th>CB</th>\n",
       "      <th>CDM</th>\n",
       "      <th>...</th>\n",
       "      <th>S</th>\n",
       "      <th>Asia</th>\n",
       "      <th>Europe</th>\n",
       "      <th>North_America</th>\n",
       "      <th>Other</th>\n",
       "      <th>South_America</th>\n",
       "      <th>Tier_2</th>\n",
       "      <th>Tier_3</th>\n",
       "      <th>Tier_4</th>\n",
       "      <th>continuous_value_prediction</th>\n",
       "    </tr>\n",
       "  </thead>\n",
       "  <tbody>\n",
       "    <tr>\n",
       "      <th>0</th>\n",
       "      <td>1</td>\n",
       "      <td>2007</td>\n",
       "      <td>3789</td>\n",
       "      <td>21.0</td>\n",
       "      <td>84</td>\n",
       "      <td>188.0</td>\n",
       "      <td>0.0</td>\n",
       "      <td>24</td>\n",
       "      <td>0</td>\n",
       "      <td>0</td>\n",
       "      <td>...</td>\n",
       "      <td>1</td>\n",
       "      <td>0</td>\n",
       "      <td>0</td>\n",
       "      <td>1</td>\n",
       "      <td>0</td>\n",
       "      <td>0</td>\n",
       "      <td>0</td>\n",
       "      <td>0</td>\n",
       "      <td>1</td>\n",
       "      <td>1000584.0</td>\n",
       "    </tr>\n",
       "    <tr>\n",
       "      <th>1</th>\n",
       "      <td>1</td>\n",
       "      <td>2008</td>\n",
       "      <td>3283</td>\n",
       "      <td>35.0</td>\n",
       "      <td>80</td>\n",
       "      <td>188.0</td>\n",
       "      <td>0.0</td>\n",
       "      <td>25</td>\n",
       "      <td>0</td>\n",
       "      <td>0</td>\n",
       "      <td>...</td>\n",
       "      <td>1</td>\n",
       "      <td>0</td>\n",
       "      <td>0</td>\n",
       "      <td>1</td>\n",
       "      <td>0</td>\n",
       "      <td>0</td>\n",
       "      <td>0</td>\n",
       "      <td>0</td>\n",
       "      <td>1</td>\n",
       "      <td>764117.0</td>\n",
       "    </tr>\n",
       "    <tr>\n",
       "      <th>2</th>\n",
       "      <td>1</td>\n",
       "      <td>2009</td>\n",
       "      <td>4184</td>\n",
       "      <td>39.0</td>\n",
       "      <td>82</td>\n",
       "      <td>188.0</td>\n",
       "      <td>0.0</td>\n",
       "      <td>26</td>\n",
       "      <td>0</td>\n",
       "      <td>0</td>\n",
       "      <td>...</td>\n",
       "      <td>1</td>\n",
       "      <td>0</td>\n",
       "      <td>0</td>\n",
       "      <td>1</td>\n",
       "      <td>0</td>\n",
       "      <td>0</td>\n",
       "      <td>0</td>\n",
       "      <td>0</td>\n",
       "      <td>1</td>\n",
       "      <td>894835.0</td>\n",
       "    </tr>\n",
       "    <tr>\n",
       "      <th>3</th>\n",
       "      <td>1</td>\n",
       "      <td>2016</td>\n",
       "      <td>543</td>\n",
       "      <td>4.0</td>\n",
       "      <td>30</td>\n",
       "      <td>188.0</td>\n",
       "      <td>0.0</td>\n",
       "      <td>33</td>\n",
       "      <td>0</td>\n",
       "      <td>0</td>\n",
       "      <td>...</td>\n",
       "      <td>1</td>\n",
       "      <td>0</td>\n",
       "      <td>0</td>\n",
       "      <td>1</td>\n",
       "      <td>0</td>\n",
       "      <td>0</td>\n",
       "      <td>0</td>\n",
       "      <td>0</td>\n",
       "      <td>1</td>\n",
       "      <td>1634408.0</td>\n",
       "    </tr>\n",
       "    <tr>\n",
       "      <th>4</th>\n",
       "      <td>1</td>\n",
       "      <td>2018</td>\n",
       "      <td>13</td>\n",
       "      <td>0.0</td>\n",
       "      <td>13</td>\n",
       "      <td>188.0</td>\n",
       "      <td>0.0</td>\n",
       "      <td>35</td>\n",
       "      <td>0</td>\n",
       "      <td>0</td>\n",
       "      <td>...</td>\n",
       "      <td>1</td>\n",
       "      <td>0</td>\n",
       "      <td>0</td>\n",
       "      <td>1</td>\n",
       "      <td>0</td>\n",
       "      <td>0</td>\n",
       "      <td>0</td>\n",
       "      <td>0</td>\n",
       "      <td>1</td>\n",
       "      <td>1108160.0</td>\n",
       "    </tr>\n",
       "  </tbody>\n",
       "</table>\n",
       "<p>5 rows × 26 columns</p>\n",
       "</div>"
      ],
      "text/plain": [
       "   player_id  season  minutes_played  goal_contributions  \\\n",
       "0          1    2007            3789                21.0   \n",
       "1          1    2008            3283                35.0   \n",
       "2          1    2009            4184                39.0   \n",
       "3          1    2016             543                 4.0   \n",
       "4          1    2018              13                 0.0   \n",
       "\n",
       "   minutes_per_appearance  height  fee  age  CB  CDM  ...  S  Asia  Europe  \\\n",
       "0                      84   188.0  0.0   24   0    0  ...  1     0       0   \n",
       "1                      80   188.0  0.0   25   0    0  ...  1     0       0   \n",
       "2                      82   188.0  0.0   26   0    0  ...  1     0       0   \n",
       "3                      30   188.0  0.0   33   0    0  ...  1     0       0   \n",
       "4                      13   188.0  0.0   35   0    0  ...  1     0       0   \n",
       "\n",
       "   North_America  Other  South_America  Tier_2  Tier_3  Tier_4  \\\n",
       "0              1      0              0       0       0       1   \n",
       "1              1      0              0       0       0       1   \n",
       "2              1      0              0       0       0       1   \n",
       "3              1      0              0       0       0       1   \n",
       "4              1      0              0       0       0       1   \n",
       "\n",
       "   continuous_value_prediction  \n",
       "0                    1000584.0  \n",
       "1                     764117.0  \n",
       "2                     894835.0  \n",
       "3                    1634408.0  \n",
       "4                    1108160.0  \n",
       "\n",
       "[5 rows x 26 columns]"
      ]
     },
     "execution_count": 21,
     "metadata": {},
     "output_type": "execute_result"
    }
   ],
   "source": [
    "df_predict['continuous_value_prediction'] = cont_pred\n",
    "# df_predict['discrete_value_prediction'] = disc_pred\n",
    "\n",
    "df_predict.head()"
   ]
  },
  {
   "cell_type": "code",
   "execution_count": 22,
   "metadata": {},
   "outputs": [
    {
     "data": {
      "text/plain": [
       "(3602, 26)"
      ]
     },
     "execution_count": 22,
     "metadata": {},
     "output_type": "execute_result"
    }
   ],
   "source": [
    "df_2018 = df_predict[df_predict['season'] == 2018]\n",
    "\n",
    "df_2018.shape"
   ]
  },
  {
   "cell_type": "markdown",
   "metadata": {},
   "source": [
    "##### Age analysis of model"
   ]
  },
  {
   "cell_type": "code",
   "execution_count": 23,
   "metadata": {},
   "outputs": [
    {
     "data": {
      "image/png": "[encoded data removed]",
      "text/plain": [
       "<Figure size 432x288 with 1 Axes>"
      ]
     },
     "metadata": {
      "needs_background": "light"
     },
     "output_type": "display_data"
    }
   ],
   "source": [
    "ax = plt.subplot()\n",
    "\n",
    "ax.plot(df_2018.groupby('age')['continuous_value_prediction'].mean())\n",
    "ax.plot(train_df[train_df['season']==2018].groupby('age')['market_value'].mean(), color='red')\n",
    "\n",
    "ax.ticklabel_format(useOffset=False, style='plain')\n",
    "plt.ylabel(\"Average Market Value Estimate\")\n",
    "plt.xlabel(\"Age\")\n",
    "plt.title(\"Average market value per age: 2018\")\n",
    "labels = ['Model', 'Actual']\n",
    "plt.axvline(x=19, color='black', linestyle = '--')\n",
    "\n",
    "plt.legend(labels)\n",
    "\n",
    "plt.savefig('model_age_pred_2018.png')"
   ]
  },
  {
   "cell_type": "code",
   "execution_count": 24,
   "metadata": {},
   "outputs": [
    {
     "data": {
      "image/png": "[encoded data removed]",
      "text/plain": [
       "<Figure size 432x288 with 1 Axes>"
      ]
     },
     "metadata": {
      "needs_background": "light"
     },
     "output_type": "display_data"
    }
   ],
   "source": [
    "ax = plt.subplot()\n",
    "\n",
    "ax.plot(df_predict.groupby('age')['continuous_value_prediction'].mean())\n",
    "ax.plot(train_df.groupby('age')['market_value'].mean(), color='red')\n",
    "\n",
    "ax.ticklabel_format(useOffset=False, style='plain')\n",
    "plt.ylabel(\"Average Value Estimate\")\n",
    "plt.xlabel(\"Age\")\n",
    "plt.title(\"Average market value per age\")\n",
    "labels = ['Model', 'Actual']\n",
    "plt.axvline(x=20, color='black', linestyle = '--')\n",
    "\n",
    "plt.legend(labels)\n",
    "\n",
    "plt.savefig('model_age_pred.png')"
   ]
  },
  {
   "cell_type": "markdown",
   "metadata": {},
   "source": [
    "##### League analysis of model"
   ]
  },
  {
   "cell_type": "code",
   "execution_count": 25,
   "metadata": {},
   "outputs": [],
   "source": [
    "df_tier_2 = df_predict[df_predict['Tier_2'] == 1]\n",
    "df_tier_3 = df_predict[df_predict['Tier_3'] == 1]\n",
    "df_tier_4 = df_predict[df_predict['Tier_4'] == 1]\n",
    "df_tier_1 = df_predict[(df_predict['Tier_2'] + df_predict[\"Tier_3\"] + df_predict['Tier_4']) == 0]"
   ]
  },
  {
   "cell_type": "code",
   "execution_count": 26,
   "metadata": {},
   "outputs": [],
   "source": [
    "tier_1_mean = df_tier_1['continuous_value_prediction'].mean()\n",
    "tier_2_mean = df_tier_2['continuous_value_prediction'].mean()\n",
    "tier_3_mean = df_tier_3['continuous_value_prediction'].mean()\n",
    "tier_4_mean = df_tier_4['continuous_value_prediction'].mean()"
   ]
  },
  {
   "cell_type": "code",
   "execution_count": 27,
   "metadata": {},
   "outputs": [],
   "source": [
    "train_tier_2 = train_df[(train_df['Tier_2'] == 1)&(train_df['season']==2018)]\n",
    "train_tier_3 = train_df[(train_df['Tier_3'] == 1)&(train_df['season']==2018)]\n",
    "train_tier_4 = train_df[(train_df['Tier_4'] == 1)&(train_df['season']==2018)]\n",
    "train_tier_1 = train_df[((train_df['Tier_2'] + train_df[\"Tier_3\"] + train_df['Tier_4']) == 0)&(train_df['season']==2018)]"
   ]
  },
  {
   "cell_type": "code",
   "execution_count": 28,
   "metadata": {},
   "outputs": [],
   "source": [
    "train_1_mean = train_tier_1['market_value'].mean()\n",
    "train_2_mean = train_tier_2['market_value'].mean()\n",
    "train_3_mean = train_tier_3['market_value'].mean()\n",
    "train_4_mean = train_tier_4['market_value'].mean()"
   ]
  },
  {
   "cell_type": "code",
   "execution_count": 29,
   "metadata": {},
   "outputs": [],
   "source": [
    "df_2018_2 = df_2018[df_2018['Tier_2'] == 1]['continuous_value_prediction'].mean()\n",
    "df_2018_3 = df_2018[df_2018['Tier_3'] == 1]['continuous_value_prediction'].mean()\n",
    "df_2018_4 = df_2018[df_2018['Tier_4'] == 1]['continuous_value_prediction'].mean()\n",
    "df_2018_1 = df_2018[(df_2018['Tier_2'] + df_2018[\"Tier_3\"] + df_2018['Tier_4']) == 0]['continuous_value_prediction'].mean()"
   ]
  },
  {
   "cell_type": "code",
   "execution_count": 30,
   "metadata": {},
   "outputs": [],
   "source": [
    "l_2018 = [df_2018_1, df_2018_2, df_2018_3, df_2018_4]"
   ]
  },
  {
   "cell_type": "code",
   "execution_count": 31,
   "metadata": {},
   "outputs": [],
   "source": [
    "means = [tier_1_mean, tier_2_mean, tier_3_mean, tier_4_mean]\n",
    "labels = ['Tier_1', 'Tier_2', 'Tier_3', 'Tier_4']\n",
    "lines = [train_1_mean, train_2_mean, train_3_mean, train_4_mean]\n"
   ]
  },
  {
   "cell_type": "code",
   "execution_count": 32,
   "metadata": {},
   "outputs": [
    {
     "data": {
      "image/png": "[encoded data removed]",
      "text/plain": [
       "<Figure size 720x432 with 1 Axes>"
      ]
     },
     "metadata": {
      "needs_background": "light"
     },
     "output_type": "display_data"
    }
   ],
   "source": [
    "from matplotlib.patches import Patch\n",
    "from matplotlib.lines import Line2D\n",
    "plt.figure(figsize=(10,6))\n",
    "ax = plt.subplot()\n",
    "i = 1\n",
    "for l in means:\n",
    "    ax.text(0.5+(i-1),l,'--Model Tier '+str(int(i))+'--', color='blue', ha='center')\n",
    "    i += 1.25\n",
    "\n",
    "i = 1\n",
    "for l in lines:\n",
    "    ax.text(0.5+(i-1),l,'--Actual 2018 Tier '+str(int(i))+'--', color='red', ha='center')\n",
    "    i += 1.25\n",
    "plt.ylim(0,7000000)\n",
    "plt.xlim(0,5)\n",
    "\n",
    "i = 1\n",
    "for l in l_2018:\n",
    "    ax.text(0.5+(i-1),l,'--Model 2018 Tier '+str(int(i))+'--', color='green', ha='center')\n",
    "    i += 1.25\n",
    "\n",
    "\n",
    "legend_elements = [Line2D([0], [0], color='b', linestyle= 'dashed', label='Model averages'),\n",
    "                   Line2D([0], [0], color='r', linestyle= 'dashed', label='2018 Actual averages'),\n",
    "                  Line2D([0], [0], color='g', linestyle= 'dashed', label='2018 Model Averages')]\n",
    "plt.legend(handles = legend_elements, loc='upper right')\n",
    "x = np.array([0.5,1.75,3,4.25])\n",
    "plt.xticks(x, labels)\n",
    "plt.grid()\n",
    "plt.ticklabel_format(style='plain', axis='y')\n",
    "plt.ylabel('Market value averages')\n",
    "plt.title('Comparison of average market values per league tier')\n",
    "plt.xlabel('League Tiers')\n",
    "plt.savefig('tier_value.png')"
   ]
  },
  {
   "cell_type": "markdown",
   "metadata": {},
   "source": [
    "##### Position analysis of model"
   ]
  },
  {
   "cell_type": "code",
   "execution_count": 33,
   "metadata": {},
   "outputs": [
    {
     "data": {
      "text/plain": [
       "(79637, 26)"
      ]
     },
     "execution_count": 33,
     "metadata": {},
     "output_type": "execute_result"
    }
   ],
   "source": [
    "df_predict.shape"
   ]
  },
  {
   "cell_type": "code",
   "execution_count": 34,
   "metadata": {},
   "outputs": [
    {
     "data": {
      "text/html": [
       "<div>\n",
       "<style scoped>\n",
       "    .dataframe tbody tr th:only-of-type {\n",
       "        vertical-align: middle;\n",
       "    }\n",
       "\n",
       "    .dataframe tbody tr th {\n",
       "        vertical-align: top;\n",
       "    }\n",
       "\n",
       "    .dataframe thead th {\n",
       "        text-align: right;\n",
       "    }\n",
       "</style>\n",
       "<table border=\"1\" class=\"dataframe\">\n",
       "  <thead>\n",
       "    <tr style=\"text-align: right;\">\n",
       "      <th></th>\n",
       "      <th>player_id</th>\n",
       "      <th>CB</th>\n",
       "      <th>CDM</th>\n",
       "      <th>CM</th>\n",
       "      <th>GK</th>\n",
       "      <th>LB</th>\n",
       "      <th>LM</th>\n",
       "      <th>RB</th>\n",
       "      <th>RM</th>\n",
       "      <th>S</th>\n",
       "    </tr>\n",
       "  </thead>\n",
       "  <tbody>\n",
       "    <tr>\n",
       "      <th>0</th>\n",
       "      <td>1</td>\n",
       "      <td>0</td>\n",
       "      <td>0</td>\n",
       "      <td>0</td>\n",
       "      <td>0</td>\n",
       "      <td>0</td>\n",
       "      <td>0</td>\n",
       "      <td>0</td>\n",
       "      <td>0</td>\n",
       "      <td>1</td>\n",
       "    </tr>\n",
       "    <tr>\n",
       "      <th>1</th>\n",
       "      <td>1</td>\n",
       "      <td>0</td>\n",
       "      <td>0</td>\n",
       "      <td>0</td>\n",
       "      <td>0</td>\n",
       "      <td>0</td>\n",
       "      <td>0</td>\n",
       "      <td>0</td>\n",
       "      <td>0</td>\n",
       "      <td>1</td>\n",
       "    </tr>\n",
       "    <tr>\n",
       "      <th>2</th>\n",
       "      <td>1</td>\n",
       "      <td>0</td>\n",
       "      <td>0</td>\n",
       "      <td>0</td>\n",
       "      <td>0</td>\n",
       "      <td>0</td>\n",
       "      <td>0</td>\n",
       "      <td>0</td>\n",
       "      <td>0</td>\n",
       "      <td>1</td>\n",
       "    </tr>\n",
       "  </tbody>\n",
       "</table>\n",
       "</div>"
      ],
      "text/plain": [
       "   player_id  CB  CDM  CM  GK  LB  LM  RB  RM  S\n",
       "0          1   0    0   0   0   0   0   0   0  1\n",
       "1          1   0    0   0   0   0   0   0   0  1\n",
       "2          1   0    0   0   0   0   0   0   0  1"
      ]
     },
     "execution_count": 34,
     "metadata": {},
     "output_type": "execute_result"
    }
   ],
   "source": [
    "df_pos = df_predict[['player_id', 'CB', 'CDM', 'CM',\n",
    "       'GK', 'LB', 'LM', 'RB', 'RM', 'S']]\n",
    "df_pos.head(3)"
   ]
  },
  {
   "cell_type": "code",
   "execution_count": 35,
   "metadata": {},
   "outputs": [
    {
     "name": "stderr",
     "output_type": "stream",
     "text": [
      "<ipython-input-35-af6e980af183>:1: SettingWithCopyWarning: \n",
      "A value is trying to be set on a copy of a slice from a DataFrame.\n",
      "Try using .loc[row_indexer,col_indexer] = value instead\n",
      "\n",
      "See the caveats in the documentation: https://pandas.pydata.org/pandas-docs/stable/user_guide/indexing.html#returning-a-view-versus-a-copy\n",
      "  df_pos['CAM'] = df_pos.drop('player_id',axis=1).sum(axis=1)\n"
     ]
    },
    {
     "data": {
      "text/html": [
       "<div>\n",
       "<style scoped>\n",
       "    .dataframe tbody tr th:only-of-type {\n",
       "        vertical-align: middle;\n",
       "    }\n",
       "\n",
       "    .dataframe tbody tr th {\n",
       "        vertical-align: top;\n",
       "    }\n",
       "\n",
       "    .dataframe thead th {\n",
       "        text-align: right;\n",
       "    }\n",
       "</style>\n",
       "<table border=\"1\" class=\"dataframe\">\n",
       "  <thead>\n",
       "    <tr style=\"text-align: right;\">\n",
       "      <th></th>\n",
       "      <th>player_id</th>\n",
       "      <th>CB</th>\n",
       "      <th>CDM</th>\n",
       "      <th>CM</th>\n",
       "      <th>GK</th>\n",
       "      <th>LB</th>\n",
       "      <th>LM</th>\n",
       "      <th>RB</th>\n",
       "      <th>RM</th>\n",
       "      <th>S</th>\n",
       "      <th>CAM</th>\n",
       "    </tr>\n",
       "  </thead>\n",
       "  <tbody>\n",
       "    <tr>\n",
       "      <th>0</th>\n",
       "      <td>1</td>\n",
       "      <td>0</td>\n",
       "      <td>0</td>\n",
       "      <td>0</td>\n",
       "      <td>0</td>\n",
       "      <td>0</td>\n",
       "      <td>0</td>\n",
       "      <td>0</td>\n",
       "      <td>0</td>\n",
       "      <td>1</td>\n",
       "      <td>1</td>\n",
       "    </tr>\n",
       "    <tr>\n",
       "      <th>1</th>\n",
       "      <td>1</td>\n",
       "      <td>0</td>\n",
       "      <td>0</td>\n",
       "      <td>0</td>\n",
       "      <td>0</td>\n",
       "      <td>0</td>\n",
       "      <td>0</td>\n",
       "      <td>0</td>\n",
       "      <td>0</td>\n",
       "      <td>1</td>\n",
       "      <td>1</td>\n",
       "    </tr>\n",
       "    <tr>\n",
       "      <th>2</th>\n",
       "      <td>1</td>\n",
       "      <td>0</td>\n",
       "      <td>0</td>\n",
       "      <td>0</td>\n",
       "      <td>0</td>\n",
       "      <td>0</td>\n",
       "      <td>0</td>\n",
       "      <td>0</td>\n",
       "      <td>0</td>\n",
       "      <td>1</td>\n",
       "      <td>1</td>\n",
       "    </tr>\n",
       "    <tr>\n",
       "      <th>3</th>\n",
       "      <td>1</td>\n",
       "      <td>0</td>\n",
       "      <td>0</td>\n",
       "      <td>0</td>\n",
       "      <td>0</td>\n",
       "      <td>0</td>\n",
       "      <td>0</td>\n",
       "      <td>0</td>\n",
       "      <td>0</td>\n",
       "      <td>1</td>\n",
       "      <td>1</td>\n",
       "    </tr>\n",
       "    <tr>\n",
       "      <th>4</th>\n",
       "      <td>1</td>\n",
       "      <td>0</td>\n",
       "      <td>0</td>\n",
       "      <td>0</td>\n",
       "      <td>0</td>\n",
       "      <td>0</td>\n",
       "      <td>0</td>\n",
       "      <td>0</td>\n",
       "      <td>0</td>\n",
       "      <td>1</td>\n",
       "      <td>1</td>\n",
       "    </tr>\n",
       "  </tbody>\n",
       "</table>\n",
       "</div>"
      ],
      "text/plain": [
       "   player_id  CB  CDM  CM  GK  LB  LM  RB  RM  S  CAM\n",
       "0          1   0    0   0   0   0   0   0   0  1    1\n",
       "1          1   0    0   0   0   0   0   0   0  1    1\n",
       "2          1   0    0   0   0   0   0   0   0  1    1\n",
       "3          1   0    0   0   0   0   0   0   0  1    1\n",
       "4          1   0    0   0   0   0   0   0   0  1    1"
      ]
     },
     "execution_count": 35,
     "metadata": {},
     "output_type": "execute_result"
    }
   ],
   "source": [
    "df_pos['CAM'] = df_pos.drop('player_id',axis=1).sum(axis=1)\n",
    "df_pos.head()"
   ]
  },
  {
   "cell_type": "code",
   "execution_count": 36,
   "metadata": {},
   "outputs": [
    {
     "name": "stderr",
     "output_type": "stream",
     "text": [
      "C:\\Users\\david\\anaconda3\\lib\\site-packages\\pandas\\core\\indexing.py:1048: SettingWithCopyWarning: \n",
      "A value is trying to be set on a copy of a slice from a DataFrame.\n",
      "Try using .loc[row_indexer,col_indexer] = value instead\n",
      "\n",
      "See the caveats in the documentation: https://pandas.pydata.org/pandas-docs/stable/user_guide/indexing.html#returning-a-view-versus-a-copy\n",
      "  self.obj[item_labels[indexer[info_axis]]] = value\n"
     ]
    }
   ],
   "source": [
    "df_pos.loc[:,('CAM')] = df_pos['CAM'].apply(lambda x: abs(x-1))"
   ]
  },
  {
   "cell_type": "code",
   "execution_count": 37,
   "metadata": {},
   "outputs": [
    {
     "data": {
      "text/plain": [
       "Index(['player_id', 'level_1'], dtype='object')"
      ]
     },
     "execution_count": 37,
     "metadata": {},
     "output_type": "execute_result"
    }
   ],
   "source": [
    "df_pos.set_index('player_id',inplace=True)\n",
    "\n",
    "df_pos = df_pos[df_pos==1].stack().reset_index().drop(0,1)\n",
    "\n",
    "df_pos.columns"
   ]
  },
  {
   "cell_type": "code",
   "execution_count": 38,
   "metadata": {},
   "outputs": [
    {
     "data": {
      "text/plain": [
       "array(['S', 'CM', 'CB', 'GK', 'RM', 'LM', 'CDM', 'CAM', 'RB', 'LB'],\n",
       "      dtype=object)"
      ]
     },
     "execution_count": 38,
     "metadata": {},
     "output_type": "execute_result"
    }
   ],
   "source": [
    "df_pos['level_1'].unique()"
   ]
  },
  {
   "cell_type": "code",
   "execution_count": 39,
   "metadata": {},
   "outputs": [],
   "source": [
    "df_pos.rename(columns={'level_1':'position'}, inplace=True)"
   ]
  },
  {
   "cell_type": "code",
   "execution_count": 40,
   "metadata": {},
   "outputs": [],
   "source": [
    "df_predict['position'] = df_pos['position']"
   ]
  },
  {
   "cell_type": "code",
   "execution_count": 41,
   "metadata": {},
   "outputs": [
    {
     "data": {
      "text/plain": [
       "(79637, 27)"
      ]
     },
     "execution_count": 41,
     "metadata": {},
     "output_type": "execute_result"
    }
   ],
   "source": [
    "df_predict.shape"
   ]
  },
  {
   "cell_type": "code",
   "execution_count": 42,
   "metadata": {},
   "outputs": [
    {
     "name": "stderr",
     "output_type": "stream",
     "text": [
      "<ipython-input-42-1701ed802a11>:3: SettingWithCopyWarning: \n",
      "A value is trying to be set on a copy of a slice from a DataFrame.\n",
      "Try using .loc[row_indexer,col_indexer] = value instead\n",
      "\n",
      "See the caveats in the documentation: https://pandas.pydata.org/pandas-docs/stable/user_guide/indexing.html#returning-a-view-versus-a-copy\n",
      "  train_pos['CAM'] = train_pos.drop('player_id',axis=1).sum(axis=1)\n"
     ]
    }
   ],
   "source": [
    "train_pos = train_df[['player_id', 'CB', 'CDM', 'CM',\n",
    "       'GK', 'LB', 'LM', 'RB', 'RM', 'S']]\n",
    "train_pos['CAM'] = train_pos.drop('player_id',axis=1).sum(axis=1)\n",
    "train_pos.loc[:,('CAM')] = train_pos['CAM'].apply(lambda x: abs(x-1))\n",
    "train_pos.set_index('player_id',inplace=True)\n",
    "train_pos = train_pos[train_pos==1].stack().reset_index().drop(0,1)\n",
    "train_pos.rename(columns={'level_1':'position'}, inplace=True)\n",
    "\n",
    "train_df['position'] = train_pos['position']"
   ]
  },
  {
   "cell_type": "code",
   "execution_count": 43,
   "metadata": {},
   "outputs": [
    {
     "data": {
      "image/png": "[encoded data removed]",
      "text/plain": [
       "<Figure size 432x288 with 1 Axes>"
      ]
     },
     "metadata": {
      "needs_background": "light"
     },
     "output_type": "display_data"
    }
   ],
   "source": [
    "ax = plt.subplot()\n",
    "\n",
    "sns.lineplot(x='position', y='continuous_value_prediction', data=df_predict)\n",
    "sns.lineplot(x='position', y='market_value', data=train_df, color='r')\n",
    "sns.lineplot(x='position', y='continuous_value_prediction', data=df_predict[df_predict['season']==2018], color='g')\n",
    "sns.lineplot(x='position', y='market_value', data=train_df[train_df['season']==2018], color='y')\n",
    "plt.legend(['Model Overall','Actual Overall', 'Model 2018', 'Actual 2018'])\n",
    "\n",
    "plt.title('Average values per position')\n",
    "plt.xlabel('Position')\n",
    "plt.ylabel('Market Value Average')\n",
    "plt.grid()\n",
    "ax.ticklabel_format(axis='y', useOffset=False, style='plain')\n",
    "\n",
    "plt.savefig('position_avg.png')"
   ]
  },
  {
   "cell_type": "markdown",
   "metadata": {},
   "source": [
    "##### Region analysis of model"
   ]
  },
  {
   "cell_type": "code",
   "execution_count": 44,
   "metadata": {},
   "outputs": [
    {
     "name": "stderr",
     "output_type": "stream",
     "text": [
      "<ipython-input-44-d409fdd2c189>:3: SettingWithCopyWarning: \n",
      "A value is trying to be set on a copy of a slice from a DataFrame.\n",
      "Try using .loc[row_indexer,col_indexer] = value instead\n",
      "\n",
      "See the caveats in the documentation: https://pandas.pydata.org/pandas-docs/stable/user_guide/indexing.html#returning-a-view-versus-a-copy\n",
      "  train_reg['Africa'] = train_reg.drop('player_id',axis=1).sum(axis=1)\n",
      "C:\\Users\\david\\anaconda3\\lib\\site-packages\\pandas\\core\\indexing.py:1048: SettingWithCopyWarning: \n",
      "A value is trying to be set on a copy of a slice from a DataFrame.\n",
      "Try using .loc[row_indexer,col_indexer] = value instead\n",
      "\n",
      "See the caveats in the documentation: https://pandas.pydata.org/pandas-docs/stable/user_guide/indexing.html#returning-a-view-versus-a-copy\n",
      "  self.obj[item_labels[indexer[info_axis]]] = value\n"
     ]
    }
   ],
   "source": [
    "train_reg = train_df[['player_id', 'Asia', 'Europe',\n",
    "       'North_America', 'Other', 'South_America']]\n",
    "train_reg['Africa'] = train_reg.drop('player_id',axis=1).sum(axis=1)\n",
    "train_reg.loc[:,('Africa')] = train_reg['Africa'].apply(lambda x: abs(x-1))\n",
    "train_reg.set_index('player_id',inplace=True)\n",
    "train_reg = train_reg[train_reg==1].stack().reset_index().drop(0,1)\n",
    "train_reg.rename(columns={'level_1':'region'}, inplace=True)\n",
    "\n",
    "train_df['region'] = train_reg['region']"
   ]
  },
  {
   "cell_type": "code",
   "execution_count": 45,
   "metadata": {},
   "outputs": [
    {
     "data": {
      "text/plain": [
       "(77659, 28)"
      ]
     },
     "execution_count": 45,
     "metadata": {},
     "output_type": "execute_result"
    }
   ],
   "source": [
    "train_df.shape"
   ]
  },
  {
   "cell_type": "code",
   "execution_count": 46,
   "metadata": {},
   "outputs": [
    {
     "name": "stderr",
     "output_type": "stream",
     "text": [
      "<ipython-input-46-ced93d716fb3>:3: SettingWithCopyWarning: \n",
      "A value is trying to be set on a copy of a slice from a DataFrame.\n",
      "Try using .loc[row_indexer,col_indexer] = value instead\n",
      "\n",
      "See the caveats in the documentation: https://pandas.pydata.org/pandas-docs/stable/user_guide/indexing.html#returning-a-view-versus-a-copy\n",
      "  pred_reg['Africa'] = pred_reg.drop('player_id',axis=1).sum(axis=1)\n"
     ]
    }
   ],
   "source": [
    "pred_reg = df_predict[['player_id', 'Asia', 'Europe',\n",
    "       'North_America', 'Other', 'South_America']]\n",
    "pred_reg['Africa'] = pred_reg.drop('player_id',axis=1).sum(axis=1)\n",
    "pred_reg.loc[:,('Africa')] = pred_reg['Africa'].apply(lambda x: abs(x-1))\n",
    "pred_reg.set_index('player_id',inplace=True)\n",
    "pred_reg = pred_reg[pred_reg==1].stack().reset_index().drop(0,1)\n",
    "pred_reg.rename(columns={'level_1':'region'}, inplace=True)\n",
    "\n",
    "df_predict['region'] = pred_reg['region']"
   ]
  },
  {
   "cell_type": "code",
   "execution_count": 47,
   "metadata": {},
   "outputs": [
    {
     "data": {
      "text/plain": [
       "(79637, 28)"
      ]
     },
     "execution_count": 47,
     "metadata": {},
     "output_type": "execute_result"
    }
   ],
   "source": [
    "df_predict.shape"
   ]
  },
  {
   "cell_type": "code",
   "execution_count": 50,
   "metadata": {},
   "outputs": [
    {
     "data": {
      "image/png": "[encoded data removed]",
      "text/plain": [
       "<Figure size 432x288 with 1 Axes>"
      ]
     },
     "metadata": {
      "needs_background": "light"
     },
     "output_type": "display_data"
    }
   ],
   "source": [
    "ax = plt.subplot()\n",
    "\n",
    "sns.lineplot(x='region', y='continuous_value_prediction', data=df_predict)\n",
    "sns.lineplot(x='region', y='market_value', data=train_df, color='r')\n",
    "sns.lineplot(x='region', y='continuous_value_prediction', data=df_predict[df_predict['season']==2018], color='g')\n",
    "sns.lineplot(x='region', y='market_value', data=train_df[train_df['season']==2018], color='y')\n",
    "plt.legend(['Model Overall','Actual Overall', 'Model 2018', 'Actual 2018'])\n",
    "\n",
    "plt.title('Average values per region')\n",
    "plt.xlabel('Region')\n",
    "plt.ylabel('Market Value Average')\n",
    "plt.grid()\n",
    "ax.ticklabel_format(axis='y', useOffset=False, style='plain')\n",
    "\n",
    "plt.savefig('region_avg.png')"
   ]
  },
  {
   "cell_type": "code",
   "execution_count": null,
   "metadata": {},
   "outputs": [],
   "source": []
  }
 ],
 "metadata": {
  "kernelspec": {
   "display_name": "Python 3",
   "language": "python",
   "name": "python3"
  },
  "language_info": {
   "codemirror_mode": {
    "name": "ipython",
    "version": 3
   },
   "file_extension": ".py",
   "mimetype": "text/x-python",
   "name": "python",
   "nbconvert_exporter": "python",
   "pygments_lexer": "ipython3",
   "version": "3.8.3"
  }
 },
 "nbformat": 4,
 "nbformat_minor": 4
}
