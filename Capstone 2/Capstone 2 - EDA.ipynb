{
 "cells": [
  {
   "cell_type": "markdown",
   "metadata": {},
   "source": [
    "# Exploratory Data Analysis - European Football Transfer Evaluation\n",
    "\n",
    "In this notebook, we will be exploring the data that we cleaned in our [Data Wrangling Notebook](https://github.com/dvanheeswijk/Springboard/blob/master/Capstone%202/Capstone%202%20Data%20Wrangling%20-%207.6.ipynb). In the previous notebook, we combined data consisting of player stats, player info, club and league details, as well as transfers in many of Europe's leagues. We will now dive into these data sets and see if we can create a model for predicting a player's market value. First, let's import the libraries we will need throughout this EDA."
   ]
  },
  {
   "cell_type": "code",
   "execution_count": 43,
   "metadata": {},
   "outputs": [],
   "source": [
    "import numpy as np\n",
    "import pandas as pd\n",
    "import matplotlib.pyplot as plt\n",
    "import seaborn as sns\n",
    "\n",
    "%matplotlib inline"
   ]
  },
  {
   "cell_type": "code",
   "execution_count": 44,
   "metadata": {},
   "outputs": [
    {
     "data": {
      "text/html": [
       "<div>\n",
       "<style scoped>\n",
       "    .dataframe tbody tr th:only-of-type {\n",
       "        vertical-align: middle;\n",
       "    }\n",
       "\n",
       "    .dataframe tbody tr th {\n",
       "        vertical-align: top;\n",
       "    }\n",
       "\n",
       "    .dataframe thead th {\n",
       "        text-align: right;\n",
       "    }\n",
       "</style>\n",
       "<table border=\"1\" class=\"dataframe\">\n",
       "  <thead>\n",
       "    <tr style=\"text-align: right;\">\n",
       "      <th></th>\n",
       "      <th>player_id</th>\n",
       "      <th>player_name</th>\n",
       "      <th>season</th>\n",
       "      <th>club_name</th>\n",
       "      <th>minutes_played</th>\n",
       "      <th>goal_contributions</th>\n",
       "      <th>minutes_per_appearance</th>\n",
       "      <th>position</th>\n",
       "      <th>nationality_code</th>\n",
       "      <th>date_of_birth</th>\n",
       "      <th>height</th>\n",
       "      <th>market_value</th>\n",
       "      <th>fee</th>\n",
       "      <th>league</th>\n",
       "    </tr>\n",
       "  </thead>\n",
       "  <tbody>\n",
       "    <tr>\n",
       "      <th>0</th>\n",
       "      <td>1</td>\n",
       "      <td>Jermaine Beckford</td>\n",
       "      <td>2005</td>\n",
       "      <td>Leeds United</td>\n",
       "      <td>137</td>\n",
       "      <td>0.0</td>\n",
       "      <td>27</td>\n",
       "      <td>S</td>\n",
       "      <td>JAM</td>\n",
       "      <td>1983-12-09</td>\n",
       "      <td>188.0</td>\n",
       "      <td>0.0</td>\n",
       "      <td>0.0</td>\n",
       "      <td>Other League</td>\n",
       "    </tr>\n",
       "    <tr>\n",
       "      <th>1</th>\n",
       "      <td>1</td>\n",
       "      <td>Jermaine Beckford</td>\n",
       "      <td>2006</td>\n",
       "      <td>Carlisle United</td>\n",
       "      <td>1979</td>\n",
       "      <td>12.0</td>\n",
       "      <td>73</td>\n",
       "      <td>S</td>\n",
       "      <td>JAM</td>\n",
       "      <td>1983-12-09</td>\n",
       "      <td>188.0</td>\n",
       "      <td>100000.0</td>\n",
       "      <td>0.0</td>\n",
       "      <td>Other League</td>\n",
       "    </tr>\n",
       "    <tr>\n",
       "      <th>2</th>\n",
       "      <td>1</td>\n",
       "      <td>Jermaine Beckford</td>\n",
       "      <td>2006</td>\n",
       "      <td>Carlisle United</td>\n",
       "      <td>1979</td>\n",
       "      <td>12.0</td>\n",
       "      <td>73</td>\n",
       "      <td>S</td>\n",
       "      <td>JAM</td>\n",
       "      <td>1983-12-09</td>\n",
       "      <td>188.0</td>\n",
       "      <td>100000.0</td>\n",
       "      <td>0.0</td>\n",
       "      <td>Other League</td>\n",
       "    </tr>\n",
       "  </tbody>\n",
       "</table>\n",
       "</div>"
      ],
      "text/plain": [
       "   player_id        player_name  season        club_name  minutes_played  \\\n",
       "0          1  Jermaine Beckford    2005     Leeds United             137   \n",
       "1          1  Jermaine Beckford    2006  Carlisle United            1979   \n",
       "2          1  Jermaine Beckford    2006  Carlisle United            1979   \n",
       "\n",
       "   goal_contributions  minutes_per_appearance position nationality_code  \\\n",
       "0                 0.0                      27        S              JAM   \n",
       "1                12.0                      73        S              JAM   \n",
       "2                12.0                      73        S              JAM   \n",
       "\n",
       "  date_of_birth  height  market_value  fee        league  \n",
       "0    1983-12-09   188.0           0.0  0.0  Other League  \n",
       "1    1983-12-09   188.0      100000.0  0.0  Other League  \n",
       "2    1983-12-09   188.0      100000.0  0.0  Other League  "
      ]
     },
     "execution_count": 44,
     "metadata": {},
     "output_type": "execute_result"
    }
   ],
   "source": [
    "data = pd.read_csv('football_data.csv')\n",
    "\n",
    "data.head(3)"
   ]
  },
  {
   "cell_type": "markdown",
   "metadata": {},
   "source": [
    "Initially, we see that there are some duplicate rows listed, so we will look to clean this up before we begin our search into the data."
   ]
  },
  {
   "cell_type": "code",
   "execution_count": 45,
   "metadata": {},
   "outputs": [
    {
     "name": "stdout",
     "output_type": "stream",
     "text": [
      "<class 'pandas.core.frame.DataFrame'>\n",
      "Int64Index: 157323 entries, 0 to 698949\n",
      "Data columns (total 14 columns):\n",
      " #   Column                  Non-Null Count   Dtype  \n",
      "---  ------                  --------------   -----  \n",
      " 0   player_id               157323 non-null  int64  \n",
      " 1   player_name             157323 non-null  object \n",
      " 2   season                  157323 non-null  int64  \n",
      " 3   club_name               157323 non-null  object \n",
      " 4   minutes_played          157323 non-null  int64  \n",
      " 5   goal_contributions      157323 non-null  float64\n",
      " 6   minutes_per_appearance  157323 non-null  int64  \n",
      " 7   position                157323 non-null  object \n",
      " 8   nationality_code        157323 non-null  object \n",
      " 9   date_of_birth           157323 non-null  object \n",
      " 10  height                  157323 non-null  float64\n",
      " 11  market_value            77661 non-null   float64\n",
      " 12  fee                     69582 non-null   float64\n",
      " 13  league                  157323 non-null  object \n",
      "dtypes: float64(4), int64(4), object(6)\n",
      "memory usage: 18.0+ MB\n"
     ]
    }
   ],
   "source": [
    "data.drop_duplicates(inplace=True)\n",
    "data_copy = data.copy()\n",
    "\n",
    "data.info()"
   ]
  },
  {
   "cell_type": "code",
   "execution_count": 46,
   "metadata": {},
   "outputs": [],
   "source": [
    "data = data[data['market_value']>0]"
   ]
  },
  {
   "cell_type": "markdown",
   "metadata": {},
   "source": [
    "We will now attempt to clean the data just a bit more before we start exploring the data that is not null. We start by checking if we can fill in some market values with fees, if a transfer occurred, but the market value was null for some reason."
   ]
  },
  {
   "cell_type": "code",
   "execution_count": 47,
   "metadata": {},
   "outputs": [
    {
     "data": {
      "text/plain": [
       "array([], dtype=float64)"
      ]
     },
     "execution_count": 47,
     "metadata": {},
     "output_type": "execute_result"
    }
   ],
   "source": [
    "data[(data['market_value'].isnull())&(data['fee'].notnull())]['fee'].unique()"
   ]
  },
  {
   "cell_type": "markdown",
   "metadata": {},
   "source": [
    "We see that the entries where market value is null and fee is not only has values of 0 for fee, meaning that we can't replace the market value at these points with the fee (as there was no transfer at this point). We will thus look to drop all entries with null values for market value and use this to make our analysis."
   ]
  },
  {
   "cell_type": "code",
   "execution_count": 48,
   "metadata": {},
   "outputs": [
    {
     "name": "stdout",
     "output_type": "stream",
     "text": [
      "<class 'pandas.core.frame.DataFrame'>\n",
      "Int64Index: 73775 entries, 1 to 698948\n",
      "Data columns (total 14 columns):\n",
      " #   Column                  Non-Null Count  Dtype  \n",
      "---  ------                  --------------  -----  \n",
      " 0   player_id               73775 non-null  int64  \n",
      " 1   player_name             73775 non-null  object \n",
      " 2   season                  73775 non-null  int64  \n",
      " 3   club_name               73775 non-null  object \n",
      " 4   minutes_played          73775 non-null  int64  \n",
      " 5   goal_contributions      73775 non-null  float64\n",
      " 6   minutes_per_appearance  73775 non-null  int64  \n",
      " 7   position                73775 non-null  object \n",
      " 8   nationality_code        73775 non-null  object \n",
      " 9   date_of_birth           73775 non-null  object \n",
      " 10  height                  73775 non-null  float64\n",
      " 11  market_value            73775 non-null  float64\n",
      " 12  fee                     62656 non-null  float64\n",
      " 13  league                  73775 non-null  object \n",
      "dtypes: float64(4), int64(4), object(6)\n",
      "memory usage: 8.4+ MB\n"
     ]
    }
   ],
   "source": [
    "data = data[data['market_value'].notnull()]\n",
    "data.info()"
   ]
  },
  {
   "cell_type": "code",
   "execution_count": 49,
   "metadata": {},
   "outputs": [
    {
     "name": "stdout",
     "output_type": "stream",
     "text": [
      "<class 'pandas.core.frame.DataFrame'>\n",
      "Int64Index: 73775 entries, 1 to 698948\n",
      "Data columns (total 14 columns):\n",
      " #   Column                  Non-Null Count  Dtype  \n",
      "---  ------                  --------------  -----  \n",
      " 0   player_id               73775 non-null  int64  \n",
      " 1   player_name             73775 non-null  object \n",
      " 2   season                  73775 non-null  int64  \n",
      " 3   club_name               73775 non-null  object \n",
      " 4   minutes_played          73775 non-null  int64  \n",
      " 5   goal_contributions      73775 non-null  float64\n",
      " 6   minutes_per_appearance  73775 non-null  int64  \n",
      " 7   position                73775 non-null  object \n",
      " 8   nationality_code        73775 non-null  object \n",
      " 9   date_of_birth           73775 non-null  object \n",
      " 10  height                  73775 non-null  float64\n",
      " 11  market_value            73775 non-null  float64\n",
      " 12  fee                     73775 non-null  float64\n",
      " 13  league                  73775 non-null  object \n",
      "dtypes: float64(4), int64(4), object(6)\n",
      "memory usage: 8.4+ MB\n"
     ]
    }
   ],
   "source": [
    "data['fee'].fillna(0, inplace=True)\n",
    "\n",
    "data.info()"
   ]
  },
  {
   "cell_type": "markdown",
   "metadata": {},
   "source": [
    "Next, we will look to change as many of our data types to numeric so that we can have a better model for the data. We recognize that a few columns are categorical, namely 'nationality_code', 'position', 'club_name', and 'league'. Our DOB can be converted to a datetime object, so we will do that now."
   ]
  },
  {
   "cell_type": "code",
   "execution_count": 50,
   "metadata": {},
   "outputs": [
    {
     "name": "stdout",
     "output_type": "stream",
     "text": [
      "<class 'pandas.core.frame.DataFrame'>\n",
      "Int64Index: 73775 entries, 1 to 698948\n",
      "Data columns (total 14 columns):\n",
      " #   Column                  Non-Null Count  Dtype         \n",
      "---  ------                  --------------  -----         \n",
      " 0   player_id               73775 non-null  int64         \n",
      " 1   player_name             73775 non-null  object        \n",
      " 2   season                  73775 non-null  int64         \n",
      " 3   club_name               73775 non-null  object        \n",
      " 4   minutes_played          73775 non-null  int64         \n",
      " 5   goal_contributions      73775 non-null  float64       \n",
      " 6   minutes_per_appearance  73775 non-null  int64         \n",
      " 7   position                73775 non-null  object        \n",
      " 8   nationality_code        73775 non-null  object        \n",
      " 9   date_of_birth           73775 non-null  datetime64[ns]\n",
      " 10  height                  73775 non-null  float64       \n",
      " 11  market_value            73775 non-null  float64       \n",
      " 12  fee                     73775 non-null  float64       \n",
      " 13  league                  73775 non-null  object        \n",
      "dtypes: datetime64[ns](1), float64(4), int64(4), object(5)\n",
      "memory usage: 8.4+ MB\n"
     ]
    }
   ],
   "source": [
    "from datetime import datetime\n",
    "\n",
    "data['date_of_birth'] = pd.to_datetime(data['date_of_birth'])\n",
    "\n",
    "data.info()"
   ]
  },
  {
   "cell_type": "markdown",
   "metadata": {},
   "source": [
    "#### Exploring the Data"
   ]
  },
  {
   "cell_type": "markdown",
   "metadata": {},
   "source": [
    "Our dependent variable will be market value, since we are concerned with finding the attributes that lead to the most profitable players to sell and the most value for production. Let's first see what the data says so far."
   ]
  },
  {
   "cell_type": "code",
   "execution_count": 51,
   "metadata": {},
   "outputs": [
    {
     "data": {
      "text/html": [
       "<div>\n",
       "<style scoped>\n",
       "    .dataframe tbody tr th:only-of-type {\n",
       "        vertical-align: middle;\n",
       "    }\n",
       "\n",
       "    .dataframe tbody tr th {\n",
       "        vertical-align: top;\n",
       "    }\n",
       "\n",
       "    .dataframe thead th {\n",
       "        text-align: right;\n",
       "    }\n",
       "</style>\n",
       "<table border=\"1\" class=\"dataframe\">\n",
       "  <thead>\n",
       "    <tr style=\"text-align: right;\">\n",
       "      <th></th>\n",
       "      <th>player_id</th>\n",
       "      <th>season</th>\n",
       "      <th>minutes_played</th>\n",
       "      <th>goal_contributions</th>\n",
       "      <th>minutes_per_appearance</th>\n",
       "      <th>height</th>\n",
       "      <th>market_value</th>\n",
       "      <th>fee</th>\n",
       "    </tr>\n",
       "  </thead>\n",
       "  <tbody>\n",
       "    <tr>\n",
       "      <th>player_id</th>\n",
       "      <td>1.000000</td>\n",
       "      <td>0.010398</td>\n",
       "      <td>-0.067887</td>\n",
       "      <td>-0.127426</td>\n",
       "      <td>-0.003837</td>\n",
       "      <td>-0.009481</td>\n",
       "      <td>-0.412221</td>\n",
       "      <td>-0.265111</td>\n",
       "    </tr>\n",
       "    <tr>\n",
       "      <th>season</th>\n",
       "      <td>0.010398</td>\n",
       "      <td>1.000000</td>\n",
       "      <td>-0.053060</td>\n",
       "      <td>0.008150</td>\n",
       "      <td>-0.020649</td>\n",
       "      <td>-0.006426</td>\n",
       "      <td>0.006442</td>\n",
       "      <td>-0.027874</td>\n",
       "    </tr>\n",
       "    <tr>\n",
       "      <th>minutes_played</th>\n",
       "      <td>-0.067887</td>\n",
       "      <td>-0.053060</td>\n",
       "      <td>1.000000</td>\n",
       "      <td>0.511098</td>\n",
       "      <td>0.504508</td>\n",
       "      <td>0.031086</td>\n",
       "      <td>0.075370</td>\n",
       "      <td>0.091964</td>\n",
       "    </tr>\n",
       "    <tr>\n",
       "      <th>goal_contributions</th>\n",
       "      <td>-0.127426</td>\n",
       "      <td>0.008150</td>\n",
       "      <td>0.511098</td>\n",
       "      <td>1.000000</td>\n",
       "      <td>0.131476</td>\n",
       "      <td>-0.093812</td>\n",
       "      <td>0.166466</td>\n",
       "      <td>0.155481</td>\n",
       "    </tr>\n",
       "    <tr>\n",
       "      <th>minutes_per_appearance</th>\n",
       "      <td>-0.003837</td>\n",
       "      <td>-0.020649</td>\n",
       "      <td>0.504508</td>\n",
       "      <td>0.131476</td>\n",
       "      <td>1.000000</td>\n",
       "      <td>0.157455</td>\n",
       "      <td>0.008744</td>\n",
       "      <td>0.031217</td>\n",
       "    </tr>\n",
       "    <tr>\n",
       "      <th>height</th>\n",
       "      <td>-0.009481</td>\n",
       "      <td>-0.006426</td>\n",
       "      <td>0.031086</td>\n",
       "      <td>-0.093812</td>\n",
       "      <td>0.157455</td>\n",
       "      <td>1.000000</td>\n",
       "      <td>-0.023270</td>\n",
       "      <td>-0.002547</td>\n",
       "    </tr>\n",
       "    <tr>\n",
       "      <th>market_value</th>\n",
       "      <td>-0.412221</td>\n",
       "      <td>0.006442</td>\n",
       "      <td>0.075370</td>\n",
       "      <td>0.166466</td>\n",
       "      <td>0.008744</td>\n",
       "      <td>-0.023270</td>\n",
       "      <td>1.000000</td>\n",
       "      <td>0.716666</td>\n",
       "    </tr>\n",
       "    <tr>\n",
       "      <th>fee</th>\n",
       "      <td>-0.265111</td>\n",
       "      <td>-0.027874</td>\n",
       "      <td>0.091964</td>\n",
       "      <td>0.155481</td>\n",
       "      <td>0.031217</td>\n",
       "      <td>-0.002547</td>\n",
       "      <td>0.716666</td>\n",
       "      <td>1.000000</td>\n",
       "    </tr>\n",
       "  </tbody>\n",
       "</table>\n",
       "</div>"
      ],
      "text/plain": [
       "                        player_id    season  minutes_played  \\\n",
       "player_id                1.000000  0.010398       -0.067887   \n",
       "season                   0.010398  1.000000       -0.053060   \n",
       "minutes_played          -0.067887 -0.053060        1.000000   \n",
       "goal_contributions      -0.127426  0.008150        0.511098   \n",
       "minutes_per_appearance  -0.003837 -0.020649        0.504508   \n",
       "height                  -0.009481 -0.006426        0.031086   \n",
       "market_value            -0.412221  0.006442        0.075370   \n",
       "fee                     -0.265111 -0.027874        0.091964   \n",
       "\n",
       "                        goal_contributions  minutes_per_appearance    height  \\\n",
       "player_id                        -0.127426               -0.003837 -0.009481   \n",
       "season                            0.008150               -0.020649 -0.006426   \n",
       "minutes_played                    0.511098                0.504508  0.031086   \n",
       "goal_contributions                1.000000                0.131476 -0.093812   \n",
       "minutes_per_appearance            0.131476                1.000000  0.157455   \n",
       "height                           -0.093812                0.157455  1.000000   \n",
       "market_value                      0.166466                0.008744 -0.023270   \n",
       "fee                               0.155481                0.031217 -0.002547   \n",
       "\n",
       "                        market_value       fee  \n",
       "player_id                  -0.412221 -0.265111  \n",
       "season                      0.006442 -0.027874  \n",
       "minutes_played              0.075370  0.091964  \n",
       "goal_contributions          0.166466  0.155481  \n",
       "minutes_per_appearance      0.008744  0.031217  \n",
       "height                     -0.023270 -0.002547  \n",
       "market_value                1.000000  0.716666  \n",
       "fee                         0.716666  1.000000  "
      ]
     },
     "execution_count": 51,
     "metadata": {},
     "output_type": "execute_result"
    }
   ],
   "source": [
    "data.corr()"
   ]
  },
  {
   "cell_type": "code",
   "execution_count": 52,
   "metadata": {},
   "outputs": [
    {
     "data": {
      "text/plain": [
       "<matplotlib.axes._subplots.AxesSubplot at 0x293dc59ae80>"
      ]
     },
     "execution_count": 52,
     "metadata": {},
     "output_type": "execute_result"
    },
    {
     "data": {
      "image/png": "[encoded data removed]",
      "text/plain": [
       "<Figure size 432x288 with 2 Axes>"
      ]
     },
     "metadata": {
      "needs_background": "light"
     },
     "output_type": "display_data"
    }
   ],
   "source": [
    "sns.heatmap(data.corr())"
   ]
  },
  {
   "cell_type": "code",
   "execution_count": 53,
   "metadata": {},
   "outputs": [
    {
     "data": {
      "text/plain": [
       "Text(0, 0.5, 'Market Value (Millions)')"
      ]
     },
     "execution_count": 53,
     "metadata": {},
     "output_type": "execute_result"
    },
    {
     "data": {
      "image/png": "[encoded data removed]",
      "text/plain": [
       "<Figure size 432x288 with 1 Axes>"
      ]
     },
     "metadata": {
      "needs_background": "light"
     },
     "output_type": "display_data"
    }
   ],
   "source": [
    "sns.barplot(x = data['position'], y = data['market_value'], color='blue')\n",
    "plt.title('Position vs Market Value Plot')\n",
    "plt.ylabel('Market Value (Millions)')"
   ]
  },
  {
   "cell_type": "code",
   "execution_count": 54,
   "metadata": {},
   "outputs": [
    {
     "data": {
      "text/html": [
       "<div>\n",
       "<style scoped>\n",
       "    .dataframe tbody tr th:only-of-type {\n",
       "        vertical-align: middle;\n",
       "    }\n",
       "\n",
       "    .dataframe tbody tr th {\n",
       "        vertical-align: top;\n",
       "    }\n",
       "\n",
       "    .dataframe thead th {\n",
       "        text-align: right;\n",
       "    }\n",
       "</style>\n",
       "<table border=\"1\" class=\"dataframe\">\n",
       "  <thead>\n",
       "    <tr style=\"text-align: right;\">\n",
       "      <th></th>\n",
       "      <th>position</th>\n",
       "      <th>market_value</th>\n",
       "    </tr>\n",
       "  </thead>\n",
       "  <tbody>\n",
       "    <tr>\n",
       "      <th>0</th>\n",
       "      <td>CAM</td>\n",
       "      <td>2.596636e+06</td>\n",
       "    </tr>\n",
       "    <tr>\n",
       "      <th>1</th>\n",
       "      <td>CB</td>\n",
       "      <td>1.840318e+06</td>\n",
       "    </tr>\n",
       "    <tr>\n",
       "      <th>2</th>\n",
       "      <td>CDM</td>\n",
       "      <td>2.136967e+06</td>\n",
       "    </tr>\n",
       "    <tr>\n",
       "      <th>3</th>\n",
       "      <td>CM</td>\n",
       "      <td>2.279415e+06</td>\n",
       "    </tr>\n",
       "    <tr>\n",
       "      <th>4</th>\n",
       "      <td>GK</td>\n",
       "      <td>1.564133e+06</td>\n",
       "    </tr>\n",
       "    <tr>\n",
       "      <th>5</th>\n",
       "      <td>LB</td>\n",
       "      <td>1.634939e+06</td>\n",
       "    </tr>\n",
       "    <tr>\n",
       "      <th>6</th>\n",
       "      <td>LM</td>\n",
       "      <td>2.395086e+06</td>\n",
       "    </tr>\n",
       "    <tr>\n",
       "      <th>7</th>\n",
       "      <td>RB</td>\n",
       "      <td>1.720489e+06</td>\n",
       "    </tr>\n",
       "    <tr>\n",
       "      <th>8</th>\n",
       "      <td>RM</td>\n",
       "      <td>2.442881e+06</td>\n",
       "    </tr>\n",
       "    <tr>\n",
       "      <th>9</th>\n",
       "      <td>S</td>\n",
       "      <td>2.415787e+06</td>\n",
       "    </tr>\n",
       "  </tbody>\n",
       "</table>\n",
       "</div>"
      ],
      "text/plain": [
       "  position  market_value\n",
       "0      CAM  2.596636e+06\n",
       "1       CB  1.840318e+06\n",
       "2      CDM  2.136967e+06\n",
       "3       CM  2.279415e+06\n",
       "4       GK  1.564133e+06\n",
       "5       LB  1.634939e+06\n",
       "6       LM  2.395086e+06\n",
       "7       RB  1.720489e+06\n",
       "8       RM  2.442881e+06\n",
       "9        S  2.415787e+06"
      ]
     },
     "execution_count": 54,
     "metadata": {},
     "output_type": "execute_result"
    }
   ],
   "source": [
    "pos_market = pd.DataFrame(data.groupby('position')['market_value'].mean().reset_index())\n",
    "pos_market"
   ]
  },
  {
   "cell_type": "code",
   "execution_count": 55,
   "metadata": {},
   "outputs": [
    {
     "data": {
      "text/plain": [
       "array(['CAM', 'CB', 'CDM', 'CM', 'GK', 'LB', 'LM', 'RB', 'RM', 'S'],\n",
       "      dtype=object)"
      ]
     },
     "execution_count": 55,
     "metadata": {},
     "output_type": "execute_result"
    }
   ],
   "source": [
    "pos_market['position'].unique()"
   ]
  },
  {
   "cell_type": "code",
   "execution_count": 56,
   "metadata": {},
   "outputs": [],
   "source": [
    "labels = ['GK', 'Wide Defender', 'Wide Attacker','Central Defender', 'Central Attacker']\n",
    "numeric_pos = {'CAM':labels[4], 'CB':labels[3], 'CDM':labels[3], 'CM':labels[4], 'GK':labels[0], 'LB':labels[1], 'LM':labels[2], 'RB':labels[1], \n",
    "               'RM':labels[2], 'S':labels[4]}\n",
    "data['num_position'] = data.replace({'position':numeric_pos})['position']"
   ]
  },
  {
   "cell_type": "code",
   "execution_count": 57,
   "metadata": {},
   "outputs": [
    {
     "data": {
      "text/plain": [
       "array(['Other League', 'Ligue 1', 'Eredivisie', 'Liga NOS', 'Süper Lig',\n",
       "       'Premier League', 'Premier Liga', 'Bundesliga', 'Serie A',\n",
       "       'LaLiga', 'Jupiler Pro League'], dtype=object)"
      ]
     },
     "execution_count": 57,
     "metadata": {},
     "output_type": "execute_result"
    }
   ],
   "source": [
    "data['league'].unique()"
   ]
  },
  {
   "cell_type": "code",
   "execution_count": 58,
   "metadata": {},
   "outputs": [
    {
     "data": {
      "text/html": [
       "<div>\n",
       "<style scoped>\n",
       "    .dataframe tbody tr th:only-of-type {\n",
       "        vertical-align: middle;\n",
       "    }\n",
       "\n",
       "    .dataframe tbody tr th {\n",
       "        vertical-align: top;\n",
       "    }\n",
       "\n",
       "    .dataframe thead th {\n",
       "        text-align: right;\n",
       "    }\n",
       "</style>\n",
       "<table border=\"1\" class=\"dataframe\">\n",
       "  <thead>\n",
       "    <tr style=\"text-align: right;\">\n",
       "      <th></th>\n",
       "      <th>league</th>\n",
       "      <th>market_value</th>\n",
       "    </tr>\n",
       "  </thead>\n",
       "  <tbody>\n",
       "    <tr>\n",
       "      <th>0</th>\n",
       "      <td>Eredivisie</td>\n",
       "      <td>1.392050e+06</td>\n",
       "    </tr>\n",
       "    <tr>\n",
       "      <th>1</th>\n",
       "      <td>Süper Lig</td>\n",
       "      <td>1.405621e+06</td>\n",
       "    </tr>\n",
       "    <tr>\n",
       "      <th>2</th>\n",
       "      <td>Jupiler Pro League</td>\n",
       "      <td>1.424068e+06</td>\n",
       "    </tr>\n",
       "    <tr>\n",
       "      <th>3</th>\n",
       "      <td>Ligue 1</td>\n",
       "      <td>1.988217e+06</td>\n",
       "    </tr>\n",
       "    <tr>\n",
       "      <th>4</th>\n",
       "      <td>Other League</td>\n",
       "      <td>2.036085e+06</td>\n",
       "    </tr>\n",
       "    <tr>\n",
       "      <th>5</th>\n",
       "      <td>Premier Liga</td>\n",
       "      <td>2.221785e+06</td>\n",
       "    </tr>\n",
       "    <tr>\n",
       "      <th>6</th>\n",
       "      <td>Bundesliga</td>\n",
       "      <td>2.423471e+06</td>\n",
       "    </tr>\n",
       "    <tr>\n",
       "      <th>7</th>\n",
       "      <td>Liga NOS</td>\n",
       "      <td>2.691198e+06</td>\n",
       "    </tr>\n",
       "    <tr>\n",
       "      <th>8</th>\n",
       "      <td>Premier League</td>\n",
       "      <td>3.564263e+06</td>\n",
       "    </tr>\n",
       "    <tr>\n",
       "      <th>9</th>\n",
       "      <td>LaLiga</td>\n",
       "      <td>3.683385e+06</td>\n",
       "    </tr>\n",
       "    <tr>\n",
       "      <th>10</th>\n",
       "      <td>Serie A</td>\n",
       "      <td>3.938294e+06</td>\n",
       "    </tr>\n",
       "  </tbody>\n",
       "</table>\n",
       "</div>"
      ],
      "text/plain": [
       "                league  market_value\n",
       "0           Eredivisie  1.392050e+06\n",
       "1            Süper Lig  1.405621e+06\n",
       "2   Jupiler Pro League  1.424068e+06\n",
       "3              Ligue 1  1.988217e+06\n",
       "4         Other League  2.036085e+06\n",
       "5         Premier Liga  2.221785e+06\n",
       "6           Bundesliga  2.423471e+06\n",
       "7             Liga NOS  2.691198e+06\n",
       "8       Premier League  3.564263e+06\n",
       "9               LaLiga  3.683385e+06\n",
       "10             Serie A  3.938294e+06"
      ]
     },
     "execution_count": 58,
     "metadata": {},
     "output_type": "execute_result"
    }
   ],
   "source": [
    "league_market = data.groupby('league')['market_value'].mean().sort_values().reset_index()\n",
    "league_market"
   ]
  },
  {
   "cell_type": "code",
   "execution_count": 59,
   "metadata": {},
   "outputs": [
    {
     "data": {
      "text/plain": [
       "{'Eredivisie': 0,\n",
       " 'Süper Lig': 1,\n",
       " 'Jupiler Pro League': 2,\n",
       " 'Ligue 1': 3,\n",
       " 'Other League': 4,\n",
       " 'Premier Liga': 5,\n",
       " 'Bundesliga': 6,\n",
       " 'Liga NOS': 7,\n",
       " 'Premier League': 8,\n",
       " 'LaLiga': 9,\n",
       " 'Serie A': 10}"
      ]
     },
     "execution_count": 59,
     "metadata": {},
     "output_type": "execute_result"
    }
   ],
   "source": [
    "league_dict = {}\n",
    "keys = list(league_market.league)\n",
    "for i in keys:\n",
    "    league_dict[i] = keys.index(i)\n",
    "    \n",
    "league_dict"
   ]
  },
  {
   "cell_type": "code",
   "execution_count": 60,
   "metadata": {},
   "outputs": [
    {
     "data": {
      "text/html": [
       "<div>\n",
       "<style scoped>\n",
       "    .dataframe tbody tr th:only-of-type {\n",
       "        vertical-align: middle;\n",
       "    }\n",
       "\n",
       "    .dataframe tbody tr th {\n",
       "        vertical-align: top;\n",
       "    }\n",
       "\n",
       "    .dataframe thead th {\n",
       "        text-align: right;\n",
       "    }\n",
       "</style>\n",
       "<table border=\"1\" class=\"dataframe\">\n",
       "  <thead>\n",
       "    <tr style=\"text-align: right;\">\n",
       "      <th></th>\n",
       "      <th>player_id</th>\n",
       "      <th>player_name</th>\n",
       "      <th>season</th>\n",
       "      <th>club_name</th>\n",
       "      <th>minutes_played</th>\n",
       "      <th>goal_contributions</th>\n",
       "      <th>minutes_per_appearance</th>\n",
       "      <th>position</th>\n",
       "      <th>nationality_code</th>\n",
       "      <th>date_of_birth</th>\n",
       "      <th>height</th>\n",
       "      <th>market_value</th>\n",
       "      <th>fee</th>\n",
       "      <th>league</th>\n",
       "      <th>num_position</th>\n",
       "      <th>num_league</th>\n",
       "    </tr>\n",
       "  </thead>\n",
       "  <tbody>\n",
       "    <tr>\n",
       "      <th>1</th>\n",
       "      <td>1</td>\n",
       "      <td>Jermaine Beckford</td>\n",
       "      <td>2006</td>\n",
       "      <td>Carlisle United</td>\n",
       "      <td>1979</td>\n",
       "      <td>12.0</td>\n",
       "      <td>73</td>\n",
       "      <td>S</td>\n",
       "      <td>JAM</td>\n",
       "      <td>1983-12-09</td>\n",
       "      <td>188.0</td>\n",
       "      <td>100000.0</td>\n",
       "      <td>0.0</td>\n",
       "      <td>Other League</td>\n",
       "      <td>Central Attacker</td>\n",
       "      <td>4</td>\n",
       "    </tr>\n",
       "    <tr>\n",
       "      <th>8</th>\n",
       "      <td>1</td>\n",
       "      <td>Jermaine Beckford</td>\n",
       "      <td>2010</td>\n",
       "      <td>Everton FC</td>\n",
       "      <td>1794</td>\n",
       "      <td>17.0</td>\n",
       "      <td>44</td>\n",
       "      <td>S</td>\n",
       "      <td>JAM</td>\n",
       "      <td>1983-12-09</td>\n",
       "      <td>188.0</td>\n",
       "      <td>1500000.0</td>\n",
       "      <td>0.0</td>\n",
       "      <td>Other League</td>\n",
       "      <td>Central Attacker</td>\n",
       "      <td>4</td>\n",
       "    </tr>\n",
       "    <tr>\n",
       "      <th>9</th>\n",
       "      <td>1</td>\n",
       "      <td>Jermaine Beckford</td>\n",
       "      <td>2011</td>\n",
       "      <td>Everton FC</td>\n",
       "      <td>68</td>\n",
       "      <td>0.0</td>\n",
       "      <td>34</td>\n",
       "      <td>S</td>\n",
       "      <td>JAM</td>\n",
       "      <td>1983-12-09</td>\n",
       "      <td>188.0</td>\n",
       "      <td>4000000.0</td>\n",
       "      <td>3400000.0</td>\n",
       "      <td>Other League</td>\n",
       "      <td>Central Attacker</td>\n",
       "      <td>4</td>\n",
       "    </tr>\n",
       "    <tr>\n",
       "      <th>10</th>\n",
       "      <td>1</td>\n",
       "      <td>Jermaine Beckford</td>\n",
       "      <td>2011</td>\n",
       "      <td>Leicester City</td>\n",
       "      <td>2955</td>\n",
       "      <td>20.0</td>\n",
       "      <td>67</td>\n",
       "      <td>S</td>\n",
       "      <td>JAM</td>\n",
       "      <td>1983-12-09</td>\n",
       "      <td>188.0</td>\n",
       "      <td>4000000.0</td>\n",
       "      <td>3400000.0</td>\n",
       "      <td>Other League</td>\n",
       "      <td>Central Attacker</td>\n",
       "      <td>4</td>\n",
       "    </tr>\n",
       "    <tr>\n",
       "      <th>11</th>\n",
       "      <td>1</td>\n",
       "      <td>Jermaine Beckford</td>\n",
       "      <td>2012</td>\n",
       "      <td>Leicester City</td>\n",
       "      <td>1663</td>\n",
       "      <td>10.0</td>\n",
       "      <td>61</td>\n",
       "      <td>S</td>\n",
       "      <td>JAM</td>\n",
       "      <td>1983-12-09</td>\n",
       "      <td>188.0</td>\n",
       "      <td>1500000.0</td>\n",
       "      <td>0.0</td>\n",
       "      <td>Other League</td>\n",
       "      <td>Central Attacker</td>\n",
       "      <td>4</td>\n",
       "    </tr>\n",
       "  </tbody>\n",
       "</table>\n",
       "</div>"
      ],
      "text/plain": [
       "    player_id        player_name  season        club_name  minutes_played  \\\n",
       "1           1  Jermaine Beckford    2006  Carlisle United            1979   \n",
       "8           1  Jermaine Beckford    2010       Everton FC            1794   \n",
       "9           1  Jermaine Beckford    2011       Everton FC              68   \n",
       "10          1  Jermaine Beckford    2011   Leicester City            2955   \n",
       "11          1  Jermaine Beckford    2012   Leicester City            1663   \n",
       "\n",
       "    goal_contributions  minutes_per_appearance position nationality_code  \\\n",
       "1                 12.0                      73        S              JAM   \n",
       "8                 17.0                      44        S              JAM   \n",
       "9                  0.0                      34        S              JAM   \n",
       "10                20.0                      67        S              JAM   \n",
       "11                10.0                      61        S              JAM   \n",
       "\n",
       "   date_of_birth  height  market_value        fee        league  \\\n",
       "1     1983-12-09   188.0      100000.0        0.0  Other League   \n",
       "8     1983-12-09   188.0     1500000.0        0.0  Other League   \n",
       "9     1983-12-09   188.0     4000000.0  3400000.0  Other League   \n",
       "10    1983-12-09   188.0     4000000.0  3400000.0  Other League   \n",
       "11    1983-12-09   188.0     1500000.0        0.0  Other League   \n",
       "\n",
       "        num_position  num_league  \n",
       "1   Central Attacker           4  \n",
       "8   Central Attacker           4  \n",
       "9   Central Attacker           4  \n",
       "10  Central Attacker           4  \n",
       "11  Central Attacker           4  "
      ]
     },
     "execution_count": 60,
     "metadata": {},
     "output_type": "execute_result"
    }
   ],
   "source": [
    "data['num_league'] = data.replace({'league':league_dict})['league']\n",
    "data.head()"
   ]
  },
  {
   "cell_type": "markdown",
   "metadata": {},
   "source": [
    "Since we have the DOB for each player, we should also make a column that records their age in years per season of data. That way, we can add it as a feature relative to market value."
   ]
  },
  {
   "cell_type": "code",
   "execution_count": 61,
   "metadata": {},
   "outputs": [],
   "source": [
    "data['age'] = data['season'] - pd.DatetimeIndex(data['date_of_birth']).year"
   ]
  },
  {
   "cell_type": "code",
   "execution_count": 62,
   "metadata": {},
   "outputs": [
    {
     "data": {
      "text/plain": [
       "array([23, 27, 28, 29, 30, 31, 32, 34, 21, 20, 18, 19, 25, 24, 33, 36, 26,\n",
       "       22, 37, 40, 42, 17, 35, 39, 38, 16, 41, 15], dtype=int64)"
      ]
     },
     "execution_count": 62,
     "metadata": {},
     "output_type": "execute_result"
    }
   ],
   "source": [
    "data['age'].unique()"
   ]
  },
  {
   "cell_type": "code",
   "execution_count": 63,
   "metadata": {},
   "outputs": [
    {
     "data": {
      "text/plain": [
       "<matplotlib.axes._subplots.AxesSubplot at 0x293e1c61520>"
      ]
     },
     "execution_count": 63,
     "metadata": {},
     "output_type": "execute_result"
    },
    {
     "data": {
      "image/png": "[encoded data removed]",
      "text/plain": [
       "<Figure size 432x288 with 2 Axes>"
      ]
     },
     "metadata": {
      "needs_background": "light"
     },
     "output_type": "display_data"
    }
   ],
   "source": [
    "sns.heatmap(data.corr())"
   ]
  },
  {
   "cell_type": "code",
   "execution_count": 64,
   "metadata": {},
   "outputs": [
    {
     "data": {
      "text/plain": [
       "(array([ 0,  1,  2,  3,  4,  5,  6,  7,  8,  9, 10]),\n",
       " <a list of 11 Text major ticklabel objects>)"
      ]
     },
     "execution_count": 64,
     "metadata": {},
     "output_type": "execute_result"
    },
    {
     "data": {
      "image/png": "[encoded data removed]",
      "text/plain": [
       "<Figure size 576x432 with 1 Axes>"
      ]
     },
     "metadata": {
      "needs_background": "light"
     },
     "output_type": "display_data"
    }
   ],
   "source": [
    "plt.figure(figsize=(8,6))\n",
    "sns.barplot(x='league', y='market_value', data=data, color='blue')\n",
    "plt.xticks(rotation=45)"
   ]
  },
  {
   "cell_type": "code",
   "execution_count": 65,
   "metadata": {},
   "outputs": [
    {
     "data": {
      "text/plain": [
       "<matplotlib.axes._subplots.AxesSubplot at 0x293e1d983d0>"
      ]
     },
     "execution_count": 65,
     "metadata": {},
     "output_type": "execute_result"
    },
    {
     "data": {
      "image/png": "[encoded data removed]",
      "text/plain": [
       "<Figure size 432x288 with 1 Axes>"
      ]
     },
     "metadata": {
      "needs_background": "light"
     },
     "output_type": "display_data"
    }
   ],
   "source": [
    "sns.barplot(x='position', y='market_value', data=pos_market, color='blue')"
   ]
  },
  {
   "cell_type": "markdown",
   "metadata": {},
   "source": [
    "#### Positional analysis vs Market Value\n",
    "\n",
    "One of the questions we want to answer is what positions are best value in regards to the market. \n",
    "\n",
    "Typically, we see that attackers are more expensive than defenders, who are more expensive than goalkeepers. We would like to explore this more, with regards to the differences between positional market value and the leagues that the players play in. \n",
    "\n",
    "Additionally, we would also like to map out the average ages per position in each league to give us a better understanding of the differences in market value per league. Let's start by observing the average market values per position in each league. To do this, we have merged the positions together into groups to make it easier to visualize."
   ]
  },
  {
   "cell_type": "code",
   "execution_count": 66,
   "metadata": {},
   "outputs": [
    {
     "data": {
      "text/plain": [
       "Text(0, 0.5, 'Market value average in Millions')"
      ]
     },
     "execution_count": 66,
     "metadata": {},
     "output_type": "execute_result"
    },
    {
     "data": {
      "image/png": "[encoded data removed]",
      "text/plain": [
       "<Figure size 1296x720 with 1 Axes>"
      ]
     },
     "metadata": {
      "needs_background": "light"
     },
     "output_type": "display_data"
    }
   ],
   "source": [
    "labels = ['GK', 'Wide Defender', 'Wide Attacker','Central Defender', 'Central Attacker']\n",
    "plt.figure(figsize=(18,10))\n",
    "sns.barplot(x='league',y='market_value',data=data, hue='num_position')\n",
    "plt.xticks(rotation=45)\n",
    "plt.legend(loc=\"upper left\")\n",
    "\n",
    "plt.title('Breakdown of average market prices per league by player positions')\n",
    "plt.xlabel('Leagues')\n",
    "plt.ylabel('Market value average in Millions')"
   ]
  },
  {
   "cell_type": "markdown",
   "metadata": {},
   "source": [
    "Based on what we see above, we can see that attackers (central or wide) account for higher market values than defenders and goalkeepers. This is as we expected, since scoring and creating goals tend to be more valuable to a team than a defenders ability to stop goals. \n",
    "\n",
    "We see that, overall, the market value is highest for players in the English, Spanish, and Italian leagues on average. Each of these leagues have a difference in the average price for each position, however, with English goalkeepers being lower in market value than Spanish and Italian goalkeepers, for example.\n",
    "\n",
    "Curiously, we can see that wide attackers from the Eredivisie (top league of Netherlands) are the lowest market value within their respective market. This could mean that there is a gap in performance from wide attackers, or it could mean that they are significantly undervalued compared to similar players in other leagues. "
   ]
  },
  {
   "cell_type": "markdown",
   "metadata": {},
   "source": [
    "#### League Analysis\n",
    "\n",
    "Suppose we want to explore more of the three leagues that fall in the \"cheaper\" area of market value: Jupiler Pro League (Belgium top division), Eredivisie and Super Lig (Turkish top division). We can create two data sets that are specifically players in these leagues and see if we can find more information on whether these players are undervalued."
   ]
  },
  {
   "cell_type": "code",
   "execution_count": 67,
   "metadata": {},
   "outputs": [
    {
     "name": "stdout",
     "output_type": "stream",
     "text": [
      "(1212, 17)\n",
      "(2560, 17)\n",
      "(1732, 17)\n"
     ]
    }
   ],
   "source": [
    "eredivisie = data[data['league'] == 'Eredivisie'].sort_values('num_position')\n",
    "super_lig = data[data['league'] == 'Süper Lig'].sort_values('num_position')\n",
    "jupiler = data[data['league'] == 'Jupiler Pro League'].sort_values('num_position')\n",
    "\n",
    "print(eredivisie.shape)\n",
    "print(super_lig.shape)\n",
    "print(jupiler.shape)"
   ]
  },
  {
   "cell_type": "markdown",
   "metadata": {},
   "source": [
    "We can see that there are more players in the Super Liga in our database than the other two leagues, so we will start by analyzing the data from this data set, first."
   ]
  },
  {
   "cell_type": "markdown",
   "metadata": {},
   "source": [
    "We will now instead create one dataset with only the players from these three leagues."
   ]
  },
  {
   "cell_type": "code",
   "execution_count": 68,
   "metadata": {},
   "outputs": [
    {
     "data": {
      "text/html": [
       "<div>\n",
       "<style scoped>\n",
       "    .dataframe tbody tr th:only-of-type {\n",
       "        vertical-align: middle;\n",
       "    }\n",
       "\n",
       "    .dataframe tbody tr th {\n",
       "        vertical-align: top;\n",
       "    }\n",
       "\n",
       "    .dataframe thead th {\n",
       "        text-align: right;\n",
       "    }\n",
       "</style>\n",
       "<table border=\"1\" class=\"dataframe\">\n",
       "  <thead>\n",
       "    <tr style=\"text-align: right;\">\n",
       "      <th></th>\n",
       "      <th>player_id</th>\n",
       "      <th>player_name</th>\n",
       "      <th>season</th>\n",
       "      <th>club_name</th>\n",
       "      <th>minutes_played</th>\n",
       "      <th>goal_contributions</th>\n",
       "      <th>minutes_per_appearance</th>\n",
       "      <th>position</th>\n",
       "      <th>nationality_code</th>\n",
       "      <th>date_of_birth</th>\n",
       "      <th>height</th>\n",
       "      <th>market_value</th>\n",
       "      <th>fee</th>\n",
       "      <th>league</th>\n",
       "      <th>num_position</th>\n",
       "      <th>num_league</th>\n",
       "      <th>age</th>\n",
       "    </tr>\n",
       "  </thead>\n",
       "  <tbody>\n",
       "    <tr>\n",
       "      <th>274</th>\n",
       "      <td>18</td>\n",
       "      <td>Prince Gouano</td>\n",
       "      <td>2013</td>\n",
       "      <td>RKC Waalwijk</td>\n",
       "      <td>1732</td>\n",
       "      <td>0.0</td>\n",
       "      <td>86</td>\n",
       "      <td>CB</td>\n",
       "      <td>FRA</td>\n",
       "      <td>1993-12-24</td>\n",
       "      <td>186.0</td>\n",
       "      <td>500000.0</td>\n",
       "      <td>0.0</td>\n",
       "      <td>Eredivisie</td>\n",
       "      <td>Central Defender</td>\n",
       "      <td>0</td>\n",
       "      <td>20</td>\n",
       "    </tr>\n",
       "    <tr>\n",
       "      <th>286</th>\n",
       "      <td>18</td>\n",
       "      <td>Prince Gouano</td>\n",
       "      <td>2013</td>\n",
       "      <td>RKC Waalwijk</td>\n",
       "      <td>1732</td>\n",
       "      <td>0.0</td>\n",
       "      <td>86</td>\n",
       "      <td>CB</td>\n",
       "      <td>FRA</td>\n",
       "      <td>1993-12-24</td>\n",
       "      <td>186.0</td>\n",
       "      <td>200000.0</td>\n",
       "      <td>0.0</td>\n",
       "      <td>Eredivisie</td>\n",
       "      <td>Central Defender</td>\n",
       "      <td>0</td>\n",
       "      <td>20</td>\n",
       "    </tr>\n",
       "    <tr>\n",
       "      <th>298</th>\n",
       "      <td>18</td>\n",
       "      <td>Prince Gouano</td>\n",
       "      <td>2013</td>\n",
       "      <td>RKC Waalwijk</td>\n",
       "      <td>1732</td>\n",
       "      <td>0.0</td>\n",
       "      <td>86</td>\n",
       "      <td>CB</td>\n",
       "      <td>FRA</td>\n",
       "      <td>1993-12-24</td>\n",
       "      <td>186.0</td>\n",
       "      <td>200000.0</td>\n",
       "      <td>1450000.0</td>\n",
       "      <td>Eredivisie</td>\n",
       "      <td>Central Defender</td>\n",
       "      <td>0</td>\n",
       "      <td>20</td>\n",
       "    </tr>\n",
       "  </tbody>\n",
       "</table>\n",
       "</div>"
      ],
      "text/plain": [
       "     player_id    player_name  season     club_name  minutes_played  \\\n",
       "274         18  Prince Gouano    2013  RKC Waalwijk            1732   \n",
       "286         18  Prince Gouano    2013  RKC Waalwijk            1732   \n",
       "298         18  Prince Gouano    2013  RKC Waalwijk            1732   \n",
       "\n",
       "     goal_contributions  minutes_per_appearance position nationality_code  \\\n",
       "274                 0.0                      86       CB              FRA   \n",
       "286                 0.0                      86       CB              FRA   \n",
       "298                 0.0                      86       CB              FRA   \n",
       "\n",
       "    date_of_birth  height  market_value        fee      league  \\\n",
       "274    1993-12-24   186.0      500000.0        0.0  Eredivisie   \n",
       "286    1993-12-24   186.0      200000.0        0.0  Eredivisie   \n",
       "298    1993-12-24   186.0      200000.0  1450000.0  Eredivisie   \n",
       "\n",
       "         num_position  num_league  age  \n",
       "274  Central Defender           0   20  \n",
       "286  Central Defender           0   20  \n",
       "298  Central Defender           0   20  "
      ]
     },
     "execution_count": 68,
     "metadata": {},
     "output_type": "execute_result"
    }
   ],
   "source": [
    "cheap_leagues = data[data['league'].isin(['Eredivisie', 'Süper Lig', 'Jupiler Pro League'])]\n",
    "\n",
    "cheap_leagues.head(3)"
   ]
  },
  {
   "cell_type": "code",
   "execution_count": 69,
   "metadata": {},
   "outputs": [
    {
     "data": {
      "text/plain": [
       "Text(0.5, 0, 'Position')"
      ]
     },
     "execution_count": 69,
     "metadata": {},
     "output_type": "execute_result"
    },
    {
     "data": {
      "image/png": "[encoded data removed]",
      "text/plain": [
       "<Figure size 720x432 with 1 Axes>"
      ]
     },
     "metadata": {
      "needs_background": "light"
     },
     "output_type": "display_data"
    }
   ],
   "source": [
    "plt.figure(figsize=(10,6))\n",
    "sns.barplot(x='num_position', y='market_value', hue='league', data = cheap_leagues)\n",
    "plt.ticklabel_format(style='plain', axis='y')\n",
    "plt.legend(loc='upper left')\n",
    "plt.title('Position market value for Dutch, Turkish, and Belgian Leagues')\n",
    "plt.ylabel('Market Value')\n",
    "plt.xlabel('Position')"
   ]
  },
  {
   "cell_type": "markdown",
   "metadata": {},
   "source": [
    "We see that *Central Attackers*, *Wide Defenders* and *Central Defenders* are pretty similar, whereas *Wide Attackers* and *Goalkeepers* have significantly cheaper market values in the Eredivisie and Super Lig, respectively. We could therefore, on average, likely purchase wide attackers from the Eredivisie and goalkeepers from the Super Lig for less than their counterparts in other leagues. As for the other positions, any of these three leagues provide us cheaper options than most other leagues."
   ]
  },
  {
   "cell_type": "markdown",
   "metadata": {},
   "source": [
    "What about player age? Could that be a significant factor in the \"cheaper\" player value for these leagues. Let's explore what the average age for each position is within our cheapest leagues, then compare to the other leagues in Europe."
   ]
  },
  {
   "cell_type": "code",
   "execution_count": 70,
   "metadata": {},
   "outputs": [
    {
     "data": {
      "text/plain": [
       "Text(0.5, 0, 'Position')"
      ]
     },
     "execution_count": 70,
     "metadata": {},
     "output_type": "execute_result"
    },
    {
     "data": {
      "image/png": "[encoded data removed]",
      "text/plain": [
       "<Figure size 720x432 with 1 Axes>"
      ]
     },
     "metadata": {
      "needs_background": "light"
     },
     "output_type": "display_data"
    }
   ],
   "source": [
    "plt.figure(figsize=(10,6))\n",
    "sns.barplot(x='num_position', y='age', hue='league', data = cheap_leagues)\n",
    "plt.ticklabel_format(style='plain', axis='y')\n",
    "plt.legend(loc='upper center')\n",
    "plt.title('Average ages in each position for Dutch, Turkish, and Belgian Leagues')\n",
    "plt.ylabel('Average Age')\n",
    "plt.ylim(20,29)\n",
    "plt.xlabel('Position')"
   ]
  },
  {
   "cell_type": "markdown",
   "metadata": {},
   "source": [
    "We see immediately that the Eredivisie is younger on average at every position! This means that many of the players in this league are sold before they reach 26 years old, which could mean that clubs in the league tend to look to sell their players.\n",
    "\n",
    "By contrast, the Super Lig is older in all categories, which could explain their relatively lower overall market value. We can compare the average age of players in Super Lig to the rest of Europe and reasonably expect the age to be on the higher end of the overall spectrum.\n",
    "\n",
    "The Jupiler Pro League seems to be only slightly older than the Eredivisie, meaning there is a similar player pool to the Eredivisie, possibly.\n",
    "\n",
    "The curious point is how young the Wide Attackers and Wide Defenders players are on average in the Eredivisie. It looks like teams sell these players early on, likely because they have good value early on.\n",
    "\n",
    "Now, lets see how these average ages compare to the overall position ages in all European leagues."
   ]
  },
  {
   "cell_type": "code",
   "execution_count": 71,
   "metadata": {},
   "outputs": [
    {
     "data": {
      "text/plain": [
       "Text(4.5, 27.023046875000002, 'Super Lig')"
      ]
     },
     "execution_count": 71,
     "metadata": {},
     "output_type": "execute_result"
    },
    {
     "data": {
      "image/png": "[encoded data removed]",
      "text/plain": [
       "<Figure size 720x432 with 1 Axes>"
      ]
     },
     "metadata": {
      "needs_background": "light"
     },
     "output_type": "display_data"
    }
   ],
   "source": [
    "mean_age_ered = eredivisie['age'].mean()\n",
    "mean_age_super_lig = super_lig['age'].mean()\n",
    "mean_age_jup = jupiler['age'].mean()\n",
    "\n",
    "\n",
    "plt.figure(figsize=(10,6))\n",
    "sns.barplot(x='league', y='age', data = data, color='lightgray')\n",
    "plt.ticklabel_format(style='plain', axis='y')\n",
    "plt.legend([])\n",
    "plt.title('Average ages in each position for Dutch, Portuguese, and Belgian Leagues')\n",
    "plt.ylabel('Average Age')\n",
    "plt.ylim(23,28)\n",
    "plt.xlabel('Position')\n",
    "\n",
    "plt.xticks(rotation=45)\n",
    "\n",
    "plt.axhline(mean_age_ered, color='blue')\n",
    "plt.axhline(mean_age_super_lig, c='darkorange')\n",
    "plt.axhline(mean_age_jup, c='forestgreen')\n",
    "\n",
    "plt.text(4.5, mean_age_ered+.05,'Eredivisie', color='blue')\n",
    "plt.text(4.5, mean_age_jup+.05,'Jupiler Pro League', color='darkgreen')\n",
    "plt.text(4.5, mean_age_super_lig+.05,'Super Lig', color='darkorange')"
   ]
  },
  {
   "cell_type": "markdown",
   "metadata": {},
   "source": [
    "The Eredivisie is clearly the youngest league, and thus their cheaper values could be due to the players being sold before their \"prime\". We see also that Liga NOS (Portuguese top division) and Bundesliga (German top division) are both just under the same average age as the Jupiler Pro League, meaning that players in these divisions tend to be more expensive, but also slightly younger in age.\n",
    "\n",
    "Super Lig is by far the oldest league by average age. The Premier League (England) and La Liga (Spain) are the next two leagues in regards to older average age.\n",
    "\n",
    "What about the leagues in the middle or the leagues that are the highest average value? We will explore this in the following dataframes."
   ]
  },
  {
   "cell_type": "code",
   "execution_count": 72,
   "metadata": {},
   "outputs": [
    {
     "data": {
      "text/plain": [
       "league\n",
       "Serie A               3.938294e+06\n",
       "LaLiga                3.683385e+06\n",
       "Premier League        3.564263e+06\n",
       "Liga NOS              2.691198e+06\n",
       "Bundesliga            2.423471e+06\n",
       "Premier Liga          2.221785e+06\n",
       "Other League          2.036085e+06\n",
       "Ligue 1               1.988217e+06\n",
       "Jupiler Pro League    1.424068e+06\n",
       "Süper Lig             1.405621e+06\n",
       "Eredivisie            1.392050e+06\n",
       "Name: market_value, dtype: float64"
      ]
     },
     "execution_count": 72,
     "metadata": {},
     "output_type": "execute_result"
    }
   ],
   "source": [
    "market_rank = data.groupby('league')['market_value'].mean().sort_values(ascending=False)\n",
    "market_rank"
   ]
  },
  {
   "cell_type": "code",
   "execution_count": 73,
   "metadata": {},
   "outputs": [
    {
     "name": "stdout",
     "output_type": "stream",
     "text": [
      "<class 'pandas.core.frame.DataFrame'>\n",
      "Int64Index: 6496 entries, 267 to 698922\n",
      "Data columns (total 17 columns):\n",
      " #   Column                  Non-Null Count  Dtype         \n",
      "---  ------                  --------------  -----         \n",
      " 0   player_id               6496 non-null   int64         \n",
      " 1   player_name             6496 non-null   object        \n",
      " 2   season                  6496 non-null   int64         \n",
      " 3   club_name               6496 non-null   object        \n",
      " 4   minutes_played          6496 non-null   int64         \n",
      " 5   goal_contributions      6496 non-null   float64       \n",
      " 6   minutes_per_appearance  6496 non-null   int64         \n",
      " 7   position                6496 non-null   object        \n",
      " 8   nationality_code        6496 non-null   object        \n",
      " 9   date_of_birth           6496 non-null   datetime64[ns]\n",
      " 10  height                  6496 non-null   float64       \n",
      " 11  market_value            6496 non-null   float64       \n",
      " 12  fee                     6496 non-null   float64       \n",
      " 13  league                  6496 non-null   object        \n",
      " 14  num_position            6496 non-null   object        \n",
      " 15  num_league              6496 non-null   int64         \n",
      " 16  age                     6496 non-null   int64         \n",
      "dtypes: datetime64[ns](1), float64(4), int64(6), object(6)\n",
      "memory usage: 913.5+ KB\n"
     ]
    }
   ],
   "source": [
    "middle = data[data['league'].isin(['Premier Liga', 'Bundesliga', 'Ligue 1', 'Liga NOS'])]\n",
    "\n",
    "middle.info()"
   ]
  },
  {
   "cell_type": "code",
   "execution_count": 74,
   "metadata": {},
   "outputs": [
    {
     "data": {
      "text/html": [
       "<div>\n",
       "<style scoped>\n",
       "    .dataframe tbody tr th:only-of-type {\n",
       "        vertical-align: middle;\n",
       "    }\n",
       "\n",
       "    .dataframe tbody tr th {\n",
       "        vertical-align: top;\n",
       "    }\n",
       "\n",
       "    .dataframe thead th {\n",
       "        text-align: right;\n",
       "    }\n",
       "</style>\n",
       "<table border=\"1\" class=\"dataframe\">\n",
       "  <thead>\n",
       "    <tr style=\"text-align: right;\">\n",
       "      <th></th>\n",
       "      <th>player_id</th>\n",
       "      <th>player_name</th>\n",
       "      <th>season</th>\n",
       "      <th>club_name</th>\n",
       "      <th>minutes_played</th>\n",
       "      <th>goal_contributions</th>\n",
       "      <th>minutes_per_appearance</th>\n",
       "      <th>position</th>\n",
       "      <th>nationality_code</th>\n",
       "      <th>date_of_birth</th>\n",
       "      <th>height</th>\n",
       "      <th>market_value</th>\n",
       "      <th>fee</th>\n",
       "      <th>league</th>\n",
       "      <th>num_position</th>\n",
       "      <th>num_league</th>\n",
       "      <th>age</th>\n",
       "    </tr>\n",
       "  </thead>\n",
       "  <tbody>\n",
       "    <tr>\n",
       "      <th>712</th>\n",
       "      <td>26</td>\n",
       "      <td>Pavel Mogilevets</td>\n",
       "      <td>2013</td>\n",
       "      <td>Rubin Kazan</td>\n",
       "      <td>893</td>\n",
       "      <td>4.0</td>\n",
       "      <td>81</td>\n",
       "      <td>CM</td>\n",
       "      <td>RUS</td>\n",
       "      <td>1993-01-25</td>\n",
       "      <td>183.0</td>\n",
       "      <td>250000.0</td>\n",
       "      <td>0.0</td>\n",
       "      <td>Premier Liga</td>\n",
       "      <td>Central Attacker</td>\n",
       "      <td>5</td>\n",
       "      <td>20</td>\n",
       "    </tr>\n",
       "    <tr>\n",
       "      <th>730</th>\n",
       "      <td>26</td>\n",
       "      <td>Pavel Mogilevets</td>\n",
       "      <td>2014</td>\n",
       "      <td>Rubin Kazan</td>\n",
       "      <td>420</td>\n",
       "      <td>0.0</td>\n",
       "      <td>84</td>\n",
       "      <td>CM</td>\n",
       "      <td>RUS</td>\n",
       "      <td>1993-01-25</td>\n",
       "      <td>183.0</td>\n",
       "      <td>1500000.0</td>\n",
       "      <td>0.0</td>\n",
       "      <td>Premier Liga</td>\n",
       "      <td>Central Attacker</td>\n",
       "      <td>5</td>\n",
       "      <td>21</td>\n",
       "    </tr>\n",
       "    <tr>\n",
       "      <th>747</th>\n",
       "      <td>26</td>\n",
       "      <td>Pavel Mogilevets</td>\n",
       "      <td>2014</td>\n",
       "      <td>Rubin Kazan</td>\n",
       "      <td>420</td>\n",
       "      <td>0.0</td>\n",
       "      <td>84</td>\n",
       "      <td>CM</td>\n",
       "      <td>RUS</td>\n",
       "      <td>1993-01-25</td>\n",
       "      <td>183.0</td>\n",
       "      <td>1500000.0</td>\n",
       "      <td>0.0</td>\n",
       "      <td>Premier Liga</td>\n",
       "      <td>Central Attacker</td>\n",
       "      <td>5</td>\n",
       "      <td>21</td>\n",
       "    </tr>\n",
       "  </tbody>\n",
       "</table>\n",
       "</div>"
      ],
      "text/plain": [
       "     player_id       player_name  season    club_name  minutes_played  \\\n",
       "712         26  Pavel Mogilevets    2013  Rubin Kazan             893   \n",
       "730         26  Pavel Mogilevets    2014  Rubin Kazan             420   \n",
       "747         26  Pavel Mogilevets    2014  Rubin Kazan             420   \n",
       "\n",
       "     goal_contributions  minutes_per_appearance position nationality_code  \\\n",
       "712                 4.0                      81       CM              RUS   \n",
       "730                 0.0                      84       CM              RUS   \n",
       "747                 0.0                      84       CM              RUS   \n",
       "\n",
       "    date_of_birth  height  market_value  fee        league      num_position  \\\n",
       "712    1993-01-25   183.0      250000.0  0.0  Premier Liga  Central Attacker   \n",
       "730    1993-01-25   183.0     1500000.0  0.0  Premier Liga  Central Attacker   \n",
       "747    1993-01-25   183.0     1500000.0  0.0  Premier Liga  Central Attacker   \n",
       "\n",
       "     num_league  age  \n",
       "712           5   20  \n",
       "730           5   21  \n",
       "747           5   21  "
      ]
     },
     "execution_count": 74,
     "metadata": {},
     "output_type": "execute_result"
    }
   ],
   "source": [
    "middle[middle['league']=='Premier Liga'].head(3)"
   ]
  },
  {
   "cell_type": "code",
   "execution_count": 75,
   "metadata": {},
   "outputs": [],
   "source": [
    "plt.close()"
   ]
  },
  {
   "cell_type": "code",
   "execution_count": 76,
   "metadata": {},
   "outputs": [
    {
     "data": {
      "image/png": "[encoded data removed]",
      "text/plain": [
       "<Figure size 720x576 with 2 Axes>"
      ]
     },
     "metadata": {
      "needs_background": "light"
     },
     "output_type": "display_data"
    }
   ],
   "source": [
    "plt.figure(figsize=(10,8))\n",
    "plt.subplot(2,1,1)\n",
    "\n",
    "sns.barplot(x='num_position', y='market_value', hue='league', data = middle)\n",
    "plt.ticklabel_format(style='plain', axis='y')\n",
    "plt.legend(loc='upper right')\n",
    "plt.title('Position market value for Portuguese, French, Russian, and German')\n",
    "plt.ylabel('Market Value')\n",
    "plt.xlabel('Position')\n",
    "\n",
    "plt.subplot(2,1,2)\n",
    "\n",
    "sns.barplot(x='num_position', y='age', hue='league', data = middle)\n",
    "plt.ticklabel_format(style='plain', axis='y')\n",
    "plt.legend(loc='upper right')\n",
    "plt.title('Average ages in each position for Portuguese, French, Russian, and German')\n",
    "plt.ylabel('Average Age')\n",
    "plt.ylim(20,28)\n",
    "plt.xlabel('Position')\n",
    "\n",
    "plt.tight_layout()"
   ]
  },
  {
   "cell_type": "code",
   "execution_count": 77,
   "metadata": {},
   "outputs": [
    {
     "data": {
      "image/png": "[encoded data removed]",
      "text/plain": [
       "<Figure size 720x576 with 2 Axes>"
      ]
     },
     "metadata": {
      "needs_background": "light"
     },
     "output_type": "display_data"
    }
   ],
   "source": [
    "plt.figure(figsize=(10,8))\n",
    "plt.subplot(2,1,1)\n",
    "\n",
    "sns.boxplot(x='num_position', y='market_value', hue='league', data = middle)\n",
    "plt.ticklabel_format(style='plain', axis='y')\n",
    "plt.legend(loc='upper right')\n",
    "plt.title('Position market value for Portuguese, French, Russian, and German')\n",
    "plt.ylabel('Market Value')\n",
    "plt.xlabel('Position')\n",
    "plt.ylim(0,10000000)\n",
    "\n",
    "plt.subplot(2,1,2)\n",
    "\n",
    "sns.boxplot(x='num_position', y='age', hue='league', data = middle)\n",
    "plt.ticklabel_format(style='plain', axis='y')\n",
    "plt.legend(loc='upper right')\n",
    "plt.title('Average ages in each position for Portuguese, French, Russian, and German')\n",
    "plt.ylabel('Average Age')\n",
    "plt.ylim(15,40)\n",
    "plt.xlabel('Position')\n",
    "\n",
    "plt.tight_layout()"
   ]
  },
  {
   "cell_type": "code",
   "execution_count": 78,
   "metadata": {},
   "outputs": [
    {
     "data": {
      "text/html": [
       "<div>\n",
       "<style scoped>\n",
       "    .dataframe tbody tr th:only-of-type {\n",
       "        vertical-align: middle;\n",
       "    }\n",
       "\n",
       "    .dataframe tbody tr th {\n",
       "        vertical-align: top;\n",
       "    }\n",
       "\n",
       "    .dataframe thead th {\n",
       "        text-align: right;\n",
       "    }\n",
       "</style>\n",
       "<table border=\"1\" class=\"dataframe\">\n",
       "  <thead>\n",
       "    <tr style=\"text-align: right;\">\n",
       "      <th></th>\n",
       "      <th>player_id</th>\n",
       "      <th>player_name</th>\n",
       "      <th>season</th>\n",
       "      <th>club_name</th>\n",
       "      <th>minutes_played</th>\n",
       "      <th>goal_contributions</th>\n",
       "      <th>minutes_per_appearance</th>\n",
       "      <th>position</th>\n",
       "      <th>nationality_code</th>\n",
       "      <th>date_of_birth</th>\n",
       "      <th>height</th>\n",
       "      <th>market_value</th>\n",
       "      <th>fee</th>\n",
       "      <th>league</th>\n",
       "      <th>num_position</th>\n",
       "      <th>num_league</th>\n",
       "      <th>age</th>\n",
       "    </tr>\n",
       "  </thead>\n",
       "  <tbody>\n",
       "    <tr>\n",
       "      <th>501</th>\n",
       "      <td>20</td>\n",
       "      <td>Craig Gardner</td>\n",
       "      <td>2009</td>\n",
       "      <td>Aston Villa</td>\n",
       "      <td>59</td>\n",
       "      <td>0.0</td>\n",
       "      <td>29</td>\n",
       "      <td>CM</td>\n",
       "      <td>GBR</td>\n",
       "      <td>1986-11-25</td>\n",
       "      <td>176.0</td>\n",
       "      <td>2000000.0</td>\n",
       "      <td>3500000.0</td>\n",
       "      <td>Premier League</td>\n",
       "      <td>Central Attacker</td>\n",
       "      <td>8</td>\n",
       "      <td>23</td>\n",
       "    </tr>\n",
       "    <tr>\n",
       "      <th>834</th>\n",
       "      <td>27</td>\n",
       "      <td>Keith Andrews</td>\n",
       "      <td>2005</td>\n",
       "      <td>Hull City</td>\n",
       "      <td>2054</td>\n",
       "      <td>0.0</td>\n",
       "      <td>79</td>\n",
       "      <td>CM</td>\n",
       "      <td>IRL</td>\n",
       "      <td>1980-09-13</td>\n",
       "      <td>183.0</td>\n",
       "      <td>100000.0</td>\n",
       "      <td>0.0</td>\n",
       "      <td>Premier League</td>\n",
       "      <td>Central Attacker</td>\n",
       "      <td>8</td>\n",
       "      <td>25</td>\n",
       "    </tr>\n",
       "    <tr>\n",
       "      <th>839</th>\n",
       "      <td>27</td>\n",
       "      <td>Keith Andrews</td>\n",
       "      <td>2006</td>\n",
       "      <td>Hull City</td>\n",
       "      <td>3319</td>\n",
       "      <td>9.0</td>\n",
       "      <td>82</td>\n",
       "      <td>CM</td>\n",
       "      <td>IRL</td>\n",
       "      <td>1980-09-13</td>\n",
       "      <td>183.0</td>\n",
       "      <td>100000.0</td>\n",
       "      <td>0.0</td>\n",
       "      <td>Premier League</td>\n",
       "      <td>Central Attacker</td>\n",
       "      <td>8</td>\n",
       "      <td>26</td>\n",
       "    </tr>\n",
       "    <tr>\n",
       "      <th>1046</th>\n",
       "      <td>29</td>\n",
       "      <td>Ragnar Klavan</td>\n",
       "      <td>2018</td>\n",
       "      <td>Cagliari Calcio</td>\n",
       "      <td>810</td>\n",
       "      <td>0.0</td>\n",
       "      <td>81</td>\n",
       "      <td>CB</td>\n",
       "      <td>EST</td>\n",
       "      <td>1985-10-30</td>\n",
       "      <td>187.0</td>\n",
       "      <td>3500000.0</td>\n",
       "      <td>1300000.0</td>\n",
       "      <td>Serie A</td>\n",
       "      <td>Central Defender</td>\n",
       "      <td>10</td>\n",
       "      <td>33</td>\n",
       "    </tr>\n",
       "    <tr>\n",
       "      <th>1308</th>\n",
       "      <td>32</td>\n",
       "      <td>Jesús Fernández</td>\n",
       "      <td>2015</td>\n",
       "      <td>Granada CF</td>\n",
       "      <td>90</td>\n",
       "      <td>0.0</td>\n",
       "      <td>90</td>\n",
       "      <td>GK</td>\n",
       "      <td>ESP</td>\n",
       "      <td>1988-06-11</td>\n",
       "      <td>190.0</td>\n",
       "      <td>1000000.0</td>\n",
       "      <td>0.0</td>\n",
       "      <td>LaLiga</td>\n",
       "      <td>GK</td>\n",
       "      <td>9</td>\n",
       "      <td>27</td>\n",
       "    </tr>\n",
       "  </tbody>\n",
       "</table>\n",
       "</div>"
      ],
      "text/plain": [
       "      player_id      player_name  season        club_name  minutes_played  \\\n",
       "501          20    Craig Gardner    2009      Aston Villa              59   \n",
       "834          27    Keith Andrews    2005        Hull City            2054   \n",
       "839          27    Keith Andrews    2006        Hull City            3319   \n",
       "1046         29    Ragnar Klavan    2018  Cagliari Calcio             810   \n",
       "1308         32  Jesús Fernández    2015       Granada CF              90   \n",
       "\n",
       "      goal_contributions  minutes_per_appearance position nationality_code  \\\n",
       "501                  0.0                      29       CM              GBR   \n",
       "834                  0.0                      79       CM              IRL   \n",
       "839                  9.0                      82       CM              IRL   \n",
       "1046                 0.0                      81       CB              EST   \n",
       "1308                 0.0                      90       GK              ESP   \n",
       "\n",
       "     date_of_birth  height  market_value        fee          league  \\\n",
       "501     1986-11-25   176.0     2000000.0  3500000.0  Premier League   \n",
       "834     1980-09-13   183.0      100000.0        0.0  Premier League   \n",
       "839     1980-09-13   183.0      100000.0        0.0  Premier League   \n",
       "1046    1985-10-30   187.0     3500000.0  1300000.0         Serie A   \n",
       "1308    1988-06-11   190.0     1000000.0        0.0          LaLiga   \n",
       "\n",
       "          num_position  num_league  age  \n",
       "501   Central Attacker           8   23  \n",
       "834   Central Attacker           8   25  \n",
       "839   Central Attacker           8   26  \n",
       "1046  Central Defender          10   33  \n",
       "1308                GK           9   27  "
      ]
     },
     "execution_count": 78,
     "metadata": {},
     "output_type": "execute_result"
    }
   ],
   "source": [
    "expensive = data[data['league'].isin(['Serie A', 'LaLiga', 'Premier League'])]\n",
    "expensive.head()"
   ]
  },
  {
   "cell_type": "code",
   "execution_count": 79,
   "metadata": {},
   "outputs": [
    {
     "data": {
      "image/png": "[encoded data removed]",
      "text/plain": [
       "<Figure size 720x576 with 2 Axes>"
      ]
     },
     "metadata": {
      "needs_background": "light"
     },
     "output_type": "display_data"
    }
   ],
   "source": [
    "plt.figure(figsize=(10,8))\n",
    "plt.subplot(2,1,1)\n",
    "\n",
    "sns.boxplot(x='num_position', y='market_value', hue='league', data = expensive)\n",
    "plt.ticklabel_format(style='plain', axis='y')\n",
    "plt.legend(loc='upper right')\n",
    "plt.title('Position market value for Italian, Spanish, and English leagues')\n",
    "plt.ylabel('Market Value')\n",
    "plt.xlabel('Position')\n",
    "plt.ylim(1000,17500000)\n",
    "\n",
    "plt.subplot(2,1,2)\n",
    "\n",
    "sns.boxplot(x='num_position', y='age', hue='league', data = expensive)\n",
    "plt.ticklabel_format(style='plain', axis='y')\n",
    "plt.legend(loc='upper right')\n",
    "plt.title('Average ages in each position for Italian, Spanish, and English leagues')\n",
    "plt.ylabel('Average Age')\n",
    "plt.ylim(15,42)\n",
    "plt.xlabel('Position')\n",
    "\n",
    "plt.tight_layout()"
   ]
  },
  {
   "cell_type": "code",
   "execution_count": 80,
   "metadata": {},
   "outputs": [
    {
     "data": {
      "image/png": "[encoded data removed]",
      "text/plain": [
       "<Figure size 720x576 with 2 Axes>"
      ]
     },
     "metadata": {
      "needs_background": "light"
     },
     "output_type": "display_data"
    }
   ],
   "source": [
    "plt.figure(figsize=(10,8))\n",
    "plt.subplot(2,1,1)\n",
    "\n",
    "sns.barplot(x='num_position', y='market_value', hue='league', data = expensive)\n",
    "plt.ticklabel_format(style='plain', axis='y')\n",
    "plt.legend(loc='upper right')\n",
    "plt.title('Position market value for Italian, Spanish, and English leagues')\n",
    "plt.ylabel('Market Value')\n",
    "plt.xlabel('Position')\n",
    "\n",
    "plt.subplot(2,1,2)\n",
    "\n",
    "sns.barplot(x='num_position', y='age', hue='league', data = expensive)\n",
    "plt.ticklabel_format(style='plain', axis='y')\n",
    "plt.legend(loc='upper right')\n",
    "plt.title('Average ages in each position for Italian, Spanish, and English leagues')\n",
    "plt.ylabel('Average Age')\n",
    "plt.ylim(23,30)\n",
    "plt.xlabel('Position')\n",
    "\n",
    "plt.tight_layout()"
   ]
  },
  {
   "cell_type": "markdown",
   "metadata": {},
   "source": [
    "Our next stage will be to tidy up the data into a working mode, creating dummy variables for our catergorical data and engineering features from all the information. This will be done in the next notebook: [Notebook 3 - Preprocessing and Training](https://github.com/dvanheeswijk/Springboard/blob/master/Capstone%202/Capstone%202%20-%20Preprocessing%20and%20Training.ipynb)\n",
    "\n",
    "For this notebook, we will go back to our data set before we removed the rows with no market value. This is because we can update these rows in the next section with either a function or use a model to predict the market values based on the training data created from the rows with nonnull market values."
   ]
  },
  {
   "cell_type": "code",
   "execution_count": 81,
   "metadata": {},
   "outputs": [
    {
     "name": "stdout",
     "output_type": "stream",
     "text": [
      "<class 'pandas.core.frame.DataFrame'>\n",
      "Int64Index: 157323 entries, 0 to 698949\n",
      "Data columns (total 14 columns):\n",
      " #   Column                  Non-Null Count   Dtype  \n",
      "---  ------                  --------------   -----  \n",
      " 0   player_id               157323 non-null  int64  \n",
      " 1   player_name             157323 non-null  object \n",
      " 2   season                  157323 non-null  int64  \n",
      " 3   club_name               157323 non-null  object \n",
      " 4   minutes_played          157323 non-null  int64  \n",
      " 5   goal_contributions      157323 non-null  float64\n",
      " 6   minutes_per_appearance  157323 non-null  int64  \n",
      " 7   position                157323 non-null  object \n",
      " 8   nationality_code        157323 non-null  object \n",
      " 9   date_of_birth           157323 non-null  object \n",
      " 10  height                  157323 non-null  float64\n",
      " 11  market_value            77661 non-null   float64\n",
      " 12  fee                     69582 non-null   float64\n",
      " 13  league                  157323 non-null  object \n",
      "dtypes: float64(4), int64(4), object(6)\n",
      "memory usage: 18.0+ MB\n"
     ]
    }
   ],
   "source": [
    "data_copy.info()"
   ]
  },
  {
   "cell_type": "code",
   "execution_count": 41,
   "metadata": {},
   "outputs": [
    {
     "data": {
      "text/html": [
       "<div>\n",
       "<style scoped>\n",
       "    .dataframe tbody tr th:only-of-type {\n",
       "        vertical-align: middle;\n",
       "    }\n",
       "\n",
       "    .dataframe tbody tr th {\n",
       "        vertical-align: top;\n",
       "    }\n",
       "\n",
       "    .dataframe thead th {\n",
       "        text-align: right;\n",
       "    }\n",
       "</style>\n",
       "<table border=\"1\" class=\"dataframe\">\n",
       "  <thead>\n",
       "    <tr style=\"text-align: right;\">\n",
       "      <th></th>\n",
       "      <th>player_id</th>\n",
       "      <th>player_name</th>\n",
       "      <th>season</th>\n",
       "      <th>club_name</th>\n",
       "      <th>minutes_played</th>\n",
       "      <th>goal_contributions</th>\n",
       "      <th>minutes_per_appearance</th>\n",
       "      <th>position</th>\n",
       "      <th>nationality_code</th>\n",
       "      <th>date_of_birth</th>\n",
       "      <th>height</th>\n",
       "      <th>market_value</th>\n",
       "      <th>fee</th>\n",
       "      <th>league</th>\n",
       "      <th>num_position</th>\n",
       "      <th>num_league</th>\n",
       "      <th>age</th>\n",
       "    </tr>\n",
       "  </thead>\n",
       "  <tbody>\n",
       "    <tr>\n",
       "      <th>1</th>\n",
       "      <td>1</td>\n",
       "      <td>Jermaine Beckford</td>\n",
       "      <td>2006</td>\n",
       "      <td>Carlisle United</td>\n",
       "      <td>1979</td>\n",
       "      <td>12.0</td>\n",
       "      <td>73</td>\n",
       "      <td>S</td>\n",
       "      <td>JAM</td>\n",
       "      <td>1983-12-09</td>\n",
       "      <td>188.0</td>\n",
       "      <td>100000.0</td>\n",
       "      <td>0.0</td>\n",
       "      <td>Other League</td>\n",
       "      <td>Central Attacker</td>\n",
       "      <td>4</td>\n",
       "      <td>23</td>\n",
       "    </tr>\n",
       "    <tr>\n",
       "      <th>8</th>\n",
       "      <td>1</td>\n",
       "      <td>Jermaine Beckford</td>\n",
       "      <td>2010</td>\n",
       "      <td>Everton FC</td>\n",
       "      <td>1794</td>\n",
       "      <td>17.0</td>\n",
       "      <td>44</td>\n",
       "      <td>S</td>\n",
       "      <td>JAM</td>\n",
       "      <td>1983-12-09</td>\n",
       "      <td>188.0</td>\n",
       "      <td>1500000.0</td>\n",
       "      <td>0.0</td>\n",
       "      <td>Other League</td>\n",
       "      <td>Central Attacker</td>\n",
       "      <td>4</td>\n",
       "      <td>27</td>\n",
       "    </tr>\n",
       "    <tr>\n",
       "      <th>9</th>\n",
       "      <td>1</td>\n",
       "      <td>Jermaine Beckford</td>\n",
       "      <td>2011</td>\n",
       "      <td>Everton FC</td>\n",
       "      <td>68</td>\n",
       "      <td>0.0</td>\n",
       "      <td>34</td>\n",
       "      <td>S</td>\n",
       "      <td>JAM</td>\n",
       "      <td>1983-12-09</td>\n",
       "      <td>188.0</td>\n",
       "      <td>4000000.0</td>\n",
       "      <td>3400000.0</td>\n",
       "      <td>Other League</td>\n",
       "      <td>Central Attacker</td>\n",
       "      <td>4</td>\n",
       "      <td>28</td>\n",
       "    </tr>\n",
       "    <tr>\n",
       "      <th>10</th>\n",
       "      <td>1</td>\n",
       "      <td>Jermaine Beckford</td>\n",
       "      <td>2011</td>\n",
       "      <td>Leicester City</td>\n",
       "      <td>2955</td>\n",
       "      <td>20.0</td>\n",
       "      <td>67</td>\n",
       "      <td>S</td>\n",
       "      <td>JAM</td>\n",
       "      <td>1983-12-09</td>\n",
       "      <td>188.0</td>\n",
       "      <td>4000000.0</td>\n",
       "      <td>3400000.0</td>\n",
       "      <td>Other League</td>\n",
       "      <td>Central Attacker</td>\n",
       "      <td>4</td>\n",
       "      <td>28</td>\n",
       "    </tr>\n",
       "    <tr>\n",
       "      <th>11</th>\n",
       "      <td>1</td>\n",
       "      <td>Jermaine Beckford</td>\n",
       "      <td>2012</td>\n",
       "      <td>Leicester City</td>\n",
       "      <td>1663</td>\n",
       "      <td>10.0</td>\n",
       "      <td>61</td>\n",
       "      <td>S</td>\n",
       "      <td>JAM</td>\n",
       "      <td>1983-12-09</td>\n",
       "      <td>188.0</td>\n",
       "      <td>1500000.0</td>\n",
       "      <td>0.0</td>\n",
       "      <td>Other League</td>\n",
       "      <td>Central Attacker</td>\n",
       "      <td>4</td>\n",
       "      <td>29</td>\n",
       "    </tr>\n",
       "  </tbody>\n",
       "</table>\n",
       "</div>"
      ],
      "text/plain": [
       "    player_id        player_name  season        club_name  minutes_played  \\\n",
       "1           1  Jermaine Beckford    2006  Carlisle United            1979   \n",
       "8           1  Jermaine Beckford    2010       Everton FC            1794   \n",
       "9           1  Jermaine Beckford    2011       Everton FC              68   \n",
       "10          1  Jermaine Beckford    2011   Leicester City            2955   \n",
       "11          1  Jermaine Beckford    2012   Leicester City            1663   \n",
       "\n",
       "    goal_contributions  minutes_per_appearance position nationality_code  \\\n",
       "1                 12.0                      73        S              JAM   \n",
       "8                 17.0                      44        S              JAM   \n",
       "9                  0.0                      34        S              JAM   \n",
       "10                20.0                      67        S              JAM   \n",
       "11                10.0                      61        S              JAM   \n",
       "\n",
       "   date_of_birth  height  market_value        fee        league  \\\n",
       "1     1983-12-09   188.0      100000.0        0.0  Other League   \n",
       "8     1983-12-09   188.0     1500000.0        0.0  Other League   \n",
       "9     1983-12-09   188.0     4000000.0  3400000.0  Other League   \n",
       "10    1983-12-09   188.0     4000000.0  3400000.0  Other League   \n",
       "11    1983-12-09   188.0     1500000.0        0.0  Other League   \n",
       "\n",
       "        num_position  num_league  age  \n",
       "1   Central Attacker           4   23  \n",
       "8   Central Attacker           4   27  \n",
       "9   Central Attacker           4   28  \n",
       "10  Central Attacker           4   28  \n",
       "11  Central Attacker           4   29  "
      ]
     },
     "execution_count": 41,
     "metadata": {},
     "output_type": "execute_result"
    }
   ],
   "source": [
    "data_copy.head()"
   ]
  },
  {
   "cell_type": "code",
   "execution_count": 83,
   "metadata": {},
   "outputs": [],
   "source": [
    "data_copy.to_csv('football_data_eda.csv')"
   ]
  },
  {
   "cell_type": "code",
   "execution_count": null,
   "metadata": {},
   "outputs": [],
   "source": []
  }
 ],
 "metadata": {
  "kernelspec": {
   "display_name": "Python 3",
   "language": "python",
   "name": "python3"
  },
  "language_info": {
   "codemirror_mode": {
    "name": "ipython",
    "version": 3
   },
   "file_extension": ".py",
   "mimetype": "text/x-python",
   "name": "python",
   "nbconvert_exporter": "python",
   "pygments_lexer": "ipython3",
   "version": "3.8.3"
  }
 },
 "nbformat": 4,
 "nbformat_minor": 4
}
