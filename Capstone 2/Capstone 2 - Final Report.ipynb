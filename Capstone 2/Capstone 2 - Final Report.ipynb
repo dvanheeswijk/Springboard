{
 "cells": [
  {
   "cell_type": "markdown",
   "metadata": {},
   "source": [
    "# European Transfer Market Prediction\n",
    "\n",
    "Our club, **Team FC**, is competing in the top division of England. Our survival within the league relies on many facets, including elite performance on the pitch by the first team players, expert coaching from our coaching staff, and quality recruitment to continue to make the club competitive.\n",
    "\n",
    "As the club's data scientist, I am in charge of improving our club by using the data available to create systems that accomplish these goals. The purpose of this report is to address the recruitment phase of our club.\n",
    "\n",
    "### Goal for recruitment\n",
    "\n",
    "Our recruitment policy as a club is as follows:\n",
    "\n",
    "* Purchases for players should be limited to players below the age of 26 years old\n",
    "* Transfer budget is 40 million\n",
    "* At most 1 player can be bought that is not European\n",
    "\n",
    "We would like to identify 3 players to recruit based on our model, and will try to maximize the value we receive per player based on the following questions:\n",
    "\n",
    "* **What leagues are best for searching for young players (21 years or younger)?**\n",
    "* **What position is best to target within the top league in regards to value (cheapest position)?**\n",
    "* **What continent of players has the most potential profit in regards to buying/ then selling on after the player turns 27?**"
   ]
  },
  {
   "cell_type": "markdown",
   "metadata": {},
   "source": [
    "### Data\n",
    "Our task is to create a model that will help us predict the market value for players based on historical data. Our data set is:\n",
    "\n",
    "* **[Kaggle- European Football Transfers Dataset](https://www.kaggle.com/giovannibeli/european-football-transfers-database)**\n",
    "\n",
    "Within this data set, we have several *.csv* files that contain many different data sets. We focused our search to the data found in the following files that are found in the dataset listed above:\n",
    "* transfers.csv\n",
    "* stats_of_players.csv\n",
    "* dict_players.csv\n",
    "* clubs_in_leagues.csv\n",
    "* dict_leagues.csv"
   ]
  },
  {
   "cell_type": "markdown",
   "metadata": {},
   "source": [
    "### Cleaning the data\n",
    "\n",
    "Our process for cleaning the data was to identify what data we wanted to keep and what was unnecessary. We narrowed down our feature selection to the following features:\n",
    "\n",
    "* "
   ]
  }
 ],
 "metadata": {
  "kernelspec": {
   "display_name": "Python 3",
   "language": "python",
   "name": "python3"
  },
  "language_info": {
   "codemirror_mode": {
    "name": "ipython",
    "version": 3
   },
   "file_extension": ".py",
   "mimetype": "text/x-python",
   "name": "python",
   "nbconvert_exporter": "python",
   "pygments_lexer": "ipython3",
   "version": "3.8.3"
  }
 },
 "nbformat": 4,
 "nbformat_minor": 4
}
