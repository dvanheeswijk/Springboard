{
 "cells": [
  {
   "cell_type": "markdown",
   "metadata": {},
   "source": [
    "# Modeling - Football Transfer Data Project\n",
    "\n",
    "In this notebook, we will tackle our training and test sets created in the [previous notebook](http://localhost:8888/notebooks/Springboard/Springboard/Capstone%202/Capstone%202%20-%20Preprocessing%20and%20Training.ipynb) and try to run through a few models in an effort to create a best model for predicting market value.\n",
    "\n",
    "We saved the split of data between training data (found in scaled_training.csv) and prediction data (found in prediciton.csv). Our training sets of data will be found in the scaled_training data set, which we will read in now, along with importing the necessary libraries."
   ]
  },
  {
   "cell_type": "code",
<<<<<<< HEAD
<<<<<<< HEAD
   "execution_count": 34,
=======
   "execution_count": 30,
>>>>>>> 7eb97bddda94a2d8dcd9350ec8cb304fef9fd75f
=======
   "execution_count": 30,
>>>>>>> 7eb97bddda94a2d8dcd9350ec8cb304fef9fd75f
   "metadata": {},
   "outputs": [],
   "source": [
    "import pandas as pd\n",
    "import numpy as np\n",
    "import matplotlib.pyplot as plt\n",
    "import seaborn as sns\n",
    "from sklearn.metrics import r2_score\n",
    "from sklearn import preprocessing\n",
    "\n",
    "df = pd.read_csv('scaled_training.csv')\n",
    "df.head()\n",
    "\n",
    "train_df = pd.read_csv(\"training.csv\")"
   ]
  },
  {
   "cell_type": "markdown",
   "metadata": {},
   "source": [
    "As we can see, our dataframe for testing has already been scaled in the previous notebook. We will now recreate our training and test data split, as we did before."
   ]
  },
  {
   "cell_type": "code",
<<<<<<< HEAD
<<<<<<< HEAD
   "execution_count": 35,
=======
   "execution_count": 31,
>>>>>>> 7eb97bddda94a2d8dcd9350ec8cb304fef9fd75f
=======
   "execution_count": 31,
>>>>>>> 7eb97bddda94a2d8dcd9350ec8cb304fef9fd75f
   "metadata": {},
   "outputs": [],
   "source": [
    "from sklearn.model_selection import train_test_split\n",
    "\n",
<<<<<<< HEAD
<<<<<<< HEAD
    "X = train_df.drop(columns=['market_value', 'market_value_est'])\n",
    "y = train_df['market_value']\n",
    "y_dis = train_df['market_value_est']\n",
=======
    "X = train_df.drop(columns='market_value')\n",
    "y = train_df['market_value']\n",
>>>>>>> 7eb97bddda94a2d8dcd9350ec8cb304fef9fd75f
=======
    "X = train_df.drop(columns='market_value')\n",
    "y = train_df['market_value']\n",
>>>>>>> 7eb97bddda94a2d8dcd9350ec8cb304fef9fd75f
    "y = preprocessing.scale(y)\n",
    "\n",
    "X_train, X_test, y_train, y_test = train_test_split(X, y, test_size=0.3, random_state=42)"
   ]
  },
  {
<<<<<<< HEAD
<<<<<<< HEAD
   "cell_type": "code",
   "execution_count": 10,
   "metadata": {},
   "outputs": [
    {
     "name": "stdout",
     "output_type": "stream",
     "text": [
      "(54362, 25) (23298, 25)\n",
      "(54362,) (23298,)\n"
     ]
    }
   ],
   "source": [
    "print(X_train.shape, X_test.shape)\n",
    "print(y_train.shape, y_test.shape)"
   ]
  },
  {
   "cell_type": "code",
   "execution_count": 37,
   "metadata": {},
   "outputs": [],
   "source": [
    "X_train = np.nan_to_num(X_train)\n",
    "y_train = np.nan_to_num(y_train)"
   ]
  },
  {
   "cell_type": "code",
   "execution_count": null,
   "metadata": {},
   "outputs": [],
   "source": []
  },
  {
=======
>>>>>>> 7eb97bddda94a2d8dcd9350ec8cb304fef9fd75f
=======
>>>>>>> 7eb97bddda94a2d8dcd9350ec8cb304fef9fd75f
   "cell_type": "markdown",
   "metadata": {},
   "source": [
    "### Model Selection\n",
    "\n",
    "For this notebook, we will be creating and evaluating 4 models in an effort to find the best one for predicting market value for players in European Football. We will explore the following:\n",
    "\n",
    "* Random Forest\n",
    "* Gradient Boosting\n",
    "* K Means Neighbors\n",
    "* Stochastic Gradient Descent"
   ]
  },
  {
   "cell_type": "markdown",
   "metadata": {},
   "source": [
    "#### Random Forest"
   ]
  },
  {
   "cell_type": "code",
<<<<<<< HEAD
<<<<<<< HEAD
   "execution_count": 38,
=======
   "execution_count": 97,
>>>>>>> 7eb97bddda94a2d8dcd9350ec8cb304fef9fd75f
=======
   "execution_count": 97,
>>>>>>> 7eb97bddda94a2d8dcd9350ec8cb304fef9fd75f
   "metadata": {},
   "outputs": [
    {
     "data": {
      "text/plain": [
<<<<<<< HEAD
<<<<<<< HEAD
       "RandomForestRegressor(max_depth=100, n_estimators=800)"
      ]
     },
     "execution_count": 38,
=======
=======
>>>>>>> 7eb97bddda94a2d8dcd9350ec8cb304fef9fd75f
       "RandomForestRegressor(criterion='mae', n_estimators=10, random_state=1234)"
      ]
     },
     "execution_count": 97,
<<<<<<< HEAD
>>>>>>> 7eb97bddda94a2d8dcd9350ec8cb304fef9fd75f
=======
>>>>>>> 7eb97bddda94a2d8dcd9350ec8cb304fef9fd75f
     "metadata": {},
     "output_type": "execute_result"
    }
   ],
   "source": [
    "from sklearn.ensemble import RandomForestRegressor\n",
    "\n",
<<<<<<< HEAD
<<<<<<< HEAD
    "# params = ['n_estimators'=800,\n",
    "#  'min_samples_split'= 2,\n",
    "#  'min_samples_leaf'= 1,\n",
    "#  'max_features'= 'auto',\n",
    "#  'max_depth'= 100,\n",
    "#  'bootstrap'= True]\n",
    "\n",
    "\n",
    "rf = RandomForestRegressor(n_estimators=800,\n",
    "                         min_samples_split= 2,\n",
    "                         min_samples_leaf= 1,\n",
    "                         max_features= 'auto',\n",
    "                         max_depth= 100,\n",
    "                         bootstrap= True)\n",
=======
    "rf = RandomForestRegressor(n_estimators=10, criterion='mae', random_state=1234)\n",
>>>>>>> 7eb97bddda94a2d8dcd9350ec8cb304fef9fd75f
=======
    "rf = RandomForestRegressor(n_estimators=10, criterion='mae', random_state=1234)\n",
>>>>>>> 7eb97bddda94a2d8dcd9350ec8cb304fef9fd75f
    "\n",
    "rf.fit(X_train, y_train)"
   ]
  },
  {
   "cell_type": "code",
<<<<<<< HEAD
<<<<<<< HEAD
   "execution_count": 39,
   "metadata": {},
   "outputs": [],
   "source": [
    "from sklearn import tree, metrics\n",
    "y_pred_rf = pd.Series(rf.predict(X_test))"
=======
=======
>>>>>>> 7eb97bddda94a2d8dcd9350ec8cb304fef9fd75f
   "execution_count": 98,
   "metadata": {},
   "outputs": [
    {
     "data": {
      "text/plain": [
       "0.7372643881055185"
      ]
     },
     "execution_count": 98,
     "metadata": {},
     "output_type": "execute_result"
    }
   ],
   "source": [
    "from sklearn import tree, metrics\n",
    "y_pred_rf = pd.Series(rf.predict(X_test))\n",
    "rf.score(X_test, y_test)"
<<<<<<< HEAD
>>>>>>> 7eb97bddda94a2d8dcd9350ec8cb304fef9fd75f
=======
>>>>>>> 7eb97bddda94a2d8dcd9350ec8cb304fef9fd75f
   ]
  },
  {
   "cell_type": "code",
<<<<<<< HEAD
<<<<<<< HEAD
   "execution_count": 40,
=======
   "execution_count": 148,
>>>>>>> 7eb97bddda94a2d8dcd9350ec8cb304fef9fd75f
=======
   "execution_count": 148,
>>>>>>> 7eb97bddda94a2d8dcd9350ec8cb304fef9fd75f
   "metadata": {},
   "outputs": [
    {
     "name": "stdout",
     "output_type": "stream",
     "text": [
<<<<<<< HEAD
<<<<<<< HEAD
      "0.7230612500578437\n"
=======
      "0.6956361146006846\n"
>>>>>>> 7eb97bddda94a2d8dcd9350ec8cb304fef9fd75f
=======
      "0.6956361146006846\n"
>>>>>>> 7eb97bddda94a2d8dcd9350ec8cb304fef9fd75f
     ]
    }
   ],
   "source": [
    "print(r2_score(y_pred_rf, y_test))\n",
    "\n",
    "rf_r2 = r2_score(y_pred_rf, y_test)"
   ]
  },
  {
   "cell_type": "code",
   "execution_count": null,
   "metadata": {},
   "outputs": [],
   "source": []
  },
  {
   "cell_type": "markdown",
   "metadata": {},
   "source": [
    "#### Gradient Boosting Machine"
   ]
  },
  {
   "cell_type": "code",
<<<<<<< HEAD
<<<<<<< HEAD
   "execution_count": 41,
=======
   "execution_count": 100,
>>>>>>> 7eb97bddda94a2d8dcd9350ec8cb304fef9fd75f
=======
   "execution_count": 100,
>>>>>>> 7eb97bddda94a2d8dcd9350ec8cb304fef9fd75f
   "metadata": {},
   "outputs": [
    {
     "data": {
      "text/plain": [
<<<<<<< HEAD
<<<<<<< HEAD
       "GradientBoostingRegressor(n_estimators=1000, random_state=1234)"
      ]
     },
     "execution_count": 41,
=======
=======
>>>>>>> 7eb97bddda94a2d8dcd9350ec8cb304fef9fd75f
       "0.7517475799517064"
      ]
     },
     "execution_count": 100,
<<<<<<< HEAD
>>>>>>> 7eb97bddda94a2d8dcd9350ec8cb304fef9fd75f
=======
>>>>>>> 7eb97bddda94a2d8dcd9350ec8cb304fef9fd75f
     "metadata": {},
     "output_type": "execute_result"
    }
   ],
   "source": [
    "from sklearn.ensemble import GradientBoostingRegressor\n",
    "\n",
    "gb = GradientBoostingRegressor(n_estimators=1000, learning_rate=0.1, random_state=1234)\n",
    "\n",
<<<<<<< HEAD
<<<<<<< HEAD
    "gb.fit(X_train, y_train)"
=======
    "gb.fit(X_train, y_train)\n",
    "\n",
    "gb.score(X_test, y_test)"
>>>>>>> 7eb97bddda94a2d8dcd9350ec8cb304fef9fd75f
=======
    "gb.fit(X_train, y_train)\n",
    "\n",
    "gb.score(X_test, y_test)"
>>>>>>> 7eb97bddda94a2d8dcd9350ec8cb304fef9fd75f
   ]
  },
  {
   "cell_type": "code",
<<<<<<< HEAD
<<<<<<< HEAD
   "execution_count": 42,
=======
   "execution_count": 147,
>>>>>>> 7eb97bddda94a2d8dcd9350ec8cb304fef9fd75f
=======
   "execution_count": 147,
>>>>>>> 7eb97bddda94a2d8dcd9350ec8cb304fef9fd75f
   "metadata": {},
   "outputs": [
    {
     "name": "stdout",
     "output_type": "stream",
     "text": [
<<<<<<< HEAD
<<<<<<< HEAD
      "0.6868213152567038\n"
=======
      "0.6844610810349945\n"
>>>>>>> 7eb97bddda94a2d8dcd9350ec8cb304fef9fd75f
=======
      "0.6844610810349945\n"
>>>>>>> 7eb97bddda94a2d8dcd9350ec8cb304fef9fd75f
     ]
    }
   ],
   "source": [
    "y_pred_gb = gb.predict(X_test)\n",
    "\n",
    "print(r2_score(y_pred_gb, y_test))\n",
    "\n",
    "gb_r2 = r2_score(y_pred_gb, y_test)"
   ]
  },
  {
   "cell_type": "code",
   "execution_count": null,
   "metadata": {},
   "outputs": [],
   "source": []
  },
  {
   "cell_type": "code",
   "execution_count": null,
   "metadata": {},
   "outputs": [],
   "source": []
  },
  {
   "cell_type": "code",
   "execution_count": null,
   "metadata": {},
   "outputs": [],
   "source": []
  },
  {
   "cell_type": "code",
   "execution_count": null,
   "metadata": {},
   "outputs": [],
   "source": []
  },
  {
   "cell_type": "markdown",
   "metadata": {},
   "source": [
    "#### K Means Neighbors"
   ]
  },
  {
   "cell_type": "code",
<<<<<<< HEAD
<<<<<<< HEAD
   "execution_count": 43,
=======
   "execution_count": 114,
>>>>>>> 7eb97bddda94a2d8dcd9350ec8cb304fef9fd75f
=======
   "execution_count": 114,
>>>>>>> 7eb97bddda94a2d8dcd9350ec8cb304fef9fd75f
   "metadata": {},
   "outputs": [],
   "source": [
    "from sklearn.neighbors import KNeighborsRegressor\n",
    "\n",
    "test_scores = []\n",
    "train_scores = []\n",
    "\n",
    "for i in range(1,20):\n",
    "\n",
    "    knn = KNeighborsRegressor(i)\n",
    "    knn.fit(X_train,y_train)\n",
    "    \n",
    "    train_scores.append(knn.score(X_train,y_train))\n",
    "    test_scores.append(knn.score(X_test,y_test))"
   ]
  },
  {
   "cell_type": "code",
<<<<<<< HEAD
<<<<<<< HEAD
   "execution_count": 44,
=======
   "execution_count": 118,
>>>>>>> 7eb97bddda94a2d8dcd9350ec8cb304fef9fd75f
=======
   "execution_count": 118,
>>>>>>> 7eb97bddda94a2d8dcd9350ec8cb304fef9fd75f
   "metadata": {},
   "outputs": [
    {
     "name": "stderr",
     "output_type": "stream",
     "text": [
      "C:\\Users\\david\\anaconda3\\lib\\site-packages\\seaborn\\_decorators.py:36: FutureWarning: Pass the following variables as keyword args: x, y. From version 0.12, the only valid positional argument will be `data`, and passing other arguments without an explicit keyword will result in an error or misinterpretation.\n",
      "  warnings.warn(\n",
      "C:\\Users\\david\\anaconda3\\lib\\site-packages\\seaborn\\_decorators.py:36: FutureWarning: Pass the following variables as keyword args: x, y. From version 0.12, the only valid positional argument will be `data`, and passing other arguments without an explicit keyword will result in an error or misinterpretation.\n",
      "  warnings.warn(\n"
     ]
    },
    {
     "data": {
<<<<<<< HEAD
<<<<<<< HEAD
      "image/png": "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\n",
=======
      "image/png": "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\n",
>>>>>>> 7eb97bddda94a2d8dcd9350ec8cb304fef9fd75f
=======
      "image/png": "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\n",
>>>>>>> 7eb97bddda94a2d8dcd9350ec8cb304fef9fd75f
      "text/plain": [
       "<Figure size 864x360 with 1 Axes>"
      ]
     },
     "metadata": {
      "needs_background": "light"
     },
     "output_type": "display_data"
    }
   ],
   "source": [
    "plt.figure(figsize=(12,5))\n",
    "p = sns.lineplot(range(1,20),train_scores,marker='*',label='Train Score')\n",
    "p = sns.lineplot(range(1,20),test_scores,marker='o',label='Test Score')\n",
    "plt.locator_params(nbins=10)"
   ]
  },
  {
   "cell_type": "code",
<<<<<<< HEAD
<<<<<<< HEAD
   "execution_count": 51,
=======
   "execution_count": 123,
>>>>>>> 7eb97bddda94a2d8dcd9350ec8cb304fef9fd75f
=======
   "execution_count": 123,
>>>>>>> 7eb97bddda94a2d8dcd9350ec8cb304fef9fd75f
   "metadata": {},
   "outputs": [
    {
     "data": {
      "text/plain": [
<<<<<<< HEAD
<<<<<<< HEAD
       "KNeighborsRegressor()"
      ]
     },
     "execution_count": 51,
=======
=======
>>>>>>> 7eb97bddda94a2d8dcd9350ec8cb304fef9fd75f
       "0.574935018607607"
      ]
     },
     "execution_count": 123,
<<<<<<< HEAD
>>>>>>> 7eb97bddda94a2d8dcd9350ec8cb304fef9fd75f
=======
>>>>>>> 7eb97bddda94a2d8dcd9350ec8cb304fef9fd75f
     "metadata": {},
     "output_type": "execute_result"
    }
   ],
   "source": [
    "best_knn = KNeighborsRegressor(5)\n",
    "\n",
<<<<<<< HEAD
<<<<<<< HEAD
    "best_knn.fit(X_train, y_train)"
=======
    "best_knn.fit(X_train, y_train)\n",
    "\n",
    "best_knn.score(X_test, y_test)"
>>>>>>> 7eb97bddda94a2d8dcd9350ec8cb304fef9fd75f
=======
    "best_knn.fit(X_train, y_train)\n",
    "\n",
    "best_knn.score(X_test, y_test)"
>>>>>>> 7eb97bddda94a2d8dcd9350ec8cb304fef9fd75f
   ]
  },
  {
   "cell_type": "code",
<<<<<<< HEAD
<<<<<<< HEAD
   "execution_count": 52,
=======
   "execution_count": 149,
>>>>>>> 7eb97bddda94a2d8dcd9350ec8cb304fef9fd75f
=======
   "execution_count": 149,
>>>>>>> 7eb97bddda94a2d8dcd9350ec8cb304fef9fd75f
   "metadata": {},
   "outputs": [
    {
     "name": "stdout",
     "output_type": "stream",
     "text": [
<<<<<<< HEAD
<<<<<<< HEAD
      "0.39443993693402724\n"
=======
      "0.3945291348891785\n"
>>>>>>> 7eb97bddda94a2d8dcd9350ec8cb304fef9fd75f
=======
      "0.3945291348891785\n"
>>>>>>> 7eb97bddda94a2d8dcd9350ec8cb304fef9fd75f
     ]
    }
   ],
   "source": [
    "y_pred_knn = best_knn.predict(X_test)\n",
    "print(r2_score(y_pred_knn, y_test))\n",
    "\n",
    "knn_r2 = r2_score(y_pred_knn, y_test)"
   ]
  },
  {
   "cell_type": "markdown",
   "metadata": {},
   "source": [
    "#### Stochastic Gradient Descent Regressor"
   ]
  },
  {
   "cell_type": "code",
<<<<<<< HEAD
<<<<<<< HEAD
   "execution_count": 73,
=======
   "execution_count": 150,
>>>>>>> 7eb97bddda94a2d8dcd9350ec8cb304fef9fd75f
=======
   "execution_count": 150,
>>>>>>> 7eb97bddda94a2d8dcd9350ec8cb304fef9fd75f
   "metadata": {},
   "outputs": [
    {
     "data": {
      "text/plain": [
<<<<<<< HEAD
<<<<<<< HEAD
       "SGDRegressor(loss='huber')"
      ]
     },
     "execution_count": 73,
=======
=======
>>>>>>> 7eb97bddda94a2d8dcd9350ec8cb304fef9fd75f
       "-6.085568736055385e+16"
      ]
     },
     "execution_count": 150,
<<<<<<< HEAD
>>>>>>> 7eb97bddda94a2d8dcd9350ec8cb304fef9fd75f
=======
>>>>>>> 7eb97bddda94a2d8dcd9350ec8cb304fef9fd75f
     "metadata": {},
     "output_type": "execute_result"
    }
   ],
   "source": [
    "from sklearn.linear_model import SGDRegressor\n",
    "\n",
    "sgd = SGDRegressor(loss='huber')\n",
    "\n",
<<<<<<< HEAD
<<<<<<< HEAD
    "sgd.fit(X_train, y_train)"
=======
    "sgd.fit(X_train, y_train)\n",
    "\n",
    "sgd.score(X_train, y_train)"
>>>>>>> 7eb97bddda94a2d8dcd9350ec8cb304fef9fd75f
=======
    "sgd.fit(X_train, y_train)\n",
    "\n",
    "sgd.score(X_train, y_train)"
>>>>>>> 7eb97bddda94a2d8dcd9350ec8cb304fef9fd75f
   ]
  },
  {
   "cell_type": "code",
<<<<<<< HEAD
<<<<<<< HEAD
   "execution_count": 74,
=======
   "execution_count": 152,
>>>>>>> 7eb97bddda94a2d8dcd9350ec8cb304fef9fd75f
=======
   "execution_count": 152,
>>>>>>> 7eb97bddda94a2d8dcd9350ec8cb304fef9fd75f
   "metadata": {},
   "outputs": [
    {
     "name": "stdout",
     "output_type": "stream",
     "text": [
<<<<<<< HEAD
<<<<<<< HEAD
      "-0.07226496830926976\n"
=======
      "0.16549926696693507\n"
>>>>>>> 7eb97bddda94a2d8dcd9350ec8cb304fef9fd75f
=======
      "0.16549926696693507\n"
>>>>>>> 7eb97bddda94a2d8dcd9350ec8cb304fef9fd75f
     ]
    }
   ],
   "source": [
<<<<<<< HEAD
<<<<<<< HEAD
    "y_pred_sgd = sgd.predict(X_test)\n",
=======
    "y_pred_sgd = reg.predict(X_test)\n",
>>>>>>> 7eb97bddda94a2d8dcd9350ec8cb304fef9fd75f
=======
    "y_pred_sgd = reg.predict(X_test)\n",
>>>>>>> 7eb97bddda94a2d8dcd9350ec8cb304fef9fd75f
    "\n",
    "print(r2_score(y_pred_sgd, y_test))\n",
    "\n",
    "sgd_r2 = r2_score(y_pred_sgd, y_test)"
   ]
  },
  {
   "cell_type": "code",
   "execution_count": null,
   "metadata": {},
   "outputs": [],
   "source": []
  },
  {
   "cell_type": "markdown",
   "metadata": {},
   "source": [
    "#### Conclusions\n",
    "\n",
    "We have below the results of the assessment of our 4 models: Random Forest Regressor, Gradient Boosting Regressor, K Means Neighbors Regression, and Stochastic Gradient Descent Regressor. We can see that the best model, given by the R2 score, would be the Random Forest, followed by the Gradient Boosting Regressor. The other two have much lower scores, and thus do not do a good job of predicting the market value for this data set."
   ]
  },
  {
   "cell_type": "code",
<<<<<<< HEAD
<<<<<<< HEAD
   "execution_count": 75,
=======
   "execution_count": 153,
>>>>>>> 7eb97bddda94a2d8dcd9350ec8cb304fef9fd75f
=======
   "execution_count": 153,
>>>>>>> 7eb97bddda94a2d8dcd9350ec8cb304fef9fd75f
   "metadata": {},
   "outputs": [],
   "source": [
    "r2 = [['Random Forest',rf_r2],['Gradient Boost', gb_r2], ['K Means Regressor', knn_r2], ['Stochastic Gradient', sgd_r2]]\n",
    "\n",
    "r2_df = pd.DataFrame(r2, columns=['Model', 'R2-Score'])"
   ]
  },
  {
   "cell_type": "code",
<<<<<<< HEAD
<<<<<<< HEAD
   "execution_count": 76,
=======
   "execution_count": 154,
>>>>>>> 7eb97bddda94a2d8dcd9350ec8cb304fef9fd75f
=======
   "execution_count": 154,
>>>>>>> 7eb97bddda94a2d8dcd9350ec8cb304fef9fd75f
   "metadata": {},
   "outputs": [
    {
     "data": {
      "text/html": [
       "<div>\n",
       "<style scoped>\n",
       "    .dataframe tbody tr th:only-of-type {\n",
       "        vertical-align: middle;\n",
       "    }\n",
       "\n",
       "    .dataframe tbody tr th {\n",
       "        vertical-align: top;\n",
       "    }\n",
       "\n",
       "    .dataframe thead th {\n",
       "        text-align: right;\n",
       "    }\n",
       "</style>\n",
       "<table border=\"1\" class=\"dataframe\">\n",
       "  <thead>\n",
       "    <tr style=\"text-align: right;\">\n",
       "      <th></th>\n",
       "      <th>Model</th>\n",
       "      <th>R2-Score</th>\n",
       "    </tr>\n",
       "  </thead>\n",
       "  <tbody>\n",
       "    <tr>\n",
       "      <th>0</th>\n",
       "      <td>Random Forest</td>\n",
<<<<<<< HEAD
<<<<<<< HEAD
       "      <td>0.723061</td>\n",
=======
       "      <td>0.695636</td>\n",
>>>>>>> 7eb97bddda94a2d8dcd9350ec8cb304fef9fd75f
=======
       "      <td>0.695636</td>\n",
>>>>>>> 7eb97bddda94a2d8dcd9350ec8cb304fef9fd75f
       "    </tr>\n",
       "    <tr>\n",
       "      <th>1</th>\n",
       "      <td>Gradient Boost</td>\n",
<<<<<<< HEAD
<<<<<<< HEAD
       "      <td>0.686821</td>\n",
=======
       "      <td>0.684461</td>\n",
>>>>>>> 7eb97bddda94a2d8dcd9350ec8cb304fef9fd75f
=======
       "      <td>0.684461</td>\n",
>>>>>>> 7eb97bddda94a2d8dcd9350ec8cb304fef9fd75f
       "    </tr>\n",
       "    <tr>\n",
       "      <th>2</th>\n",
       "      <td>K Means Regressor</td>\n",
<<<<<<< HEAD
<<<<<<< HEAD
       "      <td>0.394440</td>\n",
=======
       "      <td>0.394529</td>\n",
>>>>>>> 7eb97bddda94a2d8dcd9350ec8cb304fef9fd75f
=======
       "      <td>0.394529</td>\n",
>>>>>>> 7eb97bddda94a2d8dcd9350ec8cb304fef9fd75f
       "    </tr>\n",
       "    <tr>\n",
       "      <th>3</th>\n",
       "      <td>Stochastic Gradient</td>\n",
<<<<<<< HEAD
<<<<<<< HEAD
       "      <td>-0.072265</td>\n",
=======
       "      <td>0.165499</td>\n",
>>>>>>> 7eb97bddda94a2d8dcd9350ec8cb304fef9fd75f
=======
       "      <td>0.165499</td>\n",
>>>>>>> 7eb97bddda94a2d8dcd9350ec8cb304fef9fd75f
       "    </tr>\n",
       "  </tbody>\n",
       "</table>\n",
       "</div>"
      ],
      "text/plain": [
       "                 Model  R2-Score\n",
<<<<<<< HEAD
<<<<<<< HEAD
       "0        Random Forest  0.723061\n",
       "1       Gradient Boost  0.686821\n",
       "2    K Means Regressor  0.394440\n",
       "3  Stochastic Gradient -0.072265"
      ]
     },
     "execution_count": 76,
=======
=======
>>>>>>> 7eb97bddda94a2d8dcd9350ec8cb304fef9fd75f
       "0        Random Forest  0.695636\n",
       "1       Gradient Boost  0.684461\n",
       "2    K Means Regressor  0.394529\n",
       "3  Stochastic Gradient  0.165499"
      ]
     },
     "execution_count": 154,
<<<<<<< HEAD
>>>>>>> 7eb97bddda94a2d8dcd9350ec8cb304fef9fd75f
=======
>>>>>>> 7eb97bddda94a2d8dcd9350ec8cb304fef9fd75f
     "metadata": {},
     "output_type": "execute_result"
    }
   ],
   "source": [
    "r2_df"
   ]
  },
  {
<<<<<<< HEAD
<<<<<<< HEAD
   "cell_type": "code",
   "execution_count": 87,
   "metadata": {},
   "outputs": [],
   "source": [
    "best_model_continuos = rf"
   ]
  },
  {
=======
>>>>>>> 7eb97bddda94a2d8dcd9350ec8cb304fef9fd75f
=======
>>>>>>> 7eb97bddda94a2d8dcd9350ec8cb304fef9fd75f
   "cell_type": "markdown",
   "metadata": {},
   "source": [
    "We conclude that the Random Forest Model that we created would be the best model to move forward with in regards to predicting market values. It should be noted that the R2 scores were all low, meaning that there could be room for improvement with either more substantial data or better scaling/feature selection."
   ]
  },
  {
<<<<<<< HEAD
<<<<<<< HEAD
   "cell_type": "markdown",
   "metadata": {},
   "source": [
    "#### Model for Market Value based on range rather than exact value"
   ]
  },
  {
   "cell_type": "code",
   "execution_count": 85,
   "metadata": {},
   "outputs": [],
   "source": [
    "X_train, X_test, y_train, y_test = train_test_split(X, y_dis, test_size=0.3, random_state=42)"
   ]
  },
  {
   "cell_type": "code",
   "execution_count": 86,
   "metadata": {},
   "outputs": [],
   "source": [
    "X_train = np.nan_to_num(X_train)\n",
    "y_train = np.nan_to_num(y_train)"
   ]
  },
  {
   "cell_type": "markdown",
   "metadata": {},
   "source": [
    "Because our data is more discrete that before, we expect there to be a difference in the predictability of models as the ranges are not as precise for the y values."
   ]
  },
  {
   "cell_type": "code",
   "execution_count": 88,
   "metadata": {},
   "outputs": [
    {
     "name": "stdout",
     "output_type": "stream",
     "text": [
      "0.7266908514574013\n"
     ]
    }
   ],
   "source": [
    "rf2 = RandomForestRegressor()\n",
    "\n",
    "rf2.fit(X_train, y_train)\n",
    "\n",
    "rf2_r2 = r2_score(rf2.predict(X_test),y_test)\n",
    "\n",
    "print(rf2_r2)"
   ]
  },
  {
   "cell_type": "markdown",
   "metadata": {},
   "source": [
    "With no parameter tuning, we already have a better R2 score for the Random Forest. I suspect that if we find the best parameters, we will have a significantly better model, as well."
=======
=======
>>>>>>> 7eb97bddda94a2d8dcd9350ec8cb304fef9fd75f
   "cell_type": "code",
   "execution_count": 157,
   "metadata": {},
   "outputs": [
    {
     "data": {
      "text/plain": [
       "{'bootstrap': True,\n",
       " 'ccp_alpha': 0.0,\n",
       " 'criterion': 'mae',\n",
       " 'max_depth': None,\n",
       " 'max_features': 'auto',\n",
       " 'max_leaf_nodes': None,\n",
       " 'max_samples': None,\n",
       " 'min_impurity_decrease': 0.0,\n",
       " 'min_impurity_split': None,\n",
       " 'min_samples_leaf': 1,\n",
       " 'min_samples_split': 2,\n",
       " 'min_weight_fraction_leaf': 0.0,\n",
       " 'n_estimators': 10,\n",
       " 'n_jobs': None,\n",
       " 'oob_score': False,\n",
       " 'random_state': 1234,\n",
       " 'verbose': 0,\n",
       " 'warm_start': False}"
      ]
     },
     "execution_count": 157,
     "metadata": {},
     "output_type": "execute_result"
    }
   ],
   "source": [
    "from sklearn.model_selection import GridSearchCV\n",
    "\n",
    "rf.get_params()"
<<<<<<< HEAD
>>>>>>> 7eb97bddda94a2d8dcd9350ec8cb304fef9fd75f
=======
>>>>>>> 7eb97bddda94a2d8dcd9350ec8cb304fef9fd75f
   ]
  },
  {
   "cell_type": "code",
<<<<<<< HEAD
<<<<<<< HEAD
   "execution_count": 89,
=======
   "execution_count": 159,
>>>>>>> 7eb97bddda94a2d8dcd9350ec8cb304fef9fd75f
=======
   "execution_count": 159,
>>>>>>> 7eb97bddda94a2d8dcd9350ec8cb304fef9fd75f
   "metadata": {},
   "outputs": [
    {
     "name": "stdout",
     "output_type": "stream",
     "text": [
      "{'n_estimators': [200, 400, 600, 800, 1000, 1200, 1400, 1600, 1800, 2000], 'max_features': ['auto', 'sqrt'], 'max_depth': [10, 20, 30, 40, 50, 60, 70, 80, 90, 100, 110, None], 'min_samples_split': [2, 5, 10], 'min_samples_leaf': [1, 2, 4], 'bootstrap': [True, False]}\n"
     ]
    }
   ],
   "source": [
    "from sklearn.model_selection import RandomizedSearchCV\n",
    "# Number of trees in random forest\n",
    "n_estimators = [int(x) for x in np.linspace(start = 200, stop = 2000, num = 10)]\n",
    "# Number of features to consider at every split\n",
    "max_features = ['auto', 'sqrt']\n",
    "# Maximum number of levels in tree\n",
    "max_depth = [int(x) for x in np.linspace(10, 110, num = 11)]\n",
    "max_depth.append(None)\n",
    "# Minimum number of samples required to split a node\n",
    "min_samples_split = [2, 5, 10]\n",
    "# Minimum number of samples required at each leaf node\n",
    "min_samples_leaf = [1, 2, 4]\n",
    "# Method of selecting samples for training each tree\n",
    "bootstrap = [True, False]\n",
    "# Create the random grid\n",
    "random_grid = {'n_estimators': n_estimators,\n",
    "               'max_features': max_features,\n",
    "               'max_depth': max_depth,\n",
    "               'min_samples_split': min_samples_split,\n",
    "               'min_samples_leaf': min_samples_leaf,\n",
    "               'bootstrap': bootstrap}\n",
    "print(random_grid)"
   ]
  },
  {
   "cell_type": "code",
<<<<<<< HEAD
<<<<<<< HEAD
   "execution_count": 90,
=======
   "execution_count": 160,
>>>>>>> 7eb97bddda94a2d8dcd9350ec8cb304fef9fd75f
=======
   "execution_count": 160,
>>>>>>> 7eb97bddda94a2d8dcd9350ec8cb304fef9fd75f
   "metadata": {},
   "outputs": [
    {
     "name": "stdout",
     "output_type": "stream",
     "text": [
      "Fitting 3 folds for each of 100 candidates, totalling 300 fits\n"
     ]
    },
    {
     "name": "stderr",
     "output_type": "stream",
     "text": [
      "[Parallel(n_jobs=-1)]: Using backend LokyBackend with 8 concurrent workers.\n",
<<<<<<< HEAD
<<<<<<< HEAD
      "[Parallel(n_jobs=-1)]: Done  25 tasks      | elapsed: 27.6min\n",
      "[Parallel(n_jobs=-1)]: Done 146 tasks      | elapsed: 130.5min\n",
      "[Parallel(n_jobs=-1)]: Done 300 out of 300 | elapsed: 301.3min finished\n"
=======
      "[Parallel(n_jobs=-1)]: Done  25 tasks      | elapsed: 31.9min\n",
      "[Parallel(n_jobs=-1)]: Done 146 tasks      | elapsed: 127.5min\n",
      "[Parallel(n_jobs=-1)]: Done 300 out of 300 | elapsed: 292.2min finished\n"
>>>>>>> 7eb97bddda94a2d8dcd9350ec8cb304fef9fd75f
=======
      "[Parallel(n_jobs=-1)]: Done  25 tasks      | elapsed: 31.9min\n",
      "[Parallel(n_jobs=-1)]: Done 146 tasks      | elapsed: 127.5min\n",
      "[Parallel(n_jobs=-1)]: Done 300 out of 300 | elapsed: 292.2min finished\n"
>>>>>>> 7eb97bddda94a2d8dcd9350ec8cb304fef9fd75f
     ]
    },
    {
     "data": {
      "text/plain": [
       "RandomizedSearchCV(cv=3, estimator=RandomForestRegressor(), n_iter=100,\n",
       "                   n_jobs=-1,\n",
       "                   param_distributions={'bootstrap': [True, False],\n",
       "                                        'max_depth': [10, 20, 30, 40, 50, 60,\n",
       "                                                      70, 80, 90, 100, 110,\n",
       "                                                      None],\n",
       "                                        'max_features': ['auto', 'sqrt'],\n",
       "                                        'min_samples_leaf': [1, 2, 4],\n",
       "                                        'min_samples_split': [2, 5, 10],\n",
       "                                        'n_estimators': [200, 400, 600, 800,\n",
       "                                                         1000, 1200, 1400, 1600,\n",
       "                                                         1800, 2000]},\n",
       "                   random_state=42, verbose=2)"
      ]
     },
<<<<<<< HEAD
<<<<<<< HEAD
     "execution_count": 90,
=======
     "execution_count": 160,
>>>>>>> 7eb97bddda94a2d8dcd9350ec8cb304fef9fd75f
=======
     "execution_count": 160,
>>>>>>> 7eb97bddda94a2d8dcd9350ec8cb304fef9fd75f
     "metadata": {},
     "output_type": "execute_result"
    }
   ],
   "source": [
    "# Use the random grid to search for best hyperparameters\n",
    "# First create the base model to tune\n",
<<<<<<< HEAD
<<<<<<< HEAD
    "rf_opt = RandomForestRegressor()\n",
    "# Random search of parameters, using 3 fold cross validation, \n",
    "# search across 100 different combinations, and use all available cores\n",
    "rf_random = RandomizedSearchCV(estimator = rf_opt, param_distributions = random_grid, n_iter = 100, cv = 3, verbose=2, random_state=42, n_jobs = -1)\n",
=======
=======
>>>>>>> 7eb97bddda94a2d8dcd9350ec8cb304fef9fd75f
    "rf2 = RandomForestRegressor()\n",
    "# Random search of parameters, using 3 fold cross validation, \n",
    "# search across 100 different combinations, and use all available cores\n",
    "rf_random = RandomizedSearchCV(estimator = rf2, param_distributions = random_grid, n_iter = 100, cv = 3, verbose=2, random_state=42, n_jobs = -1)\n",
<<<<<<< HEAD
>>>>>>> 7eb97bddda94a2d8dcd9350ec8cb304fef9fd75f
=======
>>>>>>> 7eb97bddda94a2d8dcd9350ec8cb304fef9fd75f
    "# Fit the random search model\n",
    "rf_random.fit(X_train, y_train)"
   ]
  },
  {
   "cell_type": "code",
<<<<<<< HEAD
<<<<<<< HEAD
   "execution_count": 91,
   "metadata": {},
   "outputs": [],
   "source": [
    "from sklearn import __version__ as sklearn_version\n",
    "from sklearn.decomposition import PCA\n",
    "from sklearn.preprocessing import scale\n",
    "from sklearn.model_selection import train_test_split, cross_validate, GridSearchCV, learning_curve\n",
    "from sklearn.preprocessing import StandardScaler, MinMaxScaler\n",
    "from sklearn.dummy import DummyRegressor\n",
    "from sklearn.linear_model import LinearRegression\n",
    "from sklearn.ensemble import RandomForestRegressor\n",
    "from sklearn.metrics import r2_score, mean_squared_error, mean_absolute_error\n",
    "from sklearn.pipeline import make_pipeline\n",
    "from sklearn.impute import SimpleImputer\n",
    "from sklearn.feature_selection import SelectKBest, f_regression\n",
    "import datetime"
=======
=======
>>>>>>> 7eb97bddda94a2d8dcd9350ec8cb304fef9fd75f
   "execution_count": 163,
   "metadata": {},
   "outputs": [
    {
     "name": "stdout",
     "output_type": "stream",
     "text": [
      "0.7254403415581252\n"
     ]
    }
   ],
   "source": [
    "y_pred_rfrand = rf_random.predict(X_test)\n",
    "\n",
    "rf_rand_r2 = r2_score(y_pred_rfrand, y_test)\n",
    "\n",
    "print(rf_rand_r2)"
<<<<<<< HEAD
>>>>>>> 7eb97bddda94a2d8dcd9350ec8cb304fef9fd75f
=======
>>>>>>> 7eb97bddda94a2d8dcd9350ec8cb304fef9fd75f
   ]
  },
  {
   "cell_type": "code",
<<<<<<< HEAD
<<<<<<< HEAD
   "execution_count": 93,
=======
   "execution_count": 164,
>>>>>>> 7eb97bddda94a2d8dcd9350ec8cb304fef9fd75f
=======
   "execution_count": 164,
>>>>>>> 7eb97bddda94a2d8dcd9350ec8cb304fef9fd75f
   "metadata": {},
   "outputs": [
    {
     "data": {
      "text/plain": [
<<<<<<< HEAD
<<<<<<< HEAD
       "{'n_estimators': 1400,\n",
=======
       "{'n_estimators': 800,\n",
>>>>>>> 7eb97bddda94a2d8dcd9350ec8cb304fef9fd75f
=======
       "{'n_estimators': 800,\n",
>>>>>>> 7eb97bddda94a2d8dcd9350ec8cb304fef9fd75f
       " 'min_samples_split': 2,\n",
       " 'min_samples_leaf': 1,\n",
       " 'max_features': 'auto',\n",
       " 'max_depth': 100,\n",
       " 'bootstrap': True}"
      ]
     },
<<<<<<< HEAD
<<<<<<< HEAD
     "execution_count": 93,
=======
     "execution_count": 164,
>>>>>>> 7eb97bddda94a2d8dcd9350ec8cb304fef9fd75f
=======
     "execution_count": 164,
>>>>>>> 7eb97bddda94a2d8dcd9350ec8cb304fef9fd75f
     "metadata": {},
     "output_type": "execute_result"
    }
   ],
   "source": [
    "rf_random.best_params_"
   ]
  },
  {
   "cell_type": "code",
<<<<<<< HEAD
<<<<<<< HEAD
   "execution_count": null,
   "metadata": {},
   "outputs": [],
   "source": []
  },
  {
   "cell_type": "code",
   "execution_count": 92,
   "metadata": {},
   "outputs": [
    {
     "ename": "AttributeError",
     "evalue": "'numpy.ndarray' object has no attribute 'columns'",
     "output_type": "error",
     "traceback": [
      "\u001b[1;31m---------------------------------------------------------------------------\u001b[0m",
      "\u001b[1;31mAttributeError\u001b[0m                            Traceback (most recent call last)",
      "\u001b[1;32m<ipython-input-92-d829864f5908>\u001b[0m in \u001b[0;36m<module>\u001b[1;34m\u001b[0m\n\u001b[0;32m      7\u001b[0m \u001b[0mbest_model_disc\u001b[0m\u001b[1;33m.\u001b[0m\u001b[0mnumpy_version\u001b[0m \u001b[1;33m=\u001b[0m \u001b[0mnp\u001b[0m\u001b[1;33m.\u001b[0m\u001b[0m__version__\u001b[0m\u001b[1;33m\u001b[0m\u001b[1;33m\u001b[0m\u001b[0m\n\u001b[0;32m      8\u001b[0m \u001b[0mbest_model_disc\u001b[0m\u001b[1;33m.\u001b[0m\u001b[0msklearn_version\u001b[0m \u001b[1;33m=\u001b[0m \u001b[0msklearn_version\u001b[0m\u001b[1;33m\u001b[0m\u001b[1;33m\u001b[0m\u001b[0m\n\u001b[1;32m----> 9\u001b[1;33m \u001b[0mbest_model_disc\u001b[0m\u001b[1;33m.\u001b[0m\u001b[0mX_columns\u001b[0m \u001b[1;33m=\u001b[0m \u001b[1;33m[\u001b[0m\u001b[0mcol\u001b[0m \u001b[1;32mfor\u001b[0m \u001b[0mcol\u001b[0m \u001b[1;32min\u001b[0m \u001b[0mX_train\u001b[0m\u001b[1;33m.\u001b[0m\u001b[0mcolumns\u001b[0m\u001b[1;33m]\u001b[0m\u001b[1;33m\u001b[0m\u001b[1;33m\u001b[0m\u001b[0m\n\u001b[0m\u001b[0;32m     10\u001b[0m \u001b[0mbest_model_disc\u001b[0m\u001b[1;33m.\u001b[0m\u001b[0mbuild_datetime\u001b[0m \u001b[1;33m=\u001b[0m \u001b[0mdatetime\u001b[0m\u001b[1;33m.\u001b[0m\u001b[0mdatetime\u001b[0m\u001b[1;33m.\u001b[0m\u001b[0mnow\u001b[0m\u001b[1;33m(\u001b[0m\u001b[1;33m)\u001b[0m\u001b[1;33m\u001b[0m\u001b[1;33m\u001b[0m\u001b[0m\n\u001b[0;32m     11\u001b[0m \u001b[1;33m\u001b[0m\u001b[0m\n",
      "\u001b[1;31mAttributeError\u001b[0m: 'numpy.ndarray' object has no attribute 'columns'"
=======
=======
>>>>>>> 7eb97bddda94a2d8dcd9350ec8cb304fef9fd75f
   "execution_count": 32,
   "metadata": {},
   "outputs": [
    {
     "data": {
      "text/plain": [
       "0.5806504178191129"
      ]
     },
     "execution_count": 32,
     "metadata": {},
     "output_type": "execute_result"
    }
   ],
   "source": [
    "from sklearn.linear_model import Lasso\n",
    "\n",
    "lasso = Lasso(alpha=0.01)\n",
    "\n",
    "lasso.fit(X_train, y_train)\n",
    "\n",
    "y_pred_lasso = lasso.predict(X_test)\n",
    "\n",
    "lasso.score(X_test,y_test)"
   ]
  },
  {
   "cell_type": "code",
   "execution_count": 33,
   "metadata": {},
   "outputs": [
    {
     "name": "stdout",
     "output_type": "stream",
     "text": [
      "0.21641566228519682\n"
<<<<<<< HEAD
>>>>>>> 7eb97bddda94a2d8dcd9350ec8cb304fef9fd75f
=======
>>>>>>> 7eb97bddda94a2d8dcd9350ec8cb304fef9fd75f
     ]
    }
   ],
   "source": [
<<<<<<< HEAD
<<<<<<< HEAD
    "import os\n",
    "import pickle\n",
    "\n",
    "best_model_disc = rf_random.best_estimator_\n",
    "best_model_disc.version = 1.0\n",
    "best_model_disc.pandas_version = pd.__version__\n",
    "best_model_disc.numpy_version = np.__version__\n",
    "best_model_disc.sklearn_version = sklearn_version\n",
    "best_model_disc.X_columns = [col for col in X_train.columns]\n",
    "best_model_disc.build_datetime = datetime.datetime.now()\n",
    "    \n",
    "modelpath = '../models'\n",
    "if not os.path.exists(modelpath):\n",
    "    os.mkdir(modelpath)\n",
    "disc_model_path = os.path.join(modelpath, 'disc_market_value_model.pkl')\n",
    "if not os.path.exists(disc_model_path):\n",
    "    with open(disc_model_path, 'wb') as f:\n",
    "        pickle.dump(best_model_disc, f)"
=======
    "lasso_r2 = r2_score(y_pred_lasso, y_test)\n",
    "\n",
    "print(lasso_r2)"
>>>>>>> 7eb97bddda94a2d8dcd9350ec8cb304fef9fd75f
=======
    "lasso_r2 = r2_score(y_pred_lasso, y_test)\n",
    "\n",
    "print(lasso_r2)"
>>>>>>> 7eb97bddda94a2d8dcd9350ec8cb304fef9fd75f
   ]
  },
  {
   "cell_type": "code",
   "execution_count": null,
   "metadata": {},
   "outputs": [],
   "source": []
  },
  {
   "cell_type": "code",
   "execution_count": null,
   "metadata": {},
   "outputs": [],
   "source": []
<<<<<<< HEAD
<<<<<<< HEAD
=======
=======
>>>>>>> 7eb97bddda94a2d8dcd9350ec8cb304fef9fd75f
  },
  {
   "cell_type": "code",
   "execution_count": 36,
   "metadata": {},
   "outputs": [
    {
     "data": {
      "text/plain": [
       "0.5850230976433259"
      ]
     },
     "execution_count": 36,
     "metadata": {},
     "output_type": "execute_result"
    }
   ],
   "source": [
    "from sklearn.linear_model import Ridge\n",
    "\n",
    "ridge = Ridge(alpha=0.1)\n",
    "\n",
    "ridge.fit(X_train, y_train)\n",
    "\n",
    "y_pred_ridge = ridge.predict(X_test)\n",
    "\n",
    "ridge.score(X_test, y_test)"
   ]
  },
  {
   "cell_type": "code",
   "execution_count": 37,
   "metadata": {},
   "outputs": [
    {
     "name": "stdout",
     "output_type": "stream",
     "text": [
      "0.23342719802525969\n"
     ]
    }
   ],
   "source": [
    "ridge_r2 = r2_score(y_pred_ridge, y_test)\n",
    "\n",
    "print(ridge_r2)"
   ]
  },
  {
   "cell_type": "code",
   "execution_count": null,
   "metadata": {},
   "outputs": [],
   "source": []
<<<<<<< HEAD
>>>>>>> 7eb97bddda94a2d8dcd9350ec8cb304fef9fd75f
=======
>>>>>>> 7eb97bddda94a2d8dcd9350ec8cb304fef9fd75f
  }
 ],
 "metadata": {
  "kernelspec": {
   "display_name": "Python 3",
   "language": "python",
   "name": "python3"
  },
  "language_info": {
   "codemirror_mode": {
    "name": "ipython",
    "version": 3
   },
   "file_extension": ".py",
   "mimetype": "text/x-python",
   "name": "python",
   "nbconvert_exporter": "python",
   "pygments_lexer": "ipython3",
   "version": "3.8.3"
  }
 },
 "nbformat": 4,
 "nbformat_minor": 4
}
