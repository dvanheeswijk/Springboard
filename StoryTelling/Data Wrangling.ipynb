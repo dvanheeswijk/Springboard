{
 "cells": [
  {
   "cell_type": "code",
   "execution_count": 1,
   "metadata": {},
   "outputs": [],
   "source": [
    "import pandas as pd"
   ]
  },
  {
   "cell_type": "code",
   "execution_count": 14,
   "metadata": {},
   "outputs": [
    {
     "data": {
      "text/html": [
       "<div>\n",
       "<style scoped>\n",
       "    .dataframe tbody tr th:only-of-type {\n",
       "        vertical-align: middle;\n",
       "    }\n",
       "\n",
       "    .dataframe tbody tr th {\n",
       "        vertical-align: top;\n",
       "    }\n",
       "\n",
       "    .dataframe thead th {\n",
       "        text-align: right;\n",
       "    }\n",
       "</style>\n",
       "<table border=\"1\" class=\"dataframe\">\n",
       "  <thead>\n",
       "    <tr style=\"text-align: right;\">\n",
       "      <th></th>\n",
       "      <th>1\\tU13740\\t11/11/2019 9:05:58 AM\\tN55189 N42782 N34694 N45794 N18445 N63302 N10414 N19347 N31801\\tN55689-1 N35729-0</th>\n",
       "    </tr>\n",
       "  </thead>\n",
       "  <tbody>\n",
       "    <tr>\n",
       "      <th>0</th>\n",
       "      <td>2\\tU91836\\t11/12/2019 6:11:30 PM\\tN31739 N6072...</td>\n",
       "    </tr>\n",
       "    <tr>\n",
       "      <th>1</th>\n",
       "      <td>3\\tU73700\\t11/14/2019 7:01:48 AM\\tN10732 N2579...</td>\n",
       "    </tr>\n",
       "    <tr>\n",
       "      <th>2</th>\n",
       "      <td>4\\tU34670\\t11/11/2019 5:28:05 AM\\tN45729 N2203...</td>\n",
       "    </tr>\n",
       "    <tr>\n",
       "      <th>3</th>\n",
       "      <td>5\\tU8125\\t11/12/2019 4:11:21 PM\\tN10078 N56514...</td>\n",
       "    </tr>\n",
       "    <tr>\n",
       "      <th>4</th>\n",
       "      <td>6\\tU19739\\t11/11/2019 6:52:13 PM\\tN39074 N1434...</td>\n",
       "    </tr>\n",
       "  </tbody>\n",
       "</table>\n",
       "</div>"
      ],
      "text/plain": [
       "  1\\tU13740\\t11/11/2019 9:05:58 AM\\tN55189 N42782 N34694 N45794 N18445 N63302 N10414 N19347 N31801\\tN55689-1 N35729-0\n",
       "0  2\\tU91836\\t11/12/2019 6:11:30 PM\\tN31739 N6072...                                                                 \n",
       "1  3\\tU73700\\t11/14/2019 7:01:48 AM\\tN10732 N2579...                                                                 \n",
       "2  4\\tU34670\\t11/11/2019 5:28:05 AM\\tN45729 N2203...                                                                 \n",
       "3  5\\tU8125\\t11/12/2019 4:11:21 PM\\tN10078 N56514...                                                                 \n",
       "4  6\\tU19739\\t11/11/2019 6:52:13 PM\\tN39074 N1434...                                                                 "
      ]
     },
     "execution_count": 14,
     "metadata": {},
     "output_type": "execute_result"
    }
   ],
   "source": [
    "data = pd.read_csv('data/behaviors.tsv', delimiter='\\\\')\n",
    "\n",
    "data.head()"
   ]
  },
  {
   "cell_type": "code",
   "execution_count": null,
   "metadata": {},
   "outputs": [],
   "source": []
  }
 ],
 "metadata": {
  "kernelspec": {
   "display_name": "Python 3",
   "language": "python",
   "name": "python3"
  },
  "language_info": {
   "codemirror_mode": {
    "name": "ipython",
    "version": 3
   },
   "file_extension": ".py",
   "mimetype": "text/x-python",
   "name": "python",
   "nbconvert_exporter": "python",
   "pygments_lexer": "ipython3",
   "version": "3.8.3"
  }
 },
 "nbformat": 4,
 "nbformat_minor": 4
}
